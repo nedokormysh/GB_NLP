{
  "nbformat": 4,
  "nbformat_minor": 0,
  "metadata": {
    "colab": {
      "provenance": [],
      "authorship_tag": "ABX9TyN3VD5nT+qGhdTpaEWFKzwY",
      "include_colab_link": true
    },
    "kernelspec": {
      "name": "python3",
      "display_name": "Python 3"
    },
    "language_info": {
      "name": "python"
    },
    "widgets": {
      "application/vnd.jupyter.widget-state+json": {
        "e56be8a50ace4360a05952335c3afcd5": {
          "model_module": "@jupyter-widgets/controls",
          "model_name": "HBoxModel",
          "model_module_version": "1.5.0",
          "state": {
            "_dom_classes": [],
            "_model_module": "@jupyter-widgets/controls",
            "_model_module_version": "1.5.0",
            "_model_name": "HBoxModel",
            "_view_count": null,
            "_view_module": "@jupyter-widgets/controls",
            "_view_module_version": "1.5.0",
            "_view_name": "HBoxView",
            "box_style": "",
            "children": [
              "IPY_MODEL_8fe6b5578ac84c748e01e6e6d883bace",
              "IPY_MODEL_44d486ef90df45e999175170d69c0cb4",
              "IPY_MODEL_15bcb475c8264f7ba60653fcff2b9383"
            ],
            "layout": "IPY_MODEL_3a479481a63c4e799368d115931fa7c8"
          }
        },
        "8fe6b5578ac84c748e01e6e6d883bace": {
          "model_module": "@jupyter-widgets/controls",
          "model_name": "HTMLModel",
          "model_module_version": "1.5.0",
          "state": {
            "_dom_classes": [],
            "_model_module": "@jupyter-widgets/controls",
            "_model_module_version": "1.5.0",
            "_model_name": "HTMLModel",
            "_view_count": null,
            "_view_module": "@jupyter-widgets/controls",
            "_view_module_version": "1.5.0",
            "_view_name": "HTMLView",
            "description": "",
            "description_tooltip": null,
            "layout": "IPY_MODEL_fb5c9bf930954eb58d1d0a3dcf83d320",
            "placeholder": "​",
            "style": "IPY_MODEL_9f0741a7f9284868a737dfef4f6e81e9",
            "value": "100%"
          }
        },
        "44d486ef90df45e999175170d69c0cb4": {
          "model_module": "@jupyter-widgets/controls",
          "model_name": "FloatProgressModel",
          "model_module_version": "1.5.0",
          "state": {
            "_dom_classes": [],
            "_model_module": "@jupyter-widgets/controls",
            "_model_module_version": "1.5.0",
            "_model_name": "FloatProgressModel",
            "_view_count": null,
            "_view_module": "@jupyter-widgets/controls",
            "_view_module_version": "1.5.0",
            "_view_name": "ProgressView",
            "bar_style": "success",
            "description": "",
            "description_tooltip": null,
            "layout": "IPY_MODEL_64707760c8424b83b95489a00e121c39",
            "max": 2,
            "min": 0,
            "orientation": "horizontal",
            "style": "IPY_MODEL_09a007fe8753446bbc0298635f29047d",
            "value": 2
          }
        },
        "15bcb475c8264f7ba60653fcff2b9383": {
          "model_module": "@jupyter-widgets/controls",
          "model_name": "HTMLModel",
          "model_module_version": "1.5.0",
          "state": {
            "_dom_classes": [],
            "_model_module": "@jupyter-widgets/controls",
            "_model_module_version": "1.5.0",
            "_model_name": "HTMLModel",
            "_view_count": null,
            "_view_module": "@jupyter-widgets/controls",
            "_view_module_version": "1.5.0",
            "_view_name": "HTMLView",
            "description": "",
            "description_tooltip": null,
            "layout": "IPY_MODEL_6a1041ec93c749e7b0ce82976c5832b9",
            "placeholder": "​",
            "style": "IPY_MODEL_2a5f68f70d774553bb68fd1431f6220d",
            "value": " 2/2 [00:00&lt;00:00, 60.83it/s]"
          }
        },
        "3a479481a63c4e799368d115931fa7c8": {
          "model_module": "@jupyter-widgets/base",
          "model_name": "LayoutModel",
          "model_module_version": "1.2.0",
          "state": {
            "_model_module": "@jupyter-widgets/base",
            "_model_module_version": "1.2.0",
            "_model_name": "LayoutModel",
            "_view_count": null,
            "_view_module": "@jupyter-widgets/base",
            "_view_module_version": "1.2.0",
            "_view_name": "LayoutView",
            "align_content": null,
            "align_items": null,
            "align_self": null,
            "border": null,
            "bottom": null,
            "display": null,
            "flex": null,
            "flex_flow": null,
            "grid_area": null,
            "grid_auto_columns": null,
            "grid_auto_flow": null,
            "grid_auto_rows": null,
            "grid_column": null,
            "grid_gap": null,
            "grid_row": null,
            "grid_template_areas": null,
            "grid_template_columns": null,
            "grid_template_rows": null,
            "height": null,
            "justify_content": null,
            "justify_items": null,
            "left": null,
            "margin": null,
            "max_height": null,
            "max_width": null,
            "min_height": null,
            "min_width": null,
            "object_fit": null,
            "object_position": null,
            "order": null,
            "overflow": null,
            "overflow_x": null,
            "overflow_y": null,
            "padding": null,
            "right": null,
            "top": null,
            "visibility": null,
            "width": null
          }
        },
        "fb5c9bf930954eb58d1d0a3dcf83d320": {
          "model_module": "@jupyter-widgets/base",
          "model_name": "LayoutModel",
          "model_module_version": "1.2.0",
          "state": {
            "_model_module": "@jupyter-widgets/base",
            "_model_module_version": "1.2.0",
            "_model_name": "LayoutModel",
            "_view_count": null,
            "_view_module": "@jupyter-widgets/base",
            "_view_module_version": "1.2.0",
            "_view_name": "LayoutView",
            "align_content": null,
            "align_items": null,
            "align_self": null,
            "border": null,
            "bottom": null,
            "display": null,
            "flex": null,
            "flex_flow": null,
            "grid_area": null,
            "grid_auto_columns": null,
            "grid_auto_flow": null,
            "grid_auto_rows": null,
            "grid_column": null,
            "grid_gap": null,
            "grid_row": null,
            "grid_template_areas": null,
            "grid_template_columns": null,
            "grid_template_rows": null,
            "height": null,
            "justify_content": null,
            "justify_items": null,
            "left": null,
            "margin": null,
            "max_height": null,
            "max_width": null,
            "min_height": null,
            "min_width": null,
            "object_fit": null,
            "object_position": null,
            "order": null,
            "overflow": null,
            "overflow_x": null,
            "overflow_y": null,
            "padding": null,
            "right": null,
            "top": null,
            "visibility": null,
            "width": null
          }
        },
        "9f0741a7f9284868a737dfef4f6e81e9": {
          "model_module": "@jupyter-widgets/controls",
          "model_name": "DescriptionStyleModel",
          "model_module_version": "1.5.0",
          "state": {
            "_model_module": "@jupyter-widgets/controls",
            "_model_module_version": "1.5.0",
            "_model_name": "DescriptionStyleModel",
            "_view_count": null,
            "_view_module": "@jupyter-widgets/base",
            "_view_module_version": "1.2.0",
            "_view_name": "StyleView",
            "description_width": ""
          }
        },
        "64707760c8424b83b95489a00e121c39": {
          "model_module": "@jupyter-widgets/base",
          "model_name": "LayoutModel",
          "model_module_version": "1.2.0",
          "state": {
            "_model_module": "@jupyter-widgets/base",
            "_model_module_version": "1.2.0",
            "_model_name": "LayoutModel",
            "_view_count": null,
            "_view_module": "@jupyter-widgets/base",
            "_view_module_version": "1.2.0",
            "_view_name": "LayoutView",
            "align_content": null,
            "align_items": null,
            "align_self": null,
            "border": null,
            "bottom": null,
            "display": null,
            "flex": null,
            "flex_flow": null,
            "grid_area": null,
            "grid_auto_columns": null,
            "grid_auto_flow": null,
            "grid_auto_rows": null,
            "grid_column": null,
            "grid_gap": null,
            "grid_row": null,
            "grid_template_areas": null,
            "grid_template_columns": null,
            "grid_template_rows": null,
            "height": null,
            "justify_content": null,
            "justify_items": null,
            "left": null,
            "margin": null,
            "max_height": null,
            "max_width": null,
            "min_height": null,
            "min_width": null,
            "object_fit": null,
            "object_position": null,
            "order": null,
            "overflow": null,
            "overflow_x": null,
            "overflow_y": null,
            "padding": null,
            "right": null,
            "top": null,
            "visibility": null,
            "width": null
          }
        },
        "09a007fe8753446bbc0298635f29047d": {
          "model_module": "@jupyter-widgets/controls",
          "model_name": "ProgressStyleModel",
          "model_module_version": "1.5.0",
          "state": {
            "_model_module": "@jupyter-widgets/controls",
            "_model_module_version": "1.5.0",
            "_model_name": "ProgressStyleModel",
            "_view_count": null,
            "_view_module": "@jupyter-widgets/base",
            "_view_module_version": "1.2.0",
            "_view_name": "StyleView",
            "bar_color": null,
            "description_width": ""
          }
        },
        "6a1041ec93c749e7b0ce82976c5832b9": {
          "model_module": "@jupyter-widgets/base",
          "model_name": "LayoutModel",
          "model_module_version": "1.2.0",
          "state": {
            "_model_module": "@jupyter-widgets/base",
            "_model_module_version": "1.2.0",
            "_model_name": "LayoutModel",
            "_view_count": null,
            "_view_module": "@jupyter-widgets/base",
            "_view_module_version": "1.2.0",
            "_view_name": "LayoutView",
            "align_content": null,
            "align_items": null,
            "align_self": null,
            "border": null,
            "bottom": null,
            "display": null,
            "flex": null,
            "flex_flow": null,
            "grid_area": null,
            "grid_auto_columns": null,
            "grid_auto_flow": null,
            "grid_auto_rows": null,
            "grid_column": null,
            "grid_gap": null,
            "grid_row": null,
            "grid_template_areas": null,
            "grid_template_columns": null,
            "grid_template_rows": null,
            "height": null,
            "justify_content": null,
            "justify_items": null,
            "left": null,
            "margin": null,
            "max_height": null,
            "max_width": null,
            "min_height": null,
            "min_width": null,
            "object_fit": null,
            "object_position": null,
            "order": null,
            "overflow": null,
            "overflow_x": null,
            "overflow_y": null,
            "padding": null,
            "right": null,
            "top": null,
            "visibility": null,
            "width": null
          }
        },
        "2a5f68f70d774553bb68fd1431f6220d": {
          "model_module": "@jupyter-widgets/controls",
          "model_name": "DescriptionStyleModel",
          "model_module_version": "1.5.0",
          "state": {
            "_model_module": "@jupyter-widgets/controls",
            "_model_module_version": "1.5.0",
            "_model_name": "DescriptionStyleModel",
            "_view_count": null,
            "_view_module": "@jupyter-widgets/base",
            "_view_module_version": "1.2.0",
            "_view_name": "StyleView",
            "description_width": ""
          }
        }
      }
    }
  },
  "cells": [
    {
      "cell_type": "markdown",
      "metadata": {
        "id": "view-in-github",
        "colab_type": "text"
      },
      "source": [
        "<a href=\"https://colab.research.google.com/github/nedokormysh/GB_NLP_intro/blob/lesson13/NLP_intro_hw_13.ipynb\" target=\"_parent\"><img src=\"https://colab.research.google.com/assets/colab-badge.svg\" alt=\"Open In Colab\"/></a>"
      ]
    },
    {
      "cell_type": "markdown",
      "source": [
        "# Модель BERT и GPT\n",
        "Задание\n",
        "Взять датасет\n",
        "https://huggingface.co/datasets/merionum/ru_paraphraser\n",
        "\n",
        "решить задачу парафраза\n",
        "\n",
        "(дополнительно необязательная задача) на выбор взять\n",
        "\n",
        "https://huggingface.co/datasets/sberquad\n",
        "\n",
        "https://huggingface.co/datasets/blinoff/medical_qa_ru_data\n",
        "\n",
        "натренировать любую модель для вопросно ответной системы"
      ],
      "metadata": {
        "id": "8xe_cXUZZOdM"
      }
    },
    {
      "cell_type": "code",
      "source": [
        "!pip install transformers sentencepiece -q"
      ],
      "metadata": {
        "id": "my_U2hEAc-63"
      },
      "execution_count": 24,
      "outputs": []
    },
    {
      "cell_type": "code",
      "source": [
        "!pip install datasets -q"
      ],
      "metadata": {
        "id": "oqQPYEEadCVX"
      },
      "execution_count": 25,
      "outputs": []
    },
    {
      "cell_type": "code",
      "execution_count": 26,
      "metadata": {
        "colab": {
          "base_uri": "https://localhost:8080/",
          "height": 240,
          "referenced_widgets": [
            "e56be8a50ace4360a05952335c3afcd5",
            "8fe6b5578ac84c748e01e6e6d883bace",
            "44d486ef90df45e999175170d69c0cb4",
            "15bcb475c8264f7ba60653fcff2b9383",
            "3a479481a63c4e799368d115931fa7c8",
            "fb5c9bf930954eb58d1d0a3dcf83d320",
            "9f0741a7f9284868a737dfef4f6e81e9",
            "64707760c8424b83b95489a00e121c39",
            "09a007fe8753446bbc0298635f29047d",
            "6a1041ec93c749e7b0ce82976c5832b9",
            "2a5f68f70d774553bb68fd1431f6220d"
          ]
        },
        "id": "qMnZdXWwYsCo",
        "outputId": "f5dcf343-1155-4878-dfc2-dbc1807a9d01"
      },
      "outputs": [
        {
          "output_type": "stream",
          "name": "stderr",
          "text": [
            "WARNING:datasets.builder:Found cached dataset json (/root/.cache/huggingface/datasets/merionum___json/merionum--ru_paraphraser-e39dafb2b050eb83/0.0.0/fe5dd6ea2639a6df622901539cb550cf8797e5a6b2dd7af1cf934bed8e233e6e)\n"
          ]
        },
        {
          "output_type": "display_data",
          "data": {
            "text/plain": [
              "  0%|          | 0/2 [00:00<?, ?it/s]"
            ],
            "application/vnd.jupyter.widget-view+json": {
              "version_major": 2,
              "version_minor": 0,
              "model_id": "e56be8a50ace4360a05952335c3afcd5"
            }
          },
          "metadata": {}
        },
        {
          "output_type": "execute_result",
          "data": {
            "text/plain": [
              "DatasetDict({\n",
              "    train: Dataset({\n",
              "        features: ['id', 'id_1', 'id_2', 'text_1', 'text_2', 'class'],\n",
              "        num_rows: 7227\n",
              "    })\n",
              "    test: Dataset({\n",
              "        features: ['id', 'id_1', 'id_2', 'text_1', 'text_2', 'class'],\n",
              "        num_rows: 1924\n",
              "    })\n",
              "})"
            ]
          },
          "metadata": {},
          "execution_count": 26
        }
      ],
      "source": [
        "# Загрузка датасета\n",
        "\n",
        "from datasets import load_dataset\n",
        "\n",
        "corpus = load_dataset('merionum/ru_paraphraser')\n",
        "corpus"
      ]
    },
    {
      "cell_type": "code",
      "source": [
        "corpus['train'][0:4]"
      ],
      "metadata": {
        "colab": {
          "base_uri": "https://localhost:8080/"
        },
        "id": "4Hw1RBstiHi6",
        "outputId": "210846d3-d2b5-4b47-f80a-e5a49d991e2f"
      },
      "execution_count": 27,
      "outputs": [
        {
          "output_type": "execute_result",
          "data": {
            "text/plain": [
              "{'id': ['1', '2', '3', '4'],\n",
              " 'id_1': ['201', '202', '273', '220'],\n",
              " 'id_2': ['8159', '8158', '8167', '8160'],\n",
              " 'text_1': ['Полицейским разрешат стрелять на поражение по гражданам с травматикой.',\n",
              "  'Право полицейских на проникновение в жилище решили ограничить.',\n",
              "  'Президент Египта ввел чрезвычайное положение в мятежных городах.',\n",
              "  'Вернувшихся из Сирии россиян волнует вопрос трудоустройства на родине.'],\n",
              " 'text_2': ['Полиции могут разрешить стрелять по хулиганам с травматикой.',\n",
              "  'Правила внесудебного проникновения полицейских в жилище уточнят.',\n",
              "  'Власти Египта угрожают ввести в стране чрезвычайное положение.',\n",
              "  'Самолеты МЧС вывезут россиян из разрушенной Сирии.'],\n",
              " 'class': ['0', '0', '0', '-1']}"
            ]
          },
          "metadata": {},
          "execution_count": 27
        }
      ]
    },
    {
      "cell_type": "code",
      "source": [
        "# Загрузка предобученных моделей и пайплайна\n",
        "\n",
        "from transformers import AutoTokenizer, AutoModelForSeq2SeqLM\n",
        "\n",
        "tokenizer = AutoTokenizer.from_pretrained(\"cointegrated/rut5-base-paraphraser\")\n",
        "\n",
        "model = AutoModelForSeq2SeqLM.from_pretrained(\"cointegrated/rut5-base-paraphraser\")"
      ],
      "metadata": {
        "id": "u9HY9D57iPyr"
      },
      "execution_count": 28,
      "outputs": []
    },
    {
      "cell_type": "code",
      "source": [
        "# Функция парафраза\n",
        "\n",
        "def paraphrase(text, beams=5, grams=4, do_sample=False):\n",
        "    x = tokenizer(text, return_tensors='pt', padding=True).to(model.device)\n",
        "    max_size = int(x.input_ids.shape[1] * 1.5 + 10)\n",
        "    out = model.generate(**x, encoder_no_repeat_ngram_size=grams, num_beams=beams, max_length=max_size, do_sample=do_sample)\n",
        "    return tokenizer.decode(out[0], skip_special_tokens=True)"
      ],
      "metadata": {
        "id": "-_u9A47diaxD"
      },
      "execution_count": 29,
      "outputs": []
    },
    {
      "cell_type": "code",
      "source": [
        "# Примеры работы парафраза\n",
        "\n",
        "for i in range(10):\n",
        "    print('Исходный текст: ', corpus[\"train\"][i]['text_1'])\n",
        "    print('Парафраз: ', paraphrase(corpus[\"train\"][i]['text_1']))\n",
        "    print('-' * 20)"
      ],
      "metadata": {
        "colab": {
          "base_uri": "https://localhost:8080/"
        },
        "id": "ZKaC3FA9ksrv",
        "outputId": "69c32cc5-57d0-4114-86bd-eff8b56c1884"
      },
      "execution_count": 31,
      "outputs": [
        {
          "output_type": "stream",
          "name": "stdout",
          "text": [
            "Исходный текст:  Полицейским разрешат стрелять на поражение по гражданам с травматикой.\n",
            "Парафраз:  Полицейские могут стрелять на нападение на граждан с травматизмом.\n",
            "--------------------\n",
            "Исходный текст:  Право полицейских на проникновение в жилище решили ограничить.\n",
            "Парафраз:  Решили ограничить право полицейских проникнуть в жилище.\n",
            "--------------------\n",
            "Исходный текст:  Президент Египта ввел чрезвычайное положение в мятежных городах.\n",
            "Парафраз:  Глава Египта объявил чрезвычайное положение в городах-мятежниках.\n",
            "--------------------\n",
            "Исходный текст:  Вернувшихся из Сирии россиян волнует вопрос трудоустройства на родине.\n",
            "Парафраз:  Вопрос трудоустройства в Сирии волнует россиян, вернувшихся из Сирии.\n",
            "--------------------\n",
            "Исходный текст:  В Москву из Сирии вернулись 2 самолета МЧС с россиянами на борту.\n",
            "Парафраз:  Из Сирии в Москву вернулись два самолета с гражданами России.\n",
            "--------------------\n",
            "Исходный текст:  Приставы соберут отпечатки пальцев российских должников.\n",
            "Парафраз:  Приставы собирают печати пальцев должников России.\n",
            "--------------------\n",
            "Исходный текст:  На саратовского дебошира с борта самолета Москва - Хургада заведено дело.\n",
            "Парафраз:  Саратовский дебошир с самолета Москва-Хургада задержан.\n",
            "--------------------\n",
            "Исходный текст:  ЦИК хочет отказаться от электронной системы подсчета голосов.\n",
            "Парафраз:  ЦИК намерен отказаться от системы электронного голосования.\n",
            "--------------------\n",
            "Исходный текст:  Суд Петербурга оставил на потом дело о гибели подростка в полиции.\n",
            "Парафраз:  Суд Санкт-Петербурга на потом оставил дело о погибшем в полиции подростка.\n",
            "--------------------\n",
            "Исходный текст:  Страны ОПЕК сократили добычу нефти на 1 млн баррелей в день.\n",
            "Парафраз:  В ОПЕК страны сократили объем добычи нефти до 1 миллиона баррелей за сутки.\n",
            "--------------------\n"
          ]
        }
      ]
    }
  ]
}
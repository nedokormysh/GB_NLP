{
  "nbformat": 4,
  "nbformat_minor": 0,
  "metadata": {
    "colab": {
      "provenance": [],
      "authorship_tag": "ABX9TyPfrZkKpqp45fEkq6b9JFO8",
      "include_colab_link": true
    },
    "kernelspec": {
      "name": "python3",
      "display_name": "Python 3"
    },
    "language_info": {
      "name": "python"
    }
  },
  "cells": [
    {
      "cell_type": "markdown",
      "metadata": {
        "id": "view-in-github",
        "colab_type": "text"
      },
      "source": [
        "<a href=\"https://colab.research.google.com/github/nedokormysh/GB_NLP_intro/blob/lesson11/NLP_intro_hw_11.ipynb\" target=\"_parent\"><img src=\"https://colab.research.google.com/assets/colab-badge.svg\" alt=\"Open In Colab\"/></a>"
      ]
    },
    {
      "cell_type": "markdown",
      "source": [
        "Взять предобученную трансформерную архитектуру и решить задачу перевода (для того же корпуса что вы выбрали из предыдущего дз)"
      ],
      "metadata": {
        "id": "weoUBM4EDQVw"
      }
    },
    {
      "cell_type": "code",
      "execution_count": 36,
      "metadata": {
        "id": "0h_NrfTq-jIQ"
      },
      "outputs": [],
      "source": [
        "!pip install transformers -q\n",
        "!pip install transformers[sentencepiece] -q\n",
        "import transformers\n",
        "from transformers import AutoTokenizer\n",
        "import io\n",
        "import re\n",
        "import random"
      ]
    },
    {
      "cell_type": "code",
      "source": [
        "!wget http://www.manythings.org/anki/rus-eng.zip\n",
        "\n",
        "!rm -rf rus-eng\n",
        "!mkdir rus-eng\n",
        "!unzip rus-eng.zip -d rus-eng"
      ],
      "metadata": {
        "colab": {
          "base_uri": "https://localhost:8080/"
        },
        "id": "KXEDRnJVFU6d",
        "outputId": "4d395eb0-dda4-4ca0-c6b9-e43b52c37f04"
      },
      "execution_count": 37,
      "outputs": [
        {
          "output_type": "stream",
          "name": "stdout",
          "text": [
            "--2023-03-29 07:50:42--  http://www.manythings.org/anki/rus-eng.zip\n",
            "Resolving www.manythings.org (www.manythings.org)... 173.254.30.110\n",
            "Connecting to www.manythings.org (www.manythings.org)|173.254.30.110|:80... connected.\n",
            "HTTP request sent, awaiting response... 200 OK\n",
            "Length: 15374406 (15M) [application/zip]\n",
            "Saving to: ‘rus-eng.zip.5’\n",
            "\n",
            "rus-eng.zip.5       100%[===================>]  14.66M  7.33MB/s    in 2.0s    \n",
            "\n",
            "2023-03-29 07:50:44 (7.33 MB/s) - ‘rus-eng.zip.5’ saved [15374406/15374406]\n",
            "\n",
            "Archive:  rus-eng.zip\n",
            "  inflating: rus-eng/rus.txt         \n",
            "  inflating: rus-eng/_about.txt      \n"
          ]
        }
      ]
    },
    {
      "cell_type": "code",
      "source": [
        "path_to_file = \"rus-eng/rus.txt\""
      ],
      "metadata": {
        "id": "5MJAjvEsFY10"
      },
      "execution_count": 38,
      "outputs": []
    },
    {
      "cell_type": "code",
      "source": [
        "# def preprocess_sentence(w):\n",
        "#   w = w.lower().strip()\n",
        "\n",
        "#   # creating a space between a word and the punctuation following it\n",
        "#   # eg: \"he is a boy.\" => \"he is a boy .\"\n",
        "#   # Reference:- https://stackoverflow.com/questions/3645931/python-padding-punctuation-with-white-spaces-keeping-punctuation\n",
        "#   w = re.sub(r\"([?.!,])\", r\" \\1 \", w)\n",
        "#   w = re.sub(r'[\" \"]+', \" \", w)\n",
        "\n",
        "#   # replacing everything with space except (a-z, A-Z, \".\", \"?\", \"!\", \",\")\n",
        "#   w = re.sub(r\"[^a-zA-Zа-яА-Я?.!,']+\", \" \", w)\n",
        "\n",
        "#   w = w.strip()\n",
        "\n",
        "#   # adding a start and an end token to the sentence\n",
        "#   # so that the model know when to start and stop predicting.\n",
        "#   w = ' ' + w + ' '\n",
        "#   return w    "
      ],
      "metadata": {
        "id": "3rJ0I0yQIt9K"
      },
      "execution_count": 39,
      "outputs": []
    },
    {
      "cell_type": "code",
      "source": [
        "def create_dataset(path, num_examples):\n",
        "  lines = io.open(path, encoding='UTF-8').read().strip().split('\\n')\n",
        "\n",
        "  # word_pairs = [[preprocess_sentence(w) for w in l.split('\\t')[:2]]  for l in lines[:num_examples]]\n",
        "  word_pairs = [[w for w in l.split('\\t')[:2]]  for l in lines[:num_examples]]\n",
        "\n",
        "  return zip(*word_pairs)"
      ],
      "metadata": {
        "id": "WXP2yoKyI0zC"
      },
      "execution_count": 40,
      "outputs": []
    },
    {
      "cell_type": "code",
      "source": [
        "en, ru = create_dataset(path_to_file, None)\n",
        "print(en[30])\n",
        "print(ru[30])"
      ],
      "metadata": {
        "colab": {
          "base_uri": "https://localhost:8080/"
        },
        "id": "heXn3ATYLTOH",
        "outputId": "f216b7f8-2205-4dfb-8bd6-653dfcf63a70"
      },
      "execution_count": 41,
      "outputs": [
        {
          "output_type": "stream",
          "name": "stdout",
          "text": [
            "Hide.\n",
            "Спрячьтесь.\n"
          ]
        }
      ]
    },
    {
      "cell_type": "code",
      "source": [
        "!pip install sacremoses -q"
      ],
      "metadata": {
        "colab": {
          "base_uri": "https://localhost:8080/"
        },
        "id": "gGRc0AbgWX9l",
        "outputId": "57ba0896-3308-4ed0-a4d0-63acf578d5b4"
      },
      "execution_count": 46,
      "outputs": [
        {
          "output_type": "stream",
          "name": "stdout",
          "text": [
            "\u001b[?25l     \u001b[90m━━━━━━━━━━━━━━━━━━━━━━━━━━━━━━━━━━━━━━━━\u001b[0m \u001b[32m0.0/880.6 KB\u001b[0m \u001b[31m?\u001b[0m eta \u001b[36m-:--:--\u001b[0m\r\u001b[2K     \u001b[91m━━━━━━━━━━━━━━━\u001b[0m\u001b[90m╺\u001b[0m\u001b[90m━━━━━━━━━━━━━━━━━━━━━━━\u001b[0m \u001b[32m348.2/880.6 KB\u001b[0m \u001b[31m9.7 MB/s\u001b[0m eta \u001b[36m0:00:01\u001b[0m\r\u001b[2K     \u001b[90m━━━━━━━━━━━━━━━━━━━━━━━━━━━━━━━━━━━━━━\u001b[0m \u001b[32m880.6/880.6 KB\u001b[0m \u001b[31m12.7 MB/s\u001b[0m eta \u001b[36m0:00:00\u001b[0m\n",
            "\u001b[?25h  Preparing metadata (setup.py) ... \u001b[?25l\u001b[?25hdone\n",
            "  Building wheel for sacremoses (setup.py) ... \u001b[?25l\u001b[?25hdone\n"
          ]
        }
      ]
    },
    {
      "cell_type": "code",
      "source": [
        "# Загрузка предобученного токенайзера\n",
        "# Загрузим предобученную модель для перевода с русского на английский с HuggingFace.\n",
        "\n",
        "from transformers import AutoTokenizer, AutoModelForSeq2SeqLM, BertTokenizer\n",
        "\n",
        "# tokenizer = BertTokenizer.from_pretrained(\"bert-base-cased\", do_lower_case=True)\n",
        "tokenizer = AutoTokenizer.from_pretrained(\"Helsinki-NLP/opus-mt-ru-en\", do_lower_case=True)\n",
        "model = AutoModelForSeq2SeqLM.from_pretrained(\"Helsinki-NLP/opus-mt-ru-en\")"
      ],
      "metadata": {
        "id": "R6T6frcvLfie"
      },
      "execution_count": 47,
      "outputs": []
    },
    {
      "cell_type": "code",
      "source": [
        "# Пример перевода\n",
        "inputs = tokenizer.encode('Я иду по улице.', return_tensors='pt')\n",
        "outputs = model.generate(inputs)\n",
        "print(tokenizer.decode(outputs[0]).replace('<pad> ', ''))"
      ],
      "metadata": {
        "colab": {
          "base_uri": "https://localhost:8080/"
        },
        "id": "8lsjjFgVN2VM",
        "outputId": "036d55e0-c722-4bbb-d432-8d1bc41b8fef"
      },
      "execution_count": 48,
      "outputs": [
        {
          "output_type": "stream",
          "name": "stderr",
          "text": [
            "/usr/local/lib/python3.9/dist-packages/transformers/generation/utils.py:1288: UserWarning: Using `max_length`'s default (512) to control the generation length. This behaviour is deprecated and will be removed from the config in v5 of Transformers -- we recommend using `max_new_tokens` to control the maximum length of the generation.\n",
            "  warnings.warn(\n"
          ]
        },
        {
          "output_type": "stream",
          "name": "stdout",
          "text": [
            "I'm walking down the street.</s>\n"
          ]
        }
      ]
    },
    {
      "cell_type": "code",
      "source": [
        "ids = random.choices(range(len(ru)), k=25)\n",
        "\n",
        "input_texts = []\n",
        "target_texts = []\n",
        "prediction_texts = []\n",
        "\n",
        "for id in ids:\n",
        "    input_texts.append(ru[id])\n",
        "    target_texts.append(en[id])\n",
        "    \n",
        "    inputs = tokenizer.encode(ru[id], return_tensors='pt')\n",
        "    outputs = model.generate(inputs)\n",
        "    prediction_texts.append(tokenizer.decode(outputs[0]).replace('<pad> ', ''))"
      ],
      "metadata": {
        "id": "x4v8Ts4fN7Kb"
      },
      "execution_count": 49,
      "outputs": []
    },
    {
      "cell_type": "markdown",
      "source": [
        "Отобрали случайным образом 25 предложений из текста. и перевели."
      ],
      "metadata": {
        "id": "RMQsussgR-Rv"
      }
    },
    {
      "cell_type": "code",
      "source": [
        "import pandas as pd\n",
        "df = pd.DataFrame(list(zip(input_texts, prediction_texts, target_texts)), \n",
        "                  columns=['Input_text', 'Prediction_text', 'Target_text'])\n",
        "df"
      ],
      "metadata": {
        "colab": {
          "base_uri": "https://localhost:8080/",
          "height": 833
        },
        "id": "4GODan13SDid",
        "outputId": "9fe29539-35a6-4405-baab-f60a6d29451a"
      },
      "execution_count": 50,
      "outputs": [
        {
          "output_type": "execute_result",
          "data": {
            "text/plain": [
              "                                         Input_text  \\\n",
              "0                                       Выбора нет.   \n",
              "1                        У нас ограниченный бюджет.   \n",
              "2                          Мы отложили это событие.   \n",
              "3                               Я могу это уладить.   \n",
              "4                               Тебе спать не пора?   \n",
              "5                                   Я боюсь молнии.   \n",
              "6           Давай поиграем в бейсбол после занятий.   \n",
              "7         Том хочет, чтобы всё оставалось как есть.   \n",
              "8                                      Я профессор.   \n",
              "9                             Неважно, что я думаю.   \n",
              "10                          Я думал, ты в отставке.   \n",
              "11                                  Я всё закончил.   \n",
              "12             Я ничего не помню с прошлого вечера.   \n",
              "13                                   Ручка сломана.   \n",
              "14               Можно у тебя ручку позаимствовать?   \n",
              "15                              Завтра дождь будет.   \n",
              "16                  Том не верил, что Мэри победит.   \n",
              "17                               Где ваш компьютер?   \n",
              "18                       Вы знаете, как это писать?   \n",
              "19                      Я могу сейчас увидеть Тома?   \n",
              "20  Я подумал, вы захотите пойти на концерт с нами.   \n",
              "21           Я не собирался так надолго оставаться.   \n",
              "22                            У него плохое зрение.   \n",
              "23                             Я должна пойти одна.   \n",
              "24                         Зачем это сейчас делать?   \n",
              "\n",
              "                                      Prediction_text  \\\n",
              "0                              There's no choice.</s>   \n",
              "1                       We have a limited budget.</s>   \n",
              "2                      We've postponed the event.</s>   \n",
              "3                              I can handle this.</s>   \n",
              "4                      Shouldn't you be sleeping?</s>   \n",
              "5                        I'm afraid of lightning.</s>   \n",
              "6                Let's play baseball after class.</s>   \n",
              "7      Tom wants things to stay the way they are.</s>   \n",
              "8                                I'm a professor.</s>   \n",
              "9                 It doesn't matter what I think.</s>   \n",
              "10                    I thought you were retired.</s>   \n",
              "11                                      I'm done.</s>   \n",
              "12     I don't remember anything from last night.</s>   \n",
              "13                              The pen's broken.</s>   \n",
              "14                         Can I borrow your pen?</s>   \n",
              "15                           It'll rain tomorrow.</s>   \n",
              "16             Tom didn't believe Mary would win.</s>   \n",
              "17                         Where's your computer?</s>   \n",
              "18                 Do you know how to write that?</s>   \n",
              "19                             Can I see Tom now?</s>   \n",
              "20  I thought you might like to go to a concert wi...   \n",
              "21                 I wasn't gonna stay that long.</s>   \n",
              "22                         He's got bad eyesight.</s>   \n",
              "23                            I have to go alone.</s>   \n",
              "24                     Why would you do that now?</s>   \n",
              "\n",
              "                                          Target_text  \n",
              "0                                 There is no choice.  \n",
              "1                            We're on a tight budget.  \n",
              "2                             We postponed the event.  \n",
              "3                                  I can handle that.  \n",
              "4                Isn't it about time you went to bed?  \n",
              "5                            I'm scared of lightning.  \n",
              "6                   Let's play baseball after school.  \n",
              "7               Tom wants to keep things as they are.  \n",
              "8                                   I am a professor.  \n",
              "9                     It doesn't matter what I think.  \n",
              "10                   I thought that you were retired.  \n",
              "11                                      I'm all done.  \n",
              "12         I can't remember anything from last night.  \n",
              "13                                 The pen is broken.  \n",
              "14                             Can I borrow your pen?  \n",
              "15                       It's going to rain tomorrow.  \n",
              "16                 Tom didn't believe Mary would win.  \n",
              "17                             Where's your computer?  \n",
              "18                       Do you know how to write it?  \n",
              "19                                 Can I see Tom now?  \n",
              "20  I thought you would want to go to the concert ...  \n",
              "21               I hadn't planned on staying so long.  \n",
              "22                               His eyesight is bad.  \n",
              "23                                   I must go alone.  \n",
              "24                                   Why do this now?  "
            ],
            "text/html": [
              "\n",
              "  <div id=\"df-d34d4f8e-edce-408e-a2ad-88fa8c5cd112\">\n",
              "    <div class=\"colab-df-container\">\n",
              "      <div>\n",
              "<style scoped>\n",
              "    .dataframe tbody tr th:only-of-type {\n",
              "        vertical-align: middle;\n",
              "    }\n",
              "\n",
              "    .dataframe tbody tr th {\n",
              "        vertical-align: top;\n",
              "    }\n",
              "\n",
              "    .dataframe thead th {\n",
              "        text-align: right;\n",
              "    }\n",
              "</style>\n",
              "<table border=\"1\" class=\"dataframe\">\n",
              "  <thead>\n",
              "    <tr style=\"text-align: right;\">\n",
              "      <th></th>\n",
              "      <th>Input_text</th>\n",
              "      <th>Prediction_text</th>\n",
              "      <th>Target_text</th>\n",
              "    </tr>\n",
              "  </thead>\n",
              "  <tbody>\n",
              "    <tr>\n",
              "      <th>0</th>\n",
              "      <td>Выбора нет.</td>\n",
              "      <td>There's no choice.&lt;/s&gt;</td>\n",
              "      <td>There is no choice.</td>\n",
              "    </tr>\n",
              "    <tr>\n",
              "      <th>1</th>\n",
              "      <td>У нас ограниченный бюджет.</td>\n",
              "      <td>We have a limited budget.&lt;/s&gt;</td>\n",
              "      <td>We're on a tight budget.</td>\n",
              "    </tr>\n",
              "    <tr>\n",
              "      <th>2</th>\n",
              "      <td>Мы отложили это событие.</td>\n",
              "      <td>We've postponed the event.&lt;/s&gt;</td>\n",
              "      <td>We postponed the event.</td>\n",
              "    </tr>\n",
              "    <tr>\n",
              "      <th>3</th>\n",
              "      <td>Я могу это уладить.</td>\n",
              "      <td>I can handle this.&lt;/s&gt;</td>\n",
              "      <td>I can handle that.</td>\n",
              "    </tr>\n",
              "    <tr>\n",
              "      <th>4</th>\n",
              "      <td>Тебе спать не пора?</td>\n",
              "      <td>Shouldn't you be sleeping?&lt;/s&gt;</td>\n",
              "      <td>Isn't it about time you went to bed?</td>\n",
              "    </tr>\n",
              "    <tr>\n",
              "      <th>5</th>\n",
              "      <td>Я боюсь молнии.</td>\n",
              "      <td>I'm afraid of lightning.&lt;/s&gt;</td>\n",
              "      <td>I'm scared of lightning.</td>\n",
              "    </tr>\n",
              "    <tr>\n",
              "      <th>6</th>\n",
              "      <td>Давай поиграем в бейсбол после занятий.</td>\n",
              "      <td>Let's play baseball after class.&lt;/s&gt;</td>\n",
              "      <td>Let's play baseball after school.</td>\n",
              "    </tr>\n",
              "    <tr>\n",
              "      <th>7</th>\n",
              "      <td>Том хочет, чтобы всё оставалось как есть.</td>\n",
              "      <td>Tom wants things to stay the way they are.&lt;/s&gt;</td>\n",
              "      <td>Tom wants to keep things as they are.</td>\n",
              "    </tr>\n",
              "    <tr>\n",
              "      <th>8</th>\n",
              "      <td>Я профессор.</td>\n",
              "      <td>I'm a professor.&lt;/s&gt;</td>\n",
              "      <td>I am a professor.</td>\n",
              "    </tr>\n",
              "    <tr>\n",
              "      <th>9</th>\n",
              "      <td>Неважно, что я думаю.</td>\n",
              "      <td>It doesn't matter what I think.&lt;/s&gt;</td>\n",
              "      <td>It doesn't matter what I think.</td>\n",
              "    </tr>\n",
              "    <tr>\n",
              "      <th>10</th>\n",
              "      <td>Я думал, ты в отставке.</td>\n",
              "      <td>I thought you were retired.&lt;/s&gt;</td>\n",
              "      <td>I thought that you were retired.</td>\n",
              "    </tr>\n",
              "    <tr>\n",
              "      <th>11</th>\n",
              "      <td>Я всё закончил.</td>\n",
              "      <td>I'm done.&lt;/s&gt;</td>\n",
              "      <td>I'm all done.</td>\n",
              "    </tr>\n",
              "    <tr>\n",
              "      <th>12</th>\n",
              "      <td>Я ничего не помню с прошлого вечера.</td>\n",
              "      <td>I don't remember anything from last night.&lt;/s&gt;</td>\n",
              "      <td>I can't remember anything from last night.</td>\n",
              "    </tr>\n",
              "    <tr>\n",
              "      <th>13</th>\n",
              "      <td>Ручка сломана.</td>\n",
              "      <td>The pen's broken.&lt;/s&gt;</td>\n",
              "      <td>The pen is broken.</td>\n",
              "    </tr>\n",
              "    <tr>\n",
              "      <th>14</th>\n",
              "      <td>Можно у тебя ручку позаимствовать?</td>\n",
              "      <td>Can I borrow your pen?&lt;/s&gt;</td>\n",
              "      <td>Can I borrow your pen?</td>\n",
              "    </tr>\n",
              "    <tr>\n",
              "      <th>15</th>\n",
              "      <td>Завтра дождь будет.</td>\n",
              "      <td>It'll rain tomorrow.&lt;/s&gt;</td>\n",
              "      <td>It's going to rain tomorrow.</td>\n",
              "    </tr>\n",
              "    <tr>\n",
              "      <th>16</th>\n",
              "      <td>Том не верил, что Мэри победит.</td>\n",
              "      <td>Tom didn't believe Mary would win.&lt;/s&gt;</td>\n",
              "      <td>Tom didn't believe Mary would win.</td>\n",
              "    </tr>\n",
              "    <tr>\n",
              "      <th>17</th>\n",
              "      <td>Где ваш компьютер?</td>\n",
              "      <td>Where's your computer?&lt;/s&gt;</td>\n",
              "      <td>Where's your computer?</td>\n",
              "    </tr>\n",
              "    <tr>\n",
              "      <th>18</th>\n",
              "      <td>Вы знаете, как это писать?</td>\n",
              "      <td>Do you know how to write that?&lt;/s&gt;</td>\n",
              "      <td>Do you know how to write it?</td>\n",
              "    </tr>\n",
              "    <tr>\n",
              "      <th>19</th>\n",
              "      <td>Я могу сейчас увидеть Тома?</td>\n",
              "      <td>Can I see Tom now?&lt;/s&gt;</td>\n",
              "      <td>Can I see Tom now?</td>\n",
              "    </tr>\n",
              "    <tr>\n",
              "      <th>20</th>\n",
              "      <td>Я подумал, вы захотите пойти на концерт с нами.</td>\n",
              "      <td>I thought you might like to go to a concert wi...</td>\n",
              "      <td>I thought you would want to go to the concert ...</td>\n",
              "    </tr>\n",
              "    <tr>\n",
              "      <th>21</th>\n",
              "      <td>Я не собирался так надолго оставаться.</td>\n",
              "      <td>I wasn't gonna stay that long.&lt;/s&gt;</td>\n",
              "      <td>I hadn't planned on staying so long.</td>\n",
              "    </tr>\n",
              "    <tr>\n",
              "      <th>22</th>\n",
              "      <td>У него плохое зрение.</td>\n",
              "      <td>He's got bad eyesight.&lt;/s&gt;</td>\n",
              "      <td>His eyesight is bad.</td>\n",
              "    </tr>\n",
              "    <tr>\n",
              "      <th>23</th>\n",
              "      <td>Я должна пойти одна.</td>\n",
              "      <td>I have to go alone.&lt;/s&gt;</td>\n",
              "      <td>I must go alone.</td>\n",
              "    </tr>\n",
              "    <tr>\n",
              "      <th>24</th>\n",
              "      <td>Зачем это сейчас делать?</td>\n",
              "      <td>Why would you do that now?&lt;/s&gt;</td>\n",
              "      <td>Why do this now?</td>\n",
              "    </tr>\n",
              "  </tbody>\n",
              "</table>\n",
              "</div>\n",
              "      <button class=\"colab-df-convert\" onclick=\"convertToInteractive('df-d34d4f8e-edce-408e-a2ad-88fa8c5cd112')\"\n",
              "              title=\"Convert this dataframe to an interactive table.\"\n",
              "              style=\"display:none;\">\n",
              "        \n",
              "  <svg xmlns=\"http://www.w3.org/2000/svg\" height=\"24px\"viewBox=\"0 0 24 24\"\n",
              "       width=\"24px\">\n",
              "    <path d=\"M0 0h24v24H0V0z\" fill=\"none\"/>\n",
              "    <path d=\"M18.56 5.44l.94 2.06.94-2.06 2.06-.94-2.06-.94-.94-2.06-.94 2.06-2.06.94zm-11 1L8.5 8.5l.94-2.06 2.06-.94-2.06-.94L8.5 2.5l-.94 2.06-2.06.94zm10 10l.94 2.06.94-2.06 2.06-.94-2.06-.94-.94-2.06-.94 2.06-2.06.94z\"/><path d=\"M17.41 7.96l-1.37-1.37c-.4-.4-.92-.59-1.43-.59-.52 0-1.04.2-1.43.59L10.3 9.45l-7.72 7.72c-.78.78-.78 2.05 0 2.83L4 21.41c.39.39.9.59 1.41.59.51 0 1.02-.2 1.41-.59l7.78-7.78 2.81-2.81c.8-.78.8-2.07 0-2.86zM5.41 20L4 18.59l7.72-7.72 1.47 1.35L5.41 20z\"/>\n",
              "  </svg>\n",
              "      </button>\n",
              "      \n",
              "  <style>\n",
              "    .colab-df-container {\n",
              "      display:flex;\n",
              "      flex-wrap:wrap;\n",
              "      gap: 12px;\n",
              "    }\n",
              "\n",
              "    .colab-df-convert {\n",
              "      background-color: #E8F0FE;\n",
              "      border: none;\n",
              "      border-radius: 50%;\n",
              "      cursor: pointer;\n",
              "      display: none;\n",
              "      fill: #1967D2;\n",
              "      height: 32px;\n",
              "      padding: 0 0 0 0;\n",
              "      width: 32px;\n",
              "    }\n",
              "\n",
              "    .colab-df-convert:hover {\n",
              "      background-color: #E2EBFA;\n",
              "      box-shadow: 0px 1px 2px rgba(60, 64, 67, 0.3), 0px 1px 3px 1px rgba(60, 64, 67, 0.15);\n",
              "      fill: #174EA6;\n",
              "    }\n",
              "\n",
              "    [theme=dark] .colab-df-convert {\n",
              "      background-color: #3B4455;\n",
              "      fill: #D2E3FC;\n",
              "    }\n",
              "\n",
              "    [theme=dark] .colab-df-convert:hover {\n",
              "      background-color: #434B5C;\n",
              "      box-shadow: 0px 1px 3px 1px rgba(0, 0, 0, 0.15);\n",
              "      filter: drop-shadow(0px 1px 2px rgba(0, 0, 0, 0.3));\n",
              "      fill: #FFFFFF;\n",
              "    }\n",
              "  </style>\n",
              "\n",
              "      <script>\n",
              "        const buttonEl =\n",
              "          document.querySelector('#df-d34d4f8e-edce-408e-a2ad-88fa8c5cd112 button.colab-df-convert');\n",
              "        buttonEl.style.display =\n",
              "          google.colab.kernel.accessAllowed ? 'block' : 'none';\n",
              "\n",
              "        async function convertToInteractive(key) {\n",
              "          const element = document.querySelector('#df-d34d4f8e-edce-408e-a2ad-88fa8c5cd112');\n",
              "          const dataTable =\n",
              "            await google.colab.kernel.invokeFunction('convertToInteractive',\n",
              "                                                     [key], {});\n",
              "          if (!dataTable) return;\n",
              "\n",
              "          const docLinkHtml = 'Like what you see? Visit the ' +\n",
              "            '<a target=\"_blank\" href=https://colab.research.google.com/notebooks/data_table.ipynb>data table notebook</a>'\n",
              "            + ' to learn more about interactive tables.';\n",
              "          element.innerHTML = '';\n",
              "          dataTable['output_type'] = 'display_data';\n",
              "          await google.colab.output.renderOutput(dataTable, element);\n",
              "          const docLink = document.createElement('div');\n",
              "          docLink.innerHTML = docLinkHtml;\n",
              "          element.appendChild(docLink);\n",
              "        }\n",
              "      </script>\n",
              "    </div>\n",
              "  </div>\n",
              "  "
            ]
          },
          "metadata": {},
          "execution_count": 50
        }
      ]
    },
    {
      "cell_type": "markdown",
      "source": [
        "Качество перевода значительно улучшилось по сравнению с RNN с вниманием. Имена  не были переведены."
      ],
      "metadata": {
        "id": "zArhDHeKSixG"
      }
    }
  ]
}
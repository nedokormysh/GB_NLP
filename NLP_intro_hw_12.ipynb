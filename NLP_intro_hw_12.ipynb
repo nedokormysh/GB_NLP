{
  "nbformat": 4,
  "nbformat_minor": 0,
  "metadata": {
    "colab": {
      "provenance": [],
      "authorship_tag": "ABX9TyPzHVZ2M6LRXDMhqYi0pf63",
      "include_colab_link": true
    },
    "kernelspec": {
      "name": "python3",
      "display_name": "Python 3"
    },
    "language_info": {
      "name": "python"
    },
    "gpuClass": "standard"
  },
  "cells": [
    {
      "cell_type": "markdown",
      "metadata": {
        "id": "view-in-github",
        "colab_type": "text"
      },
      "source": [
        "<a href=\"https://colab.research.google.com/github/nedokormysh/GB_NLP_intro/blob/lesson12/NLP_intro_hw_12.ipynb\" target=\"_parent\"><img src=\"https://colab.research.google.com/assets/colab-badge.svg\" alt=\"Open In Colab\"/></a>"
      ]
    },
    {
      "cell_type": "code",
      "execution_count": 33,
      "metadata": {
        "id": "dt406ceaD990"
      },
      "outputs": [],
      "source": [
        "!wget -q https://www.dropbox.com/s/43l702z5a5i2w8j/gazeta_train.txt\n",
        "!wget -q https://www.dropbox.com/s/k2egt3sug0hb185/gazeta_val.txt\n",
        "!wget -q https://www.dropbox.com/s/3gki5n5djs9w0v6/gazeta_test.txt"
      ]
    },
    {
      "cell_type": "code",
      "source": [
        "# Функция чтения данных\n",
        "\n",
        "import json\n",
        "import random\n",
        "\n",
        "def read_gazeta_records(file_name, shuffle=True, sort_by_date=False):\n",
        "    assert shuffle != sort_by_date\n",
        "    records = []\n",
        "    with open(file_name, \"r\") as r:\n",
        "        for line in r:\n",
        "            records.append(json.loads(line))\n",
        "    if sort_by_date:\n",
        "        records.sort(key=lambda x: x[\"date\"])\n",
        "    if shuffle:\n",
        "        random.shuffle\n",
        "    return records"
      ],
      "metadata": {
        "id": "vJZC7ObUGMt3"
      },
      "execution_count": 34,
      "outputs": []
    },
    {
      "cell_type": "code",
      "source": [
        "train_records = read_gazeta_records(\"gazeta_train.txt\")\n",
        "val_records = read_gazeta_records(\"gazeta_val.txt\")\n",
        "test_records = read_gazeta_records(\"gazeta_test.txt\")"
      ],
      "metadata": {
        "id": "ahIwnJDSJg_T"
      },
      "execution_count": 35,
      "outputs": []
    },
    {
      "cell_type": "code",
      "source": [
        "import pandas as pd\n",
        "\n",
        "dataset = pd.DataFrame(test_records)\n",
        "dataset.head(3)"
      ],
      "metadata": {
        "colab": {
          "base_uri": "https://localhost:8080/",
          "height": 143
        },
        "id": "4gUZB3t2JkEB",
        "outputId": "2f2c17ed-fe7a-49c8-8675-908987dce64d"
      },
      "execution_count": 36,
      "outputs": [
        {
          "output_type": "execute_result",
          "data": {
            "text/plain": [
              "                                                 url  \\\n",
              "0  https://www.gazeta.ru/science/2020/02/14_a_129...   \n",
              "1  https://www.gazeta.ru/social/2020/02/28/129806...   \n",
              "2  https://www.gazeta.ru/politics/2019/11/07_a_12...   \n",
              "\n",
              "                                                text  \\\n",
              "0  Американское аэрокосмическое агентство NASA ог...   \n",
              "1  Около 11 тысяч зрителей увидели все самое лучш...   \n",
              "2  7 ноября в Белоруссии прошли выборы членов сов...   \n",
              "\n",
              "                                         title  \\\n",
              "0     Венера, Ио или Тритон: куда полетит NASA   \n",
              "1           «Люди в Бурятии очень талантливые»   \n",
              "2  Вспомнить СССР: как Лукашенко провел выборы   \n",
              "\n",
              "                                             summary                 date  \n",
              "0  В NASA назвали четыре миссии в дальний космос,...  2020-02-14 16:39:11  \n",
              "1  25 и 26 февраля в Кремлевском дворце съездов п...  2020-02-28 10:44:13  \n",
              "2  В Белоруссии в день годовщины Октябрьской рево...  2019-11-07 19:55:08  "
            ],
            "text/html": [
              "\n",
              "  <div id=\"df-37aec373-68a2-4614-b381-5add0ce7bb9f\">\n",
              "    <div class=\"colab-df-container\">\n",
              "      <div>\n",
              "<style scoped>\n",
              "    .dataframe tbody tr th:only-of-type {\n",
              "        vertical-align: middle;\n",
              "    }\n",
              "\n",
              "    .dataframe tbody tr th {\n",
              "        vertical-align: top;\n",
              "    }\n",
              "\n",
              "    .dataframe thead th {\n",
              "        text-align: right;\n",
              "    }\n",
              "</style>\n",
              "<table border=\"1\" class=\"dataframe\">\n",
              "  <thead>\n",
              "    <tr style=\"text-align: right;\">\n",
              "      <th></th>\n",
              "      <th>url</th>\n",
              "      <th>text</th>\n",
              "      <th>title</th>\n",
              "      <th>summary</th>\n",
              "      <th>date</th>\n",
              "    </tr>\n",
              "  </thead>\n",
              "  <tbody>\n",
              "    <tr>\n",
              "      <th>0</th>\n",
              "      <td>https://www.gazeta.ru/science/2020/02/14_a_129...</td>\n",
              "      <td>Американское аэрокосмическое агентство NASA ог...</td>\n",
              "      <td>Венера, Ио или Тритон: куда полетит NASA</td>\n",
              "      <td>В NASA назвали четыре миссии в дальний космос,...</td>\n",
              "      <td>2020-02-14 16:39:11</td>\n",
              "    </tr>\n",
              "    <tr>\n",
              "      <th>1</th>\n",
              "      <td>https://www.gazeta.ru/social/2020/02/28/129806...</td>\n",
              "      <td>Около 11 тысяч зрителей увидели все самое лучш...</td>\n",
              "      <td>«Люди в Бурятии очень талантливые»</td>\n",
              "      <td>25 и 26 февраля в Кремлевском дворце съездов п...</td>\n",
              "      <td>2020-02-28 10:44:13</td>\n",
              "    </tr>\n",
              "    <tr>\n",
              "      <th>2</th>\n",
              "      <td>https://www.gazeta.ru/politics/2019/11/07_a_12...</td>\n",
              "      <td>7 ноября в Белоруссии прошли выборы членов сов...</td>\n",
              "      <td>Вспомнить СССР: как Лукашенко провел выборы</td>\n",
              "      <td>В Белоруссии в день годовщины Октябрьской рево...</td>\n",
              "      <td>2019-11-07 19:55:08</td>\n",
              "    </tr>\n",
              "  </tbody>\n",
              "</table>\n",
              "</div>\n",
              "      <button class=\"colab-df-convert\" onclick=\"convertToInteractive('df-37aec373-68a2-4614-b381-5add0ce7bb9f')\"\n",
              "              title=\"Convert this dataframe to an interactive table.\"\n",
              "              style=\"display:none;\">\n",
              "        \n",
              "  <svg xmlns=\"http://www.w3.org/2000/svg\" height=\"24px\"viewBox=\"0 0 24 24\"\n",
              "       width=\"24px\">\n",
              "    <path d=\"M0 0h24v24H0V0z\" fill=\"none\"/>\n",
              "    <path d=\"M18.56 5.44l.94 2.06.94-2.06 2.06-.94-2.06-.94-.94-2.06-.94 2.06-2.06.94zm-11 1L8.5 8.5l.94-2.06 2.06-.94-2.06-.94L8.5 2.5l-.94 2.06-2.06.94zm10 10l.94 2.06.94-2.06 2.06-.94-2.06-.94-.94-2.06-.94 2.06-2.06.94z\"/><path d=\"M17.41 7.96l-1.37-1.37c-.4-.4-.92-.59-1.43-.59-.52 0-1.04.2-1.43.59L10.3 9.45l-7.72 7.72c-.78.78-.78 2.05 0 2.83L4 21.41c.39.39.9.59 1.41.59.51 0 1.02-.2 1.41-.59l7.78-7.78 2.81-2.81c.8-.78.8-2.07 0-2.86zM5.41 20L4 18.59l7.72-7.72 1.47 1.35L5.41 20z\"/>\n",
              "  </svg>\n",
              "      </button>\n",
              "      \n",
              "  <style>\n",
              "    .colab-df-container {\n",
              "      display:flex;\n",
              "      flex-wrap:wrap;\n",
              "      gap: 12px;\n",
              "    }\n",
              "\n",
              "    .colab-df-convert {\n",
              "      background-color: #E8F0FE;\n",
              "      border: none;\n",
              "      border-radius: 50%;\n",
              "      cursor: pointer;\n",
              "      display: none;\n",
              "      fill: #1967D2;\n",
              "      height: 32px;\n",
              "      padding: 0 0 0 0;\n",
              "      width: 32px;\n",
              "    }\n",
              "\n",
              "    .colab-df-convert:hover {\n",
              "      background-color: #E2EBFA;\n",
              "      box-shadow: 0px 1px 2px rgba(60, 64, 67, 0.3), 0px 1px 3px 1px rgba(60, 64, 67, 0.15);\n",
              "      fill: #174EA6;\n",
              "    }\n",
              "\n",
              "    [theme=dark] .colab-df-convert {\n",
              "      background-color: #3B4455;\n",
              "      fill: #D2E3FC;\n",
              "    }\n",
              "\n",
              "    [theme=dark] .colab-df-convert:hover {\n",
              "      background-color: #434B5C;\n",
              "      box-shadow: 0px 1px 3px 1px rgba(0, 0, 0, 0.15);\n",
              "      filter: drop-shadow(0px 1px 2px rgba(0, 0, 0, 0.3));\n",
              "      fill: #FFFFFF;\n",
              "    }\n",
              "  </style>\n",
              "\n",
              "      <script>\n",
              "        const buttonEl =\n",
              "          document.querySelector('#df-37aec373-68a2-4614-b381-5add0ce7bb9f button.colab-df-convert');\n",
              "        buttonEl.style.display =\n",
              "          google.colab.kernel.accessAllowed ? 'block' : 'none';\n",
              "\n",
              "        async function convertToInteractive(key) {\n",
              "          const element = document.querySelector('#df-37aec373-68a2-4614-b381-5add0ce7bb9f');\n",
              "          const dataTable =\n",
              "            await google.colab.kernel.invokeFunction('convertToInteractive',\n",
              "                                                     [key], {});\n",
              "          if (!dataTable) return;\n",
              "\n",
              "          const docLinkHtml = 'Like what you see? Visit the ' +\n",
              "            '<a target=\"_blank\" href=https://colab.research.google.com/notebooks/data_table.ipynb>data table notebook</a>'\n",
              "            + ' to learn more about interactive tables.';\n",
              "          element.innerHTML = '';\n",
              "          dataTable['output_type'] = 'display_data';\n",
              "          await google.colab.output.renderOutput(dataTable, element);\n",
              "          const docLink = document.createElement('div');\n",
              "          docLink.innerHTML = docLinkHtml;\n",
              "          element.appendChild(docLink);\n",
              "        }\n",
              "      </script>\n",
              "    </div>\n",
              "  </div>\n",
              "  "
            ]
          },
          "metadata": {},
          "execution_count": 36
        }
      ]
    },
    {
      "cell_type": "code",
      "source": [
        "dataset = dataset.drop(['url', 'date'], axis=1)"
      ],
      "metadata": {
        "id": "ViKuyAkRJo1P"
      },
      "execution_count": 37,
      "outputs": []
    },
    {
      "cell_type": "code",
      "source": [
        "# оченка качества\n",
        "\n",
        "!pip install rouge -q\n",
        "!pip install razdel -q"
      ],
      "metadata": {
        "id": "qkLVqe4sJ2ls"
      },
      "execution_count": 38,
      "outputs": []
    },
    {
      "cell_type": "markdown",
      "source": [
        "Lead-3"
      ],
      "metadata": {
        "id": "3UzzNmziQ_G6"
      }
    },
    {
      "cell_type": "code",
      "source": [
        "from nltk.translate.bleu_score import corpus_bleu\n",
        "from rouge import Rouge\n",
        "\n",
        "def calc_scores(references, predictions, metric=\"all\"):\n",
        "    print(\"Count:\", len(predictions))\n",
        "    print(\"Ref:\", references[-1])\n",
        "    print(\"Hyp:\", predictions[-1])\n",
        "\n",
        "    if metric in (\"bleu\", \"all\"):\n",
        "        print(\"BLEU: \", corpus_bleu([[r] for r in references], predictions))\n",
        "    if metric in (\"rouge\", \"all\"):\n",
        "        rouge = Rouge()\n",
        "        scores = rouge.get_scores(predictions, references, avg=True)\n",
        "        print(\"ROUGE: \", scores)"
      ],
      "metadata": {
        "id": "LFd9IJU4RDD7"
      },
      "execution_count": 39,
      "outputs": []
    },
    {
      "cell_type": "code",
      "source": [
        "import razdel\n",
        "\n",
        "def calc_lead_n_score(records, summary_col = 'summary', n=3, lower=True, nrows=1000):\n",
        "    references = []\n",
        "    predictions = []\n",
        "\n",
        "    for i, record in enumerate(records):\n",
        "        if i >= nrows:\n",
        "            break\n",
        "\n",
        "        summary = record[summary_col]\n",
        "        summary = summary if not lower else summary.lower()\n",
        "        references.append(summary)\n",
        "\n",
        "        text = record[\"text\"]\n",
        "        text = text if not lower else text.lower()\n",
        "        sentences = [sentence.text for sentence in razdel.sentenize(text)]\n",
        "        prediction = \" \".join(sentences[:n])\n",
        "        predictions.append(prediction)\n",
        "\n",
        "    calc_scores(references, predictions)\n",
        "\n",
        "calc_lead_n_score(test_records, n=1)"
      ],
      "metadata": {
        "colab": {
          "base_uri": "https://localhost:8080/"
        },
        "id": "3prXIDTgRGfP",
        "outputId": "a1775a03-b84c-4a1e-eccc-b1110e5bc8c6"
      },
      "execution_count": 40,
      "outputs": [
        {
          "output_type": "stream",
          "name": "stdout",
          "text": [
            "Count: 1000\n",
            "Ref: телеканал «спас» запускает реалити-шоу «остров», участникам которого предстоит месяц жить и работать в нило-столобенской пустыни на озере селигер. организаторы отметили, что это беспрецедентный подобный проект на телевидении. участникам шоу будет, где поработать — в монастыре работают свечной, молочный и столярный цеха, есть коровник, конюшня, пасека.\n",
            "Hyp: православный телеканал «спас», учредителем которого является московская патриархия, запускает реалити-шоу «остров», участникам которого предстоит месяц жить и работать в нило-столобенской пустыни на озере селигер в тверской области.\n",
            "BLEU:  0.19177311186434495\n",
            "ROUGE:  {'rouge-1': {'r': 0.37762764047433917, 'p': 0.22208274285774904, 'f': 0.23804097238957525}, 'rouge-2': {'r': 0.15833772153385062, 'p': 0.09647636782929753, 'f': 0.10027796832321115}, 'rouge-l': {'r': 0.34937017731940756, 'p': 0.2022959168891477, 'f': 0.21799992093276083}}\n"
          ]
        }
      ]
    },
    {
      "cell_type": "markdown",
      "source": [
        "Модель MBARTRuSumGazeta"
      ],
      "metadata": {
        "id": "30Y64Bt2S4xj"
      }
    },
    {
      "cell_type": "code",
      "source": [
        "!pip install transformers sentencepiece -q"
      ],
      "metadata": {
        "id": "jKEfCi3DS_jH"
      },
      "execution_count": 41,
      "outputs": []
    },
    {
      "cell_type": "code",
      "source": [
        "# Загрузка модели \n",
        "\n",
        "from transformers import MBartTokenizer, MBartForConditionalGeneration\n",
        "\n",
        "model_name = \"IlyaGusev/mbart_ru_sum_gazeta\"\n",
        "tokenizer = MBartTokenizer.from_pretrained(model_name)\n",
        "model = MBartForConditionalGeneration.from_pretrained(model_name)"
      ],
      "metadata": {
        "id": "cLL-xEAmS6y9"
      },
      "execution_count": 42,
      "outputs": []
    },
    {
      "cell_type": "code",
      "source": [
        "# рассмотрим первые 10\n",
        "\n",
        "dataset = dataset[:10]"
      ],
      "metadata": {
        "id": "yzvg2l1Xp_Jc"
      },
      "execution_count": 43,
      "outputs": []
    },
    {
      "cell_type": "code",
      "source": [
        "# Генерация краткого содержания для всего датасета\n",
        "\n",
        "data = dataset['text']\n",
        "\n",
        "summaries = []\n",
        "\n",
        "for row in data:\n",
        "    input_ids = tokenizer(\n",
        "        [row],\n",
        "        max_length=600,\n",
        "        padding=\"max_length\",\n",
        "        truncation=True,\n",
        "        return_tensors=\"pt\",\n",
        "    )[\"input_ids\"]\n",
        "\n",
        "    output_ids = model.generate(\n",
        "        input_ids=input_ids,\n",
        "        no_repeat_ngram_size=4\n",
        "    )[0]\n",
        "\n",
        "    summary = tokenizer.decode(output_ids, skip_special_tokens=True)\n",
        "    summaries.append(summary)"
      ],
      "metadata": {
        "colab": {
          "base_uri": "https://localhost:8080/"
        },
        "id": "S5why2jaS1rW",
        "outputId": "bfb88864-13eb-445a-f8e2-9779b34c10f8"
      },
      "execution_count": 44,
      "outputs": [
        {
          "output_type": "stream",
          "name": "stderr",
          "text": [
            "/usr/local/lib/python3.9/dist-packages/transformers/generation/utils.py:1288: UserWarning: Using `max_length`'s default (200) to control the generation length. This behaviour is deprecated and will be removed from the config in v5 of Transformers -- we recommend using `max_new_tokens` to control the maximum length of the generation.\n",
            "  warnings.warn(\n"
          ]
        }
      ]
    },
    {
      "cell_type": "code",
      "source": [
        "dataset['pred_summary'] = summaries"
      ],
      "metadata": {
        "id": "iGI7juq3fheG"
      },
      "execution_count": 45,
      "outputs": []
    },
    {
      "cell_type": "code",
      "source": [
        "dataset.sample(5)"
      ],
      "metadata": {
        "colab": {
          "base_uri": "https://localhost:8080/",
          "height": 206
        },
        "id": "H0MRwzM5t39C",
        "outputId": "b1d5bb82-acfb-40af-ab4f-081a9b2dab68"
      },
      "execution_count": 46,
      "outputs": [
        {
          "output_type": "execute_result",
          "data": {
            "text/plain": [
              "                                                text  \\\n",
              "6  Выступление главы российской делегации Петра Т...   \n",
              "9  Госдума одобрила в первом чтении внесенные пре...   \n",
              "1  Около 11 тысяч зрителей увидели все самое лучш...   \n",
              "8  Российский актер и театральный педагог Виталий...   \n",
              "4  Депутат Верховной рады от партии «Слуга народа...   \n",
              "\n",
              "                                               title  \\\n",
              "6  «Смотрите, что у вас происходит»: как прервали...   \n",
              "9  Дождались: работающим пенсионерам восстановят ...   \n",
              "1                 «Люди в Бурятии очень талантливые»   \n",
              "8        Умер актер сериала «Улицы разбитых фонарей»   \n",
              "4  «Поддерживают Россию»: почему Киев не платит п...   \n",
              "\n",
              "                                             summary  \\\n",
              "6  Активист сорвал выступление главы делегации РФ...   \n",
              "9  Работающие пенсионеры дождались индексации. Эт...   \n",
              "1  25 и 26 февраля в Кремлевском дворце съездов п...   \n",
              "8  Актер сериала «Улицы разбитых фонарей» Виталий...   \n",
              "4  Украина не должна выплачивать пенсии жителям Д...   \n",
              "\n",
              "                                        pred_summary  \n",
              "6  Выступление главы российской делегации Петра Т...  \n",
              "9  Госдума одобрила в первом чтении внесенные пре...  \n",
              "1  В Кремле прошла премьера новогоднего шоу «Танц...  \n",
              "8  Российский актер и театральный педагог Виталий...  \n",
              "4  Депутат Верховной рады от партии «Слуга народа...  "
            ],
            "text/html": [
              "\n",
              "  <div id=\"df-952a186c-8ec1-41b8-a646-40cac325ad66\">\n",
              "    <div class=\"colab-df-container\">\n",
              "      <div>\n",
              "<style scoped>\n",
              "    .dataframe tbody tr th:only-of-type {\n",
              "        vertical-align: middle;\n",
              "    }\n",
              "\n",
              "    .dataframe tbody tr th {\n",
              "        vertical-align: top;\n",
              "    }\n",
              "\n",
              "    .dataframe thead th {\n",
              "        text-align: right;\n",
              "    }\n",
              "</style>\n",
              "<table border=\"1\" class=\"dataframe\">\n",
              "  <thead>\n",
              "    <tr style=\"text-align: right;\">\n",
              "      <th></th>\n",
              "      <th>text</th>\n",
              "      <th>title</th>\n",
              "      <th>summary</th>\n",
              "      <th>pred_summary</th>\n",
              "    </tr>\n",
              "  </thead>\n",
              "  <tbody>\n",
              "    <tr>\n",
              "      <th>6</th>\n",
              "      <td>Выступление главы российской делегации Петра Т...</td>\n",
              "      <td>«Смотрите, что у вас происходит»: как прервали...</td>\n",
              "      <td>Активист сорвал выступление главы делегации РФ...</td>\n",
              "      <td>Выступление главы российской делегации Петра Т...</td>\n",
              "    </tr>\n",
              "    <tr>\n",
              "      <th>9</th>\n",
              "      <td>Госдума одобрила в первом чтении внесенные пре...</td>\n",
              "      <td>Дождались: работающим пенсионерам восстановят ...</td>\n",
              "      <td>Работающие пенсионеры дождались индексации. Эт...</td>\n",
              "      <td>Госдума одобрила в первом чтении внесенные пре...</td>\n",
              "    </tr>\n",
              "    <tr>\n",
              "      <th>1</th>\n",
              "      <td>Около 11 тысяч зрителей увидели все самое лучш...</td>\n",
              "      <td>«Люди в Бурятии очень талантливые»</td>\n",
              "      <td>25 и 26 февраля в Кремлевском дворце съездов п...</td>\n",
              "      <td>В Кремле прошла премьера новогоднего шоу «Танц...</td>\n",
              "    </tr>\n",
              "    <tr>\n",
              "      <th>8</th>\n",
              "      <td>Российский актер и театральный педагог Виталий...</td>\n",
              "      <td>Умер актер сериала «Улицы разбитых фонарей»</td>\n",
              "      <td>Актер сериала «Улицы разбитых фонарей» Виталий...</td>\n",
              "      <td>Российский актер и театральный педагог Виталий...</td>\n",
              "    </tr>\n",
              "    <tr>\n",
              "      <th>4</th>\n",
              "      <td>Депутат Верховной рады от партии «Слуга народа...</td>\n",
              "      <td>«Поддерживают Россию»: почему Киев не платит п...</td>\n",
              "      <td>Украина не должна выплачивать пенсии жителям Д...</td>\n",
              "      <td>Депутат Верховной рады от партии «Слуга народа...</td>\n",
              "    </tr>\n",
              "  </tbody>\n",
              "</table>\n",
              "</div>\n",
              "      <button class=\"colab-df-convert\" onclick=\"convertToInteractive('df-952a186c-8ec1-41b8-a646-40cac325ad66')\"\n",
              "              title=\"Convert this dataframe to an interactive table.\"\n",
              "              style=\"display:none;\">\n",
              "        \n",
              "  <svg xmlns=\"http://www.w3.org/2000/svg\" height=\"24px\"viewBox=\"0 0 24 24\"\n",
              "       width=\"24px\">\n",
              "    <path d=\"M0 0h24v24H0V0z\" fill=\"none\"/>\n",
              "    <path d=\"M18.56 5.44l.94 2.06.94-2.06 2.06-.94-2.06-.94-.94-2.06-.94 2.06-2.06.94zm-11 1L8.5 8.5l.94-2.06 2.06-.94-2.06-.94L8.5 2.5l-.94 2.06-2.06.94zm10 10l.94 2.06.94-2.06 2.06-.94-2.06-.94-.94-2.06-.94 2.06-2.06.94z\"/><path d=\"M17.41 7.96l-1.37-1.37c-.4-.4-.92-.59-1.43-.59-.52 0-1.04.2-1.43.59L10.3 9.45l-7.72 7.72c-.78.78-.78 2.05 0 2.83L4 21.41c.39.39.9.59 1.41.59.51 0 1.02-.2 1.41-.59l7.78-7.78 2.81-2.81c.8-.78.8-2.07 0-2.86zM5.41 20L4 18.59l7.72-7.72 1.47 1.35L5.41 20z\"/>\n",
              "  </svg>\n",
              "      </button>\n",
              "      \n",
              "  <style>\n",
              "    .colab-df-container {\n",
              "      display:flex;\n",
              "      flex-wrap:wrap;\n",
              "      gap: 12px;\n",
              "    }\n",
              "\n",
              "    .colab-df-convert {\n",
              "      background-color: #E8F0FE;\n",
              "      border: none;\n",
              "      border-radius: 50%;\n",
              "      cursor: pointer;\n",
              "      display: none;\n",
              "      fill: #1967D2;\n",
              "      height: 32px;\n",
              "      padding: 0 0 0 0;\n",
              "      width: 32px;\n",
              "    }\n",
              "\n",
              "    .colab-df-convert:hover {\n",
              "      background-color: #E2EBFA;\n",
              "      box-shadow: 0px 1px 2px rgba(60, 64, 67, 0.3), 0px 1px 3px 1px rgba(60, 64, 67, 0.15);\n",
              "      fill: #174EA6;\n",
              "    }\n",
              "\n",
              "    [theme=dark] .colab-df-convert {\n",
              "      background-color: #3B4455;\n",
              "      fill: #D2E3FC;\n",
              "    }\n",
              "\n",
              "    [theme=dark] .colab-df-convert:hover {\n",
              "      background-color: #434B5C;\n",
              "      box-shadow: 0px 1px 3px 1px rgba(0, 0, 0, 0.15);\n",
              "      filter: drop-shadow(0px 1px 2px rgba(0, 0, 0, 0.3));\n",
              "      fill: #FFFFFF;\n",
              "    }\n",
              "  </style>\n",
              "\n",
              "      <script>\n",
              "        const buttonEl =\n",
              "          document.querySelector('#df-952a186c-8ec1-41b8-a646-40cac325ad66 button.colab-df-convert');\n",
              "        buttonEl.style.display =\n",
              "          google.colab.kernel.accessAllowed ? 'block' : 'none';\n",
              "\n",
              "        async function convertToInteractive(key) {\n",
              "          const element = document.querySelector('#df-952a186c-8ec1-41b8-a646-40cac325ad66');\n",
              "          const dataTable =\n",
              "            await google.colab.kernel.invokeFunction('convertToInteractive',\n",
              "                                                     [key], {});\n",
              "          if (!dataTable) return;\n",
              "\n",
              "          const docLinkHtml = 'Like what you see? Visit the ' +\n",
              "            '<a target=\"_blank\" href=https://colab.research.google.com/notebooks/data_table.ipynb>data table notebook</a>'\n",
              "            + ' to learn more about interactive tables.';\n",
              "          element.innerHTML = '';\n",
              "          dataTable['output_type'] = 'display_data';\n",
              "          await google.colab.output.renderOutput(dataTable, element);\n",
              "          const docLink = document.createElement('div');\n",
              "          docLink.innerHTML = docLinkHtml;\n",
              "          element.appendChild(docLink);\n",
              "        }\n",
              "      </script>\n",
              "    </div>\n",
              "  </div>\n",
              "  "
            ]
          },
          "metadata": {},
          "execution_count": 46
        }
      ]
    },
    {
      "cell_type": "code",
      "source": [
        "predictions = dataset['pred_summary']\n",
        "references = dataset['summary']"
      ],
      "metadata": {
        "id": "oWA-O9SBt_HM"
      },
      "execution_count": 47,
      "outputs": []
    },
    {
      "cell_type": "code",
      "source": [
        "calc_scores(references.values, predictions.values, metric=\"all\")"
      ],
      "metadata": {
        "colab": {
          "base_uri": "https://localhost:8080/"
        },
        "id": "1vghylwMuff3",
        "outputId": "de3caa83-cf97-4c03-d592-7abf76e250c2"
      },
      "execution_count": 49,
      "outputs": [
        {
          "output_type": "stream",
          "name": "stdout",
          "text": [
            "Count: 10\n",
            "Ref: Работающие пенсионеры дождались индексации. Это следует из уже одобренных в первом чтении поправок в Конституцию. Так что работающие пенсионеры смогут получить замороженную с 2016 года прибавку к пенсии. В России их насчитывается более девяти миллионов. Эксперты называют это восстановлением справедливости.\n",
            "Hyp: Госдума одобрила в первом чтении внесенные президентом РФ Владимиром Путиным поправки в Конституцию. Одно из них — индексация пенсий работающим пенсионерам. По мнению экспертов, это означает, что государство готово выполнять свои обязательства и в тяжелые для пенсионной системы годы.\n",
            "BLEU:  0.4070334044292795\n",
            "ROUGE:  {'rouge-1': {'r': 0.24809582503610272, 'p': 0.22031645088748153, 'f': 0.2307363685067823}, 'rouge-2': {'r': 0.09920773138094865, 'p': 0.0885193682896723, 'f': 0.09181747688260844}, 'rouge-l': {'r': 0.23811047705075478, 'p': 0.21193892563495628, 'f': 0.22183650691249807}}\n"
          ]
        }
      ]
    },
    {
      "cell_type": "code",
      "source": [
        "# import torch\n",
        "# # https://huggingface.co/cointegrated/rut5-base-absum\n",
        "\n",
        "# model.eval();\n",
        "\n",
        "# def summarize(\n",
        "#     text, n_words=None, compression=None,\n",
        "#     max_length=1000, num_beams=3, do_sample=False, repetition_penalty=10.0, \n",
        "#     **kwargs\n",
        "# ):\n",
        "#     \"\"\"\n",
        "#     Summarize the text\n",
        "#     The following parameters are mutually exclusive:\n",
        "#     - n_words (int) is an approximate number of words to generate.\n",
        "#     - compression (float) is an approximate length ratio of summary and original text.\n",
        "#     \"\"\"\n",
        "#     if n_words:\n",
        "#         text = '[{}] '.format(n_words) + text\n",
        "#     elif compression:\n",
        "#         text = '[{0:.1g}] '.format(compression) + text\n",
        "#     x = tokenizer(text, return_tensors='pt', padding=True).to(model.device)\n",
        "#     with torch.inference_mode():\n",
        "#         out = model.generate(\n",
        "#             **x, \n",
        "#             max_length=max_length, num_beams=num_beams, \n",
        "#             do_sample=do_sample, repetition_penalty=repetition_penalty, \n",
        "#             **kwargs\n",
        "#         )\n",
        "#     return tokenizer.decode(out[0], skip_special_tokens=True)"
      ],
      "metadata": {
        "id": "OqrDTV1FZEcH"
      },
      "execution_count": null,
      "outputs": []
    }
  ]
}
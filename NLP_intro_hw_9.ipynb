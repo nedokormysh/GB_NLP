{
  "nbformat": 4,
  "nbformat_minor": 0,
  "metadata": {
    "colab": {
      "provenance": [],
      "authorship_tag": "ABX9TyPvxWWrmgOtm6r9HgBFmpl5",
      "include_colab_link": true
    },
    "kernelspec": {
      "name": "python3",
      "display_name": "Python 3"
    },
    "language_info": {
      "name": "python"
    },
    "accelerator": "GPU",
    "gpuClass": "standard"
  },
  "cells": [
    {
      "cell_type": "markdown",
      "metadata": {
        "id": "view-in-github",
        "colab_type": "text"
      },
      "source": [
        "<a href=\"https://colab.research.google.com/github/nedokormysh/GB_NLP_intro/blob/lesson9/NLP_intro_hw_9.ipynb\" target=\"_parent\"><img src=\"https://colab.research.google.com/assets/colab-badge.svg\" alt=\"Open In Colab\"/></a>"
      ]
    },
    {
      "cell_type": "markdown",
      "source": [
        "Тема “Генерация текстов (языковое моделирование)”\n",
        "\n",
        "Разобраться с моделькой генерации текста, собрать самим или взять датасет с вебинара и обучить генератор текстов\n"
      ],
      "metadata": {
        "id": "fqzfI5lg6eID"
      }
    },
    {
      "cell_type": "code",
      "source": [
        "# Импорт библиотек\n",
        "\n",
        "import tensorflow as tf\n",
        "\n",
        "import numpy as np\n",
        "import os\n",
        "import time"
      ],
      "metadata": {
        "id": "THh9WtI-6nMJ"
      },
      "execution_count": 1,
      "outputs": []
    },
    {
      "cell_type": "code",
      "source": [
        "# Загрузка текста\n",
        "\n",
        "file = \"evgenyi_onegin.txt\"\n",
        "\n",
        "text = open(file, 'rb').read().decode(encoding='utf-8')\n",
        "\n",
        "print('Длина текста: {} символов'.format(len(text)))"
      ],
      "metadata": {
        "colab": {
          "base_uri": "https://localhost:8080/"
        },
        "id": "4DtYZuQm-59-",
        "outputId": "19b1e09b-cde1-4493-b021-81217b67dc93"
      },
      "execution_count": 5,
      "outputs": [
        {
          "output_type": "stream",
          "name": "stdout",
          "text": [
            "Длина текста: 286984 символов\n"
          ]
        }
      ]
    },
    {
      "cell_type": "code",
      "source": [
        "print(text[:800])"
      ],
      "metadata": {
        "colab": {
          "base_uri": "https://localhost:8080/"
        },
        "id": "cS5SW6hqAOSZ",
        "outputId": "0a6a9595-c7f4-4c7e-8619-8983e4ed00a8"
      },
      "execution_count": 6,
      "outputs": [
        {
          "output_type": "stream",
          "name": "stdout",
          "text": [
            "Александр Сергеевич Пушкин\n",
            "\n",
            "                                Евгений Онегин\n",
            "                                Роман в стихах\n",
            "\n",
            "                        Не мысля гордый свет забавить,\n",
            "                        Вниманье дружбы возлюбя,\n",
            "                        Хотел бы я тебе представить\n",
            "                        Залог достойнее тебя,\n",
            "                        Достойнее души прекрасной,\n",
            "                        Святой исполненной мечты,\n",
            "                        Поэзии живой и ясной,\n",
            "                        Высоких дум и простоты;\n",
            "                        Но так и быть - рукой пристрастной\n",
            "                        Прими собранье пестрых глав,\n",
            "                        Полусмешных, полупечальных,\n",
            "                        Простонародных, идеальных,\n",
            "                        Небрежный плод моих забав,\n",
            "              \n"
          ]
        }
      ]
    },
    {
      "cell_type": "code",
      "source": [
        "# Количество уникальных символов, которые будут составлять наш словарь\n",
        "\n",
        "vocab = sorted(set(text))\n",
        "print(f'{len(vocab)} уникальных символов в тексте.')"
      ],
      "metadata": {
        "colab": {
          "base_uri": "https://localhost:8080/"
        },
        "id": "V57gb1J_AkDs",
        "outputId": "a935f3c5-17b2-4bc4-c1b9-799165695df7"
      },
      "execution_count": 8,
      "outputs": [
        {
          "output_type": "stream",
          "name": "stdout",
          "text": [
            "131 уникальных символов в тексте.\n"
          ]
        }
      ]
    },
    {
      "cell_type": "code",
      "source": [
        "# Создаем сопоставление между символами и их индексами \n",
        "# Преобразовываем текст из символьного в индексный вид\n",
        "\n",
        "char2idx = {u:i for i, u in enumerate(vocab)}\n",
        "idx2char = np.array(vocab)\n",
        "\n",
        "text_as_int = np.array([char2idx[c] for c in text])\n",
        "\n",
        "len(text_as_int), len(text)"
      ],
      "metadata": {
        "colab": {
          "base_uri": "https://localhost:8080/"
        },
        "id": "NFd29XAxAvrr",
        "outputId": "48b9801e-d25c-4acf-9a94-b3ff774ca00e"
      },
      "execution_count": 9,
      "outputs": [
        {
          "output_type": "execute_result",
          "data": {
            "text/plain": [
              "(286984, 286984)"
            ]
          },
          "metadata": {},
          "execution_count": 9
        }
      ]
    },
    {
      "cell_type": "code",
      "source": [
        "text_as_int[:100]"
      ],
      "metadata": {
        "colab": {
          "base_uri": "https://localhost:8080/"
        },
        "id": "sDtsnqujERSO",
        "outputId": "e29e2dae-06ad-4f08-9185-47af5290ba72"
      },
      "execution_count": 10,
      "outputs": [
        {
          "output_type": "execute_result",
          "data": {
            "text/plain": [
              "array([ 71, 110, 104, 109, 116,  99, 112, 103, 115,   1,  87, 104, 115,\n",
              "       102, 104, 104, 101, 107, 122,   1,  85, 118, 123, 109, 107, 112,\n",
              "         0,   0,   1,   1,   1,   1,   1,   1,   1,   1,   1,   1,   1,\n",
              "         1,   1,   1,   1,   1,   1,   1,   1,   1,   1,   1,   1,   1,\n",
              "         1,   1,   1,   1,   1,   1,   1,   1,  76, 101, 102, 104, 112,\n",
              "       107, 108,   1,  84, 112, 104, 102, 107, 112,   0,   1,   1,   1,\n",
              "         1,   1,   1,   1,   1,   1,   1,   1,   1,   1,   1,   1,   1,\n",
              "         1,   1,   1,   1,   1,   1,   1,   1,   1])"
            ]
          },
          "metadata": {},
          "execution_count": 10
        }
      ]
    },
    {
      "cell_type": "code",
      "source": [
        "seq_length = 100\n",
        "examples_per_epoch = len(text)//(seq_length + 1)\n",
        "\n",
        "char_dataset = tf.data.Dataset.from_tensor_slices(text_as_int)\n",
        "\n",
        "sequences = char_dataset.batch(seq_length + 1, drop_remainder=True)"
      ],
      "metadata": {
        "id": "oWrYmX6uIYCa"
      },
      "execution_count": 11,
      "outputs": []
    },
    {
      "cell_type": "code",
      "source": [
        "# Сформируем датасет, выделяя предсказываемый текст\n",
        "\n",
        "def split_input_target(chunk):\n",
        "    input_text = chunk[:-1]\n",
        "    target_text = chunk[1:]\n",
        "    return input_text, target_text\n",
        "\n",
        "dataset = sequences.map(split_input_target)"
      ],
      "metadata": {
        "id": "zZiqGeRiMmwe"
      },
      "execution_count": 12,
      "outputs": []
    },
    {
      "cell_type": "code",
      "source": [
        "# Перемешаем датасет и разделим его на батчи\n",
        "BATCH_SIZE = 64\n",
        "\n",
        "EPOCHS = 20\n",
        "\n",
        "BUFFER_SIZE = 10000\n",
        "\n",
        "dataset = dataset.shuffle(BUFFER_SIZE).batch(BATCH_SIZE, drop_remainder=True)"
      ],
      "metadata": {
        "id": "PYD1325WMs18"
      },
      "execution_count": 13,
      "outputs": []
    },
    {
      "cell_type": "code",
      "source": [
        "# Length of the vocabulary in chars\n",
        "vocab_size = len(vocab)\n",
        "\n",
        "# The embedding dimension\n",
        "embedding_dim = 256\n",
        "\n",
        "# Number of RNN units\n",
        "rnn_units = 1024"
      ],
      "metadata": {
        "id": "wmD7POajNrUC"
      },
      "execution_count": 14,
      "outputs": []
    },
    {
      "cell_type": "code",
      "source": [
        "def build_model(vocab_size, embedding_dim, rnn_units, batch_size):\n",
        "    model = tf.keras.Sequential([\n",
        "        tf.keras.layers.Embedding(vocab_size, embedding_dim,\n",
        "                                  batch_input_shape=[batch_size, None]),\n",
        "                                 \n",
        "        tf.keras.layers.LSTM(rnn_units // 2,\n",
        "                            return_sequences=True,\n",
        "                            stateful=True,\n",
        "                            recurrent_initializer='glorot_uniform'),\n",
        "\n",
        "        tf.keras.layers.LSTM(rnn_units,\n",
        "                            return_sequences=True,\n",
        "                            stateful=True,\n",
        "                            recurrent_initializer='glorot_uniform'),\n",
        "\n",
        "         tf.keras.layers.LSTM(rnn_units * 2,\n",
        "                            return_sequences=True,\n",
        "                            stateful=True,\n",
        "                            recurrent_initializer='glorot_uniform'),\n",
        "        \n",
        "        tf.keras.layers.LSTM(rnn_units,\n",
        "                            return_sequences=True,\n",
        "                            stateful=True,\n",
        "                            recurrent_initializer='glorot_uniform'),\n",
        "                                   \n",
        "        tf.keras.layers.Dense(vocab_size)\n",
        "    ])\n",
        "    return model"
      ],
      "metadata": {
        "id": "rpSNCi7VN016"
      },
      "execution_count": 15,
      "outputs": []
    },
    {
      "cell_type": "code",
      "source": [
        "model = build_model(\n",
        "    vocab_size=len(vocab),\n",
        "    embedding_dim=embedding_dim,\n",
        "    rnn_units=rnn_units,\n",
        "    batch_size=BATCH_SIZE)\n",
        "\n",
        "model.summary()"
      ],
      "metadata": {
        "colab": {
          "base_uri": "https://localhost:8080/"
        },
        "id": "O7MZZ34MN4lk",
        "outputId": "50b0b172-6ccf-45ff-b4c9-847fbef12e48"
      },
      "execution_count": 16,
      "outputs": [
        {
          "output_type": "stream",
          "name": "stdout",
          "text": [
            "Model: \"sequential\"\n",
            "_________________________________________________________________\n",
            " Layer (type)                Output Shape              Param #   \n",
            "=================================================================\n",
            " embedding (Embedding)       (64, None, 256)           33536     \n",
            "                                                                 \n",
            " lstm (LSTM)                 (64, None, 512)           1574912   \n",
            "                                                                 \n",
            " lstm_1 (LSTM)               (64, None, 1024)          6295552   \n",
            "                                                                 \n",
            " lstm_2 (LSTM)               (64, None, 2048)          25174016  \n",
            "                                                                 \n",
            " lstm_3 (LSTM)               (64, None, 1024)          12587008  \n",
            "                                                                 \n",
            " dense (Dense)               (64, None, 131)           134275    \n",
            "                                                                 \n",
            "=================================================================\n",
            "Total params: 45,799,299\n",
            "Trainable params: 45,799,299\n",
            "Non-trainable params: 0\n",
            "_________________________________________________________________\n"
          ]
        }
      ]
    },
    {
      "cell_type": "code",
      "source": [
        "def loss(labels, logits):\n",
        "    return tf.keras.losses.sparse_categorical_crossentropy(labels, logits, from_logits=True)\n",
        "    \n",
        "model.compile(optimizer='adam', loss=loss)"
      ],
      "metadata": {
        "id": "5lBLZuywOEVF"
      },
      "execution_count": 17,
      "outputs": []
    },
    {
      "cell_type": "code",
      "source": [
        "!rm -rf ./training_checkpoints\n",
        "!mkdir ./training_checkpoints\n",
        "!ls ./training_checkpoints"
      ],
      "metadata": {
        "id": "n6AS0eMTOIhb"
      },
      "execution_count": 18,
      "outputs": []
    },
    {
      "cell_type": "code",
      "source": [
        "checkpoint_dir = './training_checkpoints'\n",
        "checkpoint_prefix = os.path.join(checkpoint_dir, \"ckpt_{epoch}\")\n",
        "\n",
        "checkpoint_callback = tf.keras.callbacks.ModelCheckpoint(\n",
        "    filepath=checkpoint_prefix,\n",
        "    save_freq=88*5,\n",
        "    save_weights_only=True)"
      ],
      "metadata": {
        "id": "BErHBZSpOLkY"
      },
      "execution_count": 19,
      "outputs": []
    },
    {
      "cell_type": "code",
      "source": [
        "history = model.fit(dataset, epochs=EPOCHS, callbacks=[checkpoint_callback])"
      ],
      "metadata": {
        "colab": {
          "base_uri": "https://localhost:8080/"
        },
        "id": "-Kc0j09cOOZZ",
        "outputId": "225faad5-19e6-4d2d-a28e-60edcd38bf10"
      },
      "execution_count": 20,
      "outputs": [
        {
          "output_type": "stream",
          "name": "stdout",
          "text": [
            "Epoch 1/20\n",
            "44/44 [==============================] - 40s 593ms/step - loss: 2.3526\n",
            "Epoch 2/20\n",
            "44/44 [==============================] - 27s 594ms/step - loss: 1.7820\n",
            "Epoch 3/20\n",
            "44/44 [==============================] - 25s 563ms/step - loss: 1.6052\n",
            "Epoch 4/20\n",
            "44/44 [==============================] - 25s 563ms/step - loss: 1.4888\n",
            "Epoch 5/20\n",
            "44/44 [==============================] - 26s 578ms/step - loss: 1.4296\n",
            "Epoch 6/20\n",
            "44/44 [==============================] - 26s 588ms/step - loss: 1.3842\n",
            "Epoch 7/20\n",
            "44/44 [==============================] - 26s 577ms/step - loss: 1.3467\n",
            "Epoch 8/20\n",
            "44/44 [==============================] - 25s 569ms/step - loss: 1.3231\n",
            "Epoch 9/20\n",
            "44/44 [==============================] - 27s 600ms/step - loss: 1.3263\n",
            "Epoch 10/20\n",
            "44/44 [==============================] - 28s 630ms/step - loss: 1.2923\n",
            "Epoch 11/20\n",
            "44/44 [==============================] - 27s 591ms/step - loss: 1.2629\n",
            "Epoch 12/20\n",
            "44/44 [==============================] - 26s 574ms/step - loss: 1.2244\n",
            "Epoch 13/20\n",
            "44/44 [==============================] - 27s 593ms/step - loss: 1.2269\n",
            "Epoch 14/20\n",
            "44/44 [==============================] - 26s 588ms/step - loss: 1.1817\n",
            "Epoch 15/20\n",
            "44/44 [==============================] - 26s 569ms/step - loss: 1.1429\n",
            "Epoch 16/20\n",
            "44/44 [==============================] - 27s 602ms/step - loss: 1.1310\n",
            "Epoch 17/20\n",
            "44/44 [==============================] - 27s 575ms/step - loss: 1.0949\n",
            "Epoch 18/20\n",
            "44/44 [==============================] - 26s 571ms/step - loss: 1.0605\n",
            "Epoch 19/20\n",
            "44/44 [==============================] - 26s 579ms/step - loss: 1.0161\n",
            "Epoch 20/20\n",
            "44/44 [==============================] - 28s 627ms/step - loss: 0.9709\n"
          ]
        }
      ]
    },
    {
      "cell_type": "code",
      "source": [
        "tf.train.latest_checkpoint(checkpoint_dir)"
      ],
      "metadata": {
        "colab": {
          "base_uri": "https://localhost:8080/",
          "height": 35
        },
        "id": "ykHyzvH6Qt6x",
        "outputId": "6583d7a8-3c75-4ca8-8e25-29032ec04210"
      },
      "execution_count": 21,
      "outputs": [
        {
          "output_type": "execute_result",
          "data": {
            "text/plain": [
              "'./training_checkpoints/ckpt_20'"
            ],
            "application/vnd.google.colaboratory.intrinsic+json": {
              "type": "string"
            }
          },
          "metadata": {},
          "execution_count": 21
        }
      ]
    },
    {
      "cell_type": "code",
      "source": [
        "model = build_model(vocab_size, embedding_dim, rnn_units, batch_size=1)\n",
        "model.load_weights(tf.train.latest_checkpoint(checkpoint_dir))\n",
        "model.build(tf.TensorShape([1, None]))"
      ],
      "metadata": {
        "id": "-QHHG-udQXk_"
      },
      "execution_count": 22,
      "outputs": []
    },
    {
      "cell_type": "code",
      "source": [
        "model.summary()"
      ],
      "metadata": {
        "colab": {
          "base_uri": "https://localhost:8080/"
        },
        "id": "RO5TZ2ZHQcoM",
        "outputId": "68fa19ec-f790-4734-ed39-0828b9e93e76"
      },
      "execution_count": 23,
      "outputs": [
        {
          "output_type": "stream",
          "name": "stdout",
          "text": [
            "Model: \"sequential_1\"\n",
            "_________________________________________________________________\n",
            " Layer (type)                Output Shape              Param #   \n",
            "=================================================================\n",
            " embedding_1 (Embedding)     (1, None, 256)            33536     \n",
            "                                                                 \n",
            " lstm_4 (LSTM)               (1, None, 512)            1574912   \n",
            "                                                                 \n",
            " lstm_5 (LSTM)               (1, None, 1024)           6295552   \n",
            "                                                                 \n",
            " lstm_6 (LSTM)               (1, None, 2048)           25174016  \n",
            "                                                                 \n",
            " lstm_7 (LSTM)               (1, None, 1024)           12587008  \n",
            "                                                                 \n",
            " dense_1 (Dense)             (1, None, 131)            134275    \n",
            "                                                                 \n",
            "=================================================================\n",
            "Total params: 45,799,299\n",
            "Trainable params: 45,799,299\n",
            "Non-trainable params: 0\n",
            "_________________________________________________________________\n"
          ]
        }
      ]
    },
    {
      "cell_type": "markdown",
      "source": [
        "Предсказание текста."
      ],
      "metadata": {
        "id": "11isKRFxQg9F"
      }
    },
    {
      "cell_type": "code",
      "source": [
        "def generate_text(model, start_string, temperature=1):\n",
        "    # Количество генерируемых символов\n",
        "    num_generate = 700\n",
        "\n",
        "    input_eval = [char2idx[s] for s in start_string]\n",
        "    input_eval = tf.expand_dims(input_eval, 0)\n",
        "\n",
        "    text_generated = []\n",
        "\n",
        "    temperature = 0.8\n",
        "\n",
        "    model.reset_states()\n",
        "    for i in range(num_generate):\n",
        "        predictions = model(input_eval)\n",
        "        predictions = tf.squeeze(predictions, 0)\n",
        "        predictions = predictions / temperature\n",
        "        predicted_id = tf.random.categorical(predictions, num_samples=1)[-1, 0].numpy()\n",
        "\n",
        "        input_eval = tf.expand_dims([predicted_id], 0)\n",
        "\n",
        "        text_generated.append(idx2char[predicted_id])\n",
        "\n",
        "    return (start_string + ''.join(text_generated))"
      ],
      "metadata": {
        "id": "XDgugzz6QgCM"
      },
      "execution_count": 24,
      "outputs": []
    },
    {
      "cell_type": "code",
      "source": [
        "start_string = \"Так думал молодой повеса,\""
      ],
      "metadata": {
        "id": "D1xOj88PT6_Y"
      },
      "execution_count": 25,
      "outputs": []
    },
    {
      "cell_type": "code",
      "source": [
        "text_ = generate_text(model, start_string=start_string)\n",
        "print('temperature = 1')\n",
        "print(text_)"
      ],
      "metadata": {
        "colab": {
          "base_uri": "https://localhost:8080/"
        },
        "id": "G3l2_k2JTRD2",
        "outputId": "727f1f43-d6f3-4fd7-f578-85d010891b97"
      },
      "execution_count": 26,
      "outputs": [
        {
          "output_type": "stream",
          "name": "stdout",
          "text": [
            "temperature = 1\n",
            "Так думал молодой повеса,OщГщ9::ФъiщICЬэ4Ф{ОПN3Э:ШШ4Wэ)0r?ПWХ?Пъэ)4Бэ!)В64?W3HэNRэ:3ЖddэHЭWээW?Q3З0А?Р-э)Э0EDWЭ3эHГэ?Э:8BКщ!Вo24ИRICЧDэFW?э4бYыФwЦщ0щBfDш05lФ?И?D9GБ:0ЖщОщ9?шъщ:W44эыФQFWъCFyFУyQOА4O97Ф?0CC?шщъщFъъhД0ъГэщ??iПCшэщГQfw4BfWWWWшшъчk}Хщ8ШWB1B?Гщ4эщ7У4щ?FWDэщDpэ?3QДщ!)7Лщ0ъ:WэвC?:W6CГW'kщfщQЦ-4ШCCШР16ЮщРFЭFЦъщщI:V?7MхРЭБlAщожит\n",
            "                        Когда всех горо видает\n",
            "                        (       И модной сердца подратался\n",
            "                        Как тем ки она нимогужится. Угужал никой, все пора\n",
            "                        Возок ее честлою сель                                         Удирить. Ленского вистатьу\n",
            "                                                                             XX\n",
            "\n",
            "           \n"
          ]
        }
      ]
    },
    {
      "cell_type": "code",
      "source": [
        "text_ = generate_text(model, start_string=start_string, temperature=2)\n",
        "print('temperature = 2')\n",
        "print(text_)"
      ],
      "metadata": {
        "colab": {
          "base_uri": "https://localhost:8080/"
        },
        "id": "yZg6hrwrUHMr",
        "outputId": "bd63bc6f-bf79-4869-a934-5ca0d92ac9e0"
      },
      "execution_count": 27,
      "outputs": [
        {
          "output_type": "stream",
          "name": "stdout",
          "text": [
            "temperature = 2\n",
            "Так думал молодой повеса,NcэщъRQэ4)RэWэCCRЧЖы{Qэ4?Рэш5VCШщщRqWЭЦъ0FuВ?N-FШ?MQБ-4щЬЮyQDшщ40G?БbДРщщэщщЯщk4CДДlGэшЛ?Ш5k9W!4э?ЖъФq34Ю3RээЬ?fFЦъщ0Ф?cэ?ЦъщщФЮШH49эоэYzWkШш(щщщcp4fДГыDFIРщРэ4шщЮ?э?0nЮщ?Ч10{эRWщ?QyCГWФBTРЦЦCэщщщщnpВ?37B?э4DRшh0D3?TyoР0щщщW?0O7WДщQWQmБ2?D3Q44F;э?Шщэшш9щщщщW4-FWФ?DDFW4TШ?qРrФWГГ7щ9?Жщk43щ?0ЛWwq0ЯCF34WfА3юQ2yЖCШщ!ЭFПHyyэчшД5q9ш?эРыHOuЦWШщiщGWW4499ФшwWъQ7pш:RG{TfЗщщщщ?0ЦЭшФ5ЦRБ9П4EC?uъpЭ4?э?э?eы4FR40iFMъэF2щлiЬFВdDn4DFэ4ГWВБщCЦ0FuэЛЦcэH40шШWы0Fэ?ksШъЗЭщъшщъэ:zfY7AДщC4АHFКfQiэээBN4щ:YrWЬfkDfШщыщWЭ8П?W4ПЭЦФщQnЛщWщW4оэыэщшщhщ24ШФ'Ф4I9?Э3DF2э94э?fээРщощя?yГБщ7B9mWЖ?6эщ?QКрQ4ЦC{ВэkшФ?Ч)7щщэЗcЦCPыйъ9ОGЛэWы?щ7?Cэ?А43\")WHicfF0Eэ3vyЖГэiэБ4YщШ:?Ж0ЛэщCЗX(C3?fВ?3ш?QyЖBЛYГRэQщй2щРВщ7Р-4УР?3ЯWщ?ЭB?WWРщщ9?CШ\n"
          ]
        }
      ]
    },
    {
      "cell_type": "code",
      "source": [
        "text_ = generate_text(model, start_string=start_string, temperature=0.1)\n",
        "print('temperature = 0.1')\n",
        "print(text_)"
      ],
      "metadata": {
        "colab": {
          "base_uri": "https://localhost:8080/"
        },
        "id": "9PrTf00hUYZ6",
        "outputId": "f85dd175-5ea7-4d2a-e366-a6b7ecf84de8"
      },
      "execution_count": 28,
      "outputs": [
        {
          "output_type": "stream",
          "name": "stdout",
          "text": [
            "temperature = 0.1\n",
            "Так думал молодой повеса,ъc!эQэ?ВБэПщЕшЯщЛ??{Cs424Dэ8BЦСDkY4Mtesuete eeedete ielile аt          Не верил: глибость небраньем,\n",
            "                                                XXII\n",
            "\n",
            "                        На окращьцами замонит.\n",
            "                        Млегой моей за еслобном мен,\n",
            "                                                              XIII\n",
            "\n",
            "                                                           Я не видел нолься не зремя,\n",
            "                        Да своей гости; где моиен\n",
            "                        Унычала ворожили был\n",
            "                        И делького сердце гостим\n",
            "                        Ни поскной жерое тутой\n",
            "                        Тловомит новый каким сны,\n",
            "                                                 \n"
          ]
        }
      ]
    },
    {
      "cell_type": "markdown",
      "source": [
        "Лучше всего получился текст при 0.1"
      ],
      "metadata": {
        "id": "uRzWIGvBUzal"
      }
    }
  ]
}
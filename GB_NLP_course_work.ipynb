{
  "cells": [
    {
      "cell_type": "markdown",
      "metadata": {
        "id": "view-in-github",
        "colab_type": "text"
      },
      "source": [
        "<a href=\"https://colab.research.google.com/github/nedokormysh/GB_NLP_intro/blob/course_work/GB_NLP_course_work.ipynb\" target=\"_parent\"><img src=\"https://colab.research.google.com/assets/colab-badge.svg\" alt=\"Open In Colab\"/></a>"
      ]
    },
    {
      "cell_type": "markdown",
      "metadata": {
        "id": "JHvyICj2NmoA"
      },
      "source": [
        "# Курсовой проект «Введение в обработку естественного языка»\n",
        "**Задание:**\n",
        "\n",
        "Реализовать чат-бот на базе API Telegram.\n",
        "\n",
        "**Интенты:**\n",
        "\n",
        "* болталка (разговорная часть): используются вопросы-ответы mail.ru,\n",
        "* суммаризация: используется предобученная модель - csebuetnlp/mT5_multilingual_XLSum\n",
        "* товарный запрос: используются данные с youla.ru.\n",
        "* прогноз погоды\n",
        "\n",
        "Технологии:\n",
        "\n",
        "ML: CountVectorizer, TfidfVectorizer, FastText, MorphAnalyzer, dialogflow, LogisticRegression, annoy, API: telegram\n",
        "\n",
        "**Алгоритм работы чат-бота:**\n",
        "\n",
        "При поступлении текстового запроса модель должна определить интент к которому относится запрос:\n",
        "\n",
        "болталка (вопрос/ответ)\n",
        "суммаризация\n",
        "поиск продукта\n",
        "\n",
        "\n",
        "В разговорном режиме, используя TfidfVectorizer, FastText, annoy определяется наиболее подходящий ответ.\n",
        "\n",
        "Если интент \"cуммаризация\", то используется предобученная модель csebuetnlp/mT5_multilingual_XLSum. Суммаризация должна начинаться с ключевого слова \"Summarization:\".\n",
        "\n",
        "Если запрос товарный, используя TfidfVectorizer, FastText, annoy (быстрый поиск ближайших соседей). Определяются 3 наиболее похожих продукта, которые возвращяются в чат.\n",
        "\n",
        "Если в разговорном и продуктовом запросе найденный ответ слабо соответствует запросу, чат-бот должен ответить \"Не понимаю запрос. Сформулируйте запрос ещё раз.\".``\n",
        "\n",
        "В прогнозе погоды выводим погоду в городе. Если не может понять, то выводится сообщение, что не может определить погодные условия."
      ]
    },
    {
      "cell_type": "markdown",
      "metadata": {
        "id": "4i-App6jN9XH"
      },
      "source": [
        "# 1. Установка библиотек и подготовка данных."
      ]
    },
    {
      "cell_type": "code",
      "execution_count": null,
      "metadata": {
        "colab": {
          "base_uri": "https://localhost:8080/"
        },
        "id": "hv6YYChWTUns",
        "outputId": "fb8d42aa-1d47-44ca-99ca-f0e1b29407c5"
      },
      "outputs": [
        {
          "name": "stdout",
          "output_type": "stream",
          "text": [
            "Proceed (Y/n)? н\n",
            "Your response ('н') was not one of the expected responses: y, n, \n",
            "Proceed (Y/n)? y\n",
            "Looking in indexes: https://pypi.org/simple, https://us-python.pkg.dev/colab-wheels/public/simple/\n",
            "Collecting python-telegram-bot==13.13\n",
            "  Using cached python_telegram_bot-13.13-py3-none-any.whl (513 kB)\n",
            "Requirement already satisfied: cachetools==4.2.2 in /usr/local/lib/python3.9/dist-packages (from python-telegram-bot==13.13) (4.2.2)\n",
            "Requirement already satisfied: tornado>=6.1 in /usr/local/lib/python3.9/dist-packages (from python-telegram-bot==13.13) (6.2)\n",
            "Requirement already satisfied: pytz>=2018.6 in /usr/local/lib/python3.9/dist-packages (from python-telegram-bot==13.13) (2022.7.1)\n",
            "Requirement already satisfied: certifi in /usr/local/lib/python3.9/dist-packages (from python-telegram-bot==13.13) (2022.12.7)\n",
            "Requirement already satisfied: APScheduler==3.6.3 in /usr/local/lib/python3.9/dist-packages (from python-telegram-bot==13.13) (3.6.3)\n",
            "Requirement already satisfied: tzlocal>=1.2 in /usr/local/lib/python3.9/dist-packages (from APScheduler==3.6.3->python-telegram-bot==13.13) (4.3)\n",
            "Requirement already satisfied: six>=1.4.0 in /usr/local/lib/python3.9/dist-packages (from APScheduler==3.6.3->python-telegram-bot==13.13) (1.16.0)\n",
            "Requirement already satisfied: setuptools>=0.7 in /usr/local/lib/python3.9/dist-packages (from APScheduler==3.6.3->python-telegram-bot==13.13) (67.6.1)\n",
            "Requirement already satisfied: pytz-deprecation-shim in /usr/local/lib/python3.9/dist-packages (from tzlocal>=1.2->APScheduler==3.6.3->python-telegram-bot==13.13) (0.1.0.post0)\n",
            "Requirement already satisfied: tzdata in /usr/local/lib/python3.9/dist-packages (from pytz-deprecation-shim->tzlocal>=1.2->APScheduler==3.6.3->python-telegram-bot==13.13) (2023.3)\n",
            "Installing collected packages: python-telegram-bot\n",
            "Successfully installed python-telegram-bot-13.13\n"
          ]
        }
      ],
      "source": [
        "!pip install telegram --q\n",
        "!pip install python-telegram-bot --q\n",
        "!pip install pymorphy2 --q\n",
        "!pip install stop_words --q\n",
        "!pip install annoy --q\n",
        "!pip install transformers sentencepiece --q\n",
        "\n",
        "!pip3 uninstall python-telegram-bot -q\n",
        "\n",
        "# !pip3 install python-telegram-bot\n",
        "!pip install python-telegram-bot==13.13"
      ]
    },
    {
      "cell_type": "code",
      "execution_count": null,
      "metadata": {
        "id": "lJOZ1bBhTrDs"
      },
      "outputs": [],
      "source": [
        "import os\n",
        "from telegram.ext import Updater, CommandHandler, MessageHandler, filters, CallbackContext\n",
        "import string\n",
        "from pymorphy2 import MorphAnalyzer\n",
        "from stop_words import get_stop_words\n",
        "import annoy\n",
        "from gensim.models import Word2Vec, FastText\n",
        "import pickle\n",
        "import numpy as np\n",
        "from tqdm import tqdm_notebook\n",
        "import pandas as pd\n",
        "import re"
      ]
    },
    {
      "cell_type": "code",
      "execution_count": null,
      "metadata": {
        "colab": {
          "base_uri": "https://localhost:8080/"
        },
        "id": "OTPFG3GnODLy",
        "outputId": "a47b5391-c6bf-4974-a2c0-3896391d70c7"
      },
      "outputs": [
        {
          "name": "stdout",
          "output_type": "stream",
          "text": [
            "Drive already mounted at /content/drive; to attempt to forcibly remount, call drive.mount(\"/content/drive\", force_remount=True).\n"
          ]
        }
      ],
      "source": [
        "from google.colab import drive\n",
        "drive.mount('/content/drive')"
      ]
    },
    {
      "cell_type": "markdown",
      "metadata": {
        "id": "YZET4DKxTvho"
      },
      "source": [
        "# Обучение языковой модели"
      ]
    },
    {
      "cell_type": "code",
      "execution_count": null,
      "metadata": {
        "colab": {
          "base_uri": "https://localhost:8080/",
          "height": 123,
          "referenced_widgets": [
            "d36f794d538b4258a3a5a7af55acfaf5",
            "b245b8013abb49e99dfa969968afd574",
            "418634a6c4e84d8aad2f66e401fefb1e",
            "4fa8c34f322b4f4dbd068ab840190c4f",
            "c9778b9acd9e4ba3ad0be1062260d464",
            "2fe3263c3d02491e8aa75850b865c79b",
            "1ef0636d5e474d4dbc4b8f58a894616c",
            "c471d687e31d432f81f483fc7d861dcd",
            "bd796f75dbc64cc1838228fb436e767a",
            "284ca23f7beb4c1497fb0fa5915c3393",
            "424ac89eb9c943ee8fa64fb71d5dae7e"
          ]
        },
        "id": "oxef_yvHT2p5",
        "outputId": "35a73806-992f-45a3-ce30-d59835e202c9"
      },
      "outputs": [
        {
          "name": "stderr",
          "output_type": "stream",
          "text": [
            "<timed exec>:13: TqdmDeprecationWarning: This function will be removed in tqdm==5.0.0\n",
            "Please use `tqdm.notebook.tqdm` instead of `tqdm.tqdm_notebook`\n"
          ]
        },
        {
          "data": {
            "application/vnd.jupyter.widget-view+json": {
              "model_id": "d36f794d538b4258a3a5a7af55acfaf5",
              "version_major": 2,
              "version_minor": 0
            },
            "text/plain": [
              "0it [00:00, ?it/s]"
            ]
          },
          "metadata": {},
          "output_type": "display_data"
        },
        {
          "name": "stdout",
          "output_type": "stream",
          "text": [
            "CPU times: user 1.27 s, sys: 209 ms, total: 1.48 s\n",
            "Wall time: 1.79 s\n"
          ]
        }
      ],
      "source": [
        "%%time\n",
        "\n",
        "assert True\n",
        "\n",
        "#Small preprocess of the answers\n",
        "\n",
        "question = None\n",
        "written = False\n",
        "\n",
        "c=0\n",
        "i=0\n",
        "# Идем по всем записям, берем строку как вопрос и после знака \"---\" находим ответ\n",
        "with open(\"prepared_answers.txt\", \"w\") as fout:\n",
        "    with open(\"/content/drive/MyDrive/GB_NLP_intro_course_work/train_.txt\", \"r\") as fin:\n",
        "        for line in tqdm_notebook(fin):\n",
        "            if line.startswith(\"---\"):\n",
        "                written = False\n",
        "                continue\n",
        "            if not written and question is not None:\n",
        "                fout.write(question.replace(\"\\t\", \" \").strip() + \"\\t\" + line.replace(\"\\t\", \" \"))\n",
        "                written = True\n",
        "                question = None\n",
        "                continue\n",
        "            if not written:\n",
        "                question = line.strip()\n",
        "                continue\n",
        "            i+=1"
      ]
    },
    {
      "cell_type": "markdown",
      "metadata": {
        "id": "nDwga09TR6G6"
      },
      "source": [
        "## Предобработка текста."
      ]
    },
    {
      "cell_type": "code",
      "execution_count": null,
      "metadata": {
        "id": "IFdl5OO5Unij"
      },
      "outputs": [],
      "source": [
        "def preprocess_txt(line):\n",
        "    spls = \"\".join(i for i in line.strip() if i not in exclude).split()\n",
        "    spls = [morpher.parse(i.lower())[0].normal_form for i in spls]\n",
        "    spls = [i for i in spls if i not in sw and i != \"\"]\n",
        "    return spls"
      ]
    },
    {
      "cell_type": "code",
      "execution_count": null,
      "metadata": {
        "id": "4_1uKRgZUsfr"
      },
      "outputs": [],
      "source": [
        "morpher = MorphAnalyzer()\n",
        "sw = set(get_stop_words(\"ru\"))\n",
        "exclude = set(string.punctuation)"
      ]
    },
    {
      "cell_type": "markdown",
      "metadata": {
        "id": "zUAwN_1WRSZr"
      },
      "source": [
        "Изначально файл train_ был получен из датасета https://www.kaggle.com/datasets/atleast6characterss/otvetmailru-solved-questions . Датасет большой по объёму, поэтому была вырезана часть текста."
      ]
    },
    {
      "cell_type": "code",
      "execution_count": null,
      "metadata": {
        "colab": {
          "base_uri": "https://localhost:8080/",
          "height": 104,
          "referenced_widgets": [
            "2da6855bc9c64d328c467c29fcf89049",
            "76fb8d35293c45988e91e5bb07489a0b",
            "49850d7deb6940d2bc0b940f87a0a5f5",
            "edd68a843217473c8412a8930ca88cb9",
            "382bf83da2d44f0c959beb92ef7f0197",
            "053368cda19c496196095e95fdda0dd5",
            "172237410b934c53abc8d5ec4b29b42d",
            "13954a356a2b4731928d9531b35aa7a3",
            "5b6e22015dc34d988f1dace3d8ef8b3d",
            "a061fefa25c24e7890234f7a1e50f967",
            "97a4817ef75541929ab12160ee669519"
          ]
        },
        "id": "1SRhSDKJUvI6",
        "outputId": "dab034a0-addc-484b-bca5-06ff77461115"
      },
      "outputs": [
        {
          "name": "stderr",
          "output_type": "stream",
          "text": [
            "<ipython-input-7-d1511a9a2194>:9: TqdmDeprecationWarning: This function will be removed in tqdm==5.0.0\n",
            "Please use `tqdm.notebook.tqdm` instead of `tqdm.tqdm_notebook`\n",
            "  for line in tqdm_notebook(fin):\n"
          ]
        },
        {
          "data": {
            "application/vnd.jupyter.widget-view+json": {
              "model_id": "2da6855bc9c64d328c467c29fcf89049",
              "version_major": 2,
              "version_minor": 0
            },
            "text/plain": [
              "0it [00:00, ?it/s]"
            ]
          },
          "metadata": {},
          "output_type": "display_data"
        }
      ],
      "source": [
        "assert True\n",
        "\n",
        "# Preprocess for models fitting\n",
        "\n",
        "sentences = []\n",
        "c = 0\n",
        "\n",
        "with open(\"/content/drive/MyDrive/GB_NLP_intro_course_work/train_.txt\", \"r\") as fin:\n",
        "    for line in tqdm_notebook(fin):\n",
        "        spls = preprocess_txt(line)\n",
        "        sentences.append(spls)\n",
        "        c += 1\n",
        "        if c > 500000:\n",
        "            break"
      ]
    },
    {
      "cell_type": "code",
      "execution_count": null,
      "metadata": {
        "id": "id_lykffVW8V"
      },
      "outputs": [],
      "source": [
        "sentences = [i for i in sentences if len(i) > 2]\n",
        "\n",
        "# записываем сериализованный объект в файл\n",
        "with open(f'sentences.pkl', 'wb') as f:\n",
        "    pickle.dump(sentences, f)"
      ]
    },
    {
      "cell_type": "code",
      "execution_count": null,
      "metadata": {
        "id": "DeVIbhLwV-Bj"
      },
      "outputs": [],
      "source": [
        "# загружаем объект из файла\n",
        "with open(f'sentences.pkl', 'rb') as f:\n",
        "    sentences = pickle.load(f)"
      ]
    },
    {
      "cell_type": "code",
      "execution_count": null,
      "metadata": {
        "colab": {
          "base_uri": "https://localhost:8080/"
        },
        "id": "wctJaFf9dpOK",
        "outputId": "b8e7a700-09cc-4af3-994b-904709780052"
      },
      "outputs": [
        {
          "data": {
            "text/plain": [
              "['отдача', 'замучить', 'ущипнуть']"
            ]
          },
          "execution_count": 10,
          "metadata": {},
          "output_type": "execute_result"
        }
      ],
      "source": [
        "sentences[0]"
      ]
    },
    {
      "cell_type": "markdown",
      "metadata": {
        "id": "cNxIsdaYj5Ib"
      },
      "source": [
        "## Обучение tf-idf"
      ]
    },
    {
      "cell_type": "code",
      "execution_count": null,
      "metadata": {
        "id": "OR6Y62h-j83-"
      },
      "outputs": [],
      "source": [
        "# Функция-пустышка, для возможности передать в TfidfVectorizer список уже готовых токенов, а не текст\n",
        "def simple_tokenizer(x):\n",
        "    return x"
      ]
    },
    {
      "cell_type": "code",
      "execution_count": null,
      "metadata": {
        "id": "wrYb9DBhj_lV"
      },
      "outputs": [],
      "source": [
        "from sklearn.feature_extraction.text import TfidfVectorizer"
      ]
    },
    {
      "cell_type": "code",
      "execution_count": null,
      "metadata": {
        "colab": {
          "base_uri": "https://localhost:8080/"
        },
        "id": "0IF1Z7g1kBM6",
        "outputId": "f72b99d1-6d74-4890-fdbc-86ee7b573c72"
      },
      "outputs": [
        {
          "name": "stderr",
          "output_type": "stream",
          "text": [
            "/usr/local/lib/python3.9/dist-packages/sklearn/feature_extraction/text.py:528: UserWarning: The parameter 'token_pattern' will not be used since 'tokenizer' is not None'\n",
            "  warnings.warn(\n"
          ]
        },
        {
          "name": "stdout",
          "output_type": "stream",
          "text": [
            "CPU times: user 3.78 s, sys: 111 ms, total: 3.89 s\n",
            "Wall time: 3.94 s\n"
          ]
        }
      ],
      "source": [
        "%%time\n",
        "tfidf_vectorizer = TfidfVectorizer(tokenizer=simple_tokenizer, lowercase=False, min_df=2)\n",
        "tfidf_vectorizer.fit_transform(sentences)\n",
        "\n",
        "idfs = {v[0]: v[1] for v in zip(tfidf_vectorizer.vocabulary_, tfidf_vectorizer.idf_)}\n",
        "midf = np.mean(tfidf_vectorizer.idf_)\n",
        "\n",
        "with open(f'idfs.pkl', 'wb') as f:\n",
        "    pickle.dump(idfs, f)  # записывает сериализованный объект в файл.\n",
        "    \n",
        "with open(f'midf.pkl', 'wb') as f:\n",
        "    pickle.dump(midf, f)  # записывает сериализованный объект в файл."
      ]
    },
    {
      "cell_type": "code",
      "execution_count": null,
      "metadata": {
        "id": "dbX2ZaYWkDNB"
      },
      "outputs": [],
      "source": [
        "with open(f'idfs.pkl', 'rb') as f:\n",
        "    idfs = pickle.load(f)  # загружает объект из файла"
      ]
    },
    {
      "cell_type": "code",
      "execution_count": null,
      "metadata": {
        "id": "qTR7-9n_kEtJ"
      },
      "outputs": [],
      "source": [
        "with open(f'midf.pkl', 'rb') as f:\n",
        "    midf = pickle.load(f)  # загружает объект из файла"
      ]
    },
    {
      "cell_type": "markdown",
      "metadata": {
        "id": "va_-LWmXkGce"
      },
      "source": [
        "## Обучение модели FastText"
      ]
    },
    {
      "cell_type": "code",
      "execution_count": null,
      "metadata": {
        "id": "jI7Z3LzPkIzp"
      },
      "outputs": [],
      "source": [
        "SIZE_EMB = 200  # Размер эмбеддинга"
      ]
    },
    {
      "cell_type": "code",
      "execution_count": null,
      "metadata": {
        "id": "RXQq9wP1kKXB"
      },
      "outputs": [],
      "source": [
        "def embed_txt(txt, idfs, model, midf):\n",
        "    n_ft = 0\n",
        "    vector_ft = np.zeros(SIZE_EMB)\n",
        "    for word in txt:\n",
        "        if word in model:\n",
        "            vector_ft += model[word] * idfs.get(word, midf)\n",
        "            n_ft += idfs.get(word, midf)\n",
        "    if n_ft > 0:\n",
        "        vector_ft = vector_ft / n_ft\n",
        "        \n",
        "    return vector_ft"
      ]
    },
    {
      "cell_type": "code",
      "execution_count": null,
      "metadata": {
        "colab": {
          "base_uri": "https://localhost:8080/"
        },
        "id": "yF-ZoAb7kMZ1",
        "outputId": "5a4499bd-2560-4486-cb05-b84d86539b45"
      },
      "outputs": [
        {
          "name": "stdout",
          "output_type": "stream",
          "text": [
            "CPU times: user 6min 43s, sys: 7.27 s, total: 6min 51s\n",
            "Wall time: 4min 29s\n"
          ]
        }
      ],
      "source": [
        "%%time\n",
        "modelFT = FastText(sentences=sentences, vector_size=SIZE_EMB, min_count=2, window=5, workers=8, seed=34)\n",
        "modelFT.save(\"ft_model\")"
      ]
    },
    {
      "cell_type": "code",
      "execution_count": null,
      "metadata": {
        "colab": {
          "base_uri": "https://localhost:8080/",
          "height": 123,
          "referenced_widgets": [
            "b9c9884772eb40a8bbd27cdd56075b7f",
            "6fa81c6632cf4345aae7a26f2ca756cc",
            "da1055d0d40e45919232d96ee905dfc0",
            "ef5afe4b22584888b7b5c3b31075ba7a",
            "d3e3d8603af94224bb0dac9bdcb9de62",
            "b0f5eaa48ca548ba9d6bddfca7329e9d",
            "d98adc5bd201426cb2385d6783030419",
            "2e0a56e4114e4b90a45e6969a8f3dd58",
            "7098ce49f4fc4549b0220269e0991271",
            "fba61377a61f42858f55183772c6964a",
            "9ac2cea06ec44273acb320accd4502b2"
          ]
        },
        "id": "SCMJJ1SjkP-R",
        "outputId": "7c9fa05b-9e23-499b-de45-5b1351040650"
      },
      "outputs": [
        {
          "name": "stderr",
          "output_type": "stream",
          "text": [
            "<timed exec>:8: TqdmDeprecationWarning: This function will be removed in tqdm==5.0.0\n",
            "Please use `tqdm.notebook.tqdm` instead of `tqdm.tqdm_notebook`\n"
          ]
        },
        {
          "data": {
            "application/vnd.jupyter.widget-view+json": {
              "model_id": "b9c9884772eb40a8bbd27cdd56075b7f",
              "version_major": 2,
              "version_minor": 0
            },
            "text/plain": [
              "0it [00:00, ?it/s]"
            ]
          },
          "metadata": {},
          "output_type": "display_data"
        },
        {
          "name": "stdout",
          "output_type": "stream",
          "text": [
            "CPU times: user 11min 1s, sys: 10.2 s, total: 11min 11s\n",
            "Wall time: 11min 25s\n"
          ]
        }
      ],
      "source": [
        "%%time\n",
        "\n",
        "modelFT = FastText.load(\"ft_model\")\n",
        "ft_index = annoy.AnnoyIndex(SIZE_EMB ,'angular')\n",
        "\n",
        "index_map = {}\n",
        "counter = 0\n",
        "\n",
        "with open(\"prepared_answers.txt\", \"r\") as f:\n",
        "    for line in tqdm_notebook(f):\n",
        "        n_ft = 0\n",
        "        spls = line.split(\"\\t\")\n",
        "        index_map[counter] = re.sub(r'\\<[^>]*\\>', '', spls[1]) # Удалим html-тэги\n",
        "        question = preprocess_txt(spls[0])\n",
        "        vector_ft = np.zeros(SIZE_EMB)\n",
        "\n",
        "        for word in question:\n",
        "            # print(word)\n",
        "            if word in modelFT.wv:\n",
        "                vector_ft += modelFT.wv[word]\n",
        "                # n_ft += 1\n",
        "                n_ft += idfs.get(word, midf)\n",
        "\n",
        "        if n_ft > 0:\n",
        "            vector_ft = vector_ft / n_ft\n",
        "        ft_index.add_item(counter, vector_ft)\n",
        "            \n",
        "        counter += 1\n",
        "        if counter > 1000000:\n",
        "            break\n",
        "\n",
        "ft_index.build(10)\n",
        "ft_index.save('ft_index.ann')\n",
        "\n",
        "# Сохраняем индекс вопросов из разговорной части\n",
        "with open(f'index_map.pkl', 'wb') as f:   # Save it for future use\n",
        "    pickle.dump(index_map, f)  # записывает сериализованный объект в файл"
      ]
    },
    {
      "cell_type": "code",
      "execution_count": null,
      "metadata": {
        "colab": {
          "base_uri": "https://localhost:8080/"
        },
        "id": "ZZThZcWzkX5p",
        "outputId": "1124d84a-9e96-47f3-c491-a27b5d3351b5"
      },
      "outputs": [
        {
          "data": {
            "text/plain": [
              "True"
            ]
          },
          "execution_count": 20,
          "metadata": {},
          "output_type": "execute_result"
        }
      ],
      "source": [
        "ft_index = annoy.AnnoyIndex(SIZE_EMB, 'angular')  # Создание Annoy индекса\n",
        "ft_index.load(f'ft_index.ann')  # загружает "
      ]
    },
    {
      "cell_type": "code",
      "execution_count": null,
      "metadata": {
        "id": "zqu3JtZ1cr4j"
      },
      "outputs": [],
      "source": [
        "with open(f'index_map.pkl', 'rb') as f:\n",
        "    index_map = pickle.load(f)  # загружает объект из файла"
      ]
    },
    {
      "cell_type": "code",
      "execution_count": null,
      "metadata": {
        "colab": {
          "base_uri": "https://localhost:8080/"
        },
        "id": "_Uf_tvs0cuty",
        "outputId": "b8e5dd96-7402-418f-9033-2ec7aaf45d0f"
      },
      "outputs": [
        {
          "data": {
            "text/plain": [
              "[396, 1518]"
            ]
          },
          "execution_count": 22,
          "metadata": {},
          "output_type": "execute_result"
        }
      ],
      "source": [
        "ft_index.get_nns_by_vector(np.zeros(SIZE_EMB), 2)"
      ]
    },
    {
      "cell_type": "markdown",
      "metadata": {
        "id": "xzV5BYSxbTif"
      },
      "source": [
        "# Обучение продуктовых моделей"
      ]
    },
    {
      "cell_type": "code",
      "execution_count": null,
      "metadata": {
        "colab": {
          "base_uri": "https://localhost:8080/",
          "height": 374
        },
        "id": "4wyZkYRvbW10",
        "outputId": "58dc8ef5-a617-4644-ccf3-d2af99a08a77"
      },
      "outputs": [
        {
          "name": "stdout",
          "output_type": "stream",
          "text": [
            "CPU times: user 2min 55s, sys: 501 ms, total: 2min 55s\n",
            "Wall time: 2min 57s\n"
          ]
        },
        {
          "data": {
            "text/html": [
              "\n",
              "  <div id=\"df-fb18b489-2ec0-4808-b527-9151e62e25ca\">\n",
              "    <div class=\"colab-df-container\">\n",
              "      <div>\n",
              "<style scoped>\n",
              "    .dataframe tbody tr th:only-of-type {\n",
              "        vertical-align: middle;\n",
              "    }\n",
              "\n",
              "    .dataframe tbody tr th {\n",
              "        vertical-align: top;\n",
              "    }\n",
              "\n",
              "    .dataframe thead th {\n",
              "        text-align: right;\n",
              "    }\n",
              "</style>\n",
              "<table border=\"1\" class=\"dataframe\">\n",
              "  <thead>\n",
              "    <tr style=\"text-align: right;\">\n",
              "      <th></th>\n",
              "      <th>title</th>\n",
              "      <th>descrirption</th>\n",
              "      <th>product_id</th>\n",
              "      <th>category_id</th>\n",
              "      <th>subcategory_id</th>\n",
              "      <th>properties</th>\n",
              "      <th>image_links</th>\n",
              "      <th>text</th>\n",
              "    </tr>\n",
              "  </thead>\n",
              "  <tbody>\n",
              "    <tr>\n",
              "      <th>0</th>\n",
              "      <td>Юбка детская ORBY</td>\n",
              "      <td>Новая, не носили ни разу. В реале красивей чем...</td>\n",
              "      <td>58e3cfe6132ca50e053f5f82</td>\n",
              "      <td>22.0</td>\n",
              "      <td>2211</td>\n",
              "      <td>{'detskie_razmer_rost': '81-86 (1,5 года)'}</td>\n",
              "      <td>http://cache3.youla.io/files/images/360_360/58...</td>\n",
              "      <td>[юбка, детский, orby, новый, носить, реал, кра...</td>\n",
              "    </tr>\n",
              "    <tr>\n",
              "      <th>1</th>\n",
              "      <td>Ботильоны</td>\n",
              "      <td>Новые,привезены из Чехии ,указан размер 40,но ...</td>\n",
              "      <td>5667531b2b7f8d127d838c34</td>\n",
              "      <td>9.0</td>\n",
              "      <td>902</td>\n",
              "      <td>{'zhenskaya_odezhda_tzvet': 'Зеленый', 'visota...</td>\n",
              "      <td>http://cache3.youla.io/files/images/360_360/5b...</td>\n",
              "      <td>[ботильон, новыепривезти, чехия, указать, разм...</td>\n",
              "    </tr>\n",
              "    <tr>\n",
              "      <th>2</th>\n",
              "      <td>Брюки</td>\n",
              "      <td>Размер 40-42. Брюки почти новые - не знаю как ...</td>\n",
              "      <td>59534826aaab284cba337e06</td>\n",
              "      <td>9.0</td>\n",
              "      <td>906</td>\n",
              "      <td>{'zhenskaya_odezhda_dzhinsy_bryuki_tip': 'Брюк...</td>\n",
              "      <td>http://cache3.youla.io/files/images/360_360/59...</td>\n",
              "      <td>[брюки, размер, 4042, брюки, новый, знать, мер...</td>\n",
              "    </tr>\n",
              "    <tr>\n",
              "      <th>3</th>\n",
              "      <td>Продам детские шапки</td>\n",
              "      <td>Продам шапки,кажда 200р.Розовая и белая проданны.</td>\n",
              "      <td>57de544096ad842e26de8027</td>\n",
              "      <td>22.0</td>\n",
              "      <td>2217</td>\n",
              "      <td>{'detskie_pol': 'Девочкам', 'detskaya_odezhda_...</td>\n",
              "      <td>http://cache3.youla.io/files/images/360_360/57...</td>\n",
              "      <td>[продать, детский, шапка, продать, шапкикажда,...</td>\n",
              "    </tr>\n",
              "    <tr>\n",
              "      <th>4</th>\n",
              "      <td>Блузка</td>\n",
              "      <td>Темно-синяя, 42 размер,состояние отличное,как ...</td>\n",
              "      <td>5ad4d2626c86cb168d212022</td>\n",
              "      <td>9.0</td>\n",
              "      <td>907</td>\n",
              "      <td>{'zhenskaya_odezhda_tzvet': 'Синий', 'zhenskay...</td>\n",
              "      <td>http://cache3.youla.io/files/images/360_360/5a...</td>\n",
              "      <td>[блузка, темносиний, 42, размерсостояние, отли...</td>\n",
              "    </tr>\n",
              "  </tbody>\n",
              "</table>\n",
              "</div>\n",
              "      <button class=\"colab-df-convert\" onclick=\"convertToInteractive('df-fb18b489-2ec0-4808-b527-9151e62e25ca')\"\n",
              "              title=\"Convert this dataframe to an interactive table.\"\n",
              "              style=\"display:none;\">\n",
              "        \n",
              "  <svg xmlns=\"http://www.w3.org/2000/svg\" height=\"24px\"viewBox=\"0 0 24 24\"\n",
              "       width=\"24px\">\n",
              "    <path d=\"M0 0h24v24H0V0z\" fill=\"none\"/>\n",
              "    <path d=\"M18.56 5.44l.94 2.06.94-2.06 2.06-.94-2.06-.94-.94-2.06-.94 2.06-2.06.94zm-11 1L8.5 8.5l.94-2.06 2.06-.94-2.06-.94L8.5 2.5l-.94 2.06-2.06.94zm10 10l.94 2.06.94-2.06 2.06-.94-2.06-.94-.94-2.06-.94 2.06-2.06.94z\"/><path d=\"M17.41 7.96l-1.37-1.37c-.4-.4-.92-.59-1.43-.59-.52 0-1.04.2-1.43.59L10.3 9.45l-7.72 7.72c-.78.78-.78 2.05 0 2.83L4 21.41c.39.39.9.59 1.41.59.51 0 1.02-.2 1.41-.59l7.78-7.78 2.81-2.81c.8-.78.8-2.07 0-2.86zM5.41 20L4 18.59l7.72-7.72 1.47 1.35L5.41 20z\"/>\n",
              "  </svg>\n",
              "      </button>\n",
              "      \n",
              "  <style>\n",
              "    .colab-df-container {\n",
              "      display:flex;\n",
              "      flex-wrap:wrap;\n",
              "      gap: 12px;\n",
              "    }\n",
              "\n",
              "    .colab-df-convert {\n",
              "      background-color: #E8F0FE;\n",
              "      border: none;\n",
              "      border-radius: 50%;\n",
              "      cursor: pointer;\n",
              "      display: none;\n",
              "      fill: #1967D2;\n",
              "      height: 32px;\n",
              "      padding: 0 0 0 0;\n",
              "      width: 32px;\n",
              "    }\n",
              "\n",
              "    .colab-df-convert:hover {\n",
              "      background-color: #E2EBFA;\n",
              "      box-shadow: 0px 1px 2px rgba(60, 64, 67, 0.3), 0px 1px 3px 1px rgba(60, 64, 67, 0.15);\n",
              "      fill: #174EA6;\n",
              "    }\n",
              "\n",
              "    [theme=dark] .colab-df-convert {\n",
              "      background-color: #3B4455;\n",
              "      fill: #D2E3FC;\n",
              "    }\n",
              "\n",
              "    [theme=dark] .colab-df-convert:hover {\n",
              "      background-color: #434B5C;\n",
              "      box-shadow: 0px 1px 3px 1px rgba(0, 0, 0, 0.15);\n",
              "      filter: drop-shadow(0px 1px 2px rgba(0, 0, 0, 0.3));\n",
              "      fill: #FFFFFF;\n",
              "    }\n",
              "  </style>\n",
              "\n",
              "      <script>\n",
              "        const buttonEl =\n",
              "          document.querySelector('#df-fb18b489-2ec0-4808-b527-9151e62e25ca button.colab-df-convert');\n",
              "        buttonEl.style.display =\n",
              "          google.colab.kernel.accessAllowed ? 'block' : 'none';\n",
              "\n",
              "        async function convertToInteractive(key) {\n",
              "          const element = document.querySelector('#df-fb18b489-2ec0-4808-b527-9151e62e25ca');\n",
              "          const dataTable =\n",
              "            await google.colab.kernel.invokeFunction('convertToInteractive',\n",
              "                                                     [key], {});\n",
              "          if (!dataTable) return;\n",
              "\n",
              "          const docLinkHtml = 'Like what you see? Visit the ' +\n",
              "            '<a target=\"_blank\" href=https://colab.research.google.com/notebooks/data_table.ipynb>data table notebook</a>'\n",
              "            + ' to learn more about interactive tables.';\n",
              "          element.innerHTML = '';\n",
              "          dataTable['output_type'] = 'display_data';\n",
              "          await google.colab.output.renderOutput(dataTable, element);\n",
              "          const docLink = document.createElement('div');\n",
              "          docLink.innerHTML = docLinkHtml;\n",
              "          element.appendChild(docLink);\n",
              "        }\n",
              "      </script>\n",
              "    </div>\n",
              "  </div>\n",
              "  "
            ],
            "text/plain": [
              "                  title                                       descrirption  \\\n",
              "0     Юбка детская ORBY  Новая, не носили ни разу. В реале красивей чем...   \n",
              "1             Ботильоны  Новые,привезены из Чехии ,указан размер 40,но ...   \n",
              "2                 Брюки  Размер 40-42. Брюки почти новые - не знаю как ...   \n",
              "3  Продам детские шапки  Продам шапки,кажда 200р.Розовая и белая проданны.   \n",
              "4                Блузка  Темно-синяя, 42 размер,состояние отличное,как ...   \n",
              "\n",
              "                 product_id  category_id subcategory_id  \\\n",
              "0  58e3cfe6132ca50e053f5f82         22.0           2211   \n",
              "1  5667531b2b7f8d127d838c34          9.0            902   \n",
              "2  59534826aaab284cba337e06          9.0            906   \n",
              "3  57de544096ad842e26de8027         22.0           2217   \n",
              "4  5ad4d2626c86cb168d212022          9.0            907   \n",
              "\n",
              "                                          properties  \\\n",
              "0        {'detskie_razmer_rost': '81-86 (1,5 года)'}   \n",
              "1  {'zhenskaya_odezhda_tzvet': 'Зеленый', 'visota...   \n",
              "2  {'zhenskaya_odezhda_dzhinsy_bryuki_tip': 'Брюк...   \n",
              "3  {'detskie_pol': 'Девочкам', 'detskaya_odezhda_...   \n",
              "4  {'zhenskaya_odezhda_tzvet': 'Синий', 'zhenskay...   \n",
              "\n",
              "                                         image_links  \\\n",
              "0  http://cache3.youla.io/files/images/360_360/58...   \n",
              "1  http://cache3.youla.io/files/images/360_360/5b...   \n",
              "2  http://cache3.youla.io/files/images/360_360/59...   \n",
              "3  http://cache3.youla.io/files/images/360_360/57...   \n",
              "4  http://cache3.youla.io/files/images/360_360/5a...   \n",
              "\n",
              "                                                text  \n",
              "0  [юбка, детский, orby, новый, носить, реал, кра...  \n",
              "1  [ботильон, новыепривезти, чехия, указать, разм...  \n",
              "2  [брюки, размер, 4042, брюки, новый, знать, мер...  \n",
              "3  [продать, детский, шапка, продать, шапкикажда,...  \n",
              "4  [блузка, темносиний, 42, размерсостояние, отли...  "
            ]
          },
          "execution_count": 23,
          "metadata": {},
          "output_type": "execute_result"
        }
      ],
      "source": [
        "%%time\n",
        "\n",
        "shop_data = pd.read_csv(\"/content/drive/MyDrive/GB_NLP_intro_course_work/ProductsDataset.csv\")\n",
        "shop_data['text'] = shop_data['title'] + \" \" + shop_data[\"descrirption\"]\n",
        "shop_data['text'] = shop_data['text'].apply(lambda x: preprocess_txt(str(x)))\n",
        "shop_data.head()"
      ]
    },
    {
      "cell_type": "code",
      "execution_count": null,
      "metadata": {
        "id": "Jb6wKoCJbtZ2"
      },
      "outputs": [],
      "source": [
        "from sklearn.feature_extraction.text import CountVectorizer\n",
        "from sklearn.linear_model import LogisticRegression\n",
        "\n",
        "vectorizer = CountVectorizer(ngram_range=(1, 2))"
      ]
    },
    {
      "cell_type": "code",
      "execution_count": null,
      "metadata": {
        "colab": {
          "base_uri": "https://localhost:8080/"
        },
        "id": "JsCQPU9Zbv0k",
        "outputId": "f35fe29e-a5f7-40fd-f279-f02db751e0c1"
      },
      "outputs": [
        {
          "name": "stdout",
          "output_type": "stream",
          "text": [
            "CPU times: user 4min 2s, sys: 577 ms, total: 4min 2s\n",
            "Wall time: 4min 5s\n"
          ]
        }
      ],
      "source": [
        "%%time\n",
        "\n",
        "idxs = set(np.random.randint(0, len(index_map), len(shop_data)))\n",
        "negative_texts = [\" \".join(preprocess_txt(index_map[i])) for i in idxs]\n",
        "positive_texts = [\" \".join(val) for val in shop_data['text'].values]"
      ]
    },
    {
      "cell_type": "code",
      "execution_count": null,
      "metadata": {
        "id": "MXqfnYzFbzOl"
      },
      "outputs": [],
      "source": [
        "dataset = negative_texts + positive_texts\n",
        "labels = np.zeros(len(dataset))\n",
        "labels[len(negative_texts):] = np.ones(len(positive_texts))"
      ]
    },
    {
      "cell_type": "code",
      "execution_count": null,
      "metadata": {
        "id": "mNodODKob0z1"
      },
      "outputs": [],
      "source": [
        "from sklearn.model_selection import train_test_split\n",
        "\n",
        "X_train, X_test, y_train, y_test = train_test_split(dataset, labels, test_size=0.2, stratify=labels,\n",
        "                                                    random_state=7575)"
      ]
    },
    {
      "cell_type": "markdown",
      "metadata": {
        "id": "mETTHduvb7l5"
      },
      "source": [
        "Сконвертируем набор текстов в токены при помощи CountVectorizer "
      ]
    },
    {
      "cell_type": "code",
      "execution_count": null,
      "metadata": {
        "colab": {
          "base_uri": "https://localhost:8080/"
        },
        "id": "9OnL-rVTb4_C",
        "outputId": "e864ffa8-6414-4624-9707-f2eece6a53ee"
      },
      "outputs": [
        {
          "name": "stdout",
          "output_type": "stream",
          "text": [
            "CPU times: user 21 s, sys: 10.2 s, total: 31.3 s\n",
            "Wall time: 24.4 s\n"
          ]
        }
      ],
      "source": [
        "%%time\n",
        "\n",
        "x_train_vec = vectorizer.fit_transform(X_train)\n",
        "x_test_vec = vectorizer.transform(X_test)\n",
        "\n",
        "lr = LogisticRegression().fit(x_train_vec, y_train)"
      ]
    },
    {
      "cell_type": "code",
      "execution_count": null,
      "metadata": {
        "id": "I7ZxxgJxcGet"
      },
      "outputs": [],
      "source": [
        "with open(f'vectorizer.pkl', 'wb') as f:\n",
        "    pickle.dump(vectorizer, f)"
      ]
    },
    {
      "cell_type": "code",
      "execution_count": null,
      "metadata": {
        "id": "fXQEE3mtcH4k"
      },
      "outputs": [],
      "source": [
        "vectorizer = CountVectorizer(ngram_range=(1, 2))\n",
        "with open(f'vectorizer.pkl', 'rb') as f:\n",
        "    vectorizer = pickle.load(f)"
      ]
    },
    {
      "cell_type": "code",
      "execution_count": null,
      "metadata": {
        "id": "daA9nG6IcJml"
      },
      "outputs": [],
      "source": [
        "with open(f'lr.pkl', 'wb') as f:\n",
        "    pickle.dump(lr, f)"
      ]
    },
    {
      "cell_type": "code",
      "execution_count": null,
      "metadata": {
        "id": "o2hx2UhUcLBk"
      },
      "outputs": [],
      "source": [
        "lr = LogisticRegression()\n",
        "with open(f'lr.pkl', 'rb') as f:\n",
        "    lr = pickle.load(f)"
      ]
    },
    {
      "cell_type": "code",
      "execution_count": null,
      "metadata": {
        "colab": {
          "base_uri": "https://localhost:8080/"
        },
        "id": "xHXFZ3t0cM_u",
        "outputId": "dce185af-fc11-4c41-ce54-8e437844d40f"
      },
      "outputs": [
        {
          "data": {
            "text/plain": [
              "0.9819663472421338"
            ]
          },
          "execution_count": 33,
          "metadata": {},
          "output_type": "execute_result"
        }
      ],
      "source": [
        "from sklearn.metrics import accuracy_score\n",
        "\n",
        "accuracy_score(y_true=y_test, y_pred=lr.predict(x_test_vec))"
      ]
    },
    {
      "cell_type": "code",
      "execution_count": null,
      "metadata": {
        "id": "fVKmZAY0cOhW"
      },
      "outputs": [],
      "source": [
        "from sklearn.feature_extraction.text import TfidfVectorizer\n",
        "\n",
        "tfidf_vect = TfidfVectorizer().fit(X_train)"
      ]
    },
    {
      "cell_type": "markdown",
      "metadata": {
        "id": "RGk4pyQHcQVF"
      },
      "source": [
        "## Обучение модели TF-IDF"
      ]
    },
    {
      "cell_type": "code",
      "execution_count": null,
      "metadata": {
        "colab": {
          "base_uri": "https://localhost:8080/"
        },
        "id": "3H6IFIhOcTSn",
        "outputId": "18310d35-c53c-4e55-e0fb-5d0b7050897e"
      },
      "outputs": [
        {
          "name": "stdout",
          "output_type": "stream",
          "text": [
            "CPU times: user 1.23 s, sys: 15 ms, total: 1.25 s\n",
            "Wall time: 1.26 s\n"
          ]
        }
      ],
      "source": [
        "%%time\n",
        "tfidf_vect_prod = TfidfVectorizer(lowercase=False, min_df=2)\n",
        "tfidf_vect_prod.fit(X_train)\n",
        "\n",
        "idfs_prod = {v[0]: v[1] for v in zip(tfidf_vect_prod.vocabulary_, tfidf_vect_prod.idf_)}\n",
        "midf_prod = np.mean(tfidf_vect_prod.idf_)\n",
        "\n",
        "with open(f'idfs_prod.pkl', 'wb') as f:\n",
        "    pickle.dump(idfs_prod, f)\n",
        "with open(f'midf_prod.pkl', 'wb') as f:\n",
        "    pickle.dump(midf_prod, f)"
      ]
    },
    {
      "cell_type": "code",
      "execution_count": null,
      "metadata": {
        "id": "fZKJ_Cvmeqt8"
      },
      "outputs": [],
      "source": [
        "with open(f'idfs_prod.pkl', 'rb') as f:\n",
        "    idfs_prod = pickle.load(f)"
      ]
    },
    {
      "cell_type": "code",
      "execution_count": null,
      "metadata": {
        "id": "Eog4c_pGeske"
      },
      "outputs": [],
      "source": [
        "with open(f'midf_prod.pkl', 'rb') as f:\n",
        "    midf_prod = pickle.load(f)"
      ]
    },
    {
      "cell_type": "markdown",
      "metadata": {
        "id": "Y1kfk2qgeuhO"
      },
      "source": [
        "## Annoy. Алгоритм приблизительного поиска"
      ]
    },
    {
      "cell_type": "code",
      "execution_count": null,
      "metadata": {
        "colab": {
          "background_save": true,
          "base_uri": "https://localhost:8080/",
          "height": 86,
          "referenced_widgets": [
            "6fc83f3b1b074a47a35d521276057d17",
            "cdafc3a1af9e449a9d00f45864d6c352",
            "7c841e5c24d84e68bda1c31afc472a9c",
            "9419e86e33e84c02881deb784743f2e0",
            "c75ef068f1604074b6cdd89206e2659a",
            "a34eeff39de143e687e14bc4cb8fc908",
            "aeacc13899894fcfac2490687e700aa1",
            "35dcf9a2e58846609d4da42194ae18b8",
            "f7a01f2648844e418c67361ef3acee95",
            "edd779719e9f45fba9b46e15c8509fed",
            "23ecd07ee57743f691e2423d35b67e82"
          ]
        },
        "id": "GvjPVINSeyDD",
        "outputId": "57e18074-22eb-48fa-e031-c6f5dd77530e"
      },
      "outputs": [
        {
          "name": "stderr",
          "output_type": "stream",
          "text": [
            "<timed exec>:5: TqdmDeprecationWarning: This function will be removed in tqdm==5.0.0\n",
            "Please use `tqdm.notebook.tqdm` instead of `tqdm.tqdm_notebook`\n"
          ]
        },
        {
          "data": {
            "application/vnd.jupyter.widget-view+json": {
              "model_id": "6fc83f3b1b074a47a35d521276057d17",
              "version_major": 2,
              "version_minor": 0
            },
            "text/plain": [
              "  0%|          | 0/35548 [00:00<?, ?it/s]"
            ]
          },
          "metadata": {},
          "output_type": "display_data"
        },
        {
          "name": "stdout",
          "output_type": "stream",
          "text": [
            "CPU times: user 22.6 s, sys: 1.47 s, total: 24 s\n",
            "Wall time: 21.6 s\n"
          ]
        }
      ],
      "source": [
        "%%time\n",
        "ft_index_shop = annoy.AnnoyIndex(SIZE_EMB ,'angular')\n",
        "index_map_shop = {}\n",
        "counter = 0\n",
        "\n",
        "for i in tqdm_notebook(range(len(shop_data))):\n",
        "    n_ft = 0\n",
        "    index_map_shop[counter] = (shop_data.loc[i, \"title\"], shop_data.loc[i, \"image_links\"])\n",
        "    vector_ft = np.zeros(SIZE_EMB)\n",
        "    for word in shop_data.loc[i, \"text\"]:\n",
        "        if word in modelFT.wv:\n",
        "            vector_ft += modelFT.wv[word] * idfs.get(word, midf_prod)\n",
        "            n_ft += idfs.get(word, midf_prod)\n",
        "    if n_ft > 0:\n",
        "        vector_ft = vector_ft / n_ft\n",
        "    ft_index_shop.add_item(counter, vector_ft)\n",
        "    counter += 1\n",
        "\n",
        "ft_index_shop.build(50)\n",
        "# ft_index_shop.save('shop.ann')\n",
        "ft_index_shop.save(f'ft_index_shop')\n",
        "\n",
        "with open(f'index_map_shop.pkl', 'wb') as f:\n",
        "    pickle.dump(index_map_shop, f)  # записывает сериализованный объект в файл."
      ]
    },
    {
      "cell_type": "code",
      "execution_count": null,
      "metadata": {
        "colab": {
          "background_save": true
        },
        "id": "1bjz9ZSfiT2W",
        "outputId": "36a868c1-609e-420c-b08b-1646548c1bea"
      },
      "outputs": [
        {
          "data": {
            "text/plain": [
              "True"
            ]
          },
          "execution_count": 39,
          "metadata": {},
          "output_type": "execute_result"
        }
      ],
      "source": [
        "ft_index_shop = annoy.AnnoyIndex(SIZE_EMB, 'angular')\n",
        "ft_index_shop.load(f'ft_index_shop') "
      ]
    },
    {
      "cell_type": "code",
      "execution_count": null,
      "metadata": {
        "colab": {
          "background_save": true
        },
        "id": "1dnPXhGTiVTR"
      },
      "outputs": [],
      "source": [
        "with open(f'index_map_shop.pkl', 'rb') as f:\n",
        "    index_map_shop = pickle.load(f)"
      ]
    },
    {
      "cell_type": "markdown",
      "source": [
        "# Погода"
      ],
      "metadata": {
        "id": "Q7ZkF5PykbWZ"
      }
    },
    {
      "cell_type": "code",
      "source": [
        "# Список ключевых слов для определения запроса о погоде\n",
        "\n",
        "list_for_weather = ['погода','солнечно', 'осадка', 'дождь', 'снег', 'ливень', 'зонт']"
      ],
      "metadata": {
        "id": "3YAYr82Ykatz"
      },
      "execution_count": 43,
      "outputs": []
    },
    {
      "cell_type": "code",
      "source": [
        "# Проверка есть ли совпадение со списком ключевых слов\n",
        "\n",
        "def is_in_list(text, list):\n",
        "    for word in text:\n",
        "        if word in list:\n",
        "            return True\n",
        "            break\n",
        "    return False"
      ],
      "metadata": {
        "id": "GzV33isxmOGs"
      },
      "execution_count": 44,
      "outputs": []
    },
    {
      "cell_type": "code",
      "source": [
        "# Запрос прогноза погоды\n",
        "\n",
        "import requests \n",
        "import json\n",
        "\n",
        "key = '18d7be471bb6490092f155952231804' # Токен https://www.weatherapi.com/\n",
        "\n",
        "def get_weather(city):\n",
        "    url = f'http://api.weatherapi.com/v1/current.json?key={key}&q={city}&lang=ru'\n",
        "    requests.get(url)\n",
        "    response = requests.get(url)\n",
        "    json_data = json.loads(response.text)\n",
        "\n",
        "    city = json_data['location']['name']\n",
        "    time = json_data['location']['localtime'].split(' ')[1]\n",
        "    temp = json_data['current']['temp_c']\n",
        "    temp_fl = json_data['current']['feelslike_c']\n",
        "    condition = json_data['current']['condition']['text']\n",
        "    wind = json_data['current']['wind_mph']\n",
        "    uv = json_data['current']['uv']\n",
        "\n",
        "    msg = f'В городе {city} сейчас {time}. О погоде: {condition}, температура {temp} градусов, ощущается как {temp_fl} градусов, скорость ветра {wind} м/ч, уровень ультрафиолета {uv}'\n",
        "\n",
        "    return msg"
      ],
      "metadata": {
        "id": "g1mRA9pamQjr"
      },
      "execution_count": 45,
      "outputs": []
    },
    {
      "cell_type": "code",
      "source": [
        "# Определение города\n",
        "\n",
        "import spacy\n",
        "\n",
        "nlp = spacy.load(\"ru_core_news_sm\")\n",
        "\n",
        "def location_recognition(text): \n",
        "    locs = []\n",
        "    doc = nlp(text)\n",
        "    for ent in doc.ents:\n",
        "        if ent.label_ == 'LOC':\n",
        "            locs.append(ent.text)\n",
        "    locs = [morpher.parse(i.lower())[0].normal_form for i in locs]\n",
        "    return locs"
      ],
      "metadata": {
        "colab": {
          "base_uri": "https://localhost:8080/"
        },
        "id": "TOjp236hmqqT",
        "outputId": "091ef3a3-4947-4734-c0ab-7f475b0d3b22"
      },
      "execution_count": 46,
      "outputs": [
        {
          "output_type": "stream",
          "name": "stderr",
          "text": [
            "/usr/local/lib/python3.9/dist-packages/spacy/util.py:887: UserWarning: [W095] Model 'ru_core_news_sm' (3.1.0) was trained with spaCy v3.1 and may not be 100% compatible with the current version (3.5.1). If you see errors or degraded performance, download a newer compatible model or retrain your custom model with the current spaCy version. For more details and available updates, run: python -m spacy validate\n",
            "  warnings.warn(warn_msg)\n"
          ]
        }
      ]
    },
    {
      "cell_type": "code",
      "source": [
        "# Погода в заданном городе\n",
        "\n",
        "def forecast(text):\n",
        "    city = location_recognition(text)\n",
        "    try:\n",
        "        forecast = get_weather(city)\n",
        "    except:\n",
        "        forecast = 'Не могу определить погодные условия.'\n",
        "    \n",
        "    return forecast"
      ],
      "metadata": {
        "id": "spLgTTplmu7L"
      },
      "execution_count": 59,
      "outputs": []
    },
    {
      "cell_type": "markdown",
      "metadata": {
        "id": "fzGQ4wiHiYkA"
      },
      "source": [
        "# Бот"
      ]
    },
    {
      "cell_type": "code",
      "execution_count": null,
      "metadata": {
        "id": "-jV0WyAwidKi"
      },
      "outputs": [],
      "source": [
        "from transformers import AutoTokenizer, AutoModelForSeq2SeqLM\n",
        "from transformers import MBartTokenizer, MBartForConditionalGeneration"
      ]
    },
    {
      "cell_type": "code",
      "execution_count": null,
      "metadata": {
        "id": "cOiuWPBwigVh"
      },
      "outputs": [],
      "source": [
        "model_name = \"csebuetnlp/mT5_multilingual_XLSum\"\n",
        "tokenizer = AutoTokenizer.from_pretrained(model_name)\n",
        "model_mT5_multilingual_XLSum = AutoModelForSeq2SeqLM.from_pretrained(model_name)"
      ]
    },
    {
      "cell_type": "code",
      "execution_count": 41,
      "metadata": {
        "id": "teIlThmOikLZ"
      },
      "outputs": [],
      "source": [
        "import os\n",
        "from telegram.ext import Updater, CommandHandler, MessageHandler, Filters, CallbackContext\n",
        "import string\n",
        "from pymorphy2 import MorphAnalyzer\n",
        "from stop_words import get_stop_words\n",
        "import annoy\n",
        "from gensim.models import Word2Vec, FastText\n",
        "import pickle\n",
        "import numpy as np\n",
        "from tqdm import tqdm_notebook\n",
        "import pandas as pd\n",
        "import re\n",
        "\n",
        "from telegram import Update\n",
        "from sklearn.feature_extraction.text import CountVectorizer, TfidfVectorizer\n",
        "from sklearn.linear_model import LogisticRegression\n",
        "\n",
        "SIZE_EMB = 200  # Размер эмбеддинга"
      ]
    },
    {
      "cell_type": "code",
      "execution_count": null,
      "metadata": {
        "id": "bpl4fQ8simOy"
      },
      "outputs": [],
      "source": [
        "morpher = MorphAnalyzer()\n",
        "sw = set(get_stop_words(\"ru\"))\n",
        "exclude = set(string.punctuation)"
      ]
    },
    {
      "cell_type": "code",
      "execution_count": null,
      "metadata": {
        "id": "CteMyEisipiT"
      },
      "outputs": [],
      "source": [
        "with open(f'idfs.pkl', 'rb') as f:\n",
        "    idfs = pickle.load(f)\n",
        "\n",
        "with open(f'midf.pkl', 'rb') as f:\n",
        "    midf = pickle.load(f)\n",
        "\n",
        "with open(f'idfs_prod.pkl', 'rb') as f:\n",
        "    idfs_prod = pickle.load(f)  # загружает объект из файла\n",
        "\n",
        "with open(f'midf_prod.pkl', 'rb') as f:\n",
        "    midf_prod = pickle.load(f)  # загружает объект из файла\n",
        "\n",
        "# Подгружаем предварительно обученную модель вопросов из болталки\n",
        "modelFT = FastText.load(f'ft_model')\n",
        "\n",
        "# Подгружаем предварительно подготовленный и сохранненый индекс ответов из болталки\n",
        "ft_index = annoy.AnnoyIndex(SIZE_EMB, 'angular')\n",
        "ft_index.load(f'/content/ft_index.ann')\n",
        "with open(f'/content/index_map.pkl', 'rb') as f:\n",
        "    index_map = pickle.load(f)  # загружает объект из файла\n",
        "\n",
        "vectorizer = CountVectorizer(ngram_range=(1, 2))\n",
        "with open(f'vectorizer.pkl', 'rb') as f:\n",
        "    vectorizer = pickle.load(f)\n",
        "\n",
        "lr = LogisticRegression()\n",
        "with open(f'lr.pkl', 'rb') as f:\n",
        "    lr = pickle.load(f)\n",
        "\n",
        "with open(f'midf_prod.pkl', 'rb') as f:\n",
        "    midf_p = pickle.load(f)\n",
        "\n",
        "ft_index_shop = annoy.AnnoyIndex(SIZE_EMB, 'angular')\n",
        "ft_index_shop.load(f'ft_index_shop') \n",
        "\n",
        "# Подгружаем предварительно обученную модель продуктовых названий\n",
        "with open(f'index_map_shop.pkl', 'rb') as f:\n",
        "    index_map_shop = pickle.load(f)"
      ]
    },
    {
      "cell_type": "markdown",
      "metadata": {
        "id": "EOEUFKePjyQy"
      },
      "source": [
        "## Работа бота"
      ]
    },
    {
      "cell_type": "code",
      "execution_count": null,
      "metadata": {
        "id": "xzWi8Toporhf"
      },
      "outputs": [],
      "source": [
        "def echo(update: Update, context: CallbackContext):\n",
        "    txt = update.message.text\n",
        "    update.message.reply_text('Ваше сообщение! ' + update.message.text)\n",
        "\n",
        "\n",
        "def startCommand(update: Update, context: CallbackContext) -> None:\n",
        "    update.message.reply_text('Добрый день!')\n"
      ]
    },
    {
      "cell_type": "code",
      "execution_count": null,
      "metadata": {
        "id": "hsKim4UBpBg_"
      },
      "outputs": [],
      "source": [
        "# !pip install python-telegram-bot==13.13"
      ]
    },
    {
      "cell_type": "code",
      "execution_count": 61,
      "metadata": {
        "id": "sC9Ktsy5jX-a"
      },
      "outputs": [],
      "source": [
        "updater = Updater(\"5928534129:AAGIomj6LYU8ljifCbL_cVkfP2Q4VuTjrbA\"\n",
        "# , use_context=True\n",
        ") # Токен API к Telegram\n",
        "\n",
        "def echo(update: Update, context: CallbackContext):\n",
        "    txt = update.message.text\n",
        "    update.message.reply_text('Ваше сообщение! ' + update.message.text)\n",
        "\n",
        "\n",
        "def startCommand(update: Update, context: CallbackContext) -> None:\n",
        "    update.message.reply_text('Добрый день!')\n",
        "\n",
        "\n",
        "def model_mT5_multilingual_XLSum_summary(input_text, model, tokenizer): \n",
        "    \"\"\" \n",
        "        Суммаризация. Предобученную модель: csebuetnlp/mT5_multilingual_XLSum\n",
        "    \"\"\"\n",
        "    WHITESPACE_HANDLER = lambda k: re.sub('\\s+', ' ', re.sub('\\n+', ' ', k.strip()))\n",
        "\n",
        "    input_ids = tokenizer(\n",
        "        [WHITESPACE_HANDLER(input_text)],\n",
        "        return_tensors=\"pt\",\n",
        "        padding=\"max_length\",\n",
        "        truncation=True,\n",
        "        max_length=512\n",
        "    )[\"input_ids\"]\n",
        "\n",
        "    output_ids = model.generate(\n",
        "        input_ids=input_ids,\n",
        "        max_length=84,\n",
        "        no_repeat_ngram_size=2,\n",
        "        num_beams=4\n",
        "    )[0]\n",
        "\n",
        "    summary = tokenizer.decode(\n",
        "        output_ids,\n",
        "        skip_special_tokens=True,\n",
        "        clean_up_tokenization_spaces=False\n",
        "    )\n",
        "\n",
        "    return summary\n",
        "\n",
        "# Определение и выполнение запроса пользователя\n",
        "\n",
        "def textMessage(update: Update, context: CallbackContext) -> None:\n",
        "    \n",
        "    # 1. Суммаризация. Начало фразы с ключевого слова \"Summarization:\"\n",
        "    input_text = update.message.text\n",
        "    if input_text.split(' ', 1)[0] == 'Summarisation:':\n",
        "      update.message.reply_text('Подождите, идет суммаризация текста ...')\n",
        "\n",
        "      input_text = input_text.replace('Summarisation:', '')\n",
        "      summary = model_mT5_multilingual_XLSum_summary(input_text, model_mT5_multilingual_XLSum, tokenizer)\n",
        "      update.message.reply_text('Суммаризация: ' + summary)\n",
        "  \n",
        "\n",
        "    else:\n",
        "      res_text = 'Не понимаю. Сформулируйте запрос ещё раз.'\n",
        "      input_txt = preprocess_txt(update.message.text)\n",
        "      vect = vectorizer.transform([\" \".join(input_txt)])\n",
        "      prediction = lr.predict(vect)\n",
        "\n",
        "      # 4. Прогноз погоды    \n",
        "      if is_in_list(input_txt, list_for_weather) == True:        \n",
        "          update.message.reply_text(forecast(update.message.text))\n",
        "      \n",
        "      # 2. Определим является ли запрос продуктовым.\n",
        "      elif prediction[0] == 1:\n",
        "          # Если запрос продуктовый, то найдём 3 самых подходящих товара.\n",
        "          # update.message.reply_text('Продуктовый ...')\n",
        "          find = False\n",
        "          vect_ft = embed_txt(input_txt, idfs_prod, modelFT.wv, midf_prod)\n",
        "          ft_index_shop_val, distances_shop = ft_index_shop.get_nns_by_vector(vect_ft, 3, include_distances=True)\n",
        "\n",
        "          for i, item in enumerate(ft_index_shop_val):\n",
        "              if distances_shop[i] <= 0.5:          \n",
        "                title, image = index_map_shop[item]\n",
        "                print(title, image)\n",
        "                update.message.reply_text(\"title: {} image: {}\".format(title, image))\n",
        "                find = True\n",
        "          if find == False:\n",
        "            update.message.reply_text(res_text)\n",
        "      \n",
        "      else:\n",
        "          # 3. Если запрос разговорный, то найдём ответ.\n",
        "          # update.message.reply_text('Разговорный ...')\n",
        "          vect_ft = embed_txt(input_txt, idfs, modelFT.wv, midf)\n",
        "          ft_index_val, distances = ft_index.get_nns_by_vector(vect_ft, 1, include_distances=True)\n",
        "          if distances[0] <= 0.9:\n",
        "              update.message.reply_text(index_map[ft_index_val[0]])\n",
        "          else:\n",
        "              update.message.reply_text(res_text)"
      ]
    },
    {
      "cell_type": "code",
      "source": [
        "dispatcher = updater.dispatcher  # Диспетчер\n",
        "\n",
        "# on different commands - answer in Telegram\n",
        "dispatcher.add_handler(CommandHandler('start', startCommand))\n",
        "dispatcher.add_handler(MessageHandler(Filters.text & ~Filters.command, textMessage))\n",
        "\n",
        "# Start Bot\n",
        "updater.start_polling()\n",
        "updater.idle()"
      ],
      "metadata": {
        "colab": {
          "base_uri": "https://localhost:8080/"
        },
        "id": "dxmCh2f8iaXR",
        "outputId": "47ba387d-aa81-42ab-87f2-1ae871db709d"
      },
      "execution_count": 62,
      "outputs": [
        {
          "output_type": "stream",
          "name": "stdout",
          "text": [
            "Ботинки http://cache3.youla.io/files/images/360_360/59/8d/598d8651ec985587912f7804.jpg\n",
            "Сапоги http://cache3.youla.io/files/images/360_360/58/cd/58cd50fa1c40313e10758adb.jpg\n",
            "Коляска зима - лето http://cache3.youla.io/files/images/360_360/5b/fb/5bfbd2479380005ed0275fc2.jpg\n"
          ]
        }
      ]
    }
  ],
  "metadata": {
    "colab": {
      "toc_visible": true,
      "provenance": [],
      "authorship_tag": "ABX9TyNc+FeQESKRVYpQPEnYS/gb",
      "include_colab_link": true
    },
    "kernelspec": {
      "display_name": "Python 3",
      "name": "python3"
    },
    "language_info": {
      "name": "python"
    },
    "widgets": {
      "application/vnd.jupyter.widget-state+json": {
        "053368cda19c496196095e95fdda0dd5": {
          "model_module": "@jupyter-widgets/base",
          "model_module_version": "1.2.0",
          "model_name": "LayoutModel",
          "state": {
            "_model_module": "@jupyter-widgets/base",
            "_model_module_version": "1.2.0",
            "_model_name": "LayoutModel",
            "_view_count": null,
            "_view_module": "@jupyter-widgets/base",
            "_view_module_version": "1.2.0",
            "_view_name": "LayoutView",
            "align_content": null,
            "align_items": null,
            "align_self": null,
            "border": null,
            "bottom": null,
            "display": null,
            "flex": null,
            "flex_flow": null,
            "grid_area": null,
            "grid_auto_columns": null,
            "grid_auto_flow": null,
            "grid_auto_rows": null,
            "grid_column": null,
            "grid_gap": null,
            "grid_row": null,
            "grid_template_areas": null,
            "grid_template_columns": null,
            "grid_template_rows": null,
            "height": null,
            "justify_content": null,
            "justify_items": null,
            "left": null,
            "margin": null,
            "max_height": null,
            "max_width": null,
            "min_height": null,
            "min_width": null,
            "object_fit": null,
            "object_position": null,
            "order": null,
            "overflow": null,
            "overflow_x": null,
            "overflow_y": null,
            "padding": null,
            "right": null,
            "top": null,
            "visibility": null,
            "width": null
          }
        },
        "13954a356a2b4731928d9531b35aa7a3": {
          "model_module": "@jupyter-widgets/base",
          "model_module_version": "1.2.0",
          "model_name": "LayoutModel",
          "state": {
            "_model_module": "@jupyter-widgets/base",
            "_model_module_version": "1.2.0",
            "_model_name": "LayoutModel",
            "_view_count": null,
            "_view_module": "@jupyter-widgets/base",
            "_view_module_version": "1.2.0",
            "_view_name": "LayoutView",
            "align_content": null,
            "align_items": null,
            "align_self": null,
            "border": null,
            "bottom": null,
            "display": null,
            "flex": null,
            "flex_flow": null,
            "grid_area": null,
            "grid_auto_columns": null,
            "grid_auto_flow": null,
            "grid_auto_rows": null,
            "grid_column": null,
            "grid_gap": null,
            "grid_row": null,
            "grid_template_areas": null,
            "grid_template_columns": null,
            "grid_template_rows": null,
            "height": null,
            "justify_content": null,
            "justify_items": null,
            "left": null,
            "margin": null,
            "max_height": null,
            "max_width": null,
            "min_height": null,
            "min_width": null,
            "object_fit": null,
            "object_position": null,
            "order": null,
            "overflow": null,
            "overflow_x": null,
            "overflow_y": null,
            "padding": null,
            "right": null,
            "top": null,
            "visibility": null,
            "width": "20px"
          }
        },
        "172237410b934c53abc8d5ec4b29b42d": {
          "model_module": "@jupyter-widgets/controls",
          "model_module_version": "1.5.0",
          "model_name": "DescriptionStyleModel",
          "state": {
            "_model_module": "@jupyter-widgets/controls",
            "_model_module_version": "1.5.0",
            "_model_name": "DescriptionStyleModel",
            "_view_count": null,
            "_view_module": "@jupyter-widgets/base",
            "_view_module_version": "1.2.0",
            "_view_name": "StyleView",
            "description_width": ""
          }
        },
        "1ef0636d5e474d4dbc4b8f58a894616c": {
          "model_module": "@jupyter-widgets/controls",
          "model_module_version": "1.5.0",
          "model_name": "DescriptionStyleModel",
          "state": {
            "_model_module": "@jupyter-widgets/controls",
            "_model_module_version": "1.5.0",
            "_model_name": "DescriptionStyleModel",
            "_view_count": null,
            "_view_module": "@jupyter-widgets/base",
            "_view_module_version": "1.2.0",
            "_view_name": "StyleView",
            "description_width": ""
          }
        },
        "23ecd07ee57743f691e2423d35b67e82": {
          "model_module": "@jupyter-widgets/controls",
          "model_module_version": "1.5.0",
          "model_name": "DescriptionStyleModel",
          "state": {
            "_model_module": "@jupyter-widgets/controls",
            "_model_module_version": "1.5.0",
            "_model_name": "DescriptionStyleModel",
            "_view_count": null,
            "_view_module": "@jupyter-widgets/base",
            "_view_module_version": "1.2.0",
            "_view_name": "StyleView",
            "description_width": ""
          }
        },
        "284ca23f7beb4c1497fb0fa5915c3393": {
          "model_module": "@jupyter-widgets/base",
          "model_module_version": "1.2.0",
          "model_name": "LayoutModel",
          "state": {
            "_model_module": "@jupyter-widgets/base",
            "_model_module_version": "1.2.0",
            "_model_name": "LayoutModel",
            "_view_count": null,
            "_view_module": "@jupyter-widgets/base",
            "_view_module_version": "1.2.0",
            "_view_name": "LayoutView",
            "align_content": null,
            "align_items": null,
            "align_self": null,
            "border": null,
            "bottom": null,
            "display": null,
            "flex": null,
            "flex_flow": null,
            "grid_area": null,
            "grid_auto_columns": null,
            "grid_auto_flow": null,
            "grid_auto_rows": null,
            "grid_column": null,
            "grid_gap": null,
            "grid_row": null,
            "grid_template_areas": null,
            "grid_template_columns": null,
            "grid_template_rows": null,
            "height": null,
            "justify_content": null,
            "justify_items": null,
            "left": null,
            "margin": null,
            "max_height": null,
            "max_width": null,
            "min_height": null,
            "min_width": null,
            "object_fit": null,
            "object_position": null,
            "order": null,
            "overflow": null,
            "overflow_x": null,
            "overflow_y": null,
            "padding": null,
            "right": null,
            "top": null,
            "visibility": null,
            "width": null
          }
        },
        "2da6855bc9c64d328c467c29fcf89049": {
          "model_module": "@jupyter-widgets/controls",
          "model_module_version": "1.5.0",
          "model_name": "HBoxModel",
          "state": {
            "_dom_classes": [],
            "_model_module": "@jupyter-widgets/controls",
            "_model_module_version": "1.5.0",
            "_model_name": "HBoxModel",
            "_view_count": null,
            "_view_module": "@jupyter-widgets/controls",
            "_view_module_version": "1.5.0",
            "_view_name": "HBoxView",
            "box_style": "",
            "children": [
              "IPY_MODEL_76fb8d35293c45988e91e5bb07489a0b",
              "IPY_MODEL_49850d7deb6940d2bc0b940f87a0a5f5",
              "IPY_MODEL_edd68a843217473c8412a8930ca88cb9"
            ],
            "layout": "IPY_MODEL_382bf83da2d44f0c959beb92ef7f0197"
          }
        },
        "2e0a56e4114e4b90a45e6969a8f3dd58": {
          "model_module": "@jupyter-widgets/base",
          "model_module_version": "1.2.0",
          "model_name": "LayoutModel",
          "state": {
            "_model_module": "@jupyter-widgets/base",
            "_model_module_version": "1.2.0",
            "_model_name": "LayoutModel",
            "_view_count": null,
            "_view_module": "@jupyter-widgets/base",
            "_view_module_version": "1.2.0",
            "_view_name": "LayoutView",
            "align_content": null,
            "align_items": null,
            "align_self": null,
            "border": null,
            "bottom": null,
            "display": null,
            "flex": null,
            "flex_flow": null,
            "grid_area": null,
            "grid_auto_columns": null,
            "grid_auto_flow": null,
            "grid_auto_rows": null,
            "grid_column": null,
            "grid_gap": null,
            "grid_row": null,
            "grid_template_areas": null,
            "grid_template_columns": null,
            "grid_template_rows": null,
            "height": null,
            "justify_content": null,
            "justify_items": null,
            "left": null,
            "margin": null,
            "max_height": null,
            "max_width": null,
            "min_height": null,
            "min_width": null,
            "object_fit": null,
            "object_position": null,
            "order": null,
            "overflow": null,
            "overflow_x": null,
            "overflow_y": null,
            "padding": null,
            "right": null,
            "top": null,
            "visibility": null,
            "width": "20px"
          }
        },
        "2fe3263c3d02491e8aa75850b865c79b": {
          "model_module": "@jupyter-widgets/base",
          "model_module_version": "1.2.0",
          "model_name": "LayoutModel",
          "state": {
            "_model_module": "@jupyter-widgets/base",
            "_model_module_version": "1.2.0",
            "_model_name": "LayoutModel",
            "_view_count": null,
            "_view_module": "@jupyter-widgets/base",
            "_view_module_version": "1.2.0",
            "_view_name": "LayoutView",
            "align_content": null,
            "align_items": null,
            "align_self": null,
            "border": null,
            "bottom": null,
            "display": null,
            "flex": null,
            "flex_flow": null,
            "grid_area": null,
            "grid_auto_columns": null,
            "grid_auto_flow": null,
            "grid_auto_rows": null,
            "grid_column": null,
            "grid_gap": null,
            "grid_row": null,
            "grid_template_areas": null,
            "grid_template_columns": null,
            "grid_template_rows": null,
            "height": null,
            "justify_content": null,
            "justify_items": null,
            "left": null,
            "margin": null,
            "max_height": null,
            "max_width": null,
            "min_height": null,
            "min_width": null,
            "object_fit": null,
            "object_position": null,
            "order": null,
            "overflow": null,
            "overflow_x": null,
            "overflow_y": null,
            "padding": null,
            "right": null,
            "top": null,
            "visibility": null,
            "width": null
          }
        },
        "35dcf9a2e58846609d4da42194ae18b8": {
          "model_module": "@jupyter-widgets/base",
          "model_module_version": "1.2.0",
          "model_name": "LayoutModel",
          "state": {
            "_model_module": "@jupyter-widgets/base",
            "_model_module_version": "1.2.0",
            "_model_name": "LayoutModel",
            "_view_count": null,
            "_view_module": "@jupyter-widgets/base",
            "_view_module_version": "1.2.0",
            "_view_name": "LayoutView",
            "align_content": null,
            "align_items": null,
            "align_self": null,
            "border": null,
            "bottom": null,
            "display": null,
            "flex": null,
            "flex_flow": null,
            "grid_area": null,
            "grid_auto_columns": null,
            "grid_auto_flow": null,
            "grid_auto_rows": null,
            "grid_column": null,
            "grid_gap": null,
            "grid_row": null,
            "grid_template_areas": null,
            "grid_template_columns": null,
            "grid_template_rows": null,
            "height": null,
            "justify_content": null,
            "justify_items": null,
            "left": null,
            "margin": null,
            "max_height": null,
            "max_width": null,
            "min_height": null,
            "min_width": null,
            "object_fit": null,
            "object_position": null,
            "order": null,
            "overflow": null,
            "overflow_x": null,
            "overflow_y": null,
            "padding": null,
            "right": null,
            "top": null,
            "visibility": null,
            "width": null
          }
        },
        "382bf83da2d44f0c959beb92ef7f0197": {
          "model_module": "@jupyter-widgets/base",
          "model_module_version": "1.2.0",
          "model_name": "LayoutModel",
          "state": {
            "_model_module": "@jupyter-widgets/base",
            "_model_module_version": "1.2.0",
            "_model_name": "LayoutModel",
            "_view_count": null,
            "_view_module": "@jupyter-widgets/base",
            "_view_module_version": "1.2.0",
            "_view_name": "LayoutView",
            "align_content": null,
            "align_items": null,
            "align_self": null,
            "border": null,
            "bottom": null,
            "display": null,
            "flex": null,
            "flex_flow": null,
            "grid_area": null,
            "grid_auto_columns": null,
            "grid_auto_flow": null,
            "grid_auto_rows": null,
            "grid_column": null,
            "grid_gap": null,
            "grid_row": null,
            "grid_template_areas": null,
            "grid_template_columns": null,
            "grid_template_rows": null,
            "height": null,
            "justify_content": null,
            "justify_items": null,
            "left": null,
            "margin": null,
            "max_height": null,
            "max_width": null,
            "min_height": null,
            "min_width": null,
            "object_fit": null,
            "object_position": null,
            "order": null,
            "overflow": null,
            "overflow_x": null,
            "overflow_y": null,
            "padding": null,
            "right": null,
            "top": null,
            "visibility": null,
            "width": null
          }
        },
        "418634a6c4e84d8aad2f66e401fefb1e": {
          "model_module": "@jupyter-widgets/controls",
          "model_module_version": "1.5.0",
          "model_name": "FloatProgressModel",
          "state": {
            "_dom_classes": [],
            "_model_module": "@jupyter-widgets/controls",
            "_model_module_version": "1.5.0",
            "_model_name": "FloatProgressModel",
            "_view_count": null,
            "_view_module": "@jupyter-widgets/controls",
            "_view_module_version": "1.5.0",
            "_view_name": "ProgressView",
            "bar_style": "success",
            "description": "",
            "description_tooltip": null,
            "layout": "IPY_MODEL_c471d687e31d432f81f483fc7d861dcd",
            "max": 1,
            "min": 0,
            "orientation": "horizontal",
            "style": "IPY_MODEL_bd796f75dbc64cc1838228fb436e767a",
            "value": 1
          }
        },
        "424ac89eb9c943ee8fa64fb71d5dae7e": {
          "model_module": "@jupyter-widgets/controls",
          "model_module_version": "1.5.0",
          "model_name": "DescriptionStyleModel",
          "state": {
            "_model_module": "@jupyter-widgets/controls",
            "_model_module_version": "1.5.0",
            "_model_name": "DescriptionStyleModel",
            "_view_count": null,
            "_view_module": "@jupyter-widgets/base",
            "_view_module_version": "1.2.0",
            "_view_name": "StyleView",
            "description_width": ""
          }
        },
        "49850d7deb6940d2bc0b940f87a0a5f5": {
          "model_module": "@jupyter-widgets/controls",
          "model_module_version": "1.5.0",
          "model_name": "FloatProgressModel",
          "state": {
            "_dom_classes": [],
            "_model_module": "@jupyter-widgets/controls",
            "_model_module_version": "1.5.0",
            "_model_name": "FloatProgressModel",
            "_view_count": null,
            "_view_module": "@jupyter-widgets/controls",
            "_view_module_version": "1.5.0",
            "_view_name": "ProgressView",
            "bar_style": "success",
            "description": "",
            "description_tooltip": null,
            "layout": "IPY_MODEL_13954a356a2b4731928d9531b35aa7a3",
            "max": 1,
            "min": 0,
            "orientation": "horizontal",
            "style": "IPY_MODEL_5b6e22015dc34d988f1dace3d8ef8b3d",
            "value": 1
          }
        },
        "4fa8c34f322b4f4dbd068ab840190c4f": {
          "model_module": "@jupyter-widgets/controls",
          "model_module_version": "1.5.0",
          "model_name": "HTMLModel",
          "state": {
            "_dom_classes": [],
            "_model_module": "@jupyter-widgets/controls",
            "_model_module_version": "1.5.0",
            "_model_name": "HTMLModel",
            "_view_count": null,
            "_view_module": "@jupyter-widgets/controls",
            "_view_module_version": "1.5.0",
            "_view_name": "HTMLView",
            "description": "",
            "description_tooltip": null,
            "layout": "IPY_MODEL_284ca23f7beb4c1497fb0fa5915c3393",
            "placeholder": "​",
            "style": "IPY_MODEL_424ac89eb9c943ee8fa64fb71d5dae7e",
            "value": " 480380/? [00:01&lt;00:00, 310596.27it/s]"
          }
        },
        "5b6e22015dc34d988f1dace3d8ef8b3d": {
          "model_module": "@jupyter-widgets/controls",
          "model_module_version": "1.5.0",
          "model_name": "ProgressStyleModel",
          "state": {
            "_model_module": "@jupyter-widgets/controls",
            "_model_module_version": "1.5.0",
            "_model_name": "ProgressStyleModel",
            "_view_count": null,
            "_view_module": "@jupyter-widgets/base",
            "_view_module_version": "1.2.0",
            "_view_name": "StyleView",
            "bar_color": null,
            "description_width": ""
          }
        },
        "6fa81c6632cf4345aae7a26f2ca756cc": {
          "model_module": "@jupyter-widgets/controls",
          "model_module_version": "1.5.0",
          "model_name": "HTMLModel",
          "state": {
            "_dom_classes": [],
            "_model_module": "@jupyter-widgets/controls",
            "_model_module_version": "1.5.0",
            "_model_name": "HTMLModel",
            "_view_count": null,
            "_view_module": "@jupyter-widgets/controls",
            "_view_module_version": "1.5.0",
            "_view_name": "HTMLView",
            "description": "",
            "description_tooltip": null,
            "layout": "IPY_MODEL_b0f5eaa48ca548ba9d6bddfca7329e9d",
            "placeholder": "​",
            "style": "IPY_MODEL_d98adc5bd201426cb2385d6783030419",
            "value": ""
          }
        },
        "6fc83f3b1b074a47a35d521276057d17": {
          "model_module": "@jupyter-widgets/controls",
          "model_module_version": "1.5.0",
          "model_name": "HBoxModel",
          "state": {
            "_dom_classes": [],
            "_model_module": "@jupyter-widgets/controls",
            "_model_module_version": "1.5.0",
            "_model_name": "HBoxModel",
            "_view_count": null,
            "_view_module": "@jupyter-widgets/controls",
            "_view_module_version": "1.5.0",
            "_view_name": "HBoxView",
            "box_style": "",
            "children": [
              "IPY_MODEL_cdafc3a1af9e449a9d00f45864d6c352",
              "IPY_MODEL_7c841e5c24d84e68bda1c31afc472a9c",
              "IPY_MODEL_9419e86e33e84c02881deb784743f2e0"
            ],
            "layout": "IPY_MODEL_c75ef068f1604074b6cdd89206e2659a"
          }
        },
        "7098ce49f4fc4549b0220269e0991271": {
          "model_module": "@jupyter-widgets/controls",
          "model_module_version": "1.5.0",
          "model_name": "ProgressStyleModel",
          "state": {
            "_model_module": "@jupyter-widgets/controls",
            "_model_module_version": "1.5.0",
            "_model_name": "ProgressStyleModel",
            "_view_count": null,
            "_view_module": "@jupyter-widgets/base",
            "_view_module_version": "1.2.0",
            "_view_name": "StyleView",
            "bar_color": null,
            "description_width": ""
          }
        },
        "76fb8d35293c45988e91e5bb07489a0b": {
          "model_module": "@jupyter-widgets/controls",
          "model_module_version": "1.5.0",
          "model_name": "HTMLModel",
          "state": {
            "_dom_classes": [],
            "_model_module": "@jupyter-widgets/controls",
            "_model_module_version": "1.5.0",
            "_model_name": "HTMLModel",
            "_view_count": null,
            "_view_module": "@jupyter-widgets/controls",
            "_view_module_version": "1.5.0",
            "_view_name": "HTMLView",
            "description": "",
            "description_tooltip": null,
            "layout": "IPY_MODEL_053368cda19c496196095e95fdda0dd5",
            "placeholder": "​",
            "style": "IPY_MODEL_172237410b934c53abc8d5ec4b29b42d",
            "value": ""
          }
        },
        "7c841e5c24d84e68bda1c31afc472a9c": {
          "model_module": "@jupyter-widgets/controls",
          "model_module_version": "1.5.0",
          "model_name": "FloatProgressModel",
          "state": {
            "_dom_classes": [],
            "_model_module": "@jupyter-widgets/controls",
            "_model_module_version": "1.5.0",
            "_model_name": "FloatProgressModel",
            "_view_count": null,
            "_view_module": "@jupyter-widgets/controls",
            "_view_module_version": "1.5.0",
            "_view_name": "ProgressView",
            "bar_style": "",
            "description": "",
            "description_tooltip": null,
            "layout": "IPY_MODEL_35dcf9a2e58846609d4da42194ae18b8",
            "max": 35548,
            "min": 0,
            "orientation": "horizontal",
            "style": "IPY_MODEL_f7a01f2648844e418c67361ef3acee95",
            "value": 17690
          }
        },
        "9419e86e33e84c02881deb784743f2e0": {
          "model_module": "@jupyter-widgets/controls",
          "model_module_version": "1.5.0",
          "model_name": "HTMLModel",
          "state": {
            "_dom_classes": [],
            "_model_module": "@jupyter-widgets/controls",
            "_model_module_version": "1.5.0",
            "_model_name": "HTMLModel",
            "_view_count": null,
            "_view_module": "@jupyter-widgets/controls",
            "_view_module_version": "1.5.0",
            "_view_name": "HTMLView",
            "description": "",
            "description_tooltip": null,
            "layout": "IPY_MODEL_edd779719e9f45fba9b46e15c8509fed",
            "placeholder": "​",
            "style": "IPY_MODEL_23ecd07ee57743f691e2423d35b67e82",
            "value": " 17690/35548 [00:10&lt;00:12, 1456.33it/s]"
          }
        },
        "97a4817ef75541929ab12160ee669519": {
          "model_module": "@jupyter-widgets/controls",
          "model_module_version": "1.5.0",
          "model_name": "DescriptionStyleModel",
          "state": {
            "_model_module": "@jupyter-widgets/controls",
            "_model_module_version": "1.5.0",
            "_model_name": "DescriptionStyleModel",
            "_view_count": null,
            "_view_module": "@jupyter-widgets/base",
            "_view_module_version": "1.2.0",
            "_view_name": "StyleView",
            "description_width": ""
          }
        },
        "9ac2cea06ec44273acb320accd4502b2": {
          "model_module": "@jupyter-widgets/controls",
          "model_module_version": "1.5.0",
          "model_name": "DescriptionStyleModel",
          "state": {
            "_model_module": "@jupyter-widgets/controls",
            "_model_module_version": "1.5.0",
            "_model_name": "DescriptionStyleModel",
            "_view_count": null,
            "_view_module": "@jupyter-widgets/base",
            "_view_module_version": "1.2.0",
            "_view_name": "StyleView",
            "description_width": ""
          }
        },
        "a061fefa25c24e7890234f7a1e50f967": {
          "model_module": "@jupyter-widgets/base",
          "model_module_version": "1.2.0",
          "model_name": "LayoutModel",
          "state": {
            "_model_module": "@jupyter-widgets/base",
            "_model_module_version": "1.2.0",
            "_model_name": "LayoutModel",
            "_view_count": null,
            "_view_module": "@jupyter-widgets/base",
            "_view_module_version": "1.2.0",
            "_view_name": "LayoutView",
            "align_content": null,
            "align_items": null,
            "align_self": null,
            "border": null,
            "bottom": null,
            "display": null,
            "flex": null,
            "flex_flow": null,
            "grid_area": null,
            "grid_auto_columns": null,
            "grid_auto_flow": null,
            "grid_auto_rows": null,
            "grid_column": null,
            "grid_gap": null,
            "grid_row": null,
            "grid_template_areas": null,
            "grid_template_columns": null,
            "grid_template_rows": null,
            "height": null,
            "justify_content": null,
            "justify_items": null,
            "left": null,
            "margin": null,
            "max_height": null,
            "max_width": null,
            "min_height": null,
            "min_width": null,
            "object_fit": null,
            "object_position": null,
            "order": null,
            "overflow": null,
            "overflow_x": null,
            "overflow_y": null,
            "padding": null,
            "right": null,
            "top": null,
            "visibility": null,
            "width": null
          }
        },
        "a34eeff39de143e687e14bc4cb8fc908": {
          "model_module": "@jupyter-widgets/base",
          "model_module_version": "1.2.0",
          "model_name": "LayoutModel",
          "state": {
            "_model_module": "@jupyter-widgets/base",
            "_model_module_version": "1.2.0",
            "_model_name": "LayoutModel",
            "_view_count": null,
            "_view_module": "@jupyter-widgets/base",
            "_view_module_version": "1.2.0",
            "_view_name": "LayoutView",
            "align_content": null,
            "align_items": null,
            "align_self": null,
            "border": null,
            "bottom": null,
            "display": null,
            "flex": null,
            "flex_flow": null,
            "grid_area": null,
            "grid_auto_columns": null,
            "grid_auto_flow": null,
            "grid_auto_rows": null,
            "grid_column": null,
            "grid_gap": null,
            "grid_row": null,
            "grid_template_areas": null,
            "grid_template_columns": null,
            "grid_template_rows": null,
            "height": null,
            "justify_content": null,
            "justify_items": null,
            "left": null,
            "margin": null,
            "max_height": null,
            "max_width": null,
            "min_height": null,
            "min_width": null,
            "object_fit": null,
            "object_position": null,
            "order": null,
            "overflow": null,
            "overflow_x": null,
            "overflow_y": null,
            "padding": null,
            "right": null,
            "top": null,
            "visibility": null,
            "width": null
          }
        },
        "aeacc13899894fcfac2490687e700aa1": {
          "model_module": "@jupyter-widgets/controls",
          "model_module_version": "1.5.0",
          "model_name": "DescriptionStyleModel",
          "state": {
            "_model_module": "@jupyter-widgets/controls",
            "_model_module_version": "1.5.0",
            "_model_name": "DescriptionStyleModel",
            "_view_count": null,
            "_view_module": "@jupyter-widgets/base",
            "_view_module_version": "1.2.0",
            "_view_name": "StyleView",
            "description_width": ""
          }
        },
        "b0f5eaa48ca548ba9d6bddfca7329e9d": {
          "model_module": "@jupyter-widgets/base",
          "model_module_version": "1.2.0",
          "model_name": "LayoutModel",
          "state": {
            "_model_module": "@jupyter-widgets/base",
            "_model_module_version": "1.2.0",
            "_model_name": "LayoutModel",
            "_view_count": null,
            "_view_module": "@jupyter-widgets/base",
            "_view_module_version": "1.2.0",
            "_view_name": "LayoutView",
            "align_content": null,
            "align_items": null,
            "align_self": null,
            "border": null,
            "bottom": null,
            "display": null,
            "flex": null,
            "flex_flow": null,
            "grid_area": null,
            "grid_auto_columns": null,
            "grid_auto_flow": null,
            "grid_auto_rows": null,
            "grid_column": null,
            "grid_gap": null,
            "grid_row": null,
            "grid_template_areas": null,
            "grid_template_columns": null,
            "grid_template_rows": null,
            "height": null,
            "justify_content": null,
            "justify_items": null,
            "left": null,
            "margin": null,
            "max_height": null,
            "max_width": null,
            "min_height": null,
            "min_width": null,
            "object_fit": null,
            "object_position": null,
            "order": null,
            "overflow": null,
            "overflow_x": null,
            "overflow_y": null,
            "padding": null,
            "right": null,
            "top": null,
            "visibility": null,
            "width": null
          }
        },
        "b245b8013abb49e99dfa969968afd574": {
          "model_module": "@jupyter-widgets/controls",
          "model_module_version": "1.5.0",
          "model_name": "HTMLModel",
          "state": {
            "_dom_classes": [],
            "_model_module": "@jupyter-widgets/controls",
            "_model_module_version": "1.5.0",
            "_model_name": "HTMLModel",
            "_view_count": null,
            "_view_module": "@jupyter-widgets/controls",
            "_view_module_version": "1.5.0",
            "_view_name": "HTMLView",
            "description": "",
            "description_tooltip": null,
            "layout": "IPY_MODEL_2fe3263c3d02491e8aa75850b865c79b",
            "placeholder": "​",
            "style": "IPY_MODEL_1ef0636d5e474d4dbc4b8f58a894616c",
            "value": ""
          }
        },
        "b9c9884772eb40a8bbd27cdd56075b7f": {
          "model_module": "@jupyter-widgets/controls",
          "model_module_version": "1.5.0",
          "model_name": "HBoxModel",
          "state": {
            "_dom_classes": [],
            "_model_module": "@jupyter-widgets/controls",
            "_model_module_version": "1.5.0",
            "_model_name": "HBoxModel",
            "_view_count": null,
            "_view_module": "@jupyter-widgets/controls",
            "_view_module_version": "1.5.0",
            "_view_name": "HBoxView",
            "box_style": "",
            "children": [
              "IPY_MODEL_6fa81c6632cf4345aae7a26f2ca756cc",
              "IPY_MODEL_da1055d0d40e45919232d96ee905dfc0",
              "IPY_MODEL_ef5afe4b22584888b7b5c3b31075ba7a"
            ],
            "layout": "IPY_MODEL_d3e3d8603af94224bb0dac9bdcb9de62"
          }
        },
        "bd796f75dbc64cc1838228fb436e767a": {
          "model_module": "@jupyter-widgets/controls",
          "model_module_version": "1.5.0",
          "model_name": "ProgressStyleModel",
          "state": {
            "_model_module": "@jupyter-widgets/controls",
            "_model_module_version": "1.5.0",
            "_model_name": "ProgressStyleModel",
            "_view_count": null,
            "_view_module": "@jupyter-widgets/base",
            "_view_module_version": "1.2.0",
            "_view_name": "StyleView",
            "bar_color": null,
            "description_width": ""
          }
        },
        "c471d687e31d432f81f483fc7d861dcd": {
          "model_module": "@jupyter-widgets/base",
          "model_module_version": "1.2.0",
          "model_name": "LayoutModel",
          "state": {
            "_model_module": "@jupyter-widgets/base",
            "_model_module_version": "1.2.0",
            "_model_name": "LayoutModel",
            "_view_count": null,
            "_view_module": "@jupyter-widgets/base",
            "_view_module_version": "1.2.0",
            "_view_name": "LayoutView",
            "align_content": null,
            "align_items": null,
            "align_self": null,
            "border": null,
            "bottom": null,
            "display": null,
            "flex": null,
            "flex_flow": null,
            "grid_area": null,
            "grid_auto_columns": null,
            "grid_auto_flow": null,
            "grid_auto_rows": null,
            "grid_column": null,
            "grid_gap": null,
            "grid_row": null,
            "grid_template_areas": null,
            "grid_template_columns": null,
            "grid_template_rows": null,
            "height": null,
            "justify_content": null,
            "justify_items": null,
            "left": null,
            "margin": null,
            "max_height": null,
            "max_width": null,
            "min_height": null,
            "min_width": null,
            "object_fit": null,
            "object_position": null,
            "order": null,
            "overflow": null,
            "overflow_x": null,
            "overflow_y": null,
            "padding": null,
            "right": null,
            "top": null,
            "visibility": null,
            "width": "20px"
          }
        },
        "c75ef068f1604074b6cdd89206e2659a": {
          "model_module": "@jupyter-widgets/base",
          "model_module_version": "1.2.0",
          "model_name": "LayoutModel",
          "state": {
            "_model_module": "@jupyter-widgets/base",
            "_model_module_version": "1.2.0",
            "_model_name": "LayoutModel",
            "_view_count": null,
            "_view_module": "@jupyter-widgets/base",
            "_view_module_version": "1.2.0",
            "_view_name": "LayoutView",
            "align_content": null,
            "align_items": null,
            "align_self": null,
            "border": null,
            "bottom": null,
            "display": null,
            "flex": null,
            "flex_flow": null,
            "grid_area": null,
            "grid_auto_columns": null,
            "grid_auto_flow": null,
            "grid_auto_rows": null,
            "grid_column": null,
            "grid_gap": null,
            "grid_row": null,
            "grid_template_areas": null,
            "grid_template_columns": null,
            "grid_template_rows": null,
            "height": null,
            "justify_content": null,
            "justify_items": null,
            "left": null,
            "margin": null,
            "max_height": null,
            "max_width": null,
            "min_height": null,
            "min_width": null,
            "object_fit": null,
            "object_position": null,
            "order": null,
            "overflow": null,
            "overflow_x": null,
            "overflow_y": null,
            "padding": null,
            "right": null,
            "top": null,
            "visibility": null,
            "width": null
          }
        },
        "c9778b9acd9e4ba3ad0be1062260d464": {
          "model_module": "@jupyter-widgets/base",
          "model_module_version": "1.2.0",
          "model_name": "LayoutModel",
          "state": {
            "_model_module": "@jupyter-widgets/base",
            "_model_module_version": "1.2.0",
            "_model_name": "LayoutModel",
            "_view_count": null,
            "_view_module": "@jupyter-widgets/base",
            "_view_module_version": "1.2.0",
            "_view_name": "LayoutView",
            "align_content": null,
            "align_items": null,
            "align_self": null,
            "border": null,
            "bottom": null,
            "display": null,
            "flex": null,
            "flex_flow": null,
            "grid_area": null,
            "grid_auto_columns": null,
            "grid_auto_flow": null,
            "grid_auto_rows": null,
            "grid_column": null,
            "grid_gap": null,
            "grid_row": null,
            "grid_template_areas": null,
            "grid_template_columns": null,
            "grid_template_rows": null,
            "height": null,
            "justify_content": null,
            "justify_items": null,
            "left": null,
            "margin": null,
            "max_height": null,
            "max_width": null,
            "min_height": null,
            "min_width": null,
            "object_fit": null,
            "object_position": null,
            "order": null,
            "overflow": null,
            "overflow_x": null,
            "overflow_y": null,
            "padding": null,
            "right": null,
            "top": null,
            "visibility": null,
            "width": null
          }
        },
        "cdafc3a1af9e449a9d00f45864d6c352": {
          "model_module": "@jupyter-widgets/controls",
          "model_module_version": "1.5.0",
          "model_name": "HTMLModel",
          "state": {
            "_dom_classes": [],
            "_model_module": "@jupyter-widgets/controls",
            "_model_module_version": "1.5.0",
            "_model_name": "HTMLModel",
            "_view_count": null,
            "_view_module": "@jupyter-widgets/controls",
            "_view_module_version": "1.5.0",
            "_view_name": "HTMLView",
            "description": "",
            "description_tooltip": null,
            "layout": "IPY_MODEL_a34eeff39de143e687e14bc4cb8fc908",
            "placeholder": "​",
            "style": "IPY_MODEL_aeacc13899894fcfac2490687e700aa1",
            "value": " 50%"
          }
        },
        "d36f794d538b4258a3a5a7af55acfaf5": {
          "model_module": "@jupyter-widgets/controls",
          "model_module_version": "1.5.0",
          "model_name": "HBoxModel",
          "state": {
            "_dom_classes": [],
            "_model_module": "@jupyter-widgets/controls",
            "_model_module_version": "1.5.0",
            "_model_name": "HBoxModel",
            "_view_count": null,
            "_view_module": "@jupyter-widgets/controls",
            "_view_module_version": "1.5.0",
            "_view_name": "HBoxView",
            "box_style": "",
            "children": [
              "IPY_MODEL_b245b8013abb49e99dfa969968afd574",
              "IPY_MODEL_418634a6c4e84d8aad2f66e401fefb1e",
              "IPY_MODEL_4fa8c34f322b4f4dbd068ab840190c4f"
            ],
            "layout": "IPY_MODEL_c9778b9acd9e4ba3ad0be1062260d464"
          }
        },
        "d3e3d8603af94224bb0dac9bdcb9de62": {
          "model_module": "@jupyter-widgets/base",
          "model_module_version": "1.2.0",
          "model_name": "LayoutModel",
          "state": {
            "_model_module": "@jupyter-widgets/base",
            "_model_module_version": "1.2.0",
            "_model_name": "LayoutModel",
            "_view_count": null,
            "_view_module": "@jupyter-widgets/base",
            "_view_module_version": "1.2.0",
            "_view_name": "LayoutView",
            "align_content": null,
            "align_items": null,
            "align_self": null,
            "border": null,
            "bottom": null,
            "display": null,
            "flex": null,
            "flex_flow": null,
            "grid_area": null,
            "grid_auto_columns": null,
            "grid_auto_flow": null,
            "grid_auto_rows": null,
            "grid_column": null,
            "grid_gap": null,
            "grid_row": null,
            "grid_template_areas": null,
            "grid_template_columns": null,
            "grid_template_rows": null,
            "height": null,
            "justify_content": null,
            "justify_items": null,
            "left": null,
            "margin": null,
            "max_height": null,
            "max_width": null,
            "min_height": null,
            "min_width": null,
            "object_fit": null,
            "object_position": null,
            "order": null,
            "overflow": null,
            "overflow_x": null,
            "overflow_y": null,
            "padding": null,
            "right": null,
            "top": null,
            "visibility": null,
            "width": null
          }
        },
        "d98adc5bd201426cb2385d6783030419": {
          "model_module": "@jupyter-widgets/controls",
          "model_module_version": "1.5.0",
          "model_name": "DescriptionStyleModel",
          "state": {
            "_model_module": "@jupyter-widgets/controls",
            "_model_module_version": "1.5.0",
            "_model_name": "DescriptionStyleModel",
            "_view_count": null,
            "_view_module": "@jupyter-widgets/base",
            "_view_module_version": "1.2.0",
            "_view_name": "StyleView",
            "description_width": ""
          }
        },
        "da1055d0d40e45919232d96ee905dfc0": {
          "model_module": "@jupyter-widgets/controls",
          "model_module_version": "1.5.0",
          "model_name": "FloatProgressModel",
          "state": {
            "_dom_classes": [],
            "_model_module": "@jupyter-widgets/controls",
            "_model_module_version": "1.5.0",
            "_model_name": "FloatProgressModel",
            "_view_count": null,
            "_view_module": "@jupyter-widgets/controls",
            "_view_module_version": "1.5.0",
            "_view_name": "ProgressView",
            "bar_style": "success",
            "description": "",
            "description_tooltip": null,
            "layout": "IPY_MODEL_2e0a56e4114e4b90a45e6969a8f3dd58",
            "max": 1,
            "min": 0,
            "orientation": "horizontal",
            "style": "IPY_MODEL_7098ce49f4fc4549b0220269e0991271",
            "value": 1
          }
        },
        "edd68a843217473c8412a8930ca88cb9": {
          "model_module": "@jupyter-widgets/controls",
          "model_module_version": "1.5.0",
          "model_name": "HTMLModel",
          "state": {
            "_dom_classes": [],
            "_model_module": "@jupyter-widgets/controls",
            "_model_module_version": "1.5.0",
            "_model_name": "HTMLModel",
            "_view_count": null,
            "_view_module": "@jupyter-widgets/controls",
            "_view_module_version": "1.5.0",
            "_view_name": "HTMLView",
            "description": "",
            "description_tooltip": null,
            "layout": "IPY_MODEL_a061fefa25c24e7890234f7a1e50f967",
            "placeholder": "​",
            "style": "IPY_MODEL_97a4817ef75541929ab12160ee669519",
            "value": " 480380/? [26:54&lt;00:00, 144.63it/s]"
          }
        },
        "edd779719e9f45fba9b46e15c8509fed": {
          "model_module": "@jupyter-widgets/base",
          "model_module_version": "1.2.0",
          "model_name": "LayoutModel",
          "state": {
            "_model_module": "@jupyter-widgets/base",
            "_model_module_version": "1.2.0",
            "_model_name": "LayoutModel",
            "_view_count": null,
            "_view_module": "@jupyter-widgets/base",
            "_view_module_version": "1.2.0",
            "_view_name": "LayoutView",
            "align_content": null,
            "align_items": null,
            "align_self": null,
            "border": null,
            "bottom": null,
            "display": null,
            "flex": null,
            "flex_flow": null,
            "grid_area": null,
            "grid_auto_columns": null,
            "grid_auto_flow": null,
            "grid_auto_rows": null,
            "grid_column": null,
            "grid_gap": null,
            "grid_row": null,
            "grid_template_areas": null,
            "grid_template_columns": null,
            "grid_template_rows": null,
            "height": null,
            "justify_content": null,
            "justify_items": null,
            "left": null,
            "margin": null,
            "max_height": null,
            "max_width": null,
            "min_height": null,
            "min_width": null,
            "object_fit": null,
            "object_position": null,
            "order": null,
            "overflow": null,
            "overflow_x": null,
            "overflow_y": null,
            "padding": null,
            "right": null,
            "top": null,
            "visibility": null,
            "width": null
          }
        },
        "ef5afe4b22584888b7b5c3b31075ba7a": {
          "model_module": "@jupyter-widgets/controls",
          "model_module_version": "1.5.0",
          "model_name": "HTMLModel",
          "state": {
            "_dom_classes": [],
            "_model_module": "@jupyter-widgets/controls",
            "_model_module_version": "1.5.0",
            "_model_name": "HTMLModel",
            "_view_count": null,
            "_view_module": "@jupyter-widgets/controls",
            "_view_module_version": "1.5.0",
            "_view_name": "HTMLView",
            "description": "",
            "description_tooltip": null,
            "layout": "IPY_MODEL_fba61377a61f42858f55183772c6964a",
            "placeholder": "​",
            "style": "IPY_MODEL_9ac2cea06ec44273acb320accd4502b2",
            "value": " 120094/? [11:06&lt;00:00, 150.42it/s]"
          }
        },
        "f7a01f2648844e418c67361ef3acee95": {
          "model_module": "@jupyter-widgets/controls",
          "model_module_version": "1.5.0",
          "model_name": "ProgressStyleModel",
          "state": {
            "_model_module": "@jupyter-widgets/controls",
            "_model_module_version": "1.5.0",
            "_model_name": "ProgressStyleModel",
            "_view_count": null,
            "_view_module": "@jupyter-widgets/base",
            "_view_module_version": "1.2.0",
            "_view_name": "StyleView",
            "bar_color": null,
            "description_width": ""
          }
        },
        "fba61377a61f42858f55183772c6964a": {
          "model_module": "@jupyter-widgets/base",
          "model_module_version": "1.2.0",
          "model_name": "LayoutModel",
          "state": {
            "_model_module": "@jupyter-widgets/base",
            "_model_module_version": "1.2.0",
            "_model_name": "LayoutModel",
            "_view_count": null,
            "_view_module": "@jupyter-widgets/base",
            "_view_module_version": "1.2.0",
            "_view_name": "LayoutView",
            "align_content": null,
            "align_items": null,
            "align_self": null,
            "border": null,
            "bottom": null,
            "display": null,
            "flex": null,
            "flex_flow": null,
            "grid_area": null,
            "grid_auto_columns": null,
            "grid_auto_flow": null,
            "grid_auto_rows": null,
            "grid_column": null,
            "grid_gap": null,
            "grid_row": null,
            "grid_template_areas": null,
            "grid_template_columns": null,
            "grid_template_rows": null,
            "height": null,
            "justify_content": null,
            "justify_items": null,
            "left": null,
            "margin": null,
            "max_height": null,
            "max_width": null,
            "min_height": null,
            "min_width": null,
            "object_fit": null,
            "object_position": null,
            "order": null,
            "overflow": null,
            "overflow_x": null,
            "overflow_y": null,
            "padding": null,
            "right": null,
            "top": null,
            "visibility": null,
            "width": null
          }
        }
      }
    }
  },
  "nbformat": 4,
  "nbformat_minor": 0
}
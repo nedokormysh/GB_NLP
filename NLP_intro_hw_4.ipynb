{
  "cells": [
    {
      "cell_type": "markdown",
      "metadata": {
        "id": "view-in-github",
        "colab_type": "text"
      },
      "source": [
        "<a href=\"https://colab.research.google.com/github/nedokormysh/GB_NLP_intro/blob/lesson4/NLP_intro_hw_4.ipynb\" target=\"_parent\"><img src=\"https://colab.research.google.com/assets/colab-badge.svg\" alt=\"Open In Colab\"/></a>"
      ]
    },
    {
      "cell_type": "markdown",
      "metadata": {
        "id": "6Irt81kDZXZd"
      },
      "source": [
        "#Тематическое моделирование\n",
        "Скачиваем датасет (источник): положительные, отрицательные.\n",
        "\n",
        "или можно через ноутбук\n",
        "\n",
        "!wget https://www.dropbox.com/s/fnpq3z4bcnoktiv/positive.csv !wget https://www.dropbox.com/s/r6u59ljhhjdg6j0/negative.csv\n",
        "\n",
        "как альтернатива можно скачать данные из Роспотребнадзора https://zpp.rospotrebnadzor.ru/Forum/Appeals для этого берём ноутбук parse_rospotrebnadzor.ipynb устанавливаем количество скачанных страниц больше не 50-сят хотябы 500 и для анализа берём только вопросы так как ответы есть не всегда\n",
        "\n",
        "объединить в одну выборку (это только для твитов), для роспотребнадзора сформировать датасет из вопросов"
      ]
    },
    {
      "cell_type": "markdown",
      "metadata": {
        "id": "LvLONV7OVHrq"
      },
      "source": [
        "# Качаем данные."
      ]
    },
    {
      "cell_type": "code",
      "execution_count": null,
      "metadata": {
        "id": "bXcFbVzqVDw_"
      },
      "outputs": [],
      "source": [
        "import requests\n",
        "from bs4 import BeautifulSoup \n",
        "import time\n",
        "from urllib.parse import urlparse, urljoin\n",
        "from tqdm.notebook import tqdm"
      ]
    },
    {
      "cell_type": "code",
      "execution_count": null,
      "metadata": {
        "colab": {
          "base_uri": "https://localhost:8080/",
          "height": 49,
          "referenced_widgets": [
            "e189bfa17a3042b7a3e785378382850f",
            "0563ea62f3f0456cb4f771e6e83e551f",
            "e8c3ff7cf1da4830b5c241834075b125",
            "a7c220da2c29410aa7d7a0d26de5d462",
            "2c3091498cd248bab53b0563e56a297a",
            "6100800a5c1f4b85806e83e5489a4d5d",
            "edb2cf7d43d94671b9ee9b27821c538d",
            "ec17688ec9dd41a2b6390c395fd6b5f8",
            "a81b18d22c9b4b19b88daacb06d6efb8",
            "f9dd5392ab9a4381aee44e4b2a884c49",
            "8e1859df3f894d7b9a9604f587be5fb0",
            "5afa451560714f3da302272e3a10ca9f"
          ]
        },
        "id": "N4DInD5dVM9q",
        "outputId": "994a5125-f504-498a-889a-88f3854876eb"
      },
      "outputs": [
        {
          "data": {
            "application/vnd.jupyter.widget-view+json": {
              "model_id": "5afa451560714f3da302272e3a10ca9f",
              "version_major": 2,
              "version_minor": 0
            },
            "text/plain": [
              "Pages:   0%|          | 0/49 [00:00<?, ?it/s]"
            ]
          },
          "metadata": {},
          "output_type": "display_data"
        }
      ],
      "source": [
        "## найти id каждого вопроса на страницах\n",
        "page = 1\n",
        "main_url = 'https://zpp.rospotrebnadzor.ru/Forum/Appeals/AjaxindexList?page={page}&searchtext=&categories=[]'\n",
        "\n",
        "def ids_from_page(soup):\n",
        "    return [i.get('href') for i  in soup.findAll('a', {'class':'appeal-title-link'})]\n",
        "    \n",
        "urls = []\n",
        "for page in tqdm(range(1, 50), desc='Pages'):\n",
        "    time.sleep(0.5)\n",
        "    res = requests.get(main_url.format(page=page))  \n",
        "    soup = BeautifulSoup(res.text)\n",
        "    urls.extend(ids_from_page(soup))"
      ]
    },
    {
      "cell_type": "code",
      "execution_count": null,
      "metadata": {
        "colab": {
          "base_uri": "https://localhost:8080/",
          "height": 49,
          "referenced_widgets": [
            "abeffdd2749f4ee9a178127666218b68",
            "48438aaac13549169f745b2698851795",
            "987f125be224405ca2d514511e5d43a9",
            "021b90f34ff54945bdcdf7ca956237e5",
            "fff313987d4e41de9a7165bb07bd3164",
            "92f8d3f99b894d92a12aa25b47d0c671",
            "13568200aed44d0ba1ce6893f98fe236",
            "9f7b581f13754eadab17630349ea67c9",
            "2fc826065de04b8b92c921aaf9540f42",
            "76eebdd8b53d42e083468b59010e840c",
            "da51bbc870f340a0bdb08c156d5487c8",
            "12390b28f88b4b54b1d77e58fca5d3e7"
          ]
        },
        "id": "9UkRxiy6XAuB",
        "outputId": "8a36324c-0206-4388-d623-42ade6e98db7"
      },
      "outputs": [
        {
          "data": {
            "application/vnd.jupyter.widget-view+json": {
              "model_id": "12390b28f88b4b54b1d77e58fca5d3e7",
              "version_major": 2,
              "version_minor": 0
            },
            "text/plain": [
              "Pages:   0%|          | 0/245 [00:00<?, ?it/s]"
            ]
          },
          "metadata": {},
          "output_type": "display_data"
        }
      ],
      "source": [
        "## имея id запросов достанем тексты на страницах\n",
        "domain = 'https://zpp.rospotrebnadzor.ru'\n",
        "\n",
        "def get_text_page_question(soup):\n",
        "    return soup.findAll('p', {'class':'appeal-details-message'})[0].text\n",
        "def get_text_page_answer(soup):\n",
        "    return soup.findAll('p', {'class':'appeal-comments-message'})[0].text\n",
        "\n",
        "question = []\n",
        "answers = []\n",
        "\n",
        "for url in tqdm(urls, desc='Pages'):\n",
        "    time.sleep(0.5)\n",
        "    res = requests.get(urljoin(domain, url))  \n",
        "    soup = BeautifulSoup(res.text)\n",
        "    \n",
        "    question.append(get_text_page_question(soup))\n",
        "    try:\n",
        "        answers.append(get_text_page_answer(soup))\n",
        "    except:\n",
        "        answers.append('No answer')"
      ]
    },
    {
      "cell_type": "code",
      "execution_count": null,
      "metadata": {
        "id": "QoFC26vfYvuD"
      },
      "outputs": [],
      "source": [
        "!pip install pymorphy2 -q"
      ]
    },
    {
      "cell_type": "code",
      "execution_count": null,
      "metadata": {
        "id": "CXDapC4cZD_L"
      },
      "outputs": [],
      "source": [
        "!pip install stop_words -q"
      ]
    },
    {
      "cell_type": "code",
      "execution_count": null,
      "metadata": {
        "id": "ilF1QfXKXLWa"
      },
      "outputs": [],
      "source": [
        "import pandas as pd\n",
        "import numpy as np\n",
        "from nltk.corpus import stopwords\n",
        "from stop_words import get_stop_words\n",
        "import nltk\n",
        "from nltk.tokenize import word_tokenize\n",
        "import re\n",
        "from pymorphy2 import MorphAnalyzer"
      ]
    },
    {
      "cell_type": "code",
      "execution_count": null,
      "metadata": {
        "id": "L8KlAM9pXVRm"
      },
      "outputs": [],
      "source": [
        "df = pd.DataFrame(question, columns=['question'])"
      ]
    },
    {
      "cell_type": "code",
      "execution_count": null,
      "metadata": {
        "colab": {
          "base_uri": "https://localhost:8080/",
          "height": 423
        },
        "id": "Q-vvB1BcXrd5",
        "outputId": "7a2cbc26-f531-4549-89fc-90da79574ada"
      },
      "outputs": [
        {
          "data": {
            "text/html": [
              "<div>\n",
              "<style scoped>\n",
              "    .dataframe tbody tr th:only-of-type {\n",
              "        vertical-align: middle;\n",
              "    }\n",
              "\n",
              "    .dataframe tbody tr th {\n",
              "        vertical-align: top;\n",
              "    }\n",
              "\n",
              "    .dataframe thead th {\n",
              "        text-align: right;\n",
              "    }\n",
              "</style>\n",
              "<table border=\"1\" class=\"dataframe\">\n",
              "  <thead>\n",
              "    <tr style=\"text-align: right;\">\n",
              "      <th></th>\n",
              "      <th>question</th>\n",
              "    </tr>\n",
              "  </thead>\n",
              "  <tbody>\n",
              "    <tr>\n",
              "      <th>0</th>\n",
              "      <td>Здравствуйте! 18.02.2023 оформила заказ и сраз...</td>\n",
              "    </tr>\n",
              "    <tr>\n",
              "      <th>1</th>\n",
              "      <td>Добрый день.город Киров.\\r\\nТакая история:окол...</td>\n",
              "    </tr>\n",
              "    <tr>\n",
              "      <th>2</th>\n",
              "      <td>Здравствуйте!\\r\\nМне сегодня без уважительной ...</td>\n",
              "    </tr>\n",
              "    <tr>\n",
              "      <th>3</th>\n",
              "      <td>Предзаказал игру Atomic Heart. Покупал через о...</td>\n",
              "    </tr>\n",
              "    <tr>\n",
              "      <th>4</th>\n",
              "      <td>20.02.2023 года мной был оформлен и оплачен за...</td>\n",
              "    </tr>\n",
              "    <tr>\n",
              "      <th>...</th>\n",
              "      <td>...</td>\n",
              "    </tr>\n",
              "    <tr>\n",
              "      <th>240</th>\n",
              "      <td>Здравствуйте,ребенок 3лет,по ошибке подключил ...</td>\n",
              "    </tr>\n",
              "    <tr>\n",
              "      <th>241</th>\n",
              "      <td>Здравствуйте. Хочу пожаловаться на маркетплейс...</td>\n",
              "    </tr>\n",
              "    <tr>\n",
              "      <th>242</th>\n",
              "      <td>Здравствуйте. В магазине торговой сети \"Пятеро...</td>\n",
              "    </tr>\n",
              "    <tr>\n",
              "      <th>243</th>\n",
              "      <td>Жалоба на отказ ООО Вайлдберриз в добровольном...</td>\n",
              "    </tr>\n",
              "    <tr>\n",
              "      <th>244</th>\n",
              "      <td>Добрый день! \\r\\nВ октябре 2022 года приобрёл ...</td>\n",
              "    </tr>\n",
              "  </tbody>\n",
              "</table>\n",
              "<p>245 rows × 1 columns</p>\n",
              "</div>"
            ],
            "text/plain": [
              "                                              question\n",
              "0    Здравствуйте! 18.02.2023 оформила заказ и сраз...\n",
              "1    Добрый день.город Киров.\\r\\nТакая история:окол...\n",
              "2    Здравствуйте!\\r\\nМне сегодня без уважительной ...\n",
              "3    Предзаказал игру Atomic Heart. Покупал через о...\n",
              "4    20.02.2023 года мной был оформлен и оплачен за...\n",
              "..                                                 ...\n",
              "240  Здравствуйте,ребенок 3лет,по ошибке подключил ...\n",
              "241  Здравствуйте. Хочу пожаловаться на маркетплейс...\n",
              "242  Здравствуйте. В магазине торговой сети \"Пятеро...\n",
              "243  Жалоба на отказ ООО Вайлдберриз в добровольном...\n",
              "244  Добрый день! \\r\\nВ октябре 2022 года приобрёл ...\n",
              "\n",
              "[245 rows x 1 columns]"
            ]
          },
          "execution_count": 10,
          "metadata": {},
          "output_type": "execute_result"
        }
      ],
      "source": [
        "df.to_csv('rospotrebnadzor.csv', index=False)\n",
        "df = pd.read_csv('rospotrebnadzor.csv')\n",
        "df"
      ]
    },
    {
      "cell_type": "markdown",
      "metadata": {
        "id": "NggB_v3vX56x"
      },
      "source": [
        "# Препроцессинг"
      ]
    },
    {
      "cell_type": "code",
      "execution_count": null,
      "metadata": {
        "colab": {
          "base_uri": "https://localhost:8080/"
        },
        "id": "b7lUA-Gzc9OH",
        "outputId": "89a4272b-970f-4a92-dbf1-b4d949cd5689"
      },
      "outputs": [
        {
          "name": "stderr",
          "output_type": "stream",
          "text": [
            "[nltk_data] Downloading package punkt to\n",
            "[nltk_data]     C:\\Users\\недокормыш\\AppData\\Roaming\\nltk_data...\n",
            "[nltk_data]   Unzipping tokenizers\\punkt.zip.\n"
          ]
        },
        {
          "data": {
            "text/plain": [
              "True"
            ]
          },
          "execution_count": 11,
          "metadata": {},
          "output_type": "execute_result"
        }
      ],
      "source": [
        "nltk.download('punkt')"
      ]
    },
    {
      "cell_type": "code",
      "execution_count": null,
      "metadata": {
        "id": "VNGGDMfFX5nN"
      },
      "outputs": [],
      "source": [
        "# nltk.download('stopwords')\n",
        "words_regex = re.compile('\\w+')\n",
        "morpher = MorphAnalyzer()\n",
        "my_stopwords = ['здравствуйте', 'добрый', 'день', 'вопрос', 'роспотребнадзор', 'либо', 'месяц', \n",
        "                'течение', 'данный', 'это', 'просить', 'сказать', 'год', 'адрес', 'обращение', 'мочь', 'иметь', 'человек',\n",
        "                'право']\n",
        "\n",
        "stopwords = set(get_stop_words(\"ru\") + my_stopwords)\n",
        "\n",
        "def preprocess_txt(line):\n",
        "    line = line.lower() # Нижний регистр\n",
        "    line = re.sub(r'[^\\w\\s]', ' ', line) # Пунктуация\n",
        "    line = re.sub(\" \\d+\", \" \", line) # Числа\n",
        "    words = word_tokenize(line) # Токенизация\n",
        "    words = [morpher.parse(word)[0].normal_form for word in words] # Лемматизация\n",
        "    words = [word for word in words if len(word)>3] # Слова длинной меньше 3 символов\n",
        "    words = [word for word in words if word not in stopwords] # Стоп слова\n",
        "   \n",
        "    return words"
      ]
    },
    {
      "cell_type": "code",
      "execution_count": null,
      "metadata": {
        "id": "6n6ETEbQo51D"
      },
      "outputs": [],
      "source": [
        "# nltk.download('stopwords')\n",
        "# words_regex = re.compile('\\w+')\n",
        "# morph = MorphAnalyzer()\n",
        "# my_stopwords = ['здравствуйте', 'добрый', 'день', 'вопрос', 'роспотребнадзор', 'либо', 'месяц', \n",
        "#                 'течение', 'данный', 'это', 'просить', 'сказать', 'год', 'адрес', 'обращение', 'мочь', 'иметь', 'человек',\n",
        "#                 'право', 'санкт' ,'петербург']\n",
        "\n",
        "# def find_words(text, regex = words_regex):\n",
        "#     tokens =  regex.findall(text.lower())\n",
        "#     return [w for w in tokens if w.isalpha() and len(w) >= 3]\n",
        "\n",
        "\n",
        "# stopwords_list = stopwords.words('russian') + my_stopwords\n",
        "\n",
        "# # mystem = Mystem()\n",
        "# # def lemmatize(words, lemmer = mystem, stopwords = stopwords_list):\n",
        "# #     lemmas = lemmer.lemmatize(' '.join(words))\n",
        "# #     return [w for w in lemmas if not w in stopwords \n",
        "# #             and w.isalpha()]\n",
        "\n",
        "# def lemmatize(words, lemmer = morph, stopwords = stopwords_list):\n",
        "#     lemmas = [lemmer.parse(w)[0].normal_form for w in words]\n",
        "#     return [w for w in lemmas if not w in stopwords \n",
        "#             and w.isalpha()]\n",
        "\n",
        "# def preprocess(text):\n",
        "#     return (lemmatize(find_words(text)))"
      ]
    },
    {
      "cell_type": "code",
      "execution_count": null,
      "metadata": {
        "colab": {
          "base_uri": "https://localhost:8080/",
          "height": 72
        },
        "id": "Ik8VupJGcwJi",
        "outputId": "35efe98f-593d-48c6-b28e-56c0559c4dbf"
      },
      "outputs": [
        {
          "data": {
            "text/plain": [
              "'Добрый день.город Киров.\\r\\nТакая история:около месяца назад я купила в магазине домашние брюки и они оказались плохого качества(после стирки портят мебель и руки-линяют).Этот их недостаток я заметила после истечения 2 недель от даты покупки.Я написала в основную группу магазина в интернете,скорее всего в московскую.Объяснила им,что с момента покупки прошло больше 2 недель,они сказали,что и сейчас можно прийти в магазин с некачественным товаром,написать претензию,деньги вернуть должны.А пришла в магазин,мне сказали извините,срок возврата 2 недели...На мои слова о том,что я писала в основную группу и там мне сказали прийти в магазин с вещью,пожимают плечами...Очень обидно😔 Скажите,кто здесь прав?'"
            ]
          },
          "execution_count": 13,
          "metadata": {},
          "output_type": "execute_result"
        }
      ],
      "source": [
        "df.question.iloc[1]"
      ]
    },
    {
      "cell_type": "code",
      "execution_count": null,
      "metadata": {
        "colab": {
          "base_uri": "https://localhost:8080/"
        },
        "id": "J1TCsRnhc1HL",
        "outputId": "7a90a3a0-f7af-4c40-e7d6-648de00dad45"
      },
      "outputs": [
        {
          "name": "stdout",
          "output_type": "stream",
          "text": [
            "['город', 'киров', 'история', 'купить', 'магазин', 'домашний', 'брюки', 'оказаться', 'плохой', 'качество', 'стирка', 'портить', 'мебель', 'рука', 'линять', 'недостаток', 'заметить', 'истечение', 'неделя', 'дата', 'покупка', 'написать', 'основный', 'группа', 'магазин', 'интернет', 'скорее', 'московский', 'объяснить', 'момент', 'покупка', 'пройти', 'большой', 'неделя', 'прийти', 'магазин', 'некачественный', 'товар', 'написать', 'претензия', 'деньга', 'вернуть', 'должный', 'прийти', 'магазин', 'извинить', 'срок', 'возврат', 'неделя', 'слово', 'писать', 'основный', 'группа', 'прийти', 'магазин', 'вещь', 'пожимать', 'плечо', 'обидно']\n"
          ]
        }
      ],
      "source": [
        "print(preprocess_txt(df.question.iloc[1]))"
      ]
    },
    {
      "cell_type": "code",
      "execution_count": null,
      "metadata": {
        "colab": {
          "base_uri": "https://localhost:8080/",
          "height": 49,
          "referenced_widgets": [
            "46ef1a8d306b4ed08864c24584b2a3f6",
            "b5a6150b2da3448da650e018f8b423f5",
            "8ef7d1e7610f44bc9d08e01fbd4bbc7f",
            "dd8c40e8a7fe407b9b781bc9fc609f2b",
            "3c84a27beb8d4a54b1be44f5bd15549f",
            "8725d11b9dbf4ba7b21ad751417d9ba8",
            "7eb83834e531408f855a01e64d34ec7d",
            "5b5fbd6d59b544998cee0eceed857106",
            "5fcf8ae67ce4429c8da3fdbe00b4c3cb",
            "d9ddfcd2d37d4a848e41cdfa2a0b1c24",
            "e984ffd8cfb5480b9c79714f7c3b3a43",
            "df814c63024e442e9879d9eff3de16c7"
          ]
        },
        "id": "PQsnHBzVdFZ7",
        "outputId": "401231bb-5793-4020-cd90-325310c1cfa5"
      },
      "outputs": [
        {
          "data": {
            "application/vnd.jupyter.widget-view+json": {
              "model_id": "df814c63024e442e9879d9eff3de16c7",
              "version_major": 2,
              "version_minor": 0
            },
            "text/plain": [
              "  0%|          | 0/245 [00:00<?, ?it/s]"
            ]
          },
          "metadata": {},
          "output_type": "display_data"
        }
      ],
      "source": [
        "preprocessed_text = list(tqdm(map(preprocess_txt, df['question']), total=len(df)))"
      ]
    },
    {
      "cell_type": "code",
      "execution_count": null,
      "metadata": {
        "colab": {
          "base_uri": "https://localhost:8080/",
          "height": 143
        },
        "id": "se5-5smydJEO",
        "outputId": "08fb3553-1b50-4c00-f570-ef923fb0a327"
      },
      "outputs": [
        {
          "data": {
            "text/html": [
              "<div>\n",
              "<style scoped>\n",
              "    .dataframe tbody tr th:only-of-type {\n",
              "        vertical-align: middle;\n",
              "    }\n",
              "\n",
              "    .dataframe tbody tr th {\n",
              "        vertical-align: top;\n",
              "    }\n",
              "\n",
              "    .dataframe thead th {\n",
              "        text-align: right;\n",
              "    }\n",
              "</style>\n",
              "<table border=\"1\" class=\"dataframe\">\n",
              "  <thead>\n",
              "    <tr style=\"text-align: right;\">\n",
              "      <th></th>\n",
              "      <th>question</th>\n",
              "      <th>prep_text</th>\n",
              "    </tr>\n",
              "  </thead>\n",
              "  <tbody>\n",
              "    <tr>\n",
              "      <th>146</th>\n",
              "      <td>Здравствуйте! Подскажите пожалуйста какими зак...</td>\n",
              "      <td>[подсказать, закон, подзаконный, регулироватьс...</td>\n",
              "    </tr>\n",
              "    <tr>\n",
              "      <th>39</th>\n",
              "      <td>Здравствуйте. Хотели провести детский день рож...</td>\n",
              "      <td>[провести, детский, рождение, детский, комната...</td>\n",
              "    </tr>\n",
              "    <tr>\n",
              "      <th>74</th>\n",
              "      <td>Сделал заказ на сайте Wildberries. Покупка осу...</td>\n",
              "      <td>[сделать, заказ, сайт, wildberries, покупка, о...</td>\n",
              "    </tr>\n",
              "  </tbody>\n",
              "</table>\n",
              "</div>"
            ],
            "text/plain": [
              "                                              question  \\\n",
              "146  Здравствуйте! Подскажите пожалуйста какими зак...   \n",
              "39   Здравствуйте. Хотели провести детский день рож...   \n",
              "74   Сделал заказ на сайте Wildberries. Покупка осу...   \n",
              "\n",
              "                                             prep_text  \n",
              "146  [подсказать, закон, подзаконный, регулироватьс...  \n",
              "39   [провести, детский, рождение, детский, комната...  \n",
              "74   [сделать, заказ, сайт, wildberries, покупка, о...  "
            ]
          },
          "execution_count": 16,
          "metadata": {},
          "output_type": "execute_result"
        }
      ],
      "source": [
        "df['prep_text'] = preprocessed_text\n",
        "df.sample(3)"
      ]
    },
    {
      "cell_type": "markdown",
      "metadata": {
        "id": "JqX2-kvheUvI"
      },
      "source": [
        "# LDA"
      ]
    },
    {
      "cell_type": "code",
      "execution_count": null,
      "metadata": {
        "id": "R7GRuq7zoBVD"
      },
      "outputs": [],
      "source": [
        "# !pip install -U gensim -q"
      ]
    },
    {
      "cell_type": "code",
      "execution_count": null,
      "metadata": {
        "id": "4tCwuw_yeUah"
      },
      "outputs": [],
      "source": [
        "# Импорт библиотек\n",
        "\n",
        "from gensim.models import *\n",
        "from gensim import corpora\n",
        "from gensim.models.phrases import Phraser"
      ]
    },
    {
      "cell_type": "code",
      "execution_count": null,
      "metadata": {
        "id": "IXnN_LWKgQ7D"
      },
      "outputs": [],
      "source": [
        "dictionary = corpora.Dictionary(df['prep_text'])\n",
        "\n",
        "dictionary.filter_extremes(no_below = 10, no_above = 0.9, keep_n=None) # игнорируем слова, которые встречаются реже 10 раз или составляют более 0.9 словаря \n",
        "dictionary.save('rospotrebnadzor.dict')"
      ]
    },
    {
      "cell_type": "code",
      "execution_count": null,
      "metadata": {
        "id": "hgyjBCkxhHbr"
      },
      "outputs": [],
      "source": [
        "# Векторизация документов\n",
        "\n",
        "corpus = [dictionary.doc2bow(text) for text in df['prep_text']]\n",
        "corpora.MmCorpus.serialize('rospotrebnadzor.model', corpus) "
      ]
    },
    {
      "cell_type": "code",
      "execution_count": null,
      "metadata": {
        "colab": {
          "base_uri": "https://localhost:8080/"
        },
        "id": "FKSzffTkiNXR",
        "outputId": "a4e9e4cb-67e6-4914-d183-d7ab63f6ec35"
      },
      "outputs": [
        {
          "name": "stdout",
          "output_type": "stream",
          "text": [
            "Wall time: 664 ms\n"
          ]
        }
      ],
      "source": [
        "# Обучение модели\n",
        "\n",
        "%time lda = ldamodel.LdaModel(corpus, id2word=dictionary, num_topics=20, chunksize=50, update_every=1, passes=2)"
      ]
    },
    {
      "cell_type": "code",
      "execution_count": null,
      "metadata": {
        "colab": {
          "base_uri": "https://localhost:8080/"
        },
        "id": "sz7j6dMSiVo4",
        "outputId": "cb1b2018-e9b7-464f-c57b-eb3b9562dfd8"
      },
      "outputs": [
        {
          "data": {
            "text/plain": [
              "[(2,\n",
              "  '0.060*\"почта\" + 0.058*\"документ\" + 0.057*\"https\" + 0.053*\"товар\" + 0.049*\"номер\" + 0.049*\"передать\" + 0.047*\"ответ\" + 0.042*\"оплатить\" + 0.033*\"заказ\" + 0.031*\"обнаружить\"'),\n",
              " (19,\n",
              "  '0.214*\"товар\" + 0.067*\"заказ\" + 0.059*\"деньга\" + 0.057*\"доставка\" + 0.055*\"возврат\" + 0.033*\"поддержка\" + 0.030*\"списать\" + 0.027*\"заказать\" + 0.026*\"сервис\" + 0.025*\"брак\"'),\n",
              " (6,\n",
              "  '0.428*\"связь\" + 0.207*\"оператор\" + 0.154*\"счёт\" + 0.111*\"являться\" + 0.001*\"предоставить\" + 0.001*\"момент\" + 0.001*\"пройти\" + 0.001*\"декабрь\" + 0.001*\"лицо\" + 0.001*\"требование\"'),\n",
              " (7,\n",
              "  '0.106*\"деньга\" + 0.057*\"телефон\" + 0.054*\"делать\" + 0.050*\"размер\" + 0.048*\"согласно\" + 0.047*\"купить\" + 0.046*\"вернуть\" + 0.040*\"писать\" + 0.034*\"февраль\" + 0.033*\"ситуация\"'),\n",
              " (0,\n",
              "  '0.403*\"магазин\" + 0.067*\"покупка\" + 0.051*\"далее\" + 0.048*\"прийти\" + 0.044*\"упаковка\" + 0.039*\"результат\" + 0.039*\"проверить\" + 0.031*\"продукт\" + 0.027*\"проверка\" + 0.027*\"написать\"'),\n",
              " (13,\n",
              "  '0.294*\"дата\" + 0.228*\"сайт\" + 0.194*\"указать\" + 0.044*\"составить\" + 0.041*\"подсказать\" + 0.041*\"отсутствовать\" + 0.032*\"рубль\" + 0.023*\"личный\" + 0.001*\"стоить\" + 0.001*\"магазин\"'),\n",
              " (16,\n",
              "  '0.005*\"отправить\" + 0.005*\"москва\" + 0.005*\"предложить\" + 0.005*\"ошибка\" + 0.005*\"отсутствие\" + 0.005*\"случай\" + 0.005*\"договор\" + 0.005*\"заключить\" + 0.005*\"нужный\" + 0.005*\"компания\"'),\n",
              " (11,\n",
              "  '0.103*\"возможность\" + 0.090*\"оплата\" + 0.069*\"рубль\" + 0.064*\"ошибка\" + 0.064*\"карта\" + 0.046*\"условие\" + 0.046*\"считать\" + 0.041*\"личный\" + 0.039*\"кабинет\" + 0.035*\"решить\"'),\n",
              " (1,\n",
              "  '0.217*\"проблема\" + 0.177*\"ребёнок\" + 0.128*\"фото\" + 0.103*\"взять\" + 0.090*\"деньга\" + 0.026*\"написать\" + 0.026*\"квартира\" + 0.019*\"прийти\" + 0.018*\"прислать\" + 0.014*\"должный\"'),\n",
              " (18,\n",
              "  '0.154*\"оплатить\" + 0.116*\"факт\" + 0.084*\"позвонить\" + 0.059*\"отправить\" + 0.054*\"сообщить\" + 0.049*\"февраль\" + 0.037*\"сообщение\" + 0.037*\"информация\" + 0.033*\"неделя\" + 0.032*\"часть\"')]"
            ]
          },
          "execution_count": 22,
          "metadata": {},
          "output_type": "execute_result"
        }
      ],
      "source": [
        "lda.show_topics(num_topics=10, num_words=10, formatted=True)"
      ]
    },
    {
      "cell_type": "markdown",
      "metadata": {
        "id": "h0FP35atkrnr"
      },
      "source": [
        "визуализация"
      ]
    },
    {
      "cell_type": "code",
      "execution_count": null,
      "metadata": {
        "id": "JN8kMWHNkqsv"
      },
      "outputs": [],
      "source": [
        "# conda install pyLDAvis -q"
      ]
    },
    {
      "cell_type": "code",
      "execution_count": null,
      "metadata": {
        "id": "Txn_HtG-iSn8"
      },
      "outputs": [],
      "source": [
        "# Импорт библиотек\n",
        "\n",
        "import pyLDAvis\n",
        "import pyLDAvis.gensim_models as gensimvis\n",
        "pyLDAvis.enable_notebook()\n",
        "\n",
        "import matplotlib.pyplot as plt\n",
        "%matplotlib inline"
      ]
    },
    {
      "cell_type": "code",
      "execution_count": null,
      "metadata": {
        "colab": {
          "base_uri": "https://localhost:8080/",
          "height": 934
        },
        "id": "CyInk0YbnH3q",
        "outputId": "db7718b4-9703-4b90-9f49-54494b1561b0"
      },
      "outputs": [
        {
          "name": "stderr",
          "output_type": "stream",
          "text": [
            "D:\\Anaconda\\lib\\site-packages\\pyLDAvis\\_prepare.py:243: FutureWarning: In a future version of pandas all arguments of DataFrame.drop except for the argument 'labels' will be keyword-only.\n",
            "  default_term_info = default_term_info.sort_values(\n"
          ]
        },
        {
          "name": "stdout",
          "output_type": "stream",
          "text": [
            "Wall time: 16.1 s\n"
          ]
        },
        {
          "data": {
            "text/html": [
              "\n",
              "<link rel=\"stylesheet\" type=\"text/css\" href=\"https://cdn.jsdelivr.net/gh/bmabey/pyLDAvis@3.4.0/pyLDAvis/js/ldavis.v1.0.0.css\">\n",
              "\n",
              "\n",
              "<div id=\"ldavis_el172416355132627043589522567\" style=\"background-color:white;\"></div>\n",
              "<script type=\"text/javascript\">\n",
              "\n",
              "var ldavis_el172416355132627043589522567_data = {\"mdsDat\": {\"x\": [0.21553140122641992, -0.04084350344131374, -0.008403920596667369, -0.10528790513218851, 0.07032800688575332, 0.014218585399685386, 0.0940296569818363, -0.14853982497962923, -0.1523916659249835, -0.09888085049430015, 0.006598759324086408, -0.12810673420431073, 0.283359354689666, -0.0804804498038288, -0.06800456851206205, 0.06078341065252115, 0.18334183641710622, -0.060408570003862384, -0.01948230199630573, -0.017360716487620637], \"y\": [-0.11441645773914001, -0.042296061203125776, -0.03897964493201309, -0.006120437563360042, 0.15238144820529081, -0.1859658185863546, -0.1965016021645698, -0.03078812889007047, -0.059052907733572954, 0.1117822612687925, -0.13500385655510244, 0.0376149057463491, 0.11717385967096056, 0.03478753851681934, 0.22150009892981304, 0.1904652805599267, 0.026691174372722642, -0.052873993167147824, -0.01107083188368106, -0.0193268268525374], \"topics\": [1, 2, 3, 4, 5, 6, 7, 8, 9, 10, 11, 12, 13, 14, 15, 16, 17, 18, 19, 20], \"cluster\": [1, 1, 1, 1, 1, 1, 1, 1, 1, 1, 1, 1, 1, 1, 1, 1, 1, 1, 1, 1], \"Freq\": [14.441836002081027, 9.515707965249563, 9.33647922142621, 8.64774477514794, 8.449182167357632, 7.633487511851807, 7.399964523512873, 6.854493092923356, 4.948901395939704, 4.613729018902608, 3.633780578109369, 2.8736048589042182, 2.865537060718005, 2.05859495771975, 1.8271132075991534, 1.8014320737940575, 1.4739755062131568, 1.2355397978387062, 0.1944481423554327, 0.1944481423554327]}, \"tinfo\": {\"Term\": [\"\\u043c\\u0430\\u0433\\u0430\\u0437\\u0438\\u043d\", \"\\u0443\\u0441\\u043b\\u0443\\u0433\\u0430\", \"\\u0442\\u043e\\u0432\\u0430\\u0440\", \"\\u0441\\u0432\\u044f\\u0437\\u044c\", \"\\u043f\\u0440\\u043e\\u0434\\u0430\\u0432\\u0435\\u0446\", \"\\u0434\\u0435\\u043d\\u044c\\u0433\\u0430\", \"\\u0441\\u0440\\u043e\\u043a\", \"\\u0434\\u043e\\u0433\\u043e\\u0432\\u043e\\u0440\", \"\\u0446\\u0435\\u043d\\u0430\", \"\\u0441\\u0430\\u0439\\u0442\", \"\\u0434\\u0430\\u0442\\u0430\", \"\\u043e\\u043f\\u043b\\u0430\\u0442\\u0438\\u0442\\u044c\", \"\\u043a\\u043e\\u043c\\u043f\\u0430\\u043d\\u0438\\u044f\", \"\\u0441\\u0440\\u0435\\u0434\\u0441\\u0442\\u0432\\u043e\", \"\\u0432\\u043e\\u0437\\u0432\\u0440\\u0430\\u0442\", \"\\u0440\\u0430\\u0431\\u043e\\u0442\\u0430\", \"\\u0443\\u043a\\u0430\\u0437\\u0430\\u0442\\u044c\", \"\\u043a\\u0430\\u0447\\u0435\\u0441\\u0442\\u0432\\u043e\", \"\\u0434\\u0435\\u043d\\u0435\\u0436\\u043d\\u044b\\u0439\", \"\\u0441\\u0443\\u043c\\u043c\\u0430\", \"\\u0437\\u0430\\u043a\\u0430\\u0437\", \"\\u043e\\u0440\\u0433\\u0430\\u043d\\u0438\\u0437\\u0430\\u0446\\u0438\\u044f\", \"\\u043f\\u0440\\u0438\\u043d\\u044f\\u0442\\u044c\", \"\\u0441\\u0447\\u0451\\u0442\", \"\\u043e\\u043f\\u0435\\u0440\\u0430\\u0442\\u043e\\u0440\", \"\\u0440\\u0443\\u0431\\u043b\\u044c\", \"\\u043e\\u043f\\u043b\\u0430\\u0442\\u0430\", \"\\u043f\\u043e\\u0442\\u0440\\u0435\\u0431\\u0438\\u0442\\u0435\\u043b\\u044c\", \"\\u0432\\u043e\\u0437\\u043c\\u043e\\u0436\\u043d\\u043e\\u0441\\u0442\\u044c\", \"\\u0434\\u0430\\u0442\\u044c\", \"\\u0441\\u0435\\u0440\\u0432\\u0438\\u0441\", \"\\u0434\\u043e\\u0441\\u0442\\u0430\\u0432\\u0438\\u0442\\u044c\", \"\\u0431\\u0440\\u0430\\u043a\", \"\\u0432\\u044b\\u0434\\u0430\\u0447\\u0430\", \"\\u043f\\u0443\\u043d\\u043a\\u0442\", \"\\u0441\\u043b\\u0443\\u0436\\u0431\\u0430\", \"\\u043f\\u043e\\u0434\\u0434\\u0435\\u0440\\u0436\\u043a\\u0430\", \"\\u0434\\u043e\\u0441\\u0442\\u0430\\u0432\\u043a\\u0430\", \"\\u0437\\u0430\\u043a\\u0430\\u0437\", \"\\u0441\\u043f\\u0438\\u0441\\u0430\\u0442\\u044c\", \"\\u0442\\u043e\\u0432\\u0430\\u0440\", \"wildberries\", \"\\u043e\\u0442\\u043a\\u0430\\u0437\\u0430\\u0442\\u044c\", \"\\u0441\\u0440\\u0430\\u0437\\u0443\", \"\\u043e\\u0444\\u043e\\u0440\\u043c\\u0438\\u0442\\u044c\", \"\\u0437\\u0430\\u043a\\u0430\\u0437\\u0430\\u0442\\u044c\", \"\\u043e\\u0442\\u043c\\u0435\\u043d\\u0438\\u0442\\u044c\", \"\\u0434\\u0435\\u043d\\u044c\\u0433\\u0430\", \"\\u0432\\u043e\\u0437\\u0432\\u0440\\u0430\\u0442\", \"\\u0440\\u0443\\u0431\\u043b\\u044c\", \"\\u043e\\u0431\\u0440\\u0430\\u0442\\u0438\\u0442\\u044c\\u0441\\u044f\", \"\\u0432\\u043e\\u0437\\u0432\\u0440\\u0430\\u0449\\u0430\\u0442\\u044c\", \"\\u043e\\u043a\\u0430\\u0437\\u0430\\u0442\\u044c\\u0441\\u044f\", \"\\u0441\\u043c\\u043e\\u0447\\u044c\", \"\\u0441\\u0434\\u0435\\u043b\\u0430\\u0442\\u044c\", \"\\u0441\\u0441\\u044b\\u043b\\u0430\\u0442\\u044c\\u0441\\u044f\", \"\\u043d\\u0430\\u043f\\u0438\\u0441\\u0430\\u0442\\u044c\", \"\\u043a\\u0430\\u0447\\u0435\\u0441\\u0442\\u0432\\u043e\", \"\\u043f\\u043e\\u043c\\u043e\\u0447\\u044c\", \"\\u0438\\u043d\\u0442\\u0435\\u0440\\u043d\\u0435\\u0442\", \"\\u043f\\u043e\\u043b\\u0443\\u0447\\u0438\\u0442\\u044c\", \"\\u043f\\u043e\\u043a\\u0443\\u043f\\u043a\\u0430\", \"\\u043e\\u0442\\u043a\\u0430\\u0437\\u0430\\u0442\\u044c\\u0441\\u044f\", \"\\u0441\\u0440\\u043e\\u043a\", \"\\u043f\\u0440\\u0438\\u0439\\u0442\\u0438\", \"\\u0440\\u0430\\u0431\\u043e\\u0442\\u0430\", \"\\u043f\\u0440\\u0438\\u043b\\u043e\\u0436\\u0435\\u043d\\u0438\\u0435\", \"\\u043e\\u0442\\u043d\\u043e\\u0448\\u0435\\u043d\\u0438\\u0435\", \"\\u0431\\u0430\\u043d\\u043a\", \"\\u0441\\u0443\\u043c\\u043c\\u0430\", \"\\u0434\\u0435\\u0439\\u0441\\u0442\\u0432\\u0438\\u0435\", \"\\u0443\\u0441\\u0442\\u0430\\u043d\\u043e\\u0432\\u043b\\u0435\\u043d\\u043d\\u044b\\u0439\", \"\\u0440\\u0430\\u0437\\u043e\\u0431\\u0440\\u0430\\u0442\\u044c\\u0441\\u044f\", \"\\u0441\\u043e\\u0442\\u0440\\u0443\\u0434\\u043d\\u0438\\u043a\", \"\\u0441\\u0442\\u043e\\u0438\\u043c\\u043e\\u0441\\u0442\\u044c\", \"\\u043d\\u0430\\u0445\\u043e\\u0434\\u0438\\u0442\\u044c\\u0441\\u044f\", \"\\u043d\\u0430\\u0440\\u0443\\u0448\\u0435\\u043d\\u0438\\u0435\", \"\\u043f\\u043b\\u0430\\u0442\\u0451\\u0436\", \"\\u0438\\u0442\\u043e\\u0433\", \"\\u0440\\u0435\\u0448\\u0438\\u0442\\u044c\", \"\\u043f\\u043e\\u0442\\u0440\\u0435\\u0431\\u0438\\u0442\\u0435\\u043b\\u044c\", \"\\u043e\\u0442\\u0432\\u0435\\u0442\\u0438\\u0442\\u044c\", \"\\u043f\\u0440\\u0438\\u0447\\u0438\\u043d\\u0430\", \"\\u0441\\u0432\\u043e\\u0439\", \"\\u0434\\u0430\\u0442\\u044c\", \"\\u0437\\u0430\\u0449\\u0438\\u0442\\u0430\", \"\\u043f\\u043e\\u043b\\u0443\\u0447\\u0430\\u0442\\u044c\", \"\\u043e\\u0444\\u043e\\u0440\\u043c\\u0438\\u0442\\u044c\", \"\\u0440\\u0430\\u0437\\u043c\\u0435\\u0440\", \"\\u043e\\u0431\\u0440\\u0430\\u0442\\u043d\\u044b\\u0439\", \"\\u043f\\u043e\\u043b\\u043d\\u044b\\u0439\", \"\\u043f\\u0440\\u0438\\u0441\\u043b\\u0430\\u0442\\u044c\", \"\\u0441\\u043e\\u043e\\u0431\\u0449\\u0438\\u0442\\u044c\", \"\\u0433\\u0440\\u0443\\u043f\\u043f\\u0430\", \"\\u0440\\u0443\\u0431\\u043b\\u044c\", \"\\u043f\\u043e\\u043b\\u0443\\u0447\\u0438\\u0442\\u044c\", \"\\u0443\\u0441\\u043b\\u0443\\u0433\\u0430\", \"\\u043f\\u0440\\u043e\\u0434\\u0430\\u0432\\u0435\\u0446\", \"\\u0434\\u0435\\u043d\\u044c\\u0433\\u0430\", \"\\u0441\\u043f\\u0438\\u0441\\u0430\\u0442\\u044c\", \"\\u0434\\u0435\\u043d\\u0435\\u0436\\u043d\\u044b\\u0439\", \"\\u043f\\u043e\\u043b\\u0443\\u0447\\u0435\\u043d\\u0438\\u0435\", \"\\u043f\\u043e\\u0441\\u0442\\u0443\\u043f\\u0438\\u0442\\u044c\", \"\\u0434\\u0435\\u0439\\u0441\\u0442\\u0432\\u043e\\u0432\\u0430\\u0442\\u044c\", \"\\u0437\\u0430\\u0440\\u0430\\u043d\\u0435\\u0435\", \"\\u0431\\u0438\\u043b\\u0435\\u0442\", \"\\u043e\\u0442\\u043a\\u0430\\u0437\", \"\\u0441\\u0440\\u0435\\u0434\\u0441\\u0442\\u0432\\u043e\", \"\\u0437\\u0430\\u043a\\u043e\\u043d\\u043d\\u044b\\u0439\", \"\\u0441\\u0441\\u044b\\u043b\\u0430\\u0442\\u044c\\u0441\\u044f\", \"\\u043d\\u0430\\u043f\\u0440\\u0430\\u0432\\u0438\\u0442\\u044c\", \"\\u0437\\u0430\\u0449\\u0438\\u0442\\u0430\", \"\\u043e\\u0431\\u0440\\u0430\\u0437\", \"\\u043d\\u0430\\u0440\\u0443\\u0448\\u0435\\u043d\\u0438\\u0435\", \"\\u043d\\u0438\\u043a\\u0442\\u043e\", \"\\u0432\\u043e\\u0437\\u0432\\u0440\\u0430\\u0442\", \"\\u0433\\u0440\\u0443\\u043f\\u043f\\u0430\", \"\\u0437\\u0430\\u043a\\u043e\\u043d\", \"\\u044d\\u043b\\u0435\\u043a\\u0442\\u0440\\u043e\\u043d\\u043d\\u044b\\u0439\", \"\\u043e\\u043d\\u043b\\u0430\\u0439\\u043d\", \"\\u043b\\u0438\\u0447\\u043d\\u044b\\u0439\", \"\\u043a\\u0430\\u0431\\u0438\\u043d\\u0435\\u0442\", \"\\u043e\\u0442\\u0432\\u0435\\u0442\\u0438\\u0442\\u044c\", \"\\u043f\\u0440\\u0438\\u0447\\u0438\\u043d\\u0430\", \"\\u043f\\u0440\\u0438\\u043b\\u0430\\u0433\\u0430\\u0442\\u044c\", \"\\u043e\\u0442\\u0432\\u0435\\u0442\", \"\\u043f\\u0440\\u0438\\u043e\\u0431\\u0440\\u0435\\u0441\\u0442\\u0438\", \"\\u043f\\u043e\\u0442\\u0440\\u0435\\u0431\\u0438\\u0442\\u0435\\u043b\\u044c\", \"\\u043f\\u043b\\u0430\\u0442\\u0451\\u0436\", \"\\u043f\\u043e\\u0447\\u0442\\u0430\", \"\\u043a\\u0430\\u0440\\u0442\\u0430\", \"\\u0441\\u0432\\u043e\\u0439\", \"\\u043f\\u0440\\u043e\\u0432\\u0435\\u0441\\u0442\\u0438\", \"\\u043f\\u043e\\u043b\\u0443\\u0447\\u0438\\u0442\\u044c\", \"\\u043f\\u0440\\u0435\\u0442\\u0435\\u043d\\u0437\\u0438\\u044f\", \"\\u0434\\u0430\\u0442\\u044c\", \"\\u0440\\u0430\\u0431\\u043e\\u0442\\u0430\\u0442\\u044c\", \"\\u043f\\u0440\\u043e\\u0441\\u044c\\u0431\\u0430\", \"\\u0436\\u0430\\u043b\\u043e\\u0431\\u0430\", \"\\u043e\\u0440\\u0433\\u0430\\u043d\\u0438\\u0437\\u0430\\u0446\\u0438\\u044f\", \"\\u043d\\u0443\\u0436\\u043d\\u044b\\u0439\", \"\\u043f\\u043e\\u044d\\u0442\\u043e\\u043c\\u0443\", \"\\u0433\\u043e\\u0432\\u043e\\u0440\\u0438\\u0442\\u044c\", \"\\u043f\\u0440\\u043e\\u0432\\u0435\\u0441\\u0442\\u0438\", \"\\u0440\\u0435\\u0448\\u0435\\u043d\\u0438\\u0435\", \"\\u0441\\u043b\\u0435\\u0434\\u0443\\u044e\\u0449\\u0438\\u0439\", \"\\u043e\\u0442\\u0441\\u0443\\u0442\\u0441\\u0442\\u0432\\u0438\\u0435\", \"\\u0437\\u0430\\u044f\\u0432\\u043a\\u0430\", \"\\u043f\\u0440\\u0438\\u043e\\u0431\\u0440\\u0435\\u0441\\u0442\\u0438\", \"\\u0433\\u043e\\u0440\\u043e\\u0434\", \"\\u043e\\u0431\\u044f\\u0437\\u0430\\u0442\\u044c\", \"\\u043a\\u0430\\u0447\\u0435\\u0441\\u0442\\u0432\\u043e\", \"\\u0441\\u043c\\u043e\\u0447\\u044c\", \"\\u043f\\u0440\\u043e\\u0432\\u0435\\u0440\\u043a\\u0430\", \"\\u0432\\u0435\\u0440\\u043d\\u0443\\u0442\\u044c\", \"\\u043e\\u0431\\u0440\\u0430\\u0437\", \"\\u043e\\u0431\\u0440\\u0430\\u0442\\u0438\\u0442\\u044c\\u0441\\u044f\", \"\\u0441\\u043e\\u043e\\u0431\\u0449\\u0438\\u0442\\u044c\", \"\\u043e\\u043a\\u0430\\u0437\\u0430\\u0442\\u044c\\u0441\\u044f\", \"\\u0441\\u0442\\u043e\\u0440\\u043e\\u043d\\u0430\", \"\\u043f\\u0440\\u0435\\u0442\\u0435\\u043d\\u0437\\u0438\\u044f\", \"\\u0441\\u043e\\u0442\\u0440\\u0443\\u0434\\u043d\\u0438\\u043a\", \"\\u0434\\u0430\\u043b\\u0435\\u0435\", \"\\u0437\\u0430\\u043a\\u043e\\u043d\", \"\\u0441\\u043b\\u043e\\u0432\\u043e\", \"\\u0440\\u0430\\u0439\\u043e\\u043d\", \"\\u0441\\u0434\\u0435\\u043b\\u0430\\u0442\\u044c\", \"\\u043e\\u0442\\u043a\\u0430\\u0437\\u0430\\u0442\\u044c\\u0441\\u044f\", \"\\u0434\\u0430\\u0442\\u044c\", \"\\u0442\\u043e\\u0432\\u0430\\u0440\", \"\\u0434\\u043e\\u0433\\u043e\\u0432\\u043e\\u0440\", \"\\u044f\\u043d\\u0432\\u0430\\u0440\\u044c\", \"\\u0443\\u0441\\u0442\\u0430\\u043d\\u043e\\u0432\\u0438\\u0442\\u044c\", \"\\u043e\\u0431\\u043b\\u0430\\u0441\\u0442\\u044c\", \"\\u043c\\u043e\\u0441\\u043a\\u0432\\u0430\", \"\\u043f\\u0440\\u043e\\u0438\\u0437\\u043e\\u0439\\u0442\\u0438\", \"\\u0437\\u0430\\u043a\\u043b\\u044e\\u0447\\u0438\\u0442\\u044c\", \"\\u0441\\u043b\\u0443\\u0447\\u0430\\u0439\", \"\\u043f\\u043e\\u043a\\u0443\\u043f\\u0430\\u0442\\u0435\\u043b\\u044c\", \"\\u043a\\u043e\\u043c\\u043f\\u0430\\u043d\\u0438\\u044f\", \"\\u0441\\u043e\\u0441\\u0442\\u0430\\u0432\\u0438\\u0442\\u044c\", \"\\u043f\\u043e\\u0434\\u0441\\u043a\\u0430\\u0437\\u0430\\u0442\\u044c\", \"\\u043f\\u0440\\u043e\\u0434\\u0430\\u0436\\u0430\", \"\\u0434\\u043e\\u043b\\u0436\\u043d\\u044b\\u0439\", \"\\u044f\\u0432\\u043b\\u044f\\u0442\\u044c\\u0441\\u044f\", \"\\u043f\\u043e\\u0442\\u0440\\u0435\\u0431\\u0438\\u0442\\u0435\\u043b\\u044c\", \"\\u043f\\u0440\\u0435\\u0442\\u0435\\u043d\\u0437\\u0438\\u044f\", \"\\u0443\\u043a\\u0430\\u0437\\u0430\\u0442\\u044c\", \"\\u0434\\u0430\\u043b\\u0435\\u0435\", \"\\u0437\\u043d\\u0430\\u0442\\u044c\", \"\\u043e\\u0442\\u043a\\u0430\\u0437\\u0430\\u0442\\u044c\\u0441\\u044f\", \"\\u0441\\u0442\\u043e\\u0440\\u043e\\u043d\\u0430\", \"\\u043e\\u0442\\u0432\\u0435\\u0442\\u0438\\u0442\\u044c\", \"\\u043e\\u0442\\u0441\\u0443\\u0442\\u0441\\u0442\\u0432\\u0438\\u0435\", \"\\u0434\\u043e\\u0441\\u0442\\u0430\\u0432\\u043a\\u0430\", \"\\u0443\\u043f\\u0430\\u043a\\u043e\\u0432\\u043a\\u0430\", \"\\u043d\\u0430\\u043f\\u0438\\u0441\\u0430\\u0442\\u044c\", \"\\u0441\\u0440\\u043e\\u043a\", \"\\u043e\\u0442\\u043f\\u0440\\u0430\\u0432\\u0438\\u0442\\u044c\", \"\\u0441\\u0438\\u0442\\u0443\\u0430\\u0446\\u0438\\u044f\", \"\\u0442\\u043e\\u0432\\u0430\\u0440\", \"\\u0432\\u043e\\u0437\\u0432\\u0440\\u0430\\u0442\", \"\\u0441\\u0432\\u043e\\u0439\", \"\\u0442\\u0435\\u043b\\u0435\\u0444\\u043e\\u043d\", \"\\u0441\\u043e\\u0433\\u043b\\u0430\\u0441\\u043d\\u043e\", \"\\u0441\\u0442\\u0430\\u0442\\u044c\", \"\\u0434\\u0430\\u0432\\u0430\\u0442\\u044c\", \"\\u0434\\u0435\\u043b\\u0430\\u0442\\u044c\", \"\\u043a\\u0443\\u043f\\u0438\\u0442\\u044c\", \"\\u043d\\u0438\\u043a\\u0430\\u043a\\u043e\\u0439\", \"\\u0440\\u0430\\u0437\\u043c\\u0435\\u0440\", \"\\u043f\\u0438\\u0441\\u0430\\u0442\\u044c\", \"\\u0442\\u0435\\u043b\\u0435\\u0444\\u043e\\u043d\", \"\\u043f\\u043e\\u043b\\u0443\\u0447\\u0430\\u0442\\u044c\", \"\\u0444\\u0435\\u0432\\u0440\\u0430\\u043b\\u044c\", \"\\u0432\\u043e\\u0437\\u0432\\u0440\\u0430\\u0449\\u0430\\u0442\\u044c\", \"\\u0441\\u0438\\u0442\\u0443\\u0430\\u0446\\u0438\\u044f\", \"\\u043d\\u043e\\u0432\\u044b\\u0439\", \"\\u0434\\u0435\\u043d\\u044c\\u0433\\u0430\", \"\\u043e\\u0442\\u043a\\u0430\\u0437\\u044b\\u0432\\u0430\\u0442\\u044c\\u0441\\u044f\", \"\\u0437\\u0430\\u044f\\u0432\\u043a\\u0430\", \"\\u0432\\u0435\\u0440\\u043d\\u0443\\u0442\\u044c\", \"\\u043e\\u043d\\u043b\\u0430\\u0439\\u043d\", \"\\u043e\\u043a\\u0430\\u0437\\u0430\\u0442\\u044c\\u0441\\u044f\", \"\\u043f\\u0440\\u0438\\u0439\\u0442\\u0438\", \"\\u0441\\u0434\\u0435\\u043b\\u0430\\u0442\\u044c\", \"\\u043f\\u043e\\u043c\\u043e\\u0447\\u044c\", \"\\u043e\\u0431\\u043d\\u0430\\u0440\\u0443\\u0436\\u0438\\u0442\\u044c\", \"\\u0441\\u043e\\u0441\\u0442\\u0430\\u0432\\u0438\\u0442\\u044c\", \"\\u043f\\u0440\\u0438\\u0441\\u043b\\u0430\\u0442\\u044c\", \"\\u043a\\u0430\\u0440\\u0442\\u0430\", \"\\u0447\\u0430\\u0441\\u0442\\u044c\", \"\\u0431\\u043e\\u043b\\u044c\\u0448\\u043e\\u0439\", \"\\u043d\\u043e\\u043c\\u0435\\u0440\", \"\\u0441\\u0442\\u043e\\u0438\\u043c\\u043e\\u0441\\u0442\\u044c\", \"\\u043e\\u0442\\u0432\\u0435\\u0442\", \"\\u0437\\u0430\\u043a\\u0430\\u0437\", \"\\u0432\\u043e\\u0437\\u0432\\u0440\\u0430\\u0442\", \"\\u0434\\u043e\\u043b\\u0436\\u043d\\u044b\\u0439\", \"\\u0434\\u043e\\u043a\\u0443\\u043c\\u0435\\u043d\\u0442\", \"\\u043f\\u0435\\u0440\\u0435\\u0434\\u0430\\u0442\\u044c\", \"https\", \"\\u0436\\u0434\\u0430\\u0442\\u044c\", \"\\u0446\\u0435\\u043b\\u044c\", \"\\u043f\\u043e\\u0447\\u0442\\u0430\", \"\\u043e\\u0431\\u043d\\u0430\\u0440\\u0443\\u0436\\u0438\\u0442\\u044c\", \"\\u043f\\u043e\\u043f\\u0440\\u043e\\u0441\\u0438\\u0442\\u044c\", \"\\u044d\\u043b\\u0435\\u043a\\u0442\\u0440\\u043e\\u043d\\u043d\\u044b\\u0439\", \"\\u0441\\u043b\\u043e\\u0432\\u043e\", \"\\u043e\\u0442\\u0432\\u0435\\u0442\", \"\\u0441\\u043e\\u043e\\u0431\\u0449\\u0435\\u043d\\u0438\\u0435\", \"\\u0438\\u043d\\u0444\\u043e\\u0440\\u043c\\u0430\\u0446\\u0438\\u044f\", \"\\u043d\\u043e\\u043c\\u0435\\u0440\", \"\\u0441\\u0442\\u043e\\u0440\\u043e\\u043d\\u0430\", \"\\u0440\\u0430\\u0437\\u043e\\u0431\\u0440\\u0430\\u0442\\u044c\\u0441\\u044f\", \"\\u043e\\u043f\\u043b\\u0430\\u0442\\u0430\", \"\\u043e\\u043f\\u043b\\u0430\\u0442\\u0438\\u0442\\u044c\", \"\\u0440\\u0435\\u0448\\u0435\\u043d\\u0438\\u0435\", \"\\u043e\\u0442\\u0441\\u0443\\u0442\\u0441\\u0442\\u0432\\u043e\\u0432\\u0430\\u0442\\u044c\", \"\\u0440\\u0435\\u0437\\u0443\\u043b\\u044c\\u0442\\u0430\\u0442\", \"\\u0438\\u043d\\u0442\\u0435\\u0440\\u043d\\u0435\\u0442\", \"\\u043f\\u043e\\u043c\\u043e\\u0447\\u044c\", \"\\u043d\\u0430\\u043f\\u0440\\u0430\\u0432\\u0438\\u0442\\u044c\", \"\\u0441\\u0438\\u0442\\u0443\\u0430\\u0446\\u0438\\u044f\", \"\\u043f\\u043e\\u043b\\u0443\\u0447\\u0438\\u0442\\u044c\", \"\\u043f\\u0440\\u0435\\u0442\\u0435\\u043d\\u0437\\u0438\\u044f\", \"\\u0437\\u0430\\u043a\\u0430\\u0437\", \"\\u043e\\u0442\\u043a\\u0430\\u0437\", \"\\u0441\\u0430\\u0439\\u0442\", \"\\u0442\\u043e\\u0432\\u0430\\u0440\", \"\\u0441\\u0440\\u043e\\u043a\", \"\\u043c\\u0430\\u0433\\u0430\\u0437\\u0438\\u043d\", \"\\u043f\\u0440\\u043e\\u0436\\u0438\\u0432\\u0430\\u0442\\u044c\", \"\\u0437\\u0430\\u044f\\u0432\\u043b\\u0435\\u043d\\u0438\\u0435\", \"\\u043f\\u043e\\u043b\\u0443\\u0447\\u0430\\u0442\\u044c\\u0441\\u044f\", \"\\u0443\\u0441\\u043b\\u0443\\u0433\\u0430\", \"\\u043a\\u0432\\u0430\\u0440\\u0442\\u0438\\u0440\\u0430\", \"\\u043f\\u043e\\u043b\\u043d\\u044b\\u0439\", \"\\u043d\\u0435\\u0434\\u0435\\u043b\\u044f\", \"\\u0434\\u0430\\u0442\\u044c\", \"\\u043f\\u0440\\u043e\\u0432\\u0435\\u0440\\u0438\\u0442\\u044c\", \"\\u0443\\u0441\\u043b\\u043e\\u0432\\u0438\\u0435\", \"\\u0437\\u0430\\u043a\\u043e\\u043d\", \"\\u043f\\u0440\\u043e\\u0432\\u0435\\u0440\\u043a\\u0430\", \"\\u043d\\u0438\\u043a\\u0430\\u043a\\u043e\\u0439\", \"\\u0441\\u0432\\u043e\\u0439\", \"\\u043d\\u043e\\u043c\\u0435\\u0440\", \"\\u043f\\u043e\\u043b\\u044c\\u0437\\u043e\\u0432\\u0430\\u0442\\u044c\\u0441\\u044f\", \"\\u0441\\u0440\\u043e\\u043a\", \"\\u043e\\u0431\\u044f\\u0437\\u0430\\u0442\\u044c\", \"\\u0441\\u0447\\u0451\\u0442\", \"\\u043d\\u0430\\u043f\\u0438\\u0441\\u0430\\u0442\\u044c\", \"\\u0441\\u0440\\u0435\\u0434\\u0441\\u0442\\u0432\\u043e\", \"\\u0441\\u0434\\u0435\\u043b\\u0430\\u0442\\u044c\", \"\\u043f\\u043e\\u043b\\u0443\\u0447\\u0438\\u0442\\u044c\", \"\\u0441\\u0438\\u0442\\u0443\\u0430\\u0446\\u0438\\u044f\", \"\\u0434\\u043e\\u043b\\u0436\\u043d\\u044b\\u0439\", \"\\u0440\\u0435\\u0448\\u0438\\u0442\\u044c\", \"\\u043d\\u0430\\u0445\\u043e\\u0434\\u0438\\u0442\\u044c\\u0441\\u044f\", \"\\u043e\\u0431\\u0440\\u0430\\u0442\\u0438\\u0442\\u044c\\u0441\\u044f\", \"\\u0443\\u043a\\u0430\\u0437\\u0430\\u0442\\u044c\", \"\\u043f\\u0438\\u0441\\u0430\\u0442\\u044c\", \"\\u043f\\u043e\\u0442\\u0440\\u0435\\u0431\\u0438\\u0442\\u0435\\u043b\\u044c\", \"\\u0434\\u0430\\u0442\\u0430\", \"\\u043e\\u043f\\u043b\\u0430\\u0442\\u0430\", \"\\u043e\\u0442\\u0432\\u0435\\u0442\", \"\\u043c\\u0430\\u0433\\u0430\\u0437\\u0438\\u043d\", \"\\u0443\\u043f\\u0430\\u043a\\u043e\\u0432\\u043a\\u0430\", \"\\u043f\\u0440\\u043e\\u0432\\u0435\\u0440\\u0438\\u0442\\u044c\", \"\\u043f\\u043e\\u043a\\u0443\\u043f\\u043a\\u0430\", \"\\u0440\\u0435\\u0437\\u0443\\u043b\\u044c\\u0442\\u0430\\u0442\", \"\\u0440\\u0430\\u0439\\u043e\\u043d\", \"\\u043f\\u0440\\u043e\\u0434\\u0443\\u043a\\u0442\", \"\\u0433\\u0440\\u0443\\u043f\\u043f\\u0430\", \"\\u0434\\u0430\\u043b\\u0435\\u0435\", \"\\u043d\\u0430\\u0445\\u043e\\u0434\\u0438\\u0442\\u044c\\u0441\\u044f\", \"\\u043f\\u0440\\u0438\\u0439\\u0442\\u0438\", \"\\u0433\\u043e\\u0440\\u043e\\u0434\", \"\\u0438\\u043d\\u0442\\u0435\\u0440\\u043d\\u0435\\u0442\", \"\\u0431\\u043e\\u043b\\u044c\\u0448\\u043e\\u0439\", \"\\u043d\\u0435\\u0434\\u0435\\u043b\\u044f\", \"\\u043d\\u0430\\u043f\\u0438\\u0441\\u0430\\u0442\\u044c\", \"\\u043f\\u0440\\u043e\\u0432\\u0435\\u0440\\u043a\\u0430\", \"\\u043f\\u0440\\u043e\\u0439\\u0442\\u0438\", \"\\u043f\\u0440\\u0435\\u0442\\u0435\\u043d\\u0437\\u0438\\u044f\", \"\\u0446\\u0435\\u043b\\u044c\", \"\\u0441\\u043b\\u043e\\u0432\\u043e\", \"\\u043f\\u0440\\u043e\\u0432\\u0435\\u0441\\u0442\\u0438\", \"\\u043f\\u043e\\u0441\\u0442\\u043e\\u044f\\u043d\\u043d\\u044b\\u0439\", \"\\u043e\\u0442\\u0432\\u0435\\u0447\\u0430\\u0442\\u044c\", \"\\u043f\\u0440\\u0435\\u0434\\u043e\\u0441\\u0442\\u0430\\u0432\\u0438\\u0442\\u044c\", \"\\u043d\\u0430\\u0440\\u0443\\u0448\\u0438\\u0442\\u044c\", \"\\u043f\\u043e\\u0442\\u0440\\u0435\\u0431\\u043e\\u0432\\u0430\\u0442\\u044c\", \"\\u043e\\u0442\\u0432\\u0435\\u0442\\u0441\\u0442\\u0432\\u0435\\u043d\\u043d\\u043e\\u0441\\u0442\\u044c\", \"\\u043b\\u0438\\u0446\\u043e\", \"\\u0442\\u0440\\u0435\\u0431\\u043e\\u0432\\u0430\\u043d\\u0438\\u0435\", \"\\u043e\\u043a\\u0430\\u0437\\u0430\\u0442\\u044c\\u0441\\u044f\", \"\\u043c\\u043e\\u043c\\u0435\\u043d\\u0442\", \"\\u043a\\u0430\\u0447\\u0435\\u0441\\u0442\\u0432\\u043e\", \"\\u043a\\u0443\\u043f\\u0438\\u0442\\u044c\", \"\\u043f\\u0440\\u043e\\u0441\\u044c\\u0431\\u0430\", \"\\u0443\\u043a\\u0430\\u0437\\u0430\\u0442\\u044c\", \"\\u0434\\u0430\\u0442\\u044c\", \"\\u0434\\u043e\\u043b\\u0436\\u043d\\u044b\\u0439\", \"\\u0441\\u0440\\u043e\\u043a\", \"\\u0432\\u043e\\u0437\\u043c\\u043e\\u0436\\u043d\\u043e\\u0441\\u0442\\u044c\", \"\\u043e\\u0448\\u0438\\u0431\\u043a\\u0430\", \"\\u0441\\u0447\\u0438\\u0442\\u0430\\u0442\\u044c\", \"\\u043e\\u043f\\u043b\\u0430\\u0442\\u0430\", \"\\u043f\\u043e\\u043b\\u044c\\u0437\\u043e\\u0432\\u0430\\u0442\\u044c\\u0441\\u044f\", \"\\u043a\\u0430\\u0431\\u0438\\u043d\\u0435\\u0442\", \"\\u043b\\u0438\\u0447\\u043d\\u044b\\u0439\", \"\\u0431\\u043e\\u043b\\u044c\\u0448\\u043e\\u0439\", \"\\u0438\\u0442\\u043e\\u0433\", \"\\u0440\\u0435\\u0448\\u0438\\u0442\\u044c\", \"\\u0432\\u0437\\u044f\\u0442\\u044c\", \"\\u043d\\u043e\\u0432\\u044b\\u0439\", \"\\u0443\\u0441\\u043b\\u043e\\u0432\\u0438\\u0435\", \"\\u043a\\u0430\\u0440\\u0442\\u0430\", \"\\u0440\\u0443\\u0431\\u043b\\u044c\", \"\\u0440\\u0430\\u0439\\u043e\\u043d\", \"\\u043a\\u0432\\u0430\\u0440\\u0442\\u0438\\u0440\\u0430\", \"\\u044f\\u0432\\u043b\\u044f\\u0442\\u044c\\u0441\\u044f\", \"\\u043f\\u043e\\u043a\\u0443\\u043f\\u0430\\u0442\\u0435\\u043b\\u044c\", \"\\u0438\\u043d\\u0442\\u0435\\u0440\\u043d\\u0435\\u0442\", \"\\u043f\\u0440\\u043e\\u0431\\u043b\\u0435\\u043c\\u0430\", \"\\u0434\\u043e\\u043b\\u0436\\u043d\\u044b\\u0439\", \"\\u0436\\u0434\\u0430\\u0442\\u044c\", \"\\u043f\\u043e\\u043b\\u0443\\u0447\\u0430\\u0442\\u044c\\u0441\\u044f\", \"\\u0441\\u043e\\u0442\\u0440\\u0443\\u0434\\u043d\\u0438\\u043a\", \"\\u0433\\u043e\\u0440\\u043e\\u0434\", \"\\u0441\\u0442\\u043e\\u0438\\u0442\\u044c\", \"\\u0447\\u0430\\u0441\\u0442\\u044c\", \"\\u0441\\u043b\\u0435\\u0434\\u0443\\u044e\\u0449\\u0438\\u0439\", \"\\u0441\\u043b\\u0443\\u0447\\u0430\\u0439\", \"\\u043e\\u0442\\u043a\\u0430\\u0437\\u0430\\u0442\\u044c\\u0441\\u044f\", \"\\u043a\\u043e\\u043c\\u043f\\u0430\\u043d\\u0438\\u044f\", \"\\u0441\\u0447\\u0451\\u0442\", \"\\u043c\\u0430\\u0433\\u0430\\u0437\\u0438\\u043d\", \"\\u0432\\u0435\\u0440\\u043d\\u0443\\u0442\\u044c\", \"\\u0444\\u0430\\u043a\\u0442\", \"\\u043f\\u043e\\u0437\\u0432\\u043e\\u043d\\u0438\\u0442\\u044c\", \"\\u043e\\u0442\\u043f\\u0440\\u0430\\u0432\\u0438\\u0442\\u044c\", \"\\u0447\\u0430\\u0441\\u0442\\u044c\", \"\\u043e\\u043f\\u043b\\u0430\\u0442\\u0438\\u0442\\u044c\", \"\\u0441\\u043e\\u043e\\u0431\\u0449\\u0435\\u043d\\u0438\\u0435\", \"\\u043d\\u0438\\u043a\\u0442\\u043e\", \"\\u043d\\u0435\\u0434\\u0435\\u043b\\u044f\", \"\\u0441\\u043e\\u043e\\u0431\\u0449\\u0438\\u0442\\u044c\", \"\\u0444\\u0435\\u0432\\u0440\\u0430\\u043b\\u044c\", \"\\u043f\\u0440\\u0438\\u0441\\u043b\\u0430\\u0442\\u044c\", \"\\u0438\\u043d\\u0444\\u043e\\u0440\\u043c\\u0430\\u0446\\u0438\\u044f\", \"\\u043f\\u0440\\u0435\\u0434\\u043b\\u043e\\u0436\\u0438\\u0442\\u044c\", \"\\u0444\\u043e\\u0442\\u043e\", \"\\u043f\\u043e\\u043f\\u0440\\u043e\\u0441\\u0438\\u0442\\u044c\", \"\\u043f\\u043b\\u0430\\u0442\\u0451\\u0436\", \"\\u0441\\u0447\\u0451\\u0442\", \"\\u0433\\u043e\\u0432\\u043e\\u0440\\u0438\\u0442\\u044c\", \"\\u0437\\u0430\\u043a\\u0430\\u0437\\u0430\\u0442\\u044c\", \"\\u0441\\u043c\\u043e\\u0447\\u044c\", \"\\u0441\\u043e\\u0442\\u0440\\u0443\\u0434\\u043d\\u0438\\u043a\", \"\\u0441\\u0432\\u043e\\u0439\", \"\\u043d\\u043e\\u043c\\u0435\\u0440\", \"\\u043f\\u043e\\u0434\\u0434\\u0435\\u0440\\u0436\\u043a\\u0430\", \"\\u0441\\u0430\\u0439\\u0442\", \"\\u0442\\u0435\\u043b\\u0435\\u0444\\u043e\\u043d\", \"\\u0438\\u043d\\u0442\\u0435\\u0440\\u043d\\u0435\\u0442\", \"\\u043f\\u043e\\u0441\\u0442\\u043e\\u044f\\u043d\\u043d\\u044b\\u0439\", \"\\u043f\\u043e\\u0442\\u0440\\u0435\\u0431\\u043e\\u0432\\u0430\\u0442\\u044c\", \"\\u043b\\u0438\\u0446\\u043e\", \"\\u043c\\u0430\\u0433\\u0430\\u0437\\u0438\\u043d\", \"\\u043f\\u043e\\u043a\\u0443\\u043f\\u043a\\u0430\", \"\\u043f\\u0440\\u0438\\u043e\\u0431\\u0440\\u0435\\u0441\\u0442\\u0438\", \"\\u043e\\u0442\\u0432\\u0435\\u0442\", \"\\u043c\\u0435\\u0440\\u0430\", \"\\u043f\\u0440\\u0438\\u043d\\u044f\\u0442\\u044c\", \"\\u0441\\u0442\\u043e\\u0438\\u0442\\u044c\", \"\\u043f\\u043e\\u0437\\u0434\\u043d\\u0438\\u0439\", \"\\u0437\\u043d\\u0430\\u0442\\u044c\", \"\\u043f\\u0440\\u0435\\u0434\\u043b\\u043e\\u0436\\u0438\\u0442\\u044c\", \"\\u043f\\u0440\\u043e\\u0434\\u0443\\u043a\\u0442\", \"\\u043f\\u0440\\u0438\\u043b\\u0430\\u0433\\u0430\\u0442\\u044c\", \"\\u0441\\u0440\\u0430\\u0437\\u0443\", \"\\u043e\\u043d\\u043b\\u0430\\u0439\\u043d\", \"\\u043f\\u0440\\u0438\\u0447\\u0438\\u043d\\u0430\", \"\\u043e\\u0442\\u043a\\u0430\\u0437\\u0430\\u0442\\u044c\", \"\\u0434\\u0430\\u043b\\u0435\\u0435\", \"\\u0443\\u0441\\u0442\\u0430\\u043d\\u043e\\u0432\\u043b\\u0435\\u043d\\u043d\\u044b\\u0439\", \"\\u043a\\u0430\\u0440\\u0442\\u0430\", \"\\u0443\\u0441\\u043b\\u043e\\u0432\\u0438\\u0435\", \"\\u043d\\u043e\\u0432\\u044b\\u0439\", \"\\u043c\\u043e\\u043c\\u0435\\u043d\\u0442\", \"\\u043e\\u0442\\u0441\\u0443\\u0442\\u0441\\u0442\\u0432\\u0438\\u0435\", \"\\u0444\\u0435\\u0432\\u0440\\u0430\\u043b\\u044c\", \"\\u0437\\u0430\\u044f\\u0432\\u043b\\u0435\\u043d\\u0438\\u0435\", \"\\u0442\\u0440\\u0435\\u0431\\u043e\\u0432\\u0430\\u043d\\u0438\\u0435\", \"\\u043e\\u0442\\u0432\\u0435\\u0447\\u0430\\u0442\\u044c\", \"\\u043f\\u043e\\u0441\\u0442\\u043e\\u044f\\u043d\\u043d\\u044b\\u0439\", \"\\u043b\\u0438\\u0446\\u043e\", \"\\u043f\\u043e\\u0442\\u0440\\u0435\\u0431\\u043e\\u0432\\u0430\\u0442\\u044c\", \"\\u043e\\u0442\\u0432\\u0435\\u0442\\u0441\\u0442\\u0432\\u0435\\u043d\\u043d\\u043e\\u0441\\u0442\\u044c\", \"\\u043d\\u0430\\u0440\\u0443\\u0448\\u0438\\u0442\\u044c\", \"\\u043f\\u0440\\u0435\\u0434\\u043e\\u0441\\u0442\\u0430\\u0432\\u0438\\u0442\\u044c\", \"\\u0432\\u0435\\u0440\\u043d\\u0443\\u0442\\u044c\", \"\\u0432\\u043e\\u0437\\u0432\\u0440\\u0430\\u0442\", \"\\u0434\\u0430\\u0442\\u044c\", \"\\u0437\\u0430\\u043a\\u043e\\u043d\", \"\\u043f\\u0440\\u0438\\u043e\\u0431\\u0440\\u0435\\u0441\\u0442\\u0438\", \"\\u043f\\u0440\\u043e\\u0432\\u0435\\u0441\\u0442\\u0438\", \"\\u043f\\u043e\\u043b\\u043d\\u044b\\u0439\", \"\\u0443\\u043f\\u0430\\u043a\\u043e\\u0432\\u043a\\u0430\", \"\\u0434\\u0435\\u043d\\u044c\\u0433\\u0430\", \"\\u043f\\u043b\\u043e\\u0449\\u0430\\u0434\\u043a\\u0430\", \"\\u0441\\u0442\\u0430\\u0442\\u044c\\u044f\", \"\\u043f\\u0440\\u043e\\u0434\\u0430\\u0432\\u0435\\u0446\", \"\\u043e\\u0431\\u0440\\u0430\\u0442\\u043d\\u044b\\u0439\", \"\\u043e\\u0442\\u043a\\u0430\\u0437\\u044b\\u0432\\u0430\\u0442\\u044c\\u0441\\u044f\", \"\\u043e\\u0442\\u0441\\u0443\\u0442\\u0441\\u0442\\u0432\\u043e\\u0432\\u0430\\u0442\\u044c\", \"wildberries\", \"\\u043f\\u043e\\u043a\\u0443\\u043f\\u0430\\u0442\\u0435\\u043b\\u044c\", \"\\u043e\\u0442\\u043a\\u0430\\u0437\\u0430\\u0442\\u044c\\u0441\\u044f\", \"\\u043f\\u043e\\u0434\\u0441\\u043a\\u0430\\u0437\\u0430\\u0442\\u044c\", \"\\u043f\\u0440\\u043e\\u0434\\u0430\\u0436\\u0430\", \"\\u043e\\u0442\\u043f\\u0440\\u0430\\u0432\\u0438\\u0442\\u044c\", \"\\u043e\\u0442\\u043c\\u0435\\u043d\\u0438\\u0442\\u044c\", \"\\u0442\\u043e\\u0432\\u0430\\u0440\", \"\\u043e\\u0442\\u0432\\u0435\\u0442\\u0441\\u0442\\u0432\\u0435\\u043d\\u043d\\u043e\\u0441\\u0442\\u044c\", \"\\u043e\\u0442\\u0432\\u0435\\u0447\\u0430\\u0442\\u044c\", \"\\u043d\\u0430\\u0440\\u0443\\u0448\\u0438\\u0442\\u044c\", \"\\u043f\\u043e\\u0441\\u0442\\u043e\\u044f\\u043d\\u043d\\u044b\\u0439\", \"\\u043f\\u0440\\u0435\\u0434\\u043e\\u0441\\u0442\\u0430\\u0432\\u0438\\u0442\\u044c\", \"\\u043f\\u043e\\u0442\\u0440\\u0435\\u0431\\u043e\\u0432\\u0430\\u0442\\u044c\", \"\\u043b\\u0438\\u0446\\u043e\", \"\\u0442\\u0440\\u0435\\u0431\\u043e\\u0432\\u0430\\u043d\\u0438\\u0435\", \"\\u0437\\u0430\\u043a\\u043e\\u043d\", \"\\u0441\\u043b\\u0443\\u0436\\u0431\\u0430\", \"\\u0441\\u0432\\u043e\\u0439\", \"\\u043f\\u043e\\u0434\\u0434\\u0435\\u0440\\u0436\\u043a\\u0430\", \"\\u0440\\u0430\\u0431\\u043e\\u0442\\u0430\", \"\\u043a\\u0443\\u043f\\u0438\\u0442\\u044c\", \"\\u043f\\u0440\\u0435\\u0442\\u0435\\u043d\\u0437\\u0438\\u044f\", \"\\u0441\\u0432\\u044f\\u0437\\u044c\", \"\\u043f\\u0440\\u043e\\u0432\\u0435\\u0440\\u043a\\u0430\", \"\\u043f\\u043e\\u043a\\u0443\\u043f\\u043a\\u0430\", \"\\u043f\\u043e\\u0442\\u0440\\u0435\\u0431\\u0438\\u0442\\u0435\\u043b\\u044c\", \"\\u0437\\u0430\\u043a\\u0430\\u0437\", \"\\u043f\\u043e\\u043b\\u0443\\u0447\\u0435\\u043d\\u0438\\u0435\", \"\\u043e\\u043f\\u0435\\u0440\\u0430\\u0442\\u043e\\u0440\", \"\\u043c\\u043e\\u043c\\u0435\\u043d\\u0442\", \"\\u043c\\u0430\\u0433\\u0430\\u0437\\u0438\\u043d\", \"\\u0434\\u0435\\u043a\\u0430\\u0431\\u0440\\u044c\", \"\\u043f\\u0440\\u043e\\u0439\\u0442\\u0438\", \"\\u043c\\u043e\\u043c\\u0435\\u043d\\u0442\", \"\\u0441\\u0440\\u043e\\u043a\", \"\\u043a\\u043e\\u043c\\u043f\\u0430\\u043d\\u0438\\u044f\", \"\\u043f\\u0440\\u0438\\u043b\\u0430\\u0433\\u0430\\u0442\\u044c\", \"\\u043e\\u0431\\u044f\\u0437\\u0430\\u0442\\u044c\", \"\\u0441\\u043b\\u0435\\u0434\\u0443\\u044e\\u0449\\u0438\\u0439\", \"\\u043e\\u0431\\u0440\\u0430\\u0442\\u0438\\u0442\\u044c\\u0441\\u044f\", \"\\u043d\\u043e\\u043c\\u0435\\u0440\", \"\\u0442\\u0440\\u0435\\u0431\\u043e\\u0432\\u0430\\u043d\\u0438\\u0435\", \"\\u043f\\u0440\\u0435\\u0434\\u043e\\u0441\\u0442\\u0430\\u0432\\u0438\\u0442\\u044c\", \"\\u043d\\u0430\\u0440\\u0443\\u0448\\u0438\\u0442\\u044c\", \"\\u043f\\u043e\\u0442\\u0440\\u0435\\u0431\\u043e\\u0432\\u0430\\u0442\\u044c\", \"\\u043f\\u043e\\u0441\\u0442\\u043e\\u044f\\u043d\\u043d\\u044b\\u0439\", \"\\u043e\\u0442\\u0432\\u0435\\u0447\\u0430\\u0442\\u044c\", \"\\u043b\\u0438\\u0446\\u043e\", \"\\u043e\\u0442\\u0432\\u0435\\u0442\\u0441\\u0442\\u0432\\u0435\\u043d\\u043d\\u043e\\u0441\\u0442\\u044c\", \"\\u0434\\u043e\\u043b\\u0436\\u043d\\u044b\\u0439\", \"\\u043f\\u043e\\u043a\\u0443\\u043f\\u043a\\u0430\", \"\\u043e\\u0442\\u0432\\u0435\\u0442\", \"\\u0441\\u0434\\u0435\\u043b\\u0430\\u0442\\u044c\", \"\\u043d\\u0430\\u043f\\u0438\\u0441\\u0430\\u0442\\u044c\", \"\\u043e\\u0442\\u0441\\u0443\\u0442\\u0441\\u0442\\u0432\\u0438\\u0435\", \"\\u043a\\u0443\\u043f\\u0438\\u0442\\u044c\", \"\\u0441\\u043b\\u0443\\u0436\\u0431\\u0430\", \"\\u043f\\u043e\\u043b\\u0443\\u0447\\u0430\\u0442\\u044c\", \"\\u0432\\u0435\\u0440\\u043d\\u0443\\u0442\\u044c\", \"\\u043f\\u043b\\u0430\\u0442\\u0451\\u0436\", \"\\u043f\\u0440\\u043e\\u0434\\u0430\\u0432\\u0435\\u0446\", \"\\u043f\\u043e\\u0434\\u0434\\u0435\\u0440\\u0436\\u043a\\u0430\", \"\\u0438\\u043d\\u0444\\u043e\\u0440\\u043c\\u0430\\u0446\\u0438\\u044f\", \"\\u043e\\u0440\\u0433\\u0430\\u043d\\u0438\\u0437\\u0430\\u0446\\u0438\\u044f\", \"\\u0434\\u0430\\u0442\\u044c\", \"\\u043f\\u0440\\u0435\\u0442\\u0435\\u043d\\u0437\\u0438\\u044f\", \"\\u043f\\u043e\\u043b\\u0443\\u0447\\u0438\\u0442\\u044c\", \"\\u0441\\u0442\\u043e\\u0440\\u043e\\u043d\\u0430\", \"\\u0446\\u0435\\u043d\\u0430\", \"\\u0438\\u043d\\u0442\\u0435\\u0440\\u043d\\u0435\\u0442\", \"\\u0437\\u0430\\u043a\\u0430\\u0437\", \"\\u043e\\u043f\\u0435\\u0440\\u0430\\u0442\\u043e\\u0440\", \"\\u0441\\u0432\\u044f\\u0437\\u044c\", \"\\u0441\\u0447\\u0451\\u0442\", \"\\u044f\\u0432\\u043b\\u044f\\u0442\\u044c\\u0441\\u044f\", \"\\u043f\\u0440\\u0435\\u0434\\u043e\\u0441\\u0442\\u0430\\u0432\\u0438\\u0442\\u044c\", \"\\u043b\\u0438\\u0446\\u043e\", \"\\u0442\\u0440\\u0435\\u0431\\u043e\\u0432\\u0430\\u043d\\u0438\\u0435\", \"\\u043e\\u0442\\u0432\\u0435\\u0442\\u0441\\u0442\\u0432\\u0435\\u043d\\u043d\\u043e\\u0441\\u0442\\u044c\", \"\\u043f\\u043e\\u0442\\u0440\\u0435\\u0431\\u043e\\u0432\\u0430\\u0442\\u044c\", \"\\u043d\\u0430\\u0440\\u0443\\u0448\\u0438\\u0442\\u044c\", \"\\u043f\\u043e\\u0441\\u0442\\u043e\\u044f\\u043d\\u043d\\u044b\\u0439\", \"\\u043e\\u0442\\u0432\\u0435\\u0447\\u0430\\u0442\\u044c\", \"\\u043f\\u043e\\u043b\\u0443\\u0447\\u0430\\u0442\\u044c\", \"\\u043f\\u043b\\u0430\\u0442\\u0451\\u0436\", \"\\u043f\\u043e\\u0437\\u0434\\u043d\\u0438\\u0439\", \"\\u0437\\u043d\\u0430\\u0442\\u044c\", \"\\u043d\\u0438\\u043a\\u0442\\u043e\", \"\\u043f\\u043e\\u043b\\u0443\\u0447\\u0430\\u0442\\u044c\\u0441\\u044f\", \"\\u043e\\u043a\\u0430\\u0437\\u0430\\u0442\\u044c\\u0441\\u044f\", \"\\u0431\\u043e\\u043b\\u044c\\u0448\\u043e\\u0439\", \"\\u0437\\u0430\\u0440\\u0430\\u043d\\u0435\\u0435\", \"\\u0437\\u0430\\u043a\\u043e\\u043d\\u043d\\u044b\\u0439\", \"\\u043f\\u043e\\u043f\\u0440\\u043e\\u0441\\u0438\\u0442\\u044c\", \"\\u0447\\u0430\\u0441\\u0442\\u044c\", \"\\u043f\\u043e\\u044d\\u0442\\u043e\\u043c\\u0443\", \"\\u0441\\u0441\\u044b\\u043b\\u0430\\u0442\\u044c\\u0441\\u044f\", \"\\u0433\\u0440\\u0443\\u043f\\u043f\\u0430\", \"\\u0441\\u0442\\u0430\\u0442\\u044c\\u044f\", \"\\u043f\\u0440\\u0438\\u043b\\u0430\\u0433\\u0430\\u0442\\u044c\", \"\\u0437\\u0430\\u043a\\u043b\\u044e\\u0447\\u0438\\u0442\\u044c\", \"\\u0440\\u0435\\u0448\\u0435\\u043d\\u0438\\u0435\", \"\\u043c\\u043e\\u043c\\u0435\\u043d\\u0442\", \"\\u043f\\u0440\\u043e\\u0439\\u0442\\u0438\", \"\\u0434\\u0435\\u043a\\u0430\\u0431\\u0440\\u044c\", \"\\u0446\\u0435\\u043d\\u0430\", \"\\u043e\\u0431\\u0440\\u0430\\u0442\\u0438\\u0442\\u044c\\u0441\\u044f\", \"\\u0441\\u043b\\u0443\\u0436\\u0431\\u0430\", \"\\u043e\\u0431\\u043d\\u0430\\u0440\\u0443\\u0436\\u0438\\u0442\\u044c\", \"\\u0441\\u0440\\u043e\\u043a\", \"\\u0441\\u043c\\u043e\\u0447\\u044c\", \"\\u043d\\u043e\\u043c\\u0435\\u0440\", \"\\u043d\\u0430\\u043f\\u0438\\u0441\\u0430\\u0442\\u044c\", \"\\u043e\\u0442\\u0432\\u0435\\u0442\", \"\\u0434\\u043e\\u043b\\u0436\\u043d\\u044b\\u0439\", \"\\u0441\\u0434\\u0435\\u043b\\u0430\\u0442\\u044c\", \"\\u043a\\u0443\\u043f\\u0438\\u0442\\u044c\", \"\\u043e\\u0440\\u0433\\u0430\\u043d\\u0438\\u0437\\u0430\\u0446\\u0438\\u044f\", \"\\u0432\\u0435\\u0440\\u043d\\u0443\\u0442\\u044c\", \"\\u043f\\u043e\\u0434\\u0434\\u0435\\u0440\\u0436\\u043a\\u0430\", \"\\u0444\\u043e\\u0442\\u043e\", \"\\u0434\\u0430\\u0442\\u0430\", \"\\u0443\\u043a\\u0430\\u0437\\u0430\\u0442\\u044c\", \"\\u0441\\u0430\\u0439\\u0442\", \"\\u043e\\u0442\\u0441\\u0443\\u0442\\u0441\\u0442\\u0432\\u043e\\u0432\\u0430\\u0442\\u044c\", \"\\u043f\\u043e\\u0434\\u0441\\u043a\\u0430\\u0437\\u0430\\u0442\\u044c\", \"\\u0441\\u043e\\u0441\\u0442\\u0430\\u0432\\u0438\\u0442\\u044c\", \"\\u043b\\u0438\\u0447\\u043d\\u044b\\u0439\", \"\\u0440\\u0443\\u0431\\u043b\\u044c\", \"\\u043b\\u0438\\u0446\\u043e\", \"\\u043f\\u0440\\u0435\\u0434\\u043e\\u0441\\u0442\\u0430\\u0432\\u0438\\u0442\\u044c\", \"\\u043e\\u0442\\u0432\\u0435\\u0442\\u0441\\u0442\\u0432\\u0435\\u043d\\u043d\\u043e\\u0441\\u0442\\u044c\", \"\\u043e\\u0442\\u0432\\u0435\\u0447\\u0430\\u0442\\u044c\", \"\\u043f\\u043e\\u0441\\u0442\\u043e\\u044f\\u043d\\u043d\\u044b\\u0439\", \"\\u043d\\u0430\\u0440\\u0443\\u0448\\u0438\\u0442\\u044c\", \"\\u043f\\u043e\\u0442\\u0440\\u0435\\u0431\\u043e\\u0432\\u0430\\u0442\\u044c\", \"\\u0442\\u0440\\u0435\\u0431\\u043e\\u0432\\u0430\\u043d\\u0438\\u0435\", \"\\u043f\\u043e\\u043b\\u0443\\u0447\\u0430\\u0442\\u044c\", \"\\u043f\\u043b\\u0430\\u0442\\u0451\\u0436\", \"\\u043f\\u043e\\u0437\\u0434\\u043d\\u0438\\u0439\", \"\\u0437\\u043d\\u0430\\u0442\\u044c\", \"\\u043f\\u043e\\u043b\\u0443\\u0447\\u0430\\u0442\\u044c\\u0441\\u044f\", \"\\u043d\\u0438\\u043a\\u0442\\u043e\", \"\\u043e\\u043a\\u0430\\u0437\\u0430\\u0442\\u044c\\u0441\\u044f\", \"\\u0431\\u043e\\u043b\\u044c\\u0448\\u043e\\u0439\", \"\\u0437\\u0430\\u0440\\u0430\\u043d\\u0435\\u0435\", \"\\u0437\\u0430\\u043a\\u043e\\u043d\\u043d\\u044b\\u0439\", \"\\u043f\\u043e\\u043f\\u0440\\u043e\\u0441\\u0438\\u0442\\u044c\", \"\\u0447\\u0430\\u0441\\u0442\\u044c\", \"\\u043f\\u043e\\u044d\\u0442\\u043e\\u043c\\u0443\", \"\\u0441\\u0441\\u044b\\u043b\\u0430\\u0442\\u044c\\u0441\\u044f\", \"\\u0441\\u0442\\u043e\\u0438\\u0442\\u044c\", \"\\u0441\\u0442\\u0430\\u0442\\u044c\", \"\\u043a\\u0430\\u0431\\u0438\\u043d\\u0435\\u0442\", \"\\u043e\\u0442\\u043d\\u043e\\u0448\\u0435\\u043d\\u0438\\u0435\", \"\\u0433\\u043e\\u0440\\u043e\\u0434\", \"\\u043f\\u043e\\u043b\\u044c\\u0437\\u043e\\u0432\\u0430\\u0442\\u044c\\u0441\\u044f\", \"\\u0432\\u0437\\u044f\\u0442\\u044c\", \"\\u043f\\u0440\\u043e\\u0431\\u043b\\u0435\\u043c\\u0430\", \"\\u0438\\u0442\\u043e\\u0433\", \"\\u043c\\u0430\\u0433\\u0430\\u0437\\u0438\\u043d\", \"\\u0434\\u043e\\u043b\\u0436\\u043d\\u044b\\u0439\", \"\\u0441\\u0447\\u0438\\u0442\\u0430\\u0442\\u044c\", \"\\u0437\\u0430\\u043a\\u0430\\u0437\\u0430\\u0442\\u044c\", \"\\u0446\\u0435\\u043d\\u0430\", \"\\u043d\\u0430\\u0445\\u043e\\u0434\\u0438\\u0442\\u044c\\u0441\\u044f\", \"\\u043a\\u0443\\u043f\\u0438\\u0442\\u044c\", \"\\u043e\\u0442\\u043a\\u0430\\u0437\\u0430\\u0442\\u044c\\u0441\\u044f\", \"\\u0432\\u044b\\u0434\\u0430\\u0447\\u0430\", \"\\u0432\\u0435\\u0440\\u043d\\u0443\\u0442\\u044c\", \"\\u0441\\u0442\\u043e\\u0438\\u043c\\u043e\\u0441\\u0442\\u044c\", \"\\u0442\\u043e\\u0432\\u0430\\u0440\", \"\\u0434\\u043e\\u0441\\u0442\\u0430\\u0432\\u043a\\u0430\", \"\\u0441\\u043e\\u0442\\u0440\\u0443\\u0434\\u043d\\u0438\\u043a\", \"\\u043e\\u0442\\u0432\\u0435\\u0442\", \"\\u043f\\u043e\\u043a\\u0443\\u043f\\u0430\\u0442\\u0435\\u043b\\u044c\", \"\\u0446\\u0435\\u043d\\u0430\", \"\\u043e\\u0442\\u043c\\u0435\\u043d\\u0438\\u0442\\u044c\", \"\\u043f\\u0440\\u043e\\u0434\\u0430\\u0436\\u0430\", \"\\u043a\\u0430\\u0447\\u0435\\u0441\\u0442\\u0432\\u043e\", \"\\u0437\\u0430\\u043a\\u043e\\u043d\\u043d\\u044b\\u0439\", \"\\u043f\\u0440\\u0438\\u0447\\u0438\\u043d\\u0430\", \"\\u043f\\u0440\\u0438\\u043e\\u0431\\u0440\\u0435\\u0441\\u0442\\u0438\", \"\\u0441\\u0442\\u043e\\u0438\\u043c\\u043e\\u0441\\u0442\\u044c\", \"\\u043f\\u043e\\u0441\\u0442\\u043e\\u044f\\u043d\\u043d\\u044b\\u0439\", \"\\u043d\\u0430\\u0440\\u0443\\u0448\\u0438\\u0442\\u044c\", \"\\u043e\\u0442\\u0432\\u0435\\u0442\\u0441\\u0442\\u0432\\u0435\\u043d\\u043d\\u043e\\u0441\\u0442\\u044c\", \"\\u043e\\u0442\\u0432\\u0435\\u0447\\u0430\\u0442\\u044c\", \"\\u043f\\u043e\\u0442\\u0440\\u0435\\u0431\\u043e\\u0432\\u0430\\u0442\\u044c\", \"\\u043b\\u0438\\u0446\\u043e\", \"\\u0442\\u0440\\u0435\\u0431\\u043e\\u0432\\u0430\\u043d\\u0438\\u0435\", \"\\u043f\\u0440\\u0435\\u0434\\u043e\\u0441\\u0442\\u0430\\u0432\\u0438\\u0442\\u044c\", \"\\u0441\\u0440\\u0430\\u0437\\u0443\", \"\\u043f\\u043e\\u0434\\u0434\\u0435\\u0440\\u0436\\u043a\\u0430\", \"\\u0442\\u043e\\u0432\\u0430\\u0440\", \"\\u0441\\u0434\\u0435\\u043b\\u0430\\u0442\\u044c\", \"\\u0434\\u043e\\u043b\\u0436\\u043d\\u044b\\u0439\", \"\\u043e\\u043f\\u043b\\u0430\\u0442\\u0438\\u0442\\u044c\", \"\\u0442\\u0435\\u043b\\u0435\\u0444\\u043e\\u043d\", \"\\u043f\\u043e\\u043b\\u0443\\u0447\\u0430\\u0442\\u044c\", \"\\u043f\\u043e\\u0437\\u0434\\u043d\\u0438\\u0439\", \"\\u043f\\u043b\\u0430\\u0442\\u0451\\u0436\", \"\\u0437\\u043d\\u0430\\u0442\\u044c\", \"\\u043d\\u0438\\u043a\\u0442\\u043e\", \"\\u043f\\u043e\\u043b\\u0443\\u0447\\u0430\\u0442\\u044c\\u0441\\u044f\", \"\\u043e\\u043a\\u0430\\u0437\\u0430\\u0442\\u044c\\u0441\\u044f\", \"\\u0437\\u0430\\u043a\\u0430\\u0437\", \"\\u0443\\u043a\\u0430\\u0437\\u0430\\u0442\\u044c\", \"\\u043f\\u0440\\u043e\\u0434\\u0430\\u0432\\u0435\\u0446\", \"\\u043e\\u0444\\u043e\\u0440\\u043c\\u0438\\u0442\\u044c\", \"\\u043d\\u043e\\u0432\\u044b\\u0439\", \"\\u0441\\u0440\\u0435\\u0434\\u0441\\u0442\\u0432\\u043e\", \"\\u0440\\u0443\\u0431\\u043b\\u044c\", \"\\u043f\\u043e\\u0434\\u0441\\u043a\\u0430\\u0437\\u0430\\u0442\\u044c\", \"\\u0441\\u0442\\u043e\\u0438\\u0442\\u044c\", \"\\u043f\\u043e\\u043b\\u0443\\u0447\\u0438\\u0442\\u044c\", \"\\u0434\\u043e\\u0441\\u0442\\u0430\\u0432\\u0438\\u0442\\u044c\", \"\\u0437\\u0430\\u043a\\u0430\\u0437\\u0430\\u0442\\u044c\", \"\\u0440\\u0435\\u0431\\u0451\\u043d\\u043e\\u043a\", \"\\u043f\\u0440\\u043e\\u0431\\u043b\\u0435\\u043c\\u0430\", \"\\u0444\\u043e\\u0442\\u043e\", \"\\u0432\\u0437\\u044f\\u0442\\u044c\", \"\\u043f\\u0440\\u0438\\u0441\\u043b\\u0430\\u0442\\u044c\", \"\\u043a\\u0432\\u0430\\u0440\\u0442\\u0438\\u0440\\u0430\", \"\\u0434\\u0435\\u043d\\u044c\\u0433\\u0430\", \"\\u043e\\u0442\\u0432\\u0435\\u0447\\u0430\\u0442\\u044c\", \"\\u043e\\u0442\\u0432\\u0435\\u0442\\u0441\\u0442\\u0432\\u0435\\u043d\\u043d\\u043e\\u0441\\u0442\\u044c\", \"\\u043b\\u0438\\u0446\\u043e\", \"\\u0442\\u0440\\u0435\\u0431\\u043e\\u0432\\u0430\\u043d\\u0438\\u0435\", \"\\u043f\\u0440\\u0435\\u0434\\u043e\\u0441\\u0442\\u0430\\u0432\\u0438\\u0442\\u044c\", \"\\u043f\\u043e\\u0441\\u0442\\u043e\\u044f\\u043d\\u043d\\u044b\\u0439\", \"\\u043f\\u043e\\u0442\\u0440\\u0435\\u0431\\u043e\\u0432\\u0430\\u0442\\u044c\", \"\\u043d\\u0430\\u0440\\u0443\\u0448\\u0438\\u0442\\u044c\", \"\\u043d\\u0430\\u043f\\u0438\\u0441\\u0430\\u0442\\u044c\", \"\\u043e\\u043a\\u0430\\u0437\\u0430\\u0442\\u044c\\u0441\\u044f\", \"\\u0441\\u0442\\u043e\\u0440\\u043e\\u043d\\u0430\", \"\\u043f\\u0440\\u0438\\u0439\\u0442\\u0438\", \"\\u0434\\u0435\\u0439\\u0441\\u0442\\u0432\\u0438\\u0435\", \"\\u0434\\u043e\\u043b\\u0436\\u043d\\u044b\\u0439\", \"\\u043e\\u0442\\u0432\\u0435\\u0442\", \"\\u043f\\u0440\\u043e\\u0436\\u0438\\u0432\\u0430\\u0442\\u044c\", \"\\u043d\\u043e\\u043c\\u0435\\u0440\", \"\\u043f\\u043e\\u043b\\u0443\\u0447\\u0430\\u0442\\u044c\", \"\\u0440\\u0430\\u0439\\u043e\\u043d\", \"\\u043f\\u043b\\u0430\\u0442\\u0451\\u0436\", \"\\u043f\\u043e\\u0437\\u0434\\u043d\\u0438\\u0439\", \"\\u0437\\u043d\\u0430\\u0442\\u044c\", \"\\u043f\\u043e\\u043b\\u0443\\u0447\\u0430\\u0442\\u044c\\u0441\\u044f\", \"\\u043d\\u0438\\u043a\\u0430\\u043a\\u043e\\u0439\", \"\\u043e\\u0442\\u0432\\u0435\\u0442\\u0438\\u0442\\u044c\", \"\\u0433\\u043e\\u0440\\u043e\\u0434\", \"\\u0441\\u0447\\u0451\\u0442\", \"https\", \"\\u0434\\u0430\\u0442\\u044c\", \"\\u043f\\u0438\\u0441\\u0430\\u0442\\u044c\", \"\\u0441\\u0432\\u043e\\u0439\", \"\\u043f\\u0443\\u043d\\u043a\\u0442\", \"\\u0437\\u0430\\u044f\\u0432\\u043b\\u0435\\u043d\\u0438\\u0435\", \"\\u0434\\u0435\\u043b\\u0430\\u0442\\u044c\", \"\\u0441\\u0434\\u0435\\u043b\\u0430\\u0442\\u044c\", \"\\u043e\\u0442\\u043a\\u0430\\u0437\\u044b\\u0432\\u0430\\u0442\\u044c\\u0441\\u044f\", \"\\u043e\\u0442\\u0432\\u0435\\u0447\\u0430\\u0442\\u044c\", \"\\u043f\\u043e\\u0441\\u0442\\u043e\\u044f\\u043d\\u043d\\u044b\\u0439\", \"\\u043e\\u0442\\u0432\\u0435\\u0442\\u0441\\u0442\\u0432\\u0435\\u043d\\u043d\\u043e\\u0441\\u0442\\u044c\", \"\\u043d\\u0430\\u0440\\u0443\\u0448\\u0438\\u0442\\u044c\", \"\\u043f\\u043e\\u0442\\u0440\\u0435\\u0431\\u043e\\u0432\\u0430\\u0442\\u044c\", \"\\u043b\\u0438\\u0446\\u043e\", \"\\u0442\\u0440\\u0435\\u0431\\u043e\\u0432\\u0430\\u043d\\u0438\\u0435\", \"\\u043f\\u0440\\u0435\\u0434\\u043e\\u0441\\u0442\\u0430\\u0432\\u0438\\u0442\\u044c\", \"\\u043f\\u043e\\u043b\\u0443\\u0447\\u0430\\u0442\\u044c\", \"\\u043e\\u043f\\u0435\\u0440\\u0430\\u0442\\u043e\\u0440\", \"\\u043f\\u043b\\u0430\\u0442\\u0451\\u0436\", \"\\u043f\\u043e\\u0437\\u0434\\u043d\\u0438\\u0439\", \"\\u0437\\u043d\\u0430\\u0442\\u044c\", \"\\u043d\\u0438\\u043a\\u0442\\u043e\", \"\\u043f\\u043e\\u043b\\u0443\\u0447\\u0430\\u0442\\u044c\\u0441\\u044f\", \"\\u043e\\u043a\\u0430\\u0437\\u0430\\u0442\\u044c\\u0441\\u044f\", \"\\u0431\\u043e\\u043b\\u044c\\u0448\\u043e\\u0439\", \"\\u0437\\u0430\\u0440\\u0430\\u043d\\u0435\\u0435\", \"\\u0437\\u0430\\u043a\\u043e\\u043d\\u043d\\u044b\\u0439\", \"\\u043f\\u043e\\u043f\\u0440\\u043e\\u0441\\u0438\\u0442\\u044c\", \"\\u0447\\u0430\\u0441\\u0442\\u044c\", \"\\u043f\\u043e\\u044d\\u0442\\u043e\\u043c\\u0443\", \"\\u0441\\u0441\\u044b\\u043b\\u0430\\u0442\\u044c\\u0441\\u044f\", \"\\u0433\\u0440\\u0443\\u043f\\u043f\\u0430\", \"\\u0441\\u0442\\u0430\\u0442\\u044c\\u044f\", \"\\u0437\\u0430\\u043a\\u043b\\u044e\\u0447\\u0438\\u0442\\u044c\", \"\\u0434\\u0430\\u0432\\u0430\\u0442\\u044c\", \"\\u043f\\u0440\\u0438\\u043b\\u0430\\u0433\\u0430\\u0442\\u044c\", \"\\u0441\\u0442\\u0430\\u0442\\u044c\", \"\\u043e\\u0442\\u0441\\u0443\\u0442\\u0441\\u0442\\u0432\\u043e\\u0432\\u0430\\u0442\\u044c\", \"\\u0441\\u043b\\u043e\\u0432\\u043e\", \"\\u044f\\u0432\\u043b\\u044f\\u0442\\u044c\\u0441\\u044f\", \"\\u0441\\u0447\\u0451\\u0442\", \"\\u0441\\u0432\\u044f\\u0437\\u044c\", \"\\u0434\\u0435\\u043d\\u044c\\u0433\\u0430\", \"\\u0441\\u0442\\u043e\\u0438\\u043c\\u043e\\u0441\\u0442\\u044c\", \"\\u0437\\u0430\\u043a\\u0430\\u0437\", \"\\u0432\\u043e\\u0437\\u0432\\u0440\\u0430\\u0449\\u0430\\u0442\\u044c\", \"\\u0441\\u0438\\u0442\\u0443\\u0430\\u0446\\u0438\\u044f\", \"\\u043e\\u043d\\u043b\\u0430\\u0439\\u043d\", \"\\u044d\\u043b\\u0435\\u043a\\u0442\\u0440\\u043e\\u043d\\u043d\\u044b\\u0439\", \"\\u043d\\u0438\\u043a\\u0430\\u043a\\u043e\\u0439\", \"\\u043c\\u0430\\u0433\\u0430\\u0437\\u0438\\u043d\", \"\\u0441\\u0430\\u0439\\u0442\", \"\\u0441\\u0434\\u0435\\u043b\\u0430\\u0442\\u044c\", \"\\u043f\\u0438\\u0441\\u0430\\u0442\\u044c\", \"\\u0432\\u043e\\u0437\\u0432\\u0440\\u0430\\u0442\", \"\\u043f\\u043e\\u0434\\u0434\\u0435\\u0440\\u0436\\u043a\\u0430\", \"\\u043f\\u043e\\u0447\\u0442\\u0430\", \"\\u043f\\u043e\\u043b\\u0443\\u0447\\u0438\\u0442\\u044c\", \"\\u0441\\u043e\\u0442\\u0440\\u0443\\u0434\\u043d\\u0438\\u043a\", \"\\u0441\\u0443\\u043c\\u043c\\u0430\", \"\\u043f\\u0440\\u043e\\u0432\\u0435\\u0440\\u043a\\u0430\", \"\\u0438\\u043d\\u0444\\u043e\\u0440\\u043c\\u0430\\u0446\\u0438\\u044f\", \"\\u043a\\u0430\\u0440\\u0442\\u0430\", \"\\u043e\\u0442\\u0432\\u0435\\u0447\\u0430\\u0442\\u044c\", \"\\u043f\\u043e\\u0441\\u0442\\u043e\\u044f\\u043d\\u043d\\u044b\\u0439\", \"\\u043e\\u0442\\u0432\\u0435\\u0442\\u0441\\u0442\\u0432\\u0435\\u043d\\u043d\\u043e\\u0441\\u0442\\u044c\", \"\\u043d\\u0430\\u0440\\u0443\\u0448\\u0438\\u0442\\u044c\", \"\\u043f\\u043e\\u0442\\u0440\\u0435\\u0431\\u043e\\u0432\\u0430\\u0442\\u044c\", \"\\u043b\\u0438\\u0446\\u043e\", \"\\u0442\\u0440\\u0435\\u0431\\u043e\\u0432\\u0430\\u043d\\u0438\\u0435\", \"\\u043f\\u0440\\u0435\\u0434\\u043e\\u0441\\u0442\\u0430\\u0432\\u0438\\u0442\\u044c\", \"\\u043f\\u043e\\u043b\\u0443\\u0447\\u0430\\u0442\\u044c\", \"\\u043f\\u043b\\u0430\\u0442\\u0451\\u0436\", \"\\u043f\\u043e\\u0437\\u0434\\u043d\\u0438\\u0439\", \"\\u0437\\u043d\\u0430\\u0442\\u044c\", \"\\u043d\\u0438\\u043a\\u0442\\u043e\", \"\\u043f\\u043e\\u043b\\u0443\\u0447\\u0430\\u0442\\u044c\\u0441\\u044f\", \"\\u043e\\u043a\\u0430\\u0437\\u0430\\u0442\\u044c\\u0441\\u044f\", \"\\u0431\\u043e\\u043b\\u044c\\u0448\\u043e\\u0439\", \"\\u0437\\u0430\\u0440\\u0430\\u043d\\u0435\\u0435\", \"\\u0437\\u0430\\u043a\\u043e\\u043d\\u043d\\u044b\\u0439\", \"\\u043f\\u043e\\u043f\\u0440\\u043e\\u0441\\u0438\\u0442\\u044c\", \"\\u0447\\u0430\\u0441\\u0442\\u044c\", \"\\u043f\\u043e\\u044d\\u0442\\u043e\\u043c\\u0443\", \"\\u0441\\u0441\\u044b\\u043b\\u0430\\u0442\\u044c\\u0441\\u044f\", \"\\u0433\\u0440\\u0443\\u043f\\u043f\\u0430\", \"\\u0441\\u0442\\u0430\\u0442\\u044c\\u044f\", \"\\u0437\\u0430\\u043a\\u043b\\u044e\\u0447\\u0438\\u0442\\u044c\", \"\\u043f\\u0440\\u0438\\u043b\\u0430\\u0433\\u0430\\u0442\\u044c\", \"\\u043e\\u0442\\u0441\\u0443\\u0442\\u0441\\u0442\\u0432\\u043e\\u0432\\u0430\\u0442\\u044c\", \"\\u043f\\u0440\\u043e\\u0438\\u0437\\u043e\\u0439\\u0442\\u0438\", \"\\u0441\\u0442\\u0430\\u0442\\u044c\", \"\\u0434\\u0430\\u0432\\u0430\\u0442\\u044c\", \"\\u0434\\u043e\\u043b\\u0436\\u043d\\u044b\\u0439\", \"\\u0434\\u043e\\u0441\\u0442\\u0430\\u0432\\u0438\\u0442\\u044c\", \"\\u0437\\u0430\\u043a\\u0430\\u0437\", \"\\u0437\\u0430\\u043a\\u0430\\u0437\\u0430\\u0442\\u044c\", \"\\u043a\\u0430\\u0447\\u0435\\u0441\\u0442\\u0432\\u043e\", \"\\u043d\\u043e\\u0432\\u044b\\u0439\", \"\\u043e\\u043f\\u043b\\u0430\\u0442\\u0438\\u0442\\u044c\", \"\\u043e\\u0442\\u043c\\u0435\\u043d\\u0438\\u0442\\u044c\", \"\\u043e\\u0444\\u043e\\u0440\\u043c\\u0438\\u0442\\u044c\", \"\\u043f\\u043e\\u0434\\u0434\\u0435\\u0440\\u0436\\u043a\\u0430\", \"\\u043f\\u043e\\u0434\\u0441\\u043a\\u0430\\u0437\\u0430\\u0442\\u044c\", \"\\u043f\\u043e\\u043b\\u0443\\u0447\\u0438\\u0442\\u044c\", \"\\u043f\\u0440\\u0438\\u043e\\u0431\\u0440\\u0435\\u0441\\u0442\\u0438\", \"\\u043f\\u0440\\u0438\\u0447\\u0438\\u043d\\u0430\", \"\\u043f\\u0440\\u043e\\u0434\\u0430\\u0432\\u0435\\u0446\", \"\\u0440\\u0443\\u0431\\u043b\\u044c\", \"\\u0441\\u0434\\u0435\\u043b\\u0430\\u0442\\u044c\", \"\\u0441\\u0440\\u0430\\u0437\\u0443\", \"\\u0441\\u0440\\u0435\\u0434\\u0441\\u0442\\u0432\\u043e\", \"\\u0441\\u0442\\u043e\\u0438\\u043c\\u043e\\u0441\\u0442\\u044c\", \"\\u0441\\u0442\\u043e\\u0438\\u0442\\u044c\", \"\\u0442\\u0435\\u043b\\u0435\\u0444\\u043e\\u043d\", \"\\u0442\\u043e\\u0432\\u0430\\u0440\", \"\\u0443\\u043a\\u0430\\u0437\\u0430\\u0442\\u044c\", \"\\u0446\\u0435\\u043d\\u0430\", \"\\u0432\\u0435\\u0440\\u043d\\u0443\\u0442\\u044c\", \"\\u0432\\u043e\\u0437\\u0432\\u0440\\u0430\\u0442\", \"\\u0433\\u043e\\u0440\\u043e\\u0434\"], \"Freq\": [141.0, 126.0, 261.0, 53.0, 65.0, 114.0, 76.0, 76.0, 38.0, 45.0, 35.0, 57.0, 54.0, 72.0, 116.0, 54.0, 34.0, 39.0, 47.0, 54.0, 79.0, 41.0, 28.0, 31.0, 23.0, 54.0, 41.0, 77.0, 28.0, 80.0, 22.00257854091516, 16.441558112332125, 20.8876885965064, 15.996377582626083, 20.230171958454953, 12.130192288443116, 27.760184768673252, 47.66033838336885, 56.53263328815221, 25.0067141523191, 180.3429143655684, 8.795800119648591, 14.464062130939816, 18.838955769010816, 16.629735910641628, 22.315968946336465, 8.679475075054695, 49.656236367773914, 45.89027632454236, 19.33962440284473, 11.601550008486212, 5.803992455459694, 2.919883407204046, 8.377872326392067, 12.059259478158653, 3.305926031660913, 12.035820510601276, 9.632685353238744, 5.167824930510037, 5.951593225920051, 9.234680525686496, 6.993479703726802, 7.253097299884608, 10.48102364746739, 7.089687450443573, 53.095519862228116, 33.86437586716239, 12.564218194574261, 19.46358119575718, 46.07610929528874, 17.403440846113536, 12.45043555145721, 14.823697085710252, 25.166684738343132, 20.764964755138667, 10.631551001374403, 15.113376699718497, 3.8066450103586025, 6.932728593380585, 8.24269737887449, 29.903996811308833, 10.25392393454338, 6.438809093672319, 15.71884682832178, 27.402639449052494, 5.839158310962292, 1.8851933917454053, 8.078193335539027, 8.455794070488178, 4.374981764255476, 7.757895422341544, 3.398555312228221, 7.60702974488048, 2.2729848231339282, 10.094815345434206, 8.387330661314927, 20.14819773290177, 8.130722858312508, 9.060591961636664, 5.803615949863375, 46.208051195857614, 17.484267242666544, 12.939739079558898, 12.084051389055732, 9.89471250471018, 14.20643978002312, 30.742554094941166, 58.68502943783303, 7.774973055403465, 7.772253191609977, 9.971456331456888, 10.759264448642002, 7.758578897816418, 14.841736942801024, 4.3686357012710415, 49.982486577384215, 4.515124860015521, 17.194696227072725, 7.219410607030444, 7.54990875912564, 6.722531157695911, 5.307580403246725, 7.301237017766733, 4.6184219332884835, 3.1349122728062024, 11.350151185023947, 6.859839952934041, 17.874914455602866, 1.7295272676672204, 9.008344912724203, 9.96419491822987, 9.265366722048851, 8.34471689081968, 7.9366400571572, 7.0241341131219395, 8.309711752408425, 30.55771644597147, 28.034597371044207, 25.592241755037364, 39.90602628705317, 12.638258542270439, 10.301152928996741, 13.2330217046994, 28.912942920133776, 8.78657859739202, 8.983173834542166, 9.582925709150961, 10.113681141773677, 15.90126294246079, 9.96861810024642, 9.553375378483011, 18.56382196572841, 12.410821690035592, 21.07075681750792, 25.225104069965177, 5.411974753797201, 12.482571495741695, 8.337855385703861, 2.619914730777763, 6.286242809579513, 9.187943765409118, 8.974244640337664, 7.986462736928375, 9.076634297938352, 2.5802443338668968, 2.320473053548839, 7.536673464849641, 6.268977980322832, 12.464843549581188, 5.804619998267453, 75.80978989717245, 28.310608400674727, 22.867740908307972, 19.838164738889816, 18.46002474180045, 11.416678843841847, 11.323613092913702, 21.81012771207931, 12.935489306921026, 29.289528949082076, 11.007824758297964, 9.195892296524457, 12.847114344171914, 18.362884350006855, 7.60677319014099, 23.07901342108474, 12.798078370246394, 9.383066297630078, 10.725841089314136, 2.1325605785243167, 8.368839224513955, 5.341363182211529, 5.329842511087687, 3.1347365620331002, 11.526024820514118, 3.5196560292574812, 7.617685507481252, 12.586970896928626, 3.024121386076852, 5.14842380267163, 15.158436954265387, 7.755169336583608, 4.749554145954096, 4.2544596079974575, 21.129216966938166, 11.504911183572892, 11.484290604788082, 24.21643562171753, 21.045738952779153, 14.234092375516529, 22.132573425767, 17.673019757265475, 25.463870879363046, 3.641519825899631, 14.995439300213707, 9.318743812630137, 14.772205568063994, 8.324277405282386, 47.004422542857846, 7.3540971076366795, 6.657967640366406, 20.27480946047732, 7.735754671845084, 2.989888868503901, 12.393978459323701, 11.834983751892235, 6.089947857377132, 5.781451390986784, 5.285632626644249, 2.6662226956040325, 9.483164204758857, 2.116034167336049, 1.9210821806803116, 8.35809969394923, 5.611951028609488, 5.369725290281359, 6.445235136564221, 7.727662339295821, 4.901088197973344, 25.09677266051751, 21.04642878939431, 24.481579954930954, 10.792413199401786, 11.931545009852348, 25.869469512979812, 13.3583364170648, 6.784935722676277, 11.750710514042781, 7.831286574690038, 20.087342902053315, 6.6404887979002725, 10.50503145004743, 21.119292264452266, 8.37230927998147, 7.762618113669538, 13.002264524955828, 18.059031130181136, 3.528137698933933, 3.240965740432809, 5.199576960589302, 6.427611911179022, 4.985764547192393, 3.5431611331069384, 7.250812749637459, 9.99856942893366, 8.70742457152851, 14.357626663670603, 5.705523839761068, 6.386947818848277, 22.887167864310612, 9.23000495438804, 11.268305581469242, 12.674085807182545, 21.607344747232347, 7.6826778156647055, 100.71891577830645, 15.331066377130247, 19.544983493270234, 7.017456763127251, 26.225978902132116, 5.655051744312804, 10.532718237658711, 13.024864475969704, 12.561316127974802, 4.521120136653411, 10.368468559451664, 11.078647675528789, 3.1300321395931836, 14.76665415501051, 2.9604437796710728, 4.925470465310368, 7.010549521717787, 10.577854077495696, 5.536420654130845, 6.168824499717609, 4.29829093697962, 5.313441571930239, 2.239215197265365, 2.2238700902799162, 3.562407897346022, 3.277847180139087, 2.4286895840517118, 5.79515583094193, 2.716986578837769, 2.859258011434677, 2.8161050467632402, 116.19989075113158, 12.742941960301875, 11.14748365198671, 19.26610891477983, 11.28095505729177, 6.836309463767404, 8.8783526863315, 4.494983211882908, 14.677275751215939, 7.241854055632688, 13.739542058346721, 6.052765774944902, 7.341285499750544, 2.674289423289558, 3.31381148849445, 7.739594505394144, 7.80721149632618, 2.3371391927308283, 5.67977729325142, 1.9622447438807549, 1.2423821889041045, 2.530021028212818, 0.05628805963637657, 0.05628651563649626, 0.05633064130698855, 0.05628384720192052, 0.056277507571977206, 0.05625157424790068, 0.056257939051755086, 0.05626386331216539, 0.47469581520012105, 0.674061208266442, 0.42129359203567773, 0.3089893845679321, 0.2764101143979251, 0.26469993261008223, 0.3034731429086116, 0.2071884376772458, 0.23262961179192426, 27.794324541974017, 17.290454987071783, 12.404445841544494, 24.232629031958574, 8.928378141023769, 10.365950633651131, 11.070686541315425, 5.111957596491942, 7.644377056452047, 9.28873630810844, 6.427905515277403, 7.397078979977392, 12.444383389682056, 17.186527641617435, 18.53916725651238, 2.973407485302365, 4.550152830447885, 4.739145731528753, 3.7142122539808256, 4.147335734566481, 3.042886392400094, 6.408304233941711, 1.4469750996129138, 0.9922487790080459, 4.007088691777424, 1.6622965519315696, 1.4233550549321055, 0.8504517830467035, 1.0812409744607587, 1.585793977523042, 2.2851752056500367, 3.1136868213901745, 1.5816539265558685, 1.8282829810079224, 1.5548347174455648, 24.536161899114113, 17.79920417663725, 12.414280992388328, 6.671663059970597, 32.585219618671616, 7.801313876950961, 3.742187332015582, 6.929403156409237, 11.3574691506683, 10.394187543817198, 4.592075142093055, 7.773380361015732, 4.496162368145094, 4.005683851075167, 2.9702848920214313, 1.6823020895905338, 4.207595559938244, 2.0828285180350234, 4.268151564365603, 3.1677560559376343, 4.614208859157969, 4.202986636277906, 4.457621387591192, 2.867819149782276, 2.485195873935732, 1.869425652054743, 1.24486513465653, 0.04662779833365212, 0.04662425552919363, 0.04662382115056002, 2.95173799644988, 0.8452194412390222, 0.7063201633798458, 0.9199160043786305, 17.78374178817949, 23.934758053283293, 14.778729401808189, 6.185214182971337, 6.172756294302032, 8.242416678553385, 8.36244523955275, 4.40291753110168, 10.442888324039577, 7.896961140857144, 3.2986437308772616, 3.992717145418564, 7.081283452889793, 2.700922652123386, 6.507129768230319, 4.042695263491892, 1.910147020666072, 1.8761421299095853, 1.2782639632604111, 2.160755615755138, 1.3185064518286607, 0.05143287184614019, 0.051401044981000996, 0.05140000227598878, 0.051401658910120336, 0.05139827742751063, 0.051389643440213226, 0.051376258810920915, 0.05141039521893763, 2.9005535355939567, 4.02158608057096, 2.6161257486896448, 1.590186965315605, 0.6981670549294451, 0.9223048974145833, 0.6779246229861436, 0.3051119359765261, 0.34668479920148204, 22.90311405755478, 11.30474961031122, 48.03989203500782, 11.045237300699636, 10.436168177781525, 3.7295878177565833, 3.2358188707799895, 4.735168942599909, 6.923653264124596, 3.316765573458926, 4.556941661794527, 3.0393689342908745, 1.3365273579773644, 17.606433202146615, 0.046531722200635624, 0.04652715495339829, 0.046534627747282356, 0.04648991731209308, 0.04652573619149053, 0.046482910960480066, 0.046483061582463424, 0.04648685142591567, 1.9503094136021293, 0.5299331491353767, 1.0418764750206506, 0.662848517442967, 0.6237292868865363, 0.22976273817480108, 0.3323104212960935, 0.39012695141723686, 0.2816251132709403, 0.2260789520339269, 0.16944156853889464, 0.14343564333443712, 0.07654541171462477, 0.07648699467894984, 0.07430584259670488, 0.09677832669354855, 15.646891518686514, 12.877715498216293, 11.06040704231714, 26.80487706305218, 16.555349159910353, 3.4434975309751206, 4.881269845918796, 2.896001042458517, 3.3948333805945095, 2.7430199332166687, 0.05687563236700989, 0.05688963288826235, 0.056840922523246636, 0.05683676180987518, 0.05681863897109613, 0.05681616418436764, 0.056822234218388584, 0.056806708334935355, 2.414821298717843, 1.4438407014338246, 1.1621709057042755, 1.0746107312722053, 0.9864128786485197, 0.3151140007488574, 0.35303119603649213, 0.162952021480421, 0.05680589155059901, 0.47504634959462766, 0.05680589155059901, 0.44618585449812753, 0.1513481828269299, 0.10347105651235583, 0.12271226851761081, 0.13809410472301478, 0.11073543866491882, 0.1023215617086121, 0.08864734928905735, 0.09213670084135654, 0.0862924204261244, 0.08441064705006637, 22.030405973833496, 45.61136328912757, 16.35410134424471, 11.804778981543937, 0.05504907319693031, 0.054962997436964936, 0.054957228898775495, 0.05491827422681305, 0.05490662562123179, 0.05489096816043187, 0.054871004433206964, 0.054869504985041714, 0.054869034083965026, 0.054869034083965026, 0.054869034083965026, 0.054869040280031825, 0.054869040280031825, 0.054869034083965026, 0.054869034083965026, 0.054869034083965026, 0.054869034083965026, 0.054869034083965026, 0.054869034083965026, 0.054869034083965026, 0.05493051145874017, 0.054869040280031825, 0.054869040280031825, 0.054869034083965026, 0.054924302999808036, 0.054869034083965026, 0.0549350593717703, 0.05497452212121023, 0.05496522802101241, 0.05496436676772742, 0.05495448404118374, 0.054943820610223446, 0.05493628619299642, 0.05493069734074413, 0.05493002196946309, 0.05492645303498713, 0.054925566997434935, 0.05492394982400052, 0.054923150531383504, 0.054922679630306816, 0.05492254951290405, 0.054920678300730885, 0.05492014543898621, 0.05491881328462452, 0.054917914854938736, 0.05491727666005849, 30.891037572918428, 20.358816317486554, 23.95175522736318, 4.256457925139641, 4.327597701122165, 4.658148315415549, 2.439232021809493, 3.3299557370151764, 0.056020148322173016, 0.05603258620034863, 0.055987495837473276, 0.05598062323779372, 0.05598062323779372, 0.055990764140432, 0.055990764140432, 0.05598062323779372, 0.05752689096694041, 0.05598062323779372, 0.05598062323779372, 0.05598062323779372, 0.057661942132376715, 0.05598062323779372, 0.05598062323779372, 0.05598062323779372, 0.05598062323779372, 0.05598062323779372, 0.05598062323779372, 0.05598062323779372, 0.05737960962856324, 0.05598062323779372, 0.08097766111919118, 0.05786283585723187, 0.06291213789628716, 0.05868766388935043, 0.06036231178051113, 0.05791145720909814, 0.057492369135127834, 0.05830690964914828, 0.057653823301288605, 0.06317481171052837, 0.060126413614621455, 0.05765588813568122, 0.05846299402409277, 0.05826649876303252, 0.05791016210586964, 0.05800468631461782, 0.05815674487339446, 0.057743979591129334, 0.058454099352863054, 0.05812156327201264, 0.058699698575011505, 0.057974043683513256, 0.05789959357480686, 0.057792979699600164, 0.05771643421161369, 36.08501023129356, 4.281707140220406, 6.52661057464748, 9.55310786876212, 1.8587671988845875, 1.840812377139277, 2.404938733381867, 2.924594151543178, 0.05900329737922627, 0.0589990936290682, 0.05899172581963538, 0.05898423304735601, 0.05898320835201427, 0.05898320835201427, 0.05899297044958706, 0.05898346327622123, 0.6135951683762514, 0.6787853862853898, 4.6514474505328005, 0.695479702798997, 0.7391653543584759, 0.8704440031237268, 0.34590147797721904, 0.058978334800998664, 0.07012101190549061, 0.058978334800998664, 0.058978334800998664, 0.05897833979951252, 0.058978334800998664, 0.058978334800998664, 0.4303383735423145, 0.18635997220984096, 0.27080482540900497, 0.11563028127432781, 0.08481859208063748, 0.13356090021551764, 0.10224818998336789, 0.08115331682539227, 0.07704809737256933, 0.08282273548061694, 0.07437893595680242, 0.0677562649824429, 12.736485727525418, 15.604912856651294, 9.22526854058666, 7.395818394892897, 1.267623860650425, 1.8857903694170122, 6.453641398707549, 0.051021083409476684, 0.05102218117266783, 0.05102916579571987, 0.05104237666343618, 0.05105969785821551, 0.05101405688706621, 0.051022323630486525, 0.051013872529889065, 1.900799725195023, 0.3591094459064708, 0.8685836892798526, 1.3336758863873814, 0.5318776292146286, 0.9795817936862455, 0.8981091951077992, 0.21868431592421012, 0.6366489526449662, 0.0510137426418779, 0.08565697856757308, 0.051013738451942056, 0.051013738451942056, 0.051013738451942056, 0.052549764742437124, 0.10562404241357655, 0.12434803609336552, 0.08825079187132266, 0.12050279789132835, 0.07587598395333715, 0.09690349542185614, 0.0701951180982757, 0.06502831128198562, 0.0569757615719472, 0.05614206070750448, 0.054997562971957216, 0.054348805875671126, 0.05326450075845957, 0.056186337919670606, 0.056186337919670606, 0.056186337919670606, 0.056186337919670606, 0.056186337919670606, 0.056186337919670606, 0.056186337919670606, 0.056186337919670606, 0.056943343964024666, 0.18984798549242227, 0.056186337919670606, 0.056186337919670606, 0.056186337919670606, 0.056186337919670606, 0.056186337919670606, 0.057346717230981226, 0.056186337919670606, 0.056186337919670606, 0.056186337919670606, 0.056186337919670606, 0.05681580384141682, 0.056186337919670606, 0.056186337919670606, 0.056186337919670606, 0.056186337919670606, 0.056186337919670606, 0.05710600153694481, 0.056186337919670606, 0.05694641944450117, 0.056186337919670606, 0.05818529999932948, 0.06540266138767556, 0.06301716996758067, 0.06504909718874495, 0.06375785961208254, 0.059775661022748415, 0.061309233800319086, 0.057483288610151284, 0.05799026811477249, 0.05739298659506252, 0.05707384878650866, 0.05701361051624936, 0.05879908782849223, 0.05785966833748819, 0.057584125332807067, 0.057189709468679156, 0.05744112340354978, 0.05726115240537428, 0.05716703109720663, 0.057128257887082645, 0.057110817855426876, 0.05710984720635711, 0.05709248630370159, 0.05697986991054147, 0.05691115956198842, 0.0572148777660263, 0.0572148777660263, 0.0572148777660263, 0.0572148777660263, 0.0572148777660263, 0.0572148777660263, 0.0572148777660263, 0.0572148777660263, 0.0572148777660263, 0.0572148777660263, 0.0572148777660263, 0.0572148777660263, 0.0572148777660263, 0.0572148777660263, 0.0572148777660263, 0.0572148777660263, 0.0572148777660263, 0.0572148777660263, 0.0572148777660263, 0.0572148777660263, 0.0572148777660263, 0.0572148777660263, 0.0572148777660263, 0.0572148777660263, 0.0572148777660263, 0.0572148777660263, 0.0572148777660263, 0.0572148777660263, 0.0572148777660263, 0.0572148777660263, 0.0572148777660263, 0.0572148777660263, 0.0572148777660263, 0.0572148777660263, 0.0572148777660263, 0.0572148777660263, 0.0572148777660263, 0.0572148777660263, 0.0572148777660263, 0.0572148777660263, 0.0572148777660263, 0.0572148777660263, 0.0572148777660263, 0.0572148777660263, 0.0572148777660263, 0.0572148777660263, 0.0572148777660263, 0.0572148777660263, 0.0572148777660263, 0.0572148777660263, 0.0572148777660263, 0.0572148777660263, 0.0572148777660263, 0.0572148777660263, 0.0572148777660263, 0.0572148777660263, 0.0572148777660263, 0.0572148777660263], \"Total\": [141.0, 126.0, 261.0, 53.0, 65.0, 114.0, 76.0, 76.0, 38.0, 45.0, 35.0, 57.0, 54.0, 72.0, 116.0, 54.0, 34.0, 39.0, 47.0, 54.0, 79.0, 41.0, 28.0, 31.0, 23.0, 54.0, 41.0, 77.0, 28.0, 80.0, 22.989967444348203, 17.45245903062934, 22.76456021773117, 18.41303362477831, 25.883672804559954, 15.720803100093466, 36.06383701353059, 62.342364558622066, 79.72253830491543, 35.723625872355065, 261.7591348044381, 13.198518631639649, 22.99305585429509, 31.23940866502438, 27.890905155069888, 38.19745112584935, 15.179641384877456, 114.8651974858644, 116.60732654803978, 54.7861565593465, 36.59683050574512, 20.15086123976609, 10.172308603522524, 29.244333403043775, 42.44796093338309, 12.0187886556113, 45.47620688291256, 39.23929716478274, 21.85632428048656, 26.725614511498843, 48.356537691447166, 34.234239324189694, 36.40349439053338, 76.89959845294534, 42.7278248117063, 54.66353640340529, 35.06847503440195, 14.270782798517741, 22.317682365409308, 54.211703330630314, 20.92831816278073, 16.64509286511056, 23.52683847717012, 43.82795293530629, 39.25320358637215, 21.366917712092853, 31.01230136213705, 8.11664619797725, 16.6775684839614, 20.65695411592631, 77.65634915661909, 27.129280197985654, 17.459506356470552, 46.25340237176303, 80.94384415809121, 17.542409295636286, 6.489225127183, 27.890905155069888, 31.530349087499264, 16.38365754150275, 29.065868142699507, 12.768876750345378, 30.021571756543633, 12.17083003824769, 54.7861565593465, 48.356537691447166, 126.60750946829141, 65.56876171457871, 114.8651974858644, 35.723625872355065, 47.52098929170121, 18.505437921093485, 13.930843071560668, 13.075155387335476, 10.88581649813115, 16.37434704545234, 37.38825366031118, 72.33662995707593, 11.052145347459167, 12.0187886556113, 15.86443710641543, 17.542409295636286, 14.110366139008313, 31.01230136213705, 9.588554639133903, 116.60732654803978, 12.17083003824769, 47.806025291043085, 20.199921944677236, 24.074634131391715, 22.495258247747678, 17.845795831362327, 27.129280197985654, 17.459506356470552, 12.348059711842918, 45.214876074482014, 27.856696768675672, 77.65634915661909, 8.11664619797725, 42.39980464843729, 49.73866445808434, 46.25340237176303, 41.57119114203548, 48.356537691447166, 44.56790509662161, 80.94384415809121, 31.6611623629672, 29.245419935303246, 26.786768826250327, 41.81096555971505, 13.666760655247284, 11.954503546711262, 16.255850712155965, 41.57119114203548, 13.292873904086944, 15.146315946840526, 16.680144456157898, 17.709309407361296, 27.856696768675672, 18.952283255898383, 18.275114252112804, 39.23929716478274, 29.244333403043775, 51.37201662260207, 62.70410734278903, 14.110366139008313, 36.59683050574512, 30.021571756543633, 10.172308603522524, 24.771967248292846, 44.56790509662161, 43.82795293530629, 42.024805884072485, 47.806025291043085, 13.93928517323069, 13.03899148551867, 42.44796093338309, 36.40349439053338, 80.94384415809121, 261.7591348044381, 76.84626407849551, 29.303834386522563, 23.911229975709187, 20.831390718135864, 19.48148991121964, 12.418628808811288, 12.338135031514515, 24.33448002058614, 22.467056782962512, 54.99950685150566, 21.9963652373693, 18.50543490740492, 26.33732194336468, 48.087369917638256, 25.427564816856155, 77.65634915661909, 44.56790509662161, 34.29775497540762, 42.024805884072485, 9.260766751999983, 36.40349439053338, 24.771967248292846, 27.129280197985654, 16.680144456157898, 62.342364558622066, 20.13726596162621, 45.47620688291256, 76.89959845294534, 19.601163099569778, 34.48384788630398, 261.7591348044381, 116.60732654803978, 46.25340237176303, 37.39709064833923, 22.11816916923563, 12.530751545553336, 12.549018838793543, 27.01075003441978, 25.976256264791456, 19.891581182909704, 31.530349087499264, 25.85528922686082, 37.39709064833923, 6.489225127183, 28.50356041947005, 20.15086123976609, 34.48384788630398, 19.716348961989624, 114.8651974858644, 18.94540319848386, 17.709309407361296, 62.70410734278903, 24.074634131391715, 10.172308603522524, 42.7278248117063, 42.44796093338309, 21.85632428048656, 22.494041434626784, 21.9963652373693, 12.768876750345378, 49.73866445808434, 11.600397438061766, 10.638150729308999, 49.89378724177144, 39.25320358637215, 45.214876074482014, 79.72253830491543, 116.60732654803978, 48.087369917638256, 26.083727860193402, 22.051358255601404, 27.769207647291694, 13.195326299311093, 15.685567142052278, 42.39980464843729, 22.494041434626784, 11.435125492698969, 20.199921944677236, 13.93928517323069, 45.214876074482014, 15.382166422602053, 24.75831555557005, 49.89378724177144, 24.771967248292846, 23.52683847717012, 41.06562007187926, 57.639406739312456, 13.292873904086944, 12.387617643567966, 21.333496779827797, 26.725614511498843, 21.85632428048656, 15.86443710641543, 34.48384788630398, 48.356537691447166, 44.56790509662161, 79.72253830491543, 37.38825366031118, 45.47611491868304, 261.7591348044381, 76.89959845294534, 141.26723674373162, 13.829879047687932, 26.007411350129154, 9.613676704403247, 126.60750946829141, 22.679184784322874, 29.065868142699507, 18.239065686049393, 80.94384415809121, 17.825707105456477, 33.34157536987187, 47.806025291043085, 51.37201662260207, 19.891581182909704, 46.25340237176303, 49.89378724177144, 15.21550495791254, 76.89959845294534, 18.275114252112804, 31.029894235080803, 45.47620688291256, 72.33662995707593, 42.44796093338309, 48.356537691447166, 34.48384788630398, 48.087369917638256, 20.65695411592631, 21.366917712092853, 36.59683050574512, 34.29775497540762, 25.85528922686082, 77.65634915661909, 35.358489877813504, 41.06562007187926, 45.214876074482014, 141.26723674373162, 20.13726596162621, 17.825707105456477, 34.234239324189694, 21.333496779827797, 13.03899148551867, 18.420990894581532, 12.17083003824769, 42.024805884072485, 21.366917712092853, 42.7278248117063, 18.952283255898383, 26.725614511498843, 10.638150729308999, 18.239065686049393, 45.47620688291256, 51.37201662260207, 16.214349808951965, 44.56790509662161, 15.685567142052278, 13.93928517323069, 41.57119114203548, 1.0381507370814922, 1.0381385414866042, 1.039074779232176, 1.0383537961911395, 1.0384101397458956, 1.038239506351417, 1.038418089792033, 1.038707444099193, 10.172308603522524, 19.42969133370429, 39.23929716478274, 25.976256264791456, 29.245419935303246, 34.29775497540762, 80.94384415809121, 48.087369917638256, 76.89959845294534, 28.856127436718573, 18.297862278094996, 17.009062187036715, 41.06562007187926, 15.21550495791254, 17.845795831362327, 22.495258247747678, 10.638150729308999, 16.6775684839614, 20.65695411592631, 14.782475717517709, 19.716348961989624, 33.34157536987187, 49.73866445808434, 54.7861565593465, 13.03899148551867, 22.679184784322874, 25.427564816856155, 22.467056782962512, 26.725614511498843, 20.076670803299066, 48.087369917638256, 13.195326299311093, 9.613676704403247, 43.82795293530629, 18.952283255898383, 18.615525564646983, 11.600397438061766, 15.146315946840526, 24.33448002058614, 36.40349439053338, 54.99950685150566, 31.029894235080803, 141.26723674373162, 62.70410734278903, 25.528451150683665, 18.800751108298197, 19.601163099569778, 11.600397438061766, 57.639406739312456, 15.382166422602053, 9.588554639133903, 18.239065686049393, 30.021571756543633, 28.50356041947005, 12.768876750345378, 24.75831555557005, 14.75681897556778, 14.2950534603439, 11.435125492698969, 8.11664619797725, 31.029894235080803, 16.255850712155965, 38.19745112584935, 29.244333403043775, 43.82795293530629, 46.25340237176303, 49.89378724177144, 36.06383701353059, 45.47611491868304, 37.39709064833923, 26.725614511498843, 1.0381507370814922, 1.0384101397458956, 1.038418089792033, 141.26723674373162, 34.234239324189694, 27.856696768675672, 45.214876074482014, 18.78380090953014, 28.448099501094998, 18.615525564646983, 8.979692836610157, 9.260766751999983, 14.75681897556778, 18.420990894581532, 12.348059711842918, 31.23940866502438, 24.074634131391715, 17.459506356470552, 22.99305585429509, 42.024805884072485, 16.64509286511056, 49.73866445808434, 33.34157536987187, 19.716348961989624, 19.42969133370429, 16.680144456157898, 28.50356041947005, 26.007411350129154, 1.038707444099193, 1.0381385414866042, 1.0381507370814922, 1.038418089792033, 1.0384101397458956, 1.038239506351417, 1.0383537961911395, 1.039074779232176, 62.70410734278903, 116.60732654803978, 80.94384415809121, 47.806025291043085, 27.856696768675672, 41.57119114203548, 29.065868142699507, 20.13726596162621, 114.8651974858644, 23.942487581590367, 12.296154331467779, 65.56876171457871, 16.38365754150275, 18.94540319848386, 12.387617643567966, 13.198518631639649, 22.467056782962512, 36.40349439053338, 18.50543490740492, 26.33732194336468, 19.601163099569778, 15.179641384877456, 261.7591348044381, 1.038239506351417, 1.0381385414866042, 1.0383537961911395, 1.0381507370814922, 1.039074779232176, 1.0384101397458956, 1.038418089792033, 1.038707444099193, 47.806025291043085, 15.720803100093466, 46.25340237176303, 36.06383701353059, 54.66353640340529, 25.976256264791456, 44.56790509662161, 53.684077733156485, 51.37201662260207, 34.234239324189694, 77.65634915661909, 79.72253830491543, 18.505437921093485, 23.23634638098047, 19.42969133370429, 141.26723674373162, 19.014802536006272, 16.214349808951965, 19.42969133370429, 76.89959845294534, 54.99950685150566, 12.348059711842918, 18.275114252112804, 15.146315946840526, 36.59683050574512, 49.89378724177144, 1.038707444099193, 1.039074779232176, 1.0383537961911395, 1.0384101397458956, 1.0381507370814922, 1.0381385414866042, 1.038418089792033, 1.038239506351417, 48.087369917638256, 34.234239324189694, 45.214876074482014, 42.44796093338309, 45.47620688291256, 16.680144456157898, 25.976256264791456, 15.720803100093466, 6.489225127183, 62.70410734278903, 8.11664619797725, 65.56876171457871, 36.06383701353059, 24.75831555557005, 41.81096555971505, 80.94384415809121, 44.56790509662161, 48.356537691447166, 24.771967248292846, 38.70435551579833, 26.725614511498843, 79.72253830491543, 23.23634638098047, 53.684077733156485, 31.029894235080803, 25.427564816856155, 1.039074779232176, 1.038418089792033, 1.038707444099193, 1.038239506351417, 1.0384101397458956, 1.0383537961911395, 1.0381507370814922, 1.0381385414866042, 6.489225127183, 8.11664619797725, 8.979692836610157, 9.260766751999983, 9.588554639133903, 9.613676704403247, 10.172308603522524, 10.638150729308999, 10.88581649813115, 11.052145347459167, 11.435125492698969, 11.600397438061766, 11.954503546711262, 12.0187886556113, 12.17083003824769, 12.296154331467779, 12.348059711842918, 12.338135031514515, 13.292873904086944, 19.42969133370429, 16.214349808951965, 19.014802536006272, 38.70435551579833, 36.59683050574512, 15.720803100093466, 22.494041434626784, 76.89959845294534, 29.244333403043775, 49.89378724177144, 45.47620688291256, 45.214876074482014, 48.087369917638256, 42.44796093338309, 25.976256264791456, 41.81096555971505, 62.70410734278903, 36.06383701353059, 14.2950534603439, 35.358489877813504, 34.29775497540762, 45.47611491868304, 12.387617643567966, 18.50543490740492, 21.9963652373693, 22.495258247747678, 54.7861565593465, 1.038418089792033, 1.039074779232176, 1.038239506351417, 1.0381385414866042, 1.0381507370814922, 1.0383537961911395, 1.0384101397458956, 1.038707444099193, 6.489225127183, 8.11664619797725, 8.979692836610157, 9.260766751999983, 9.613676704403247, 9.588554639133903, 10.172308603522524, 10.638150729308999, 10.88581649813115, 11.052145347459167, 11.435125492698969, 11.600397438061766, 11.954503546711262, 12.0187886556113, 18.615525564646983, 12.530751545553336, 17.845795831362327, 14.270782798517741, 18.952283255898383, 15.21550495791254, 14.782475717517709, 20.076670803299066, 16.6775684839614, 141.26723674373162, 48.087369917638256, 17.009062187036715, 38.19745112584935, 38.70435551579833, 21.366917712092853, 25.976256264791456, 36.40349439053338, 18.41303362477831, 62.70410734278903, 39.25320358637215, 261.7591348044381, 62.342364558622066, 43.82795293530629, 45.214876074482014, 22.467056782962512, 38.70435551579833, 15.179641384877456, 26.33732194336468, 39.23929716478274, 11.052145347459167, 17.459506356470552, 27.856696768675672, 39.25320358637215, 1.0381507370814922, 1.0383537961911395, 1.038239506351417, 1.0381385414866042, 1.0384101397458956, 1.038418089792033, 1.038707444099193, 1.039074779232176, 31.23940866502438, 36.06383701353059, 261.7591348044381, 42.44796093338309, 48.087369917638256, 57.639406739312456, 37.39709064833923, 6.489225127183, 8.979692836610157, 8.11664619797725, 9.260766751999983, 9.588554639133903, 9.613676704403247, 10.172308603522524, 79.72253830491543, 34.29775497540762, 65.56876171457871, 27.890905155069888, 19.716348961989624, 72.33662995707593, 54.7861565593465, 18.50543490740492, 18.615525564646983, 48.356537691447166, 17.45245903062934, 38.19745112584935, 14.141083055006385, 20.076670803299066, 14.2950534603439, 14.782475717517709, 12.768876750345378, 22.679184784322874, 114.8651974858644, 1.0381385414866042, 1.038239506351417, 1.038418089792033, 1.038707444099193, 1.039074779232176, 1.0381507370814922, 1.0384101397458956, 1.0383537961911395, 45.47620688291256, 10.172308603522524, 24.771967248292846, 42.7278248117063, 20.92831816278073, 48.087369917638256, 45.214876074482014, 13.829879047687932, 49.89378724177144, 6.489225127183, 13.03899148551867, 8.11664619797725, 8.979692836610157, 9.260766751999983, 9.613676704403247, 19.891581182909704, 27.129280197985654, 18.952283255898383, 31.029894235080803, 27.769207647291694, 80.94384415809121, 25.85528922686082, 46.25340237176303, 25.883672804559954, 26.007411350129154, 27.01075003441978, 42.44796093338309, 18.94540319848386, 1.0381385414866042, 1.0381507370814922, 1.038239506351417, 1.0383537961911395, 1.0384101397458956, 1.038418089792033, 1.038707444099193, 1.039074779232176, 6.489225127183, 23.23634638098047, 8.11664619797725, 8.979692836610157, 9.260766751999983, 9.588554639133903, 9.613676704403247, 10.172308603522524, 10.638150729308999, 10.88581649813115, 11.052145347459167, 11.435125492698969, 11.600397438061766, 11.954503546711262, 12.0187886556113, 12.17083003824769, 12.296154331467779, 12.338135031514515, 12.549018838793543, 12.348059711842918, 12.530751545553336, 12.387617643567966, 13.93928517323069, 25.427564816856155, 31.029894235080803, 53.684077733156485, 114.8651974858644, 39.25320358637215, 79.72253830491543, 20.15086123976609, 34.48384788630398, 24.074634131391715, 20.199921944677236, 19.891581182909704, 141.26723674373162, 45.47611491868304, 42.44796093338309, 25.85528922686082, 116.60732654803978, 36.06383701353059, 42.39980464843729, 48.356537691447166, 43.82795293530629, 54.211703330630314, 51.37201662260207, 24.75831555557005, 49.73866445808434, 1.0381385414866042, 1.0381507370814922, 1.038239506351417, 1.0383537961911395, 1.0384101397458956, 1.038418089792033, 1.038707444099193, 1.039074779232176, 6.489225127183, 8.11664619797725, 8.979692836610157, 9.260766751999983, 9.588554639133903, 9.613676704403247, 10.172308603522524, 10.638150729308999, 10.88581649813115, 11.052145347459167, 11.435125492698969, 11.600397438061766, 11.954503546711262, 12.0187886556113, 12.17083003824769, 12.296154331467779, 12.338135031514515, 12.348059711842918, 12.387617643567966, 12.418628808811288, 12.530751545553336, 12.549018838793543, 48.087369917638256, 17.45245903062934, 79.72253830491543, 38.19745112584935, 39.23929716478274, 19.716348961989624, 57.639406739312456, 15.179641384877456, 27.890905155069888, 36.06383701353059, 18.50543490740492, 48.356537691447166, 27.856696768675672, 17.459506356470552, 65.56876171457871, 54.7861565593465, 42.44796093338309, 31.23940866502438, 72.33662995707593, 39.25320358637215, 18.615525564646983, 37.39709064833923, 261.7591348044381, 34.29775497540762, 38.70435551579833, 62.70410734278903, 116.60732654803978, 18.952283255898383], \"Category\": [\"Default\", \"Default\", \"Default\", \"Default\", \"Default\", \"Default\", \"Default\", \"Default\", \"Default\", \"Default\", \"Default\", \"Default\", \"Default\", \"Default\", \"Default\", \"Default\", \"Default\", \"Default\", \"Default\", \"Default\", \"Default\", \"Default\", \"Default\", \"Default\", \"Default\", \"Default\", \"Default\", \"Default\", \"Default\", \"Default\", \"Topic1\", \"Topic1\", \"Topic1\", \"Topic1\", \"Topic1\", \"Topic1\", \"Topic1\", \"Topic1\", \"Topic1\", \"Topic1\", \"Topic1\", \"Topic1\", \"Topic1\", \"Topic1\", \"Topic1\", \"Topic1\", \"Topic1\", \"Topic1\", \"Topic1\", \"Topic1\", \"Topic1\", \"Topic1\", \"Topic1\", \"Topic1\", \"Topic1\", \"Topic1\", \"Topic1\", \"Topic1\", \"Topic1\", \"Topic1\", \"Topic1\", \"Topic1\", \"Topic1\", \"Topic1\", \"Topic1\", \"Topic2\", \"Topic2\", \"Topic2\", \"Topic2\", \"Topic2\", \"Topic2\", \"Topic2\", \"Topic2\", \"Topic2\", \"Topic2\", \"Topic2\", \"Topic2\", \"Topic2\", \"Topic2\", \"Topic2\", \"Topic2\", \"Topic2\", \"Topic2\", \"Topic2\", \"Topic2\", \"Topic2\", \"Topic2\", \"Topic2\", \"Topic2\", \"Topic2\", \"Topic2\", \"Topic2\", \"Topic2\", \"Topic2\", \"Topic2\", \"Topic2\", \"Topic2\", \"Topic2\", \"Topic2\", \"Topic2\", \"Topic3\", \"Topic3\", \"Topic3\", \"Topic3\", \"Topic3\", \"Topic3\", \"Topic3\", \"Topic3\", \"Topic3\", \"Topic3\", \"Topic3\", \"Topic3\", \"Topic3\", \"Topic3\", \"Topic3\", \"Topic3\", \"Topic3\", \"Topic3\", \"Topic3\", \"Topic3\", \"Topic3\", \"Topic3\", \"Topic3\", \"Topic3\", \"Topic3\", \"Topic3\", \"Topic3\", \"Topic3\", \"Topic3\", \"Topic3\", \"Topic3\", \"Topic3\", \"Topic3\", \"Topic3\", \"Topic3\", \"Topic3\", \"Topic4\", \"Topic4\", \"Topic4\", \"Topic4\", \"Topic4\", \"Topic4\", \"Topic4\", \"Topic4\", \"Topic4\", \"Topic4\", \"Topic4\", \"Topic4\", \"Topic4\", \"Topic4\", \"Topic4\", \"Topic4\", \"Topic4\", \"Topic4\", \"Topic4\", \"Topic4\", \"Topic4\", \"Topic4\", \"Topic4\", \"Topic4\", \"Topic4\", \"Topic4\", \"Topic4\", \"Topic4\", \"Topic4\", \"Topic4\", \"Topic4\", \"Topic4\", \"Topic4\", \"Topic4\", \"Topic5\", \"Topic5\", \"Topic5\", \"Topic5\", \"Topic5\", \"Topic5\", \"Topic5\", \"Topic5\", \"Topic5\", \"Topic5\", \"Topic5\", \"Topic5\", \"Topic5\", \"Topic5\", \"Topic5\", \"Topic5\", \"Topic5\", \"Topic5\", \"Topic5\", \"Topic5\", \"Topic5\", \"Topic5\", \"Topic5\", \"Topic5\", \"Topic5\", \"Topic5\", \"Topic5\", \"Topic5\", \"Topic5\", \"Topic5\", \"Topic5\", \"Topic5\", \"Topic5\", \"Topic5\", \"Topic6\", \"Topic6\", \"Topic6\", \"Topic6\", \"Topic6\", \"Topic6\", \"Topic6\", \"Topic6\", \"Topic6\", \"Topic6\", \"Topic6\", \"Topic6\", \"Topic6\", \"Topic6\", \"Topic6\", \"Topic6\", \"Topic6\", \"Topic6\", \"Topic6\", \"Topic6\", \"Topic6\", \"Topic6\", \"Topic6\", \"Topic6\", \"Topic6\", \"Topic6\", \"Topic6\", \"Topic6\", \"Topic6\", \"Topic6\", \"Topic6\", \"Topic6\", \"Topic6\", \"Topic6\", \"Topic6\", \"Topic7\", \"Topic7\", \"Topic7\", \"Topic7\", \"Topic7\", \"Topic7\", \"Topic7\", \"Topic7\", \"Topic7\", \"Topic7\", \"Topic7\", \"Topic7\", \"Topic7\", \"Topic7\", \"Topic7\", \"Topic7\", \"Topic7\", \"Topic7\", \"Topic7\", \"Topic7\", \"Topic7\", \"Topic7\", \"Topic7\", \"Topic7\", \"Topic7\", \"Topic7\", \"Topic7\", \"Topic7\", \"Topic7\", \"Topic7\", \"Topic7\", \"Topic7\", \"Topic7\", \"Topic8\", \"Topic8\", \"Topic8\", \"Topic8\", \"Topic8\", \"Topic8\", \"Topic8\", \"Topic8\", \"Topic8\", \"Topic8\", \"Topic8\", \"Topic8\", \"Topic8\", \"Topic8\", \"Topic8\", \"Topic8\", \"Topic8\", \"Topic8\", \"Topic8\", \"Topic8\", \"Topic8\", \"Topic8\", \"Topic8\", \"Topic8\", \"Topic8\", \"Topic8\", \"Topic8\", \"Topic8\", \"Topic8\", \"Topic8\", \"Topic8\", \"Topic8\", \"Topic8\", \"Topic8\", \"Topic9\", \"Topic9\", \"Topic9\", \"Topic9\", \"Topic9\", \"Topic9\", \"Topic9\", \"Topic9\", \"Topic9\", \"Topic9\", \"Topic9\", \"Topic9\", \"Topic9\", \"Topic9\", \"Topic9\", \"Topic9\", \"Topic9\", \"Topic9\", \"Topic9\", \"Topic9\", \"Topic9\", \"Topic9\", \"Topic9\", \"Topic9\", \"Topic9\", \"Topic9\", \"Topic9\", \"Topic9\", \"Topic9\", \"Topic9\", \"Topic9\", \"Topic9\", \"Topic9\", \"Topic9\", \"Topic9\", \"Topic9\", \"Topic9\", \"Topic9\", \"Topic9\", \"Topic10\", \"Topic10\", \"Topic10\", \"Topic10\", \"Topic10\", \"Topic10\", \"Topic10\", \"Topic10\", \"Topic10\", \"Topic10\", \"Topic10\", \"Topic10\", \"Topic10\", \"Topic10\", \"Topic10\", \"Topic10\", \"Topic10\", \"Topic10\", \"Topic10\", \"Topic10\", \"Topic10\", \"Topic10\", \"Topic10\", \"Topic10\", \"Topic10\", \"Topic10\", \"Topic10\", \"Topic10\", \"Topic10\", \"Topic10\", \"Topic10\", \"Topic10\", \"Topic10\", \"Topic10\", \"Topic10\", \"Topic11\", \"Topic11\", \"Topic11\", \"Topic11\", \"Topic11\", \"Topic11\", \"Topic11\", \"Topic11\", \"Topic11\", \"Topic11\", \"Topic11\", \"Topic11\", \"Topic11\", \"Topic11\", \"Topic11\", \"Topic11\", \"Topic11\", \"Topic11\", \"Topic11\", \"Topic11\", \"Topic11\", \"Topic11\", \"Topic11\", \"Topic11\", \"Topic11\", \"Topic11\", \"Topic11\", \"Topic11\", \"Topic11\", \"Topic11\", \"Topic11\", \"Topic11\", \"Topic11\", \"Topic11\", \"Topic12\", \"Topic12\", \"Topic12\", \"Topic12\", \"Topic12\", \"Topic12\", \"Topic12\", \"Topic12\", \"Topic12\", \"Topic12\", \"Topic12\", \"Topic12\", \"Topic12\", \"Topic12\", \"Topic12\", \"Topic12\", \"Topic12\", \"Topic12\", \"Topic12\", \"Topic12\", \"Topic12\", \"Topic12\", \"Topic12\", \"Topic12\", \"Topic12\", \"Topic12\", \"Topic12\", \"Topic12\", \"Topic12\", \"Topic12\", \"Topic12\", \"Topic12\", \"Topic12\", \"Topic12\", \"Topic12\", \"Topic12\", \"Topic12\", \"Topic12\", \"Topic13\", \"Topic13\", \"Topic13\", \"Topic13\", \"Topic13\", \"Topic13\", \"Topic13\", \"Topic13\", \"Topic13\", \"Topic13\", \"Topic13\", \"Topic13\", \"Topic13\", \"Topic13\", \"Topic13\", \"Topic13\", \"Topic13\", \"Topic13\", \"Topic13\", \"Topic13\", \"Topic13\", \"Topic13\", \"Topic13\", \"Topic13\", \"Topic13\", \"Topic13\", \"Topic13\", \"Topic13\", \"Topic13\", \"Topic13\", \"Topic13\", \"Topic13\", \"Topic13\", \"Topic13\", \"Topic13\", \"Topic13\", \"Topic13\", \"Topic13\", \"Topic14\", \"Topic14\", \"Topic14\", \"Topic14\", \"Topic14\", \"Topic14\", \"Topic14\", \"Topic14\", \"Topic14\", \"Topic14\", \"Topic14\", \"Topic14\", \"Topic14\", \"Topic14\", \"Topic14\", \"Topic14\", \"Topic14\", \"Topic14\", \"Topic14\", \"Topic14\", \"Topic14\", \"Topic14\", \"Topic14\", \"Topic14\", \"Topic14\", \"Topic14\", \"Topic14\", \"Topic14\", \"Topic14\", \"Topic14\", \"Topic14\", \"Topic14\", \"Topic14\", \"Topic14\", \"Topic14\", \"Topic14\", \"Topic14\", \"Topic14\", \"Topic14\", \"Topic14\", \"Topic15\", \"Topic15\", \"Topic15\", \"Topic15\", \"Topic15\", \"Topic15\", \"Topic15\", \"Topic15\", \"Topic15\", \"Topic15\", \"Topic15\", \"Topic15\", \"Topic15\", \"Topic15\", \"Topic15\", \"Topic15\", \"Topic15\", \"Topic15\", \"Topic15\", \"Topic15\", \"Topic15\", \"Topic15\", \"Topic15\", \"Topic15\", \"Topic15\", \"Topic15\", \"Topic15\", \"Topic15\", \"Topic15\", \"Topic15\", \"Topic15\", \"Topic15\", \"Topic15\", \"Topic15\", \"Topic15\", \"Topic15\", \"Topic15\", \"Topic15\", \"Topic15\", \"Topic15\", \"Topic15\", \"Topic15\", \"Topic15\", \"Topic15\", \"Topic15\", \"Topic15\", \"Topic15\", \"Topic15\", \"Topic15\", \"Topic15\", \"Topic16\", \"Topic16\", \"Topic16\", \"Topic16\", \"Topic16\", \"Topic16\", \"Topic16\", \"Topic16\", \"Topic16\", \"Topic16\", \"Topic16\", \"Topic16\", \"Topic16\", \"Topic16\", \"Topic16\", \"Topic16\", \"Topic16\", \"Topic16\", \"Topic16\", \"Topic16\", \"Topic16\", \"Topic16\", \"Topic16\", \"Topic16\", \"Topic16\", \"Topic16\", \"Topic16\", \"Topic16\", \"Topic16\", \"Topic16\", \"Topic16\", \"Topic16\", \"Topic16\", \"Topic16\", \"Topic16\", \"Topic16\", \"Topic16\", \"Topic16\", \"Topic16\", \"Topic16\", \"Topic16\", \"Topic16\", \"Topic16\", \"Topic16\", \"Topic16\", \"Topic16\", \"Topic16\", \"Topic16\", \"Topic16\", \"Topic16\", \"Topic16\", \"Topic16\", \"Topic16\", \"Topic16\", \"Topic16\", \"Topic17\", \"Topic17\", \"Topic17\", \"Topic17\", \"Topic17\", \"Topic17\", \"Topic17\", \"Topic17\", \"Topic17\", \"Topic17\", \"Topic17\", \"Topic17\", \"Topic17\", \"Topic17\", \"Topic17\", \"Topic17\", \"Topic17\", \"Topic17\", \"Topic17\", \"Topic17\", \"Topic17\", \"Topic17\", \"Topic17\", \"Topic17\", \"Topic17\", \"Topic17\", \"Topic17\", \"Topic17\", \"Topic17\", \"Topic17\", \"Topic17\", \"Topic17\", \"Topic17\", \"Topic17\", \"Topic17\", \"Topic17\", \"Topic17\", \"Topic17\", \"Topic17\", \"Topic17\", \"Topic17\", \"Topic17\", \"Topic18\", \"Topic18\", \"Topic18\", \"Topic18\", \"Topic18\", \"Topic18\", \"Topic18\", \"Topic18\", \"Topic18\", \"Topic18\", \"Topic18\", \"Topic18\", \"Topic18\", \"Topic18\", \"Topic18\", \"Topic18\", \"Topic18\", \"Topic18\", \"Topic18\", \"Topic18\", \"Topic18\", \"Topic18\", \"Topic18\", \"Topic18\", \"Topic18\", \"Topic18\", \"Topic18\", \"Topic18\", \"Topic18\", \"Topic18\", \"Topic18\", \"Topic18\", \"Topic18\", \"Topic18\", \"Topic18\", \"Topic18\", \"Topic18\", \"Topic18\", \"Topic18\", \"Topic18\", \"Topic18\", \"Topic18\", \"Topic18\", \"Topic19\", \"Topic19\", \"Topic19\", \"Topic19\", \"Topic19\", \"Topic19\", \"Topic19\", \"Topic19\", \"Topic19\", \"Topic19\", \"Topic19\", \"Topic19\", \"Topic19\", \"Topic19\", \"Topic19\", \"Topic19\", \"Topic19\", \"Topic19\", \"Topic19\", \"Topic19\", \"Topic19\", \"Topic19\", \"Topic19\", \"Topic19\", \"Topic19\", \"Topic19\", \"Topic19\", \"Topic19\", \"Topic19\", \"Topic19\", \"Topic19\", \"Topic19\", \"Topic19\", \"Topic19\", \"Topic19\", \"Topic19\", \"Topic19\", \"Topic19\", \"Topic19\", \"Topic19\", \"Topic19\", \"Topic19\", \"Topic19\", \"Topic19\", \"Topic19\", \"Topic19\", \"Topic19\", \"Topic19\", \"Topic19\", \"Topic19\", \"Topic19\", \"Topic19\", \"Topic19\", \"Topic19\", \"Topic19\", \"Topic20\", \"Topic20\", \"Topic20\", \"Topic20\", \"Topic20\", \"Topic20\", \"Topic20\", \"Topic20\", \"Topic20\", \"Topic20\", \"Topic20\", \"Topic20\", \"Topic20\", \"Topic20\", \"Topic20\", \"Topic20\", \"Topic20\", \"Topic20\", \"Topic20\", \"Topic20\", \"Topic20\", \"Topic20\", \"Topic20\", \"Topic20\", \"Topic20\", \"Topic20\", \"Topic20\", \"Topic20\", \"Topic20\", \"Topic20\", \"Topic20\", \"Topic20\", \"Topic20\", \"Topic20\", \"Topic20\", \"Topic20\", \"Topic20\", \"Topic20\", \"Topic20\", \"Topic20\", \"Topic20\", \"Topic20\", \"Topic20\", \"Topic20\", \"Topic20\", \"Topic20\", \"Topic20\", \"Topic20\", \"Topic20\", \"Topic20\", \"Topic20\", \"Topic20\", \"Topic20\", \"Topic20\", \"Topic20\", \"Topic20\", \"Topic20\", \"Topic20\"], \"logprob\": [30.0, 29.0, 28.0, 27.0, 26.0, 25.0, 24.0, 23.0, 22.0, 21.0, 20.0, 19.0, 18.0, 17.0, 16.0, 15.0, 14.0, 13.0, 12.0, 11.0, 10.0, 9.0, 8.0, 7.0, 6.0, 5.0, 4.0, 3.0, 2.0, 1.0, -3.6439, -3.9352, -3.6959, -3.9627, -3.7279, -4.2393, -3.4114, -2.8709, -2.7002, -3.5159, -1.5402, -4.5608, -4.0634, -3.7991, -3.9239, -3.6297, -4.5741, -2.8299, -2.9088, -3.7729, -4.2839, -4.9765, -5.6635, -4.6095, -4.2452, -5.5393, -4.2472, -4.4699, -5.0926, -4.9514, -4.5121, -4.7901, -4.7536, -4.3855, -4.7764, -2.3458, -2.7955, -3.787, -3.3493, -2.4876, -3.4612, -3.7961, -3.6216, -3.0923, -3.2846, -3.954, -3.6023, -4.9811, -4.3816, -4.2085, -2.9199, -3.9902, -4.4555, -3.563, -3.0072, -4.5533, -5.6838, -4.2287, -4.183, -4.842, -4.2691, -5.0945, -4.2888, -5.4968, -4.0058, -4.1911, -3.3147, -4.2222, -4.1139, -4.5594, -2.4657, -3.4375, -3.7385, -3.807, -4.0068, -3.6451, -2.8732, -2.2267, -4.2479, -4.2483, -3.9991, -3.9231, -4.25, -3.6014, -4.8244, -2.3872, -4.7914, -3.4542, -4.3221, -4.2773, -4.3934, -4.6297, -4.3108, -4.7688, -5.1562, -3.8696, -4.3732, -3.4154, -5.751, -4.1007, -3.9998, -4.0726, -4.1772, -4.2274, -4.3495, -4.1814, -2.8026, -2.8888, -2.9799, -2.5357, -3.6855, -3.89, -3.6395, -2.8579, -4.049, -4.0269, -3.9622, -3.9083, -3.4558, -3.9228, -3.9653, -3.301, -3.7036, -3.1743, -2.9944, -4.5336, -3.6979, -4.1014, -5.2591, -4.3839, -4.0043, -4.0279, -4.1445, -4.0165, -5.2743, -5.3804, -4.2024, -4.3866, -3.6993, -4.4636, -1.8708, -2.8557, -3.0693, -3.2114, -3.2834, -3.7639, -3.7721, -3.1166, -3.639, -2.8218, -3.8004, -3.9802, -3.6459, -3.2887, -4.1699, -3.0601, -3.6497, -3.9601, -3.8263, -5.4417, -4.0745, -4.5235, -4.5257, -5.0564, -3.7544, -4.9406, -4.1685, -3.6663, -5.0924, -4.5603, -3.4804, -4.1506, -4.6409, -4.751, -3.0468, -3.6547, -3.6565, -2.9104, -3.0508, -3.4418, -3.0004, -3.2254, -2.8602, -4.8051, -3.3897, -3.8654, -3.4047, -3.9783, -2.2472, -4.1022, -4.2016, -3.0881, -4.0516, -5.0022, -3.5802, -3.6264, -4.2908, -4.3428, -4.4325, -5.1168, -3.8479, -5.3479, -5.4446, -3.9742, -4.3726, -4.4167, -4.2341, -4.0527, -4.508, -2.8437, -3.0197, -2.8685, -3.6875, -3.5872, -2.8133, -3.4743, -4.1517, -3.6025, -4.0083, -3.0663, -4.1732, -3.7145, -3.0162, -3.9415, -4.0171, -3.5013, -3.1727, -4.8056, -4.8905, -4.4178, -4.2058, -4.4598, -4.8014, -4.0853, -3.7639, -3.9022, -3.4021, -4.325, -4.2121, -2.9358, -3.8439, -3.6444, -3.4503, -2.9168, -3.9509, -1.3775, -3.2599, -3.0171, -4.0414, -2.7231, -4.2573, -3.6353, -3.423, -3.4592, -4.4811, -3.6511, -3.5848, -4.8488, -3.2974, -4.9045, -4.3954, -4.0424, -3.6311, -4.2785, -4.1703, -4.5316, -4.3196, -5.1837, -5.1906, -4.7194, -4.8026, -5.1025, -4.2328, -4.9903, -4.9393, -4.9545, -0.9088, -3.1191, -3.2529, -2.7057, -3.241, -3.7418, -3.4805, -4.1611, -2.9778, -3.6842, -3.0438, -3.8636, -3.6706, -4.6804, -4.466, -3.6177, -3.609, -4.8152, -3.9272, -4.99, -5.4471, -4.7359, -8.5414, -8.5414, -8.5406, -8.5414, -8.5415, -8.542, -8.5419, -8.5418, -6.4092, -6.0585, -6.5285, -6.8385, -6.95, -6.9932, -6.8565, -7.2382, -7.1224, -2.2691, -2.7438, -3.0759, -2.4063, -3.4047, -3.2554, -3.1897, -3.9624, -3.56, -3.3651, -3.7333, -3.5929, -3.0727, -2.7498, -2.6741, -4.5042, -4.0788, -4.0381, -4.2818, -4.1715, -4.4811, -3.7364, -5.2245, -5.6017, -4.2059, -5.0858, -5.2409, -5.7559, -5.5158, -5.1329, -4.7675, -4.4581, -5.1355, -4.9906, -5.1526, -2.155, -2.476, -2.8363, -3.4573, -1.8713, -3.3009, -4.0355, -3.4194, -2.9253, -3.0139, -3.8309, -3.3045, -3.852, -3.9675, -4.2665, -4.835, -3.9183, -4.6215, -3.904, -4.2022, -3.826, -3.9194, -3.8606, -4.3016, -4.4448, -4.7296, -5.1362, -8.4207, -8.4208, -8.4208, -4.2728, -5.5233, -5.7029, -5.4387, -2.2422, -1.9452, -2.4273, -3.2983, -3.3003, -3.0112, -2.9967, -3.6382, -2.7746, -3.054, -3.927, -3.736, -3.163, -4.1269, -3.2476, -3.7236, -4.4733, -4.4913, -4.875, -4.35, -4.844, -8.088, -8.0886, -8.0886, -8.0886, -8.0886, -8.0888, -8.0891, -8.0884, -4.0556, -3.7288, -4.1588, -4.6566, -5.4798, -5.2014, -5.5092, -6.3076, -6.1798, -1.9864, -2.6924, -1.2456, -2.7157, -2.7724, -3.8014, -3.9434, -3.5627, -3.1827, -3.9187, -3.601, -4.006, -4.8276, -2.2494, -8.1853, -8.1854, -8.1852, -8.1862, -8.1854, -8.1863, -8.1863, -8.1863, -4.4497, -5.7527, -5.0766, -5.5289, -5.5897, -6.5884, -6.2194, -6.059, -6.3849, -6.6045, -6.8929, -7.0595, -7.6875, -7.6883, -7.7172, -7.453, -2.0367, -2.2314, -2.3836, -1.4984, -1.9802, -3.5505, -3.2015, -3.7236, -3.5647, -3.7779, -7.6538, -7.6536, -7.6544, -7.6545, -7.6548, -7.6549, -7.6548, -7.655, -3.9053, -4.4196, -4.6366, -4.715, -4.8006, -5.9418, -5.8281, -6.6012, -7.6551, -5.5313, -7.6551, -5.594, -6.6751, -7.0554, -6.8849, -6.7668, -6.9876, -7.0666, -7.21, -7.1714, -7.237, -7.259, -1.5752, -0.8475, -1.8732, -2.1991, -7.5672, -7.5687, -7.5689, -7.5696, -7.5698, -7.5701, -7.5704, -7.5705, -7.5705, -7.5705, -7.5705, -7.5705, -7.5705, -7.5705, -7.5705, -7.5705, -7.5705, -7.5705, -7.5705, -7.5705, -7.5693, -7.5705, -7.5705, -7.5705, -7.5695, -7.5705, -7.5693, -7.5685, -7.5687, -7.5687, -7.5689, -7.5691, -7.5692, -7.5693, -7.5693, -7.5694, -7.5694, -7.5695, -7.5695, -7.5695, -7.5695, -7.5695, -7.5695, -7.5696, -7.5696, -7.5696, -1.223, -1.64, -1.4775, -3.2051, -3.1885, -3.1149, -3.7618, -3.4505, -7.5355, -7.5353, -7.5361, -7.5362, -7.5362, -7.5361, -7.5361, -7.5362, -7.509, -7.5362, -7.5362, -7.5362, -7.5067, -7.5362, -7.5362, -7.5362, -7.5362, -7.5362, -7.5362, -7.5362, -7.5116, -7.5362, -7.1671, -7.5032, -7.4195, -7.489, -7.4609, -7.5023, -7.5096, -7.4955, -7.5068, -7.4153, -7.4648, -7.5068, -7.4929, -7.4962, -7.5024, -7.5007, -7.4981, -7.5052, -7.493, -7.4987, -7.4888, -7.5013, -7.5025, -7.5044, -7.5057, -0.867, -2.9985, -2.577, -2.196, -3.833, -3.8427, -3.5754, -3.3797, -7.283, -7.2831, -7.2832, -7.2834, -7.2834, -7.2834, -7.2832, -7.2834, -4.9413, -4.8403, -2.9157, -4.816, -4.7551, -4.5916, -5.5145, -7.2835, -7.1104, -7.2835, -7.2835, -7.2835, -7.2835, -7.2835, -5.2961, -6.133, -5.7592, -6.6102, -6.9201, -6.4661, -6.7332, -6.9643, -7.0162, -6.9439, -7.0515, -7.1447, -1.732, -1.5288, -2.0545, -2.2755, -4.0393, -3.6421, -2.4118, -7.2519, -7.2519, -7.2518, -7.2515, -7.2512, -7.2521, -7.2519, -7.2521, -3.6341, -5.3006, -4.4173, -3.9885, -4.9078, -4.2971, -4.3839, -5.7965, -4.728, -7.2521, -6.7338, -7.2521, -7.2521, -7.2521, -7.2224, -6.5243, -6.3611, -6.704, -6.3925, -6.8551, -6.6105, -6.9329, -7.0094, -7.1416, -7.1563, -7.1769, -7.1888, -7.2089, -5.3064, -5.3064, -5.3064, -5.3064, -5.3064, -5.3064, -5.3064, -5.3064, -5.293, -4.0889, -5.3064, -5.3064, -5.3064, -5.3064, -5.3064, -5.286, -5.3064, -5.3064, -5.3064, -5.3064, -5.2953, -5.3064, -5.3064, -5.3064, -5.3064, -5.3064, -5.2902, -5.3064, -5.293, -5.3064, -5.2714, -5.1545, -5.1917, -5.1599, -5.18, -5.2445, -5.2192, -5.2836, -5.2748, -5.2852, -5.2907, -5.2918, -5.261, -5.2771, -5.2818, -5.2887, -5.2843, -5.2875, -5.2891, -5.2898, -5.2901, -5.2901, -5.2904, -5.2924, -5.2936, -5.2883, -5.2883, -5.2883, -5.2883, -5.2883, -5.2883, -5.2883, -5.2883, -5.2883, -5.2883, -5.2883, -5.2883, -5.2883, -5.2883, -5.2883, -5.2883, -5.2883, -5.2883, -5.2883, -5.2883, -5.2883, -5.2883, -5.2883, -5.2883, -5.2883, -5.2883, -5.2883, -5.2883, -5.2883, -5.2883, -5.2883, -5.2883, -5.2883, -5.2883, -5.2883, -5.2883, -5.2883, -5.2883, -5.2883, -5.2883, -5.2883, -5.2883, -5.2883, -5.2883, -5.2883, -5.2883, -5.2883, -5.2883, -5.2883, -5.2883, -5.2883, -5.2883, -5.2883, -5.2883, -5.2883, -5.2883, -5.2883, -5.2883], \"loglift\": [30.0, 29.0, 28.0, 27.0, 26.0, 25.0, 24.0, 23.0, 22.0, 21.0, 20.0, 19.0, 18.0, 17.0, 16.0, 15.0, 14.0, 13.0, 12.0, 11.0, 10.0, 9.0, 8.0, 7.0, 6.0, 5.0, 4.0, 3.0, 2.0, 1.0, 1.8911, 1.8754, 1.849, 1.7943, 1.6886, 1.6758, 1.6734, 1.6665, 1.5913, 1.5784, 1.5625, 1.5292, 1.4715, 1.4293, 1.4179, 1.3976, 1.376, 1.0964, 1.0025, 0.8938, 0.7862, 0.6903, 0.6869, 0.6849, 0.6766, 0.6443, 0.6057, 0.5305, 0.493, 0.4331, 0.2794, 0.3468, 0.3218, -0.0579, 0.1388, 2.3231, 2.3173, 2.2249, 2.2154, 2.1896, 2.1678, 2.0619, 1.8903, 1.7975, 1.7155, 1.6542, 1.6334, 1.5951, 1.4744, 1.4335, 1.3979, 1.3793, 1.3547, 1.273, 1.2691, 1.2522, 1.1161, 1.1131, 1.0361, 1.0318, 1.0314, 1.0286, 0.9794, 0.6743, 0.6608, 0.6003, 0.5142, 0.2648, -0.1876, 0.5349, 2.3432, 2.3145, 2.2974, 2.2924, 2.2758, 2.2292, 2.1755, 2.1621, 2.0195, 1.9353, 1.9069, 1.8824, 1.7731, 1.6343, 1.5851, 1.5241, 1.3796, 1.3487, 1.3423, 1.2116, 1.1634, 1.1586, 1.0587, 1.0414, 1.0003, 0.989, 0.9699, 0.9023, 0.8252, 0.8222, 0.7635, 0.7634, 0.7655, 0.5641, 0.5236, 0.0949, 2.4124, 2.4056, 2.4023, 2.4012, 2.3696, 2.299, 2.2421, 2.0848, 2.0339, 1.9255, 1.8936, 1.8877, 1.8872, 1.8054, 1.7992, 1.6994, 1.5908, 1.5567, 1.5373, 1.4896, 1.3722, 1.1668, 1.0913, 1.0765, 0.8687, 0.862, 0.7874, 0.7864, 0.761, 0.7217, 0.7194, 0.6888, 0.577, -1.3609, 2.4575, 2.4366, 2.4265, 2.4222, 2.4172, 2.387, 2.3853, 2.3616, 1.919, 1.841, 1.7788, 1.7718, 1.7532, 1.5084, 1.2643, 1.2577, 1.2234, 1.1749, 1.1055, 1.0026, 1.001, 0.9369, 0.8438, 0.7994, 0.7831, 0.7269, 0.6844, 0.6613, 0.6021, 0.5693, -0.3778, -0.2394, 0.195, 0.2975, 2.5269, 2.4872, 2.484, 2.4634, 2.3621, 2.238, 2.2187, 2.1921, 2.1883, 1.9949, 1.9303, 1.8014, 1.7249, 1.7104, 1.6791, 1.6263, 1.5943, 1.4436, 1.4373, 1.3482, 1.335, 1.2954, 1.2948, 1.214, 1.1467, 1.0063, 0.9154, 0.8711, 0.8611, 0.786, 0.6275, 0.442, 0.0574, -0.1414, 0.2891, 2.5651, 2.5571, 2.4777, 2.4027, 2.3301, 2.1096, 2.0826, 2.0817, 2.0619, 2.0271, 1.7924, 1.7637, 1.7464, 1.744, 1.5189, 1.4949, 1.4536, 1.4431, 1.2772, 1.2629, 1.192, 1.1787, 1.1258, 1.1046, 1.0443, 1.0275, 0.9709, 0.8894, 0.7238, 0.6408, 0.1668, 0.4837, 0.075, 2.593, 2.4949, 2.456, 2.4515, 2.2887, 2.2834, 1.7251, 1.5533, 1.5322, 1.5279, 1.38, 1.2718, 1.1987, 1.1849, 1.1754, 1.099, 1.0301, 0.8601, 0.8397, 0.8105, 0.7577, 0.6433, 0.6212, 0.598, 0.4775, 0.4583, 0.4177, 0.3507, 0.3324, 0.3151, 0.085, 0.1143, 0.0157, -0.0958, 2.8107, 2.5484, 2.5366, 2.4311, 2.3688, 2.3603, 2.2761, 2.0099, 1.954, 1.924, 1.8714, 1.8646, 1.7139, 1.6252, 1.3005, 1.2352, 1.122, 1.069, 0.9459, 0.9274, 0.5883, 0.2068, 0.0913, 0.0913, 0.0912, 0.091, 0.0909, 0.0906, 0.0905, 0.0903, -0.0587, -0.3552, -1.5281, -1.4256, -1.6556, -1.8582, -2.5802, -2.4411, -2.7948, 3.0386, 3.0195, 2.7604, 2.5487, 2.5431, 2.5329, 2.3671, 2.3433, 2.296, 2.2769, 2.2433, 2.0958, 2.0906, 2.0135, 1.9926, 1.5979, 1.4698, 1.3962, 1.2763, 1.213, 1.1894, 1.0607, 0.8657, 0.8052, 0.6839, 0.6424, 0.5052, 0.4631, 0.4365, 0.3453, 0.3079, 0.2046, 0.0997, -1.2711, -0.6209, 3.2753, 3.2602, 2.8582, 2.7617, 2.7445, 2.636, 2.374, 2.3471, 2.3429, 2.3061, 2.2922, 2.1564, 2.1264, 2.0427, 1.9669, 1.7411, 1.3168, 1.2602, 1.1233, 1.0922, 1.0638, 0.9166, 0.8996, 0.7832, 0.4081, 0.3189, 0.2483, 0.2119, 0.2116, 0.2116, -0.5534, -0.3865, -0.3599, -0.58, 3.4949, 3.3769, 3.3188, 3.1768, 3.144, 2.9672, 2.7599, 2.5184, 2.4538, 2.4349, 1.8832, 1.7989, 1.7688, 1.7311, 1.5157, 1.4397, 1.2153, 1.212, 0.9809, 0.97, 0.5677, 0.5441, 0.5441, 0.544, 0.5438, 0.5438, 0.5438, 0.5434, 0.5434, 0.4761, 0.1825, 0.1175, 0.1463, -0.1368, -0.2587, -0.2087, -0.64, -2.2535, 3.508, 3.4684, 3.2413, 3.1581, 2.9561, 2.352, 2.1466, 1.9954, 1.8927, 1.8333, 1.7981, 1.6885, 1.1225, 0.8533, 0.4473, 0.4473, 0.4472, 0.4465, 0.4463, 0.4461, 0.446, 0.4459, 0.3533, 0.1624, -0.2407, -0.4441, -0.9208, -1.1755, -1.3463, -1.372, -1.6539, -1.4677, -2.5751, -2.768, -1.9355, -2.1639, -2.014, -3.7336, 3.6882, 3.6527, 3.3197, 2.8292, 2.6825, 2.6061, 2.563, 2.2287, 1.5054, 0.9823, 0.9783, 0.9782, 0.978, 0.9779, 0.9778, 0.9778, 0.9776, 0.9775, 0.8918, 0.7172, 0.222, 0.2068, 0.0523, -0.0859, -0.4152, -0.6861, -0.8551, -0.9996, -1.0789, -1.107, -1.5903, -1.5945, -1.9479, -2.4904, -2.1145, -2.2751, -1.7497, -2.1573, -1.8525, -2.9675, 3.9491, 3.8395, 3.362, 3.2351, 1.0646, 1.0636, 1.0633, 1.063, 1.0626, 1.0624, 1.0622, 1.0622, -0.7705, -0.9943, -1.0953, -1.1262, -1.1609, -1.1636, -1.22, -1.2648, -1.2878, -1.303, -1.3371, -1.3514, -1.3804, -1.3868, -1.3994, -1.4097, -1.4129, -1.4131, -1.4864, -1.8653, -1.6845, -1.8439, -2.5548, -2.499, -1.6541, -2.0125, -3.2418, -2.275, -2.8092, -2.7166, -2.7108, -2.7724, -2.6477, -2.1566, -2.6326, -3.0379, -2.4848, -1.5594, 3.8815, 3.495, 3.3754, 2.9483, 2.5635, 2.4643, 1.795, 1.2161, 1.0968, 1.0964, 1.0964, 1.0964, 1.0964, 1.0964, 1.0963, 1.0959, -0.7091, -0.9601, -1.0611, -1.0919, -1.0998, -1.1267, -1.1858, -1.2306, -1.2536, -1.2688, -1.3029, -1.3172, -1.3226, -1.3526, -1.421, -1.3613, -1.6312, -1.4772, -1.7327, -1.5546, -1.533, -1.825, -1.6508, -3.6959, -2.6677, -1.6704, -2.4655, -2.4821, -1.8941, -2.0878, -2.4227, -1.7482, -2.9614, -2.4987, -4.3862, -2.9638, -2.6127, -2.6457, -1.9477, 4.1471, 2.9516, 2.8221, 2.8044, 2.4345, 1.9675, 1.7677, 1.6203, 1.3496, 1.3493, 1.3493, 1.3493, 1.349, 1.349, 1.3489, 1.3484, 0.2871, 0.2445, 0.187, 0.1058, 0.042, 0.0242, -0.466, -0.4835, -0.6353, -0.7073, -0.8392, -0.8739, -0.8766, -0.933, -1.0045, -0.9979, -1.2722, -1.2685, -1.2315, -2.0773, -2.0666, -1.2123, -1.2701, -2.1524, -1.2409, -2.1174, 4.289, 4.1417, 3.9557, 3.7011, 2.0838, 1.9066, 1.5145, 1.3807, 1.3806, 1.3806, 1.3806, 1.3806, 1.3806, 1.3805, 1.3804, 1.2187, 1.0499, 1.0431, 0.9268, 0.7212, 0.5, 0.4748, 0.2467, 0.0322, -0.4521, -0.6317, -0.6759, -0.777, -0.8078, -0.8155, -0.8445, -0.9916, -0.9758, -1.1574, -1.5089, -2.3341, -1.5153, -2.1734, -1.7251, -1.7446, -1.803, -2.2669, -1.4804, 3.3262, 3.3262, 3.3262, 3.326, 3.326, 3.326, 3.3257, 3.3253, 1.5069, 1.4355, 1.2698, 1.1687, 1.1379, 1.1031, 1.1005, 1.0645, 0.9992, 0.9762, 0.9611, 0.927, 0.9238, 0.8826, 0.8772, 0.8646, 0.8544, 0.851, 0.8503, 0.8502, 0.8489, 0.847, 0.7639, 0.2797, 0.0435, -0.473, -1.2537, -0.2444, -0.9276, 0.3833, -0.1452, 0.2038, 0.3737, 0.388, -1.5415, -0.4242, -0.36, 0.1289, -1.373, -0.2027, -0.3662, -0.4983, -0.4003, -0.6129, -0.5594, 0.1685, -0.5303, 3.3444, 3.3444, 3.3443, 3.3442, 3.3441, 3.3441, 3.3438, 3.3435, 1.5117, 1.2879, 1.1869, 1.156, 1.1212, 1.1186, 1.0621, 1.0174, 0.9944, 0.9792, 0.9451, 0.9308, 0.9007, 0.8953, 0.8828, 0.8725, 0.8691, 0.8683, 0.8651, 0.8626, 0.8536, 0.8522, -0.4912, 0.5223, -0.9967, -0.261, -0.2879, 0.4004, -0.6724, 0.6619, 0.0535, -0.2035, 0.4638, -0.4968, 0.0547, 0.5219, -0.8013, -0.6216, -0.3665, -0.0599, -0.8995, -0.2882, 0.4578, -0.2398, -2.1856, -0.1533, -0.2741, -0.7566, -1.377, 0.4399]}, \"token.table\": {\"Topic\": [7, 8, 1, 13, 2, 7, 2, 3, 6, 9, 10, 1, 7, 1, 4, 5, 6, 10, 11, 12, 10, 18, 1, 3, 5, 6, 12, 1, 3, 6, 10, 1, 2, 3, 4, 11, 4, 9, 10, 2, 3, 9, 6, 4, 5, 9, 10, 12, 5, 8, 16, 2, 3, 4, 5, 8, 12, 2, 4, 7, 18, 3, 4, 8, 14, 6, 8, 3, 1, 2, 3, 6, 8, 18, 5, 7, 1, 4, 5, 6, 8, 10, 14, 17, 18, 1, 1, 2, 5, 7, 10, 4, 7, 10, 1, 2, 6, 7, 1, 2, 3, 10, 11, 5, 2, 3, 4, 8, 12, 13, 3, 5, 17, 3, 2, 3, 4, 6, 3, 8, 12, 5, 12, 1, 7, 8, 9, 10, 11, 1, 7, 11, 1, 2, 10, 2, 3, 10, 2, 3, 6, 10, 12, 1, 4, 17, 8, 10, 18, 4, 5, 10, 14, 4, 6, 7, 2, 3, 10, 16, 1, 3, 4, 6, 7, 9, 10, 11, 12, 4, 7, 9, 12, 14, 5, 1, 3, 4, 5, 8, 9, 14, 18, 3, 6, 7, 2, 3, 2, 8, 9, 8, 9, 11, 6, 8, 3, 7, 11, 1, 6, 10, 12, 4, 6, 7, 8, 11, 14, 18, 4, 5, 4, 6, 7, 3, 4, 1, 4, 5, 7, 8, 11, 14, 2, 13, 4, 8, 14, 1, 4, 6, 3, 6, 12, 15, 7, 8, 10, 1, 7, 11, 17, 4, 2, 3, 6, 7, 8, 11, 14, 18, 1, 2, 3, 5, 3, 7, 1, 3, 12, 1, 3, 4, 5, 10, 13, 6, 13, 1, 13, 17, 2, 10, 5, 11, 13, 1, 4, 5, 12, 7, 13, 16, 1, 2, 7, 10, 7, 4, 6, 8, 2, 3, 11, 13, 1, 3, 6, 11, 13, 17, 4, 5, 13, 16, 11, 1, 12, 5, 10, 13, 1, 7, 8, 9, 11, 14, 2, 8, 12, 2, 6, 8, 10, 3, 1, 2, 3, 4, 6, 7, 8, 3, 8, 10, 1, 2, 6, 7, 8, 10, 7, 8, 11, 3, 2, 3, 5, 8, 1, 3, 6, 7, 4, 10, 5, 11, 12, 3, 4, 5, 7, 9, 1, 2, 5, 6, 8, 9, 18, 3, 4, 12, 14, 2, 4, 12, 3, 4, 11, 12, 17, 2, 6, 11, 18, 2, 3, 12, 17, 3, 10, 18, 8, 9, 3, 4, 6, 8, 9, 3, 4, 9, 12, 1, 2, 8, 13, 5, 7, 13, 17, 9, 12, 8, 5, 9, 14, 4, 1, 2, 3, 6, 7, 8, 2, 13, 4, 2, 6, 2, 7, 4, 9, 10, 18, 1, 7, 9, 4, 7, 2, 8, 10, 1, 2, 3, 10, 16, 1, 3, 6, 7, 11, 16, 2, 3, 5, 8, 11, 13, 3, 4, 15, 1, 4, 5, 6, 8, 14, 17, 1, 2, 5, 6, 7, 8, 4, 7, 8, 10, 14, 4, 6, 7, 9, 1, 3, 13, 5, 10, 1, 4, 7, 8, 11, 6, 7, 11, 1, 2, 4, 11, 5, 6, 16, 2, 4, 10, 11, 1, 2, 3, 1, 12, 17, 3, 5, 7, 8, 1, 2, 4, 5, 7, 8, 14, 1, 3, 6, 13, 1, 2, 6, 7, 10, 17, 1, 10, 12, 2, 4, 5, 7, 18, 1, 2, 7, 1, 2, 10, 2, 8, 10, 11, 15, 5, 6, 7, 11, 1, 2, 3, 4, 5, 6, 7, 8, 10, 13, 17, 5, 8, 16, 5, 6, 9, 4, 8, 10, 12, 2, 4, 5, 8, 5, 2, 12, 11, 6, 11, 12, 11, 18, 1, 7, 9, 5, 10, 17, 5, 6, 10, 11, 3, 7, 5, 10, 15, 5], \"Freq\": [0.8642666476060111, 0.07202222063383426, 0.681894707367014, 0.22729823578900465, 0.851342880900955, 0.08961504009483737, 0.061071137506990295, 0.854995925097864, 0.18800260034761795, 0.28200390052142693, 0.4700065008690449, 0.9224865228735337, 0.04392792966064446, 0.09568751162024157, 0.39869796508433986, 0.06379167441349438, 0.3189583720674719, 0.03189583720674719, 0.015947918603373596, 0.047843755810120785, 0.40588600412106934, 0.47353367147458086, 0.3944863617214392, 0.42878952361026, 0.0686063237776416, 0.0686063237776416, 0.0343031618888208, 0.2977540229476389, 0.1985026819650926, 0.44663103442145835, 0.9703311735576419, 0.8689496975918675, 0.05430935609949172, 0.05430935609949172, 0.7997120686079338, 0.12303262593968212, 0.5276409108590001, 0.3165845465154001, 0.10552818217180003, 0.1643273296656727, 0.41081832416418174, 0.3286546593313454, 0.8765625537189435, 0.1903637585398585, 0.26175016799230544, 0.3569320472622347, 0.023795469817482314, 0.1665682887223762, 0.02828175081729022, 0.08484525245187066, 0.8767342753359968, 0.33356458765741803, 0.09883395189849423, 0.14825092784774135, 0.03706273196193534, 0.32121034367010626, 0.03706273196193534, 0.8122965193750296, 0.047782148198531146, 0.047782148198531146, 0.047782148198531146, 0.9177711196933945, 0.05259060661326397, 0.05259060661326397, 0.8414497058122236, 0.8885351191439267, 0.07404459326199389, 0.9679933159142622, 0.43529285714372384, 0.07835271428587029, 0.008705857142874477, 0.4091752857151004, 0.008705857142874477, 0.05223514285724686, 0.9889875703309261, 0.9584519564840542, 0.12477288756437527, 0.04159096252145843, 0.3743186626931258, 0.10397740630364606, 0.10397740630364606, 0.12477288756437527, 0.04159096252145843, 0.020795481260729214, 0.020795481260729214, 0.9167762532442992, 0.7699419221557503, 0.01604045671157813, 0.19248548053893758, 0.01604045671157813, 0.01604045671157813, 0.9706284534968131, 0.8336284947022714, 0.0757844086092974, 0.7149797436452869, 0.012543504274478718, 0.0752610256468723, 0.17560905984270203, 0.5759546606268696, 0.10471902920488539, 0.13089878650610673, 0.026179757301221348, 0.10471902920488539, 0.8915447895409961, 0.08367146140362014, 0.3556037109653856, 0.18826078815814531, 0.2719322495617655, 0.04183573070181007, 0.04183573070181007, 0.7238413673087606, 0.09048017091359507, 0.18096034182719015, 0.9186265450751236, 0.34202827552840837, 0.6270518384687487, 0.5646747577770177, 0.39527233044391236, 0.0769011561002617, 0.8459127171028787, 0.03845057805013085, 0.21596483893389, 0.6478945168016701, 0.22450372459793083, 0.22450372459793083, 0.03741728743298847, 0.2619210120309193, 0.1496691497319539, 0.03741728743298847, 0.20195234965712824, 0.44429516924568213, 0.3231237594514052, 0.05996077911247595, 0.41972545378733167, 0.4796862328998076, 0.05603560689866198, 0.2801780344933099, 0.5603560689866198, 0.12063050074567859, 0.201050834576131, 0.1809457511185179, 0.3417864187794227, 0.14073558420329169, 0.25484656256725713, 0.48420846887778857, 0.25484656256725713, 0.6613994348848395, 0.2204664782949465, 0.0881865913179786, 0.09090990603787788, 0.5272774550196917, 0.05454594362272673, 0.3090936805287848, 0.07699338887069825, 0.8084305831423315, 0.03849669443534912, 0.04445381284298545, 0.31117668990089814, 0.4889919412728399, 0.0889076256859709, 0.007078782193595731, 0.007078782193595731, 0.021236346580787196, 0.028315128774382924, 0.07786660412955304, 0.8211387344571048, 0.014157564387191462, 0.021236346580787196, 0.9582725076088051, 0.10293524305919573, 0.1544028645887936, 0.051467621529597864, 0.10293524305919573, 0.5661438368255765, 0.9239539728238941, 0.26387425035021855, 0.13193712517510928, 0.02198952086251821, 0.1759161669001457, 0.15392664603762748, 0.1759161669001457, 0.02198952086251821, 0.04397904172503642, 0.6303406753685634, 0.06303406753685634, 0.25213627014742535, 0.48367903513002475, 0.48367903513002475, 0.5148145440638087, 0.09360264437523794, 0.3276092553133328, 0.3837915889164282, 0.16448210953561207, 0.3837915889164282, 0.7038153413378929, 0.2513626219063903, 0.4171640200781402, 0.10429100501953505, 0.4171640200781402, 0.05071932952332406, 0.40575463618659247, 0.35503530666326844, 0.10143865904664812, 0.02004257554461195, 0.1603406043568956, 0.42089408643685094, 0.22046833099073146, 0.0801703021784478, 0.06012772663383585, 0.02004257554461195, 0.9512129705007101, 0.9600895240560173, 0.08891243513587774, 0.2667373054076332, 0.5779308283832053, 0.5669590654975198, 0.3543494159359499, 0.3278972477716668, 0.3278972477716668, 0.0273247706476389, 0.0819743119429167, 0.1092990825905556, 0.0273247706476389, 0.0819743119429167, 0.24414572813593552, 0.6714007523738227, 0.5471922014848083, 0.16415766044544247, 0.27359610074240415, 0.2949183038903424, 0.2949183038903424, 0.2949183038903424, 0.3322999617081837, 0.3322999617081837, 0.3322999617081837, 0.9467925653754047, 0.31656650933908786, 0.07305380984748182, 0.5844304787798545, 0.08674620858978747, 0.31228635092323487, 0.5725249766925973, 0.017349241717957493, 0.9566868275948184, 0.0442332297163752, 0.2432827634400636, 0.11058307429093801, 0.44233229716375205, 0.0663498445745628, 0.0221166148581876, 0.0221166148581876, 0.0221166148581876, 0.11058162907775008, 0.368605430259167, 0.2580238011814169, 0.1843027151295835, 0.8291374152333701, 0.16047820940000712, 0.6088794846894963, 0.1739655670541418, 0.1739655670541418, 0.19228923259137257, 0.1373494518509804, 0.16481934222117647, 0.21975912296156866, 0.054939780740392165, 0.19228923259137257, 0.36948276722662665, 0.5278325246094666, 0.5928993822585392, 0.06587770913983769, 0.26351083655935076, 0.9109521309055497, 0.07007324083888844, 0.15305214209792717, 0.6122085683917087, 0.15305214209792717, 0.11990303832540547, 0.5995151916270274, 0.17985455748810822, 0.059951519162702735, 0.24217731660112168, 0.32290308880149554, 0.32290308880149554, 0.6095176870554097, 0.2868318527319575, 0.07170796318298937, 0.9290702783543894, 0.9523222903816212, 0.15470722314892682, 0.6961825041701706, 0.07735361157446341, 0.49281438446791487, 0.24640719223395743, 0.24640719223395743, 0.9606353525974028, 0.7764010243695045, 0.027728608013196588, 0.055457216026393176, 0.08318582403958977, 0.027728608013196588, 0.027728608013196588, 0.054038178783890764, 0.4863436090550169, 0.16211453635167228, 0.21615271513556306, 0.9574085575791297, 0.222724767582919, 0.668174302748757, 0.5786249674616176, 0.1780384515266516, 0.22254806440831448, 0.20447365380932664, 0.08763156591828285, 0.058421043945521896, 0.554999917482458, 0.029210521972760948, 0.029210521972760948, 0.2752369191494239, 0.6880922978735597, 0.034404614893677986, 0.30820320774850485, 0.6164064154970097, 0.8321478083755248, 0.1040184760469406, 0.9186488897202748, 0.18611754334909367, 0.1654378163103055, 0.1654378163103055, 0.062039181116364556, 0.062039181116364556, 0.20679727038788187, 0.12407836223272911, 0.1314448653220633, 0.19716729798309493, 0.5915018939492848, 0.2287667375279578, 0.13726004251677468, 0.27452008503354935, 0.2287667375279578, 0.04575334750559156, 0.04575334750559156, 0.6121489444492164, 0.08744984920703092, 0.26234954762109275, 0.9331811386590844, 0.3863174141691276, 0.23179044850147656, 0.2961766841963312, 0.07726348283382553, 0.047170028649500234, 0.21226512892275104, 0.09434005729900047, 0.613210372443503, 0.8365048335906049, 0.08365048335906049, 0.06776528204727972, 0.27106112818911887, 0.5421222563782377, 0.15706369830092423, 0.20193904067261687, 0.29168972541600213, 0.20193904067261687, 0.13462602711507793, 0.16382767039622817, 0.09361581165498753, 0.023403952913746882, 0.2808474349649626, 0.046807905827493765, 0.32765534079245634, 0.023403952913746882, 0.24295314972624613, 0.08098438324208204, 0.32393753296832817, 0.24295314972624613, 0.9695317508573218, 0.14060693227841234, 0.843641593670474, 0.25128607523456864, 0.5743681719647283, 0.03589801074779552, 0.03589801074779552, 0.07179602149559104, 0.23494627277366859, 0.23494627277366859, 0.39157712128944766, 0.07831542425788952, 0.34365232770606824, 0.2863769397550569, 0.17182616385303412, 0.11455077590202276, 0.049809054987128475, 0.14942716496138542, 0.7969448797940556, 0.3365925382092355, 0.6170863200502651, 0.11679510353035644, 0.4087828623562475, 0.05839755176517822, 0.2530560576491056, 0.1557268047071419, 0.19244096164256047, 0.6975984859542818, 0.07216536061596018, 0.02405512020532006, 0.10675815459915272, 0.12200931954188882, 0.015251164942736102, 0.7320559172513329, 0.49359612294503497, 0.07593786506846692, 0.18984466267116729, 0.2657825277396342, 0.4885730659932804, 0.43428716977180476, 0.9399937595385789, 0.8857660672002098, 0.12334753003144149, 0.8017589452043696, 0.9574148725489883, 0.7726878697244457, 0.03863439348622229, 0.03863439348622229, 0.03863439348622229, 0.07726878697244458, 0.03863439348622229, 0.9695677134547471, 0.0182937304425424, 0.9791175587495001, 0.25372380045014264, 0.6977404512378922, 0.6375697276349154, 0.3400371880719549, 0.15338609601986739, 0.5368513360695358, 0.2300791440298011, 0.9193072376021152, 0.1874985634695508, 0.2343732043369385, 0.5156210495412648, 0.6770544928762858, 0.3009131079450159, 0.387278780555168, 0.096819695138792, 0.435688628124564, 0.34680293696854714, 0.18252786156239323, 0.03650557231247865, 0.34680293696854714, 0.05475835846871797, 0.10994782665451135, 0.10994782665451135, 0.04397913066180454, 0.13193739198541363, 0.04397913066180454, 0.5277495679416545, 0.3459204983754394, 0.19458028033618469, 0.10810015574232483, 0.21620031148464966, 0.08648012459385986, 0.021620031148464964, 0.037254994114665686, 0.07450998822933137, 0.8568648646373107, 0.28269909169094226, 0.18846606112729483, 0.07067477292273557, 0.28269909169094226, 0.14134954584547113, 0.023558257640911854, 0.023558257640911854, 0.956939154144319, 0.05799816791310996, 0.1449954197827749, 0.4349862593483247, 0.20299358769588485, 0.11599633582621992, 0.5942038995876996, 0.0660226555097444, 0.0660226555097444, 0.0660226555097444, 0.19806796652923317, 0.21521907061355383, 0.07173969020451795, 0.5739175216361436, 0.07173969020451795, 0.7633197823035297, 0.12721996371725497, 0.06360998185862748, 0.9040669856676105, 0.08218790778796459, 0.2735572697022854, 0.4103359045534281, 0.1367786348511427, 0.034194658712785674, 0.10258397613835703, 0.9494456724387973, 0.4550724395826604, 0.5200827880944691, 0.06661876387481516, 0.26647505549926065, 0.26647505549926065, 0.36640320131148335, 0.5000826218921053, 0.22731028267822967, 0.22731028267822967, 0.5704122215541776, 0.20534839975950392, 0.0912659554486684, 0.11408244431083552, 0.6998169807658409, 0.1679560753838018, 0.11197071692253455, 0.6082061348770788, 0.32010849204056774, 0.03201084920405677, 0.8156310300190955, 0.013824254746086364, 0.013824254746086364, 0.15206680220695, 0.1300396907289311, 0.013003969072893109, 0.013003969072893109, 0.16905159794761043, 0.11703572165603798, 0.19505953609339663, 0.35110716496811395, 0.24960918158747789, 0.6656244842332744, 0.9576440771629792, 0.8945886415762758, 0.10190251073898875, 0.534988181379691, 0.15285376610848314, 0.12737813842373594, 0.025475627684747187, 0.07642688305424157, 0.053718601525767, 0.053718601525767, 0.8057790228865049, 0.12110463290745486, 0.24220926581490973, 0.20184105484575812, 0.322945687753213, 0.04036821096915162, 0.11067720863531551, 0.8485252662040855, 0.01844620143921925, 0.058792189069785394, 0.17637656720935618, 0.7055062688374247, 0.09668096118124547, 0.1611349353020758, 0.06445397412083032, 0.12890794824166063, 0.5156317929666425, 0.10696019210728726, 0.6685012006705454, 0.13370024013410908, 0.05348009605364363, 0.6876550846429071, 0.0038203060257939285, 0.02292183615476357, 0.02292183615476357, 0.057304590386908924, 0.011460918077381786, 0.08786703859326035, 0.007640612051587857, 0.0038203060257939285, 0.0687655084642907, 0.019101530128969643, 0.26240784583286086, 0.08746928194428696, 0.5831285462952464, 0.19863669713765728, 0.14897752285324295, 0.6455692656973862, 0.14996292000401704, 0.3299184240088375, 0.3599110080096409, 0.11997033600321363, 0.15796851295782702, 0.03159370259156541, 0.007898425647891352, 0.7977409904370265, 0.9618911291207152, 0.7209331961825792, 0.1802332990456448, 0.979299521637077, 0.5262500466346614, 0.3508333644231076, 0.07016667288462151, 0.2798170717651707, 0.629588411471634, 0.06375287491639664, 0.7650344989967597, 0.12750574983279328, 0.025836885453158372, 0.025836885453158372, 0.9301278763137014, 0.08620394304068632, 0.17240788608137264, 0.08620394304068632, 0.6034276012848042, 0.34653599252370026, 0.5940617014692005, 0.31461919604258487, 0.19663699752661554, 0.4719287940638773, 0.9555063556077759], \"Term\": [\"https\", \"https\", \"wildberries\", \"wildberries\", \"\\u0431\\u0430\\u043d\\u043a\", \"\\u0431\\u0430\\u043d\\u043a\", \"\\u0431\\u0438\\u043b\\u0435\\u0442\", \"\\u0431\\u0438\\u043b\\u0435\\u0442\", \"\\u0431\\u043e\\u043b\\u044c\\u0448\\u043e\\u0439\", \"\\u0431\\u043e\\u043b\\u044c\\u0448\\u043e\\u0439\", \"\\u0431\\u043e\\u043b\\u044c\\u0448\\u043e\\u0439\", \"\\u0431\\u0440\\u0430\\u043a\", \"\\u0431\\u0440\\u0430\\u043a\", \"\\u0432\\u0435\\u0440\\u043d\\u0443\\u0442\\u044c\", \"\\u0432\\u0435\\u0440\\u043d\\u0443\\u0442\\u044c\", \"\\u0432\\u0435\\u0440\\u043d\\u0443\\u0442\\u044c\", \"\\u0432\\u0435\\u0440\\u043d\\u0443\\u0442\\u044c\", \"\\u0432\\u0435\\u0440\\u043d\\u0443\\u0442\\u044c\", \"\\u0432\\u0435\\u0440\\u043d\\u0443\\u0442\\u044c\", \"\\u0432\\u0435\\u0440\\u043d\\u0443\\u0442\\u044c\", \"\\u0432\\u0437\\u044f\\u0442\\u044c\", \"\\u0432\\u0437\\u044f\\u0442\\u044c\", \"\\u0432\\u043e\\u0437\\u0432\\u0440\\u0430\\u0442\", \"\\u0432\\u043e\\u0437\\u0432\\u0440\\u0430\\u0442\", \"\\u0432\\u043e\\u0437\\u0432\\u0440\\u0430\\u0442\", \"\\u0432\\u043e\\u0437\\u0432\\u0440\\u0430\\u0442\", \"\\u0432\\u043e\\u0437\\u0432\\u0440\\u0430\\u0442\", \"\\u0432\\u043e\\u0437\\u0432\\u0440\\u0430\\u0449\\u0430\\u0442\\u044c\", \"\\u0432\\u043e\\u0437\\u0432\\u0440\\u0430\\u0449\\u0430\\u0442\\u044c\", \"\\u0432\\u043e\\u0437\\u0432\\u0440\\u0430\\u0449\\u0430\\u0442\\u044c\", \"\\u0432\\u043e\\u0437\\u043c\\u043e\\u0436\\u043d\\u043e\\u0441\\u0442\\u044c\", \"\\u0432\\u044b\\u0434\\u0430\\u0447\\u0430\", \"\\u0432\\u044b\\u0434\\u0430\\u0447\\u0430\", \"\\u0432\\u044b\\u0434\\u0430\\u0447\\u0430\", \"\\u0433\\u043e\\u0432\\u043e\\u0440\\u0438\\u0442\\u044c\", \"\\u0433\\u043e\\u0432\\u043e\\u0440\\u0438\\u0442\\u044c\", \"\\u0433\\u043e\\u0440\\u043e\\u0434\", \"\\u0433\\u043e\\u0440\\u043e\\u0434\", \"\\u0433\\u043e\\u0440\\u043e\\u0434\", \"\\u0433\\u0440\\u0443\\u043f\\u043f\\u0430\", \"\\u0433\\u0440\\u0443\\u043f\\u043f\\u0430\", \"\\u0433\\u0440\\u0443\\u043f\\u043f\\u0430\", \"\\u0434\\u0430\\u0432\\u0430\\u0442\\u044c\", \"\\u0434\\u0430\\u043b\\u0435\\u0435\", \"\\u0434\\u0430\\u043b\\u0435\\u0435\", \"\\u0434\\u0430\\u043b\\u0435\\u0435\", \"\\u0434\\u0430\\u043b\\u0435\\u0435\", \"\\u0434\\u0430\\u043b\\u0435\\u0435\", \"\\u0434\\u0430\\u0442\\u0430\", \"\\u0434\\u0430\\u0442\\u0430\", \"\\u0434\\u0430\\u0442\\u0430\", \"\\u0434\\u0430\\u0442\\u044c\", \"\\u0434\\u0430\\u0442\\u044c\", \"\\u0434\\u0430\\u0442\\u044c\", \"\\u0434\\u0430\\u0442\\u044c\", \"\\u0434\\u0430\\u0442\\u044c\", \"\\u0434\\u0430\\u0442\\u044c\", \"\\u0434\\u0435\\u0439\\u0441\\u0442\\u0432\\u0438\\u0435\", \"\\u0434\\u0435\\u0439\\u0441\\u0442\\u0432\\u0438\\u0435\", \"\\u0434\\u0435\\u0439\\u0441\\u0442\\u0432\\u0438\\u0435\", \"\\u0434\\u0435\\u0439\\u0441\\u0442\\u0432\\u0438\\u0435\", \"\\u0434\\u0435\\u0439\\u0441\\u0442\\u0432\\u043e\\u0432\\u0430\\u0442\\u044c\", \"\\u0434\\u0435\\u043a\\u0430\\u0431\\u0440\\u044c\", \"\\u0434\\u0435\\u043a\\u0430\\u0431\\u0440\\u044c\", \"\\u0434\\u0435\\u043a\\u0430\\u0431\\u0440\\u044c\", \"\\u0434\\u0435\\u043b\\u0430\\u0442\\u044c\", \"\\u0434\\u0435\\u043b\\u0430\\u0442\\u044c\", \"\\u0434\\u0435\\u043d\\u0435\\u0436\\u043d\\u044b\\u0439\", \"\\u0434\\u0435\\u043d\\u044c\\u0433\\u0430\", \"\\u0434\\u0435\\u043d\\u044c\\u0433\\u0430\", \"\\u0434\\u0435\\u043d\\u044c\\u0433\\u0430\", \"\\u0434\\u0435\\u043d\\u044c\\u0433\\u0430\", \"\\u0434\\u0435\\u043d\\u044c\\u0433\\u0430\", \"\\u0434\\u0435\\u043d\\u044c\\u0433\\u0430\", \"\\u0434\\u043e\\u0433\\u043e\\u0432\\u043e\\u0440\", \"\\u0434\\u043e\\u043a\\u0443\\u043c\\u0435\\u043d\\u0442\", \"\\u0434\\u043e\\u043b\\u0436\\u043d\\u044b\\u0439\", \"\\u0434\\u043e\\u043b\\u0436\\u043d\\u044b\\u0439\", \"\\u0434\\u043e\\u043b\\u0436\\u043d\\u044b\\u0439\", \"\\u0434\\u043e\\u043b\\u0436\\u043d\\u044b\\u0439\", \"\\u0434\\u043e\\u043b\\u0436\\u043d\\u044b\\u0439\", \"\\u0434\\u043e\\u043b\\u0436\\u043d\\u044b\\u0439\", \"\\u0434\\u043e\\u043b\\u0436\\u043d\\u044b\\u0439\", \"\\u0434\\u043e\\u043b\\u0436\\u043d\\u044b\\u0439\", \"\\u0434\\u043e\\u043b\\u0436\\u043d\\u044b\\u0439\", \"\\u0434\\u043e\\u0441\\u0442\\u0430\\u0432\\u0438\\u0442\\u044c\", \"\\u0434\\u043e\\u0441\\u0442\\u0430\\u0432\\u043a\\u0430\", \"\\u0434\\u043e\\u0441\\u0442\\u0430\\u0432\\u043a\\u0430\", \"\\u0434\\u043e\\u0441\\u0442\\u0430\\u0432\\u043a\\u0430\", \"\\u0434\\u043e\\u0441\\u0442\\u0430\\u0432\\u043a\\u0430\", \"\\u0434\\u043e\\u0441\\u0442\\u0430\\u0432\\u043a\\u0430\", \"\\u0436\\u0430\\u043b\\u043e\\u0431\\u0430\", \"\\u0436\\u0434\\u0430\\u0442\\u044c\", \"\\u0436\\u0434\\u0430\\u0442\\u044c\", \"\\u0437\\u0430\\u043a\\u0430\\u0437\", \"\\u0437\\u0430\\u043a\\u0430\\u0437\", \"\\u0437\\u0430\\u043a\\u0430\\u0437\", \"\\u0437\\u0430\\u043a\\u0430\\u0437\", \"\\u0437\\u0430\\u043a\\u0430\\u0437\\u0430\\u0442\\u044c\", \"\\u0437\\u0430\\u043a\\u0430\\u0437\\u0430\\u0442\\u044c\", \"\\u0437\\u0430\\u043a\\u0430\\u0437\\u0430\\u0442\\u044c\", \"\\u0437\\u0430\\u043a\\u0430\\u0437\\u0430\\u0442\\u044c\", \"\\u0437\\u0430\\u043a\\u0430\\u0437\\u0430\\u0442\\u044c\", \"\\u0437\\u0430\\u043a\\u043b\\u044e\\u0447\\u0438\\u0442\\u044c\", \"\\u0437\\u0430\\u043a\\u043e\\u043d\", \"\\u0437\\u0430\\u043a\\u043e\\u043d\", \"\\u0437\\u0430\\u043a\\u043e\\u043d\", \"\\u0437\\u0430\\u043a\\u043e\\u043d\", \"\\u0437\\u0430\\u043a\\u043e\\u043d\", \"\\u0437\\u0430\\u043a\\u043e\\u043d\", \"\\u0437\\u0430\\u043a\\u043e\\u043d\\u043d\\u044b\\u0439\", \"\\u0437\\u0430\\u043a\\u043e\\u043d\\u043d\\u044b\\u0439\", \"\\u0437\\u0430\\u043a\\u043e\\u043d\\u043d\\u044b\\u0439\", \"\\u0437\\u0430\\u0440\\u0430\\u043d\\u0435\\u0435\", \"\\u0437\\u0430\\u0449\\u0438\\u0442\\u0430\", \"\\u0437\\u0430\\u0449\\u0438\\u0442\\u0430\", \"\\u0437\\u0430\\u044f\\u0432\\u043a\\u0430\", \"\\u0437\\u0430\\u044f\\u0432\\u043a\\u0430\", \"\\u0437\\u0430\\u044f\\u0432\\u043b\\u0435\\u043d\\u0438\\u0435\", \"\\u0437\\u0430\\u044f\\u0432\\u043b\\u0435\\u043d\\u0438\\u0435\", \"\\u0437\\u0430\\u044f\\u0432\\u043b\\u0435\\u043d\\u0438\\u0435\", \"\\u0437\\u043d\\u0430\\u0442\\u044c\", \"\\u0437\\u043d\\u0430\\u0442\\u044c\", \"\\u0438\\u043d\\u0442\\u0435\\u0440\\u043d\\u0435\\u0442\", \"\\u0438\\u043d\\u0442\\u0435\\u0440\\u043d\\u0435\\u0442\", \"\\u0438\\u043d\\u0442\\u0435\\u0440\\u043d\\u0435\\u0442\", \"\\u0438\\u043d\\u0442\\u0435\\u0440\\u043d\\u0435\\u0442\", \"\\u0438\\u043d\\u0442\\u0435\\u0440\\u043d\\u0435\\u0442\", \"\\u0438\\u043d\\u0442\\u0435\\u0440\\u043d\\u0435\\u0442\", \"\\u0438\\u043d\\u0444\\u043e\\u0440\\u043c\\u0430\\u0446\\u0438\\u044f\", \"\\u0438\\u043d\\u0444\\u043e\\u0440\\u043c\\u0430\\u0446\\u0438\\u044f\", \"\\u0438\\u043d\\u0444\\u043e\\u0440\\u043c\\u0430\\u0446\\u0438\\u044f\", \"\\u0438\\u0442\\u043e\\u0433\", \"\\u0438\\u0442\\u043e\\u0433\", \"\\u0438\\u0442\\u043e\\u0433\", \"\\u043a\\u0430\\u0431\\u0438\\u043d\\u0435\\u0442\", \"\\u043a\\u0430\\u0431\\u0438\\u043d\\u0435\\u0442\", \"\\u043a\\u0430\\u0431\\u0438\\u043d\\u0435\\u0442\", \"\\u043a\\u0430\\u0440\\u0442\\u0430\", \"\\u043a\\u0430\\u0440\\u0442\\u0430\", \"\\u043a\\u0430\\u0440\\u0442\\u0430\", \"\\u043a\\u0430\\u0440\\u0442\\u0430\", \"\\u043a\\u0430\\u0440\\u0442\\u0430\", \"\\u043a\\u0430\\u0447\\u0435\\u0441\\u0442\\u0432\\u043e\", \"\\u043a\\u0430\\u0447\\u0435\\u0441\\u0442\\u0432\\u043e\", \"\\u043a\\u0430\\u0447\\u0435\\u0441\\u0442\\u0432\\u043e\", \"\\u043a\\u0432\\u0430\\u0440\\u0442\\u0438\\u0440\\u0430\", \"\\u043a\\u0432\\u0430\\u0440\\u0442\\u0438\\u0440\\u0430\", \"\\u043a\\u0432\\u0430\\u0440\\u0442\\u0438\\u0440\\u0430\", \"\\u043a\\u043e\\u043c\\u043f\\u0430\\u043d\\u0438\\u044f\", \"\\u043a\\u043e\\u043c\\u043f\\u0430\\u043d\\u0438\\u044f\", \"\\u043a\\u043e\\u043c\\u043f\\u0430\\u043d\\u0438\\u044f\", \"\\u043a\\u043e\\u043c\\u043f\\u0430\\u043d\\u0438\\u044f\", \"\\u043a\\u0443\\u043f\\u0438\\u0442\\u044c\", \"\\u043a\\u0443\\u043f\\u0438\\u0442\\u044c\", \"\\u043a\\u0443\\u043f\\u0438\\u0442\\u044c\", \"\\u043b\\u0438\\u0447\\u043d\\u044b\\u0439\", \"\\u043b\\u0438\\u0447\\u043d\\u044b\\u0439\", \"\\u043b\\u0438\\u0447\\u043d\\u044b\\u0439\", \"\\u043b\\u0438\\u0447\\u043d\\u044b\\u0439\", \"\\u043c\\u0430\\u0433\\u0430\\u0437\\u0438\\u043d\", \"\\u043c\\u0430\\u0433\\u0430\\u0437\\u0438\\u043d\", \"\\u043c\\u0430\\u0433\\u0430\\u0437\\u0438\\u043d\", \"\\u043c\\u0430\\u0433\\u0430\\u0437\\u0438\\u043d\", \"\\u043c\\u0430\\u0433\\u0430\\u0437\\u0438\\u043d\", \"\\u043c\\u0430\\u0433\\u0430\\u0437\\u0438\\u043d\", \"\\u043c\\u0430\\u0433\\u0430\\u0437\\u0438\\u043d\", \"\\u043c\\u0430\\u0433\\u0430\\u0437\\u0438\\u043d\", \"\\u043c\\u0435\\u0440\\u0430\", \"\\u043c\\u043e\\u043c\\u0435\\u043d\\u0442\", \"\\u043c\\u043e\\u043c\\u0435\\u043d\\u0442\", \"\\u043c\\u043e\\u043c\\u0435\\u043d\\u0442\", \"\\u043c\\u043e\\u043c\\u0435\\u043d\\u0442\", \"\\u043c\\u043e\\u043c\\u0435\\u043d\\u0442\", \"\\u043c\\u043e\\u0441\\u043a\\u0432\\u0430\", \"\\u043d\\u0430\\u043f\\u0438\\u0441\\u0430\\u0442\\u044c\", \"\\u043d\\u0430\\u043f\\u0438\\u0441\\u0430\\u0442\\u044c\", \"\\u043d\\u0430\\u043f\\u0438\\u0441\\u0430\\u0442\\u044c\", \"\\u043d\\u0430\\u043f\\u0438\\u0441\\u0430\\u0442\\u044c\", \"\\u043d\\u0430\\u043f\\u0438\\u0441\\u0430\\u0442\\u044c\", \"\\u043d\\u0430\\u043f\\u0438\\u0441\\u0430\\u0442\\u044c\", \"\\u043d\\u0430\\u043f\\u0438\\u0441\\u0430\\u0442\\u044c\", \"\\u043d\\u0430\\u043f\\u0438\\u0441\\u0430\\u0442\\u044c\", \"\\u043d\\u0430\\u043f\\u0440\\u0430\\u0432\\u0438\\u0442\\u044c\", \"\\u043d\\u0430\\u043f\\u0440\\u0430\\u0432\\u0438\\u0442\\u044c\", \"\\u043d\\u0430\\u043f\\u0440\\u0430\\u0432\\u0438\\u0442\\u044c\", \"\\u043d\\u0430\\u0440\\u0443\\u0448\\u0435\\u043d\\u0438\\u0435\", \"\\u043d\\u0430\\u0440\\u0443\\u0448\\u0435\\u043d\\u0438\\u0435\", \"\\u043d\\u0430\\u0445\\u043e\\u0434\\u0438\\u0442\\u044c\\u0441\\u044f\", \"\\u043d\\u0430\\u0445\\u043e\\u0434\\u0438\\u0442\\u044c\\u0441\\u044f\", \"\\u043d\\u0430\\u0445\\u043e\\u0434\\u0438\\u0442\\u044c\\u0441\\u044f\", \"\\u043d\\u0435\\u0434\\u0435\\u043b\\u044f\", \"\\u043d\\u0435\\u0434\\u0435\\u043b\\u044f\", \"\\u043d\\u0435\\u0434\\u0435\\u043b\\u044f\", \"\\u043d\\u0438\\u043a\\u0430\\u043a\\u043e\\u0439\", \"\\u043d\\u0438\\u043a\\u0430\\u043a\\u043e\\u0439\", \"\\u043d\\u0438\\u043a\\u0442\\u043e\", \"\\u043d\\u0438\\u043a\\u0442\\u043e\", \"\\u043d\\u0438\\u043a\\u0442\\u043e\", \"\\u043d\\u043e\\u0432\\u044b\\u0439\", \"\\u043d\\u043e\\u0432\\u044b\\u0439\", \"\\u043d\\u043e\\u0432\\u044b\\u0439\", \"\\u043d\\u043e\\u0432\\u044b\\u0439\", \"\\u043d\\u043e\\u043c\\u0435\\u0440\", \"\\u043d\\u043e\\u043c\\u0435\\u0440\", \"\\u043d\\u043e\\u043c\\u0435\\u0440\", \"\\u043d\\u043e\\u043c\\u0435\\u0440\", \"\\u043d\\u043e\\u043c\\u0435\\u0440\", \"\\u043d\\u043e\\u043c\\u0435\\u0440\", \"\\u043d\\u043e\\u043c\\u0435\\u0440\", \"\\u043d\\u0443\\u0436\\u043d\\u044b\\u0439\", \"\\u043e\\u0431\\u043b\\u0430\\u0441\\u0442\\u044c\", \"\\u043e\\u0431\\u043d\\u0430\\u0440\\u0443\\u0436\\u0438\\u0442\\u044c\", \"\\u043e\\u0431\\u043d\\u0430\\u0440\\u0443\\u0436\\u0438\\u0442\\u044c\", \"\\u043e\\u0431\\u043d\\u0430\\u0440\\u0443\\u0436\\u0438\\u0442\\u044c\", \"\\u043e\\u0431\\u0440\\u0430\\u0437\", \"\\u043e\\u0431\\u0440\\u0430\\u0437\", \"\\u043e\\u0431\\u0440\\u0430\\u0442\\u0438\\u0442\\u044c\\u0441\\u044f\", \"\\u043e\\u0431\\u0440\\u0430\\u0442\\u0438\\u0442\\u044c\\u0441\\u044f\", \"\\u043e\\u0431\\u0440\\u0430\\u0442\\u0438\\u0442\\u044c\\u0441\\u044f\", \"\\u043e\\u0431\\u0440\\u0430\\u0442\\u0438\\u0442\\u044c\\u0441\\u044f\", \"\\u043e\\u0431\\u0440\\u0430\\u0442\\u0438\\u0442\\u044c\\u0441\\u044f\", \"\\u043e\\u0431\\u0440\\u0430\\u0442\\u0438\\u0442\\u044c\\u0441\\u044f\", \"\\u043e\\u0431\\u0440\\u0430\\u0442\\u0438\\u0442\\u044c\\u0441\\u044f\", \"\\u043e\\u0431\\u0440\\u0430\\u0442\\u043d\\u044b\\u0439\", \"\\u043e\\u0431\\u0440\\u0430\\u0442\\u043d\\u044b\\u0439\", \"\\u043e\\u0431\\u044f\\u0437\\u0430\\u0442\\u044c\", \"\\u043e\\u0431\\u044f\\u0437\\u0430\\u0442\\u044c\", \"\\u043e\\u0431\\u044f\\u0437\\u0430\\u0442\\u044c\", \"\\u043e\\u043a\\u0430\\u0437\\u0430\\u0442\\u044c\\u0441\\u044f\", \"\\u043e\\u043a\\u0430\\u0437\\u0430\\u0442\\u044c\\u0441\\u044f\", \"\\u043e\\u043a\\u0430\\u0437\\u0430\\u0442\\u044c\\u0441\\u044f\", \"\\u043e\\u043d\\u043b\\u0430\\u0439\\u043d\", \"\\u043e\\u043d\\u043b\\u0430\\u0439\\u043d\", \"\\u043e\\u043d\\u043b\\u0430\\u0439\\u043d\", \"\\u043e\\u043f\\u0435\\u0440\\u0430\\u0442\\u043e\\u0440\", \"\\u043e\\u043f\\u043b\\u0430\\u0442\\u0430\", \"\\u043e\\u043f\\u043b\\u0430\\u0442\\u0430\", \"\\u043e\\u043f\\u043b\\u0430\\u0442\\u0430\", \"\\u043e\\u043f\\u043b\\u0430\\u0442\\u0438\\u0442\\u044c\", \"\\u043e\\u043f\\u043b\\u0430\\u0442\\u0438\\u0442\\u044c\", \"\\u043e\\u043f\\u043b\\u0430\\u0442\\u0438\\u0442\\u044c\", \"\\u043e\\u043f\\u043b\\u0430\\u0442\\u0438\\u0442\\u044c\", \"\\u043e\\u0440\\u0433\\u0430\\u043d\\u0438\\u0437\\u0430\\u0446\\u0438\\u044f\", \"\\u043e\\u0442\\u0432\\u0435\\u0442\", \"\\u043e\\u0442\\u0432\\u0435\\u0442\", \"\\u043e\\u0442\\u0432\\u0435\\u0442\", \"\\u043e\\u0442\\u0432\\u0435\\u0442\", \"\\u043e\\u0442\\u0432\\u0435\\u0442\", \"\\u043e\\u0442\\u0432\\u0435\\u0442\", \"\\u043e\\u0442\\u0432\\u0435\\u0442\", \"\\u043e\\u0442\\u0432\\u0435\\u0442\", \"\\u043e\\u0442\\u0432\\u0435\\u0442\\u0438\\u0442\\u044c\", \"\\u043e\\u0442\\u0432\\u0435\\u0442\\u0438\\u0442\\u044c\", \"\\u043e\\u0442\\u0432\\u0435\\u0442\\u0438\\u0442\\u044c\", \"\\u043e\\u0442\\u0432\\u0435\\u0442\\u0438\\u0442\\u044c\", \"\\u043e\\u0442\\u043a\\u0430\\u0437\", \"\\u043e\\u0442\\u043a\\u0430\\u0437\", \"\\u043e\\u0442\\u043a\\u0430\\u0437\\u0430\\u0442\\u044c\", \"\\u043e\\u0442\\u043a\\u0430\\u0437\\u0430\\u0442\\u044c\", \"\\u043e\\u0442\\u043a\\u0430\\u0437\\u0430\\u0442\\u044c\", \"\\u043e\\u0442\\u043a\\u0430\\u0437\\u0430\\u0442\\u044c\\u0441\\u044f\", \"\\u043e\\u0442\\u043a\\u0430\\u0437\\u0430\\u0442\\u044c\\u0441\\u044f\", \"\\u043e\\u0442\\u043a\\u0430\\u0437\\u0430\\u0442\\u044c\\u0441\\u044f\", \"\\u043e\\u0442\\u043a\\u0430\\u0437\\u0430\\u0442\\u044c\\u0441\\u044f\", \"\\u043e\\u0442\\u043a\\u0430\\u0437\\u0430\\u0442\\u044c\\u0441\\u044f\", \"\\u043e\\u0442\\u043a\\u0430\\u0437\\u0430\\u0442\\u044c\\u0441\\u044f\", \"\\u043e\\u0442\\u043a\\u0430\\u0437\\u044b\\u0432\\u0430\\u0442\\u044c\\u0441\\u044f\", \"\\u043e\\u0442\\u043a\\u0430\\u0437\\u044b\\u0432\\u0430\\u0442\\u044c\\u0441\\u044f\", \"\\u043e\\u0442\\u043c\\u0435\\u043d\\u0438\\u0442\\u044c\", \"\\u043e\\u0442\\u043c\\u0435\\u043d\\u0438\\u0442\\u044c\", \"\\u043e\\u0442\\u043c\\u0435\\u043d\\u0438\\u0442\\u044c\", \"\\u043e\\u0442\\u043d\\u043e\\u0448\\u0435\\u043d\\u0438\\u0435\", \"\\u043e\\u0442\\u043d\\u043e\\u0448\\u0435\\u043d\\u0438\\u0435\", \"\\u043e\\u0442\\u043f\\u0440\\u0430\\u0432\\u0438\\u0442\\u044c\", \"\\u043e\\u0442\\u043f\\u0440\\u0430\\u0432\\u0438\\u0442\\u044c\", \"\\u043e\\u0442\\u043f\\u0440\\u0430\\u0432\\u0438\\u0442\\u044c\", \"\\u043e\\u0442\\u0441\\u0443\\u0442\\u0441\\u0442\\u0432\\u0438\\u0435\", \"\\u043e\\u0442\\u0441\\u0443\\u0442\\u0441\\u0442\\u0432\\u0438\\u0435\", \"\\u043e\\u0442\\u0441\\u0443\\u0442\\u0441\\u0442\\u0432\\u0438\\u0435\", \"\\u043e\\u0442\\u0441\\u0443\\u0442\\u0441\\u0442\\u0432\\u0438\\u0435\", \"\\u043e\\u0442\\u0441\\u0443\\u0442\\u0441\\u0442\\u0432\\u043e\\u0432\\u0430\\u0442\\u044c\", \"\\u043e\\u0442\\u0441\\u0443\\u0442\\u0441\\u0442\\u0432\\u043e\\u0432\\u0430\\u0442\\u044c\", \"\\u043e\\u0442\\u0441\\u0443\\u0442\\u0441\\u0442\\u0432\\u043e\\u0432\\u0430\\u0442\\u044c\", \"\\u043e\\u0444\\u043e\\u0440\\u043c\\u0438\\u0442\\u044c\", \"\\u043e\\u0444\\u043e\\u0440\\u043c\\u0438\\u0442\\u044c\", \"\\u043e\\u0444\\u043e\\u0440\\u043c\\u0438\\u0442\\u044c\", \"\\u043e\\u0448\\u0438\\u0431\\u043a\\u0430\", \"\\u043f\\u0435\\u0440\\u0435\\u0434\\u0430\\u0442\\u044c\", \"\\u043f\\u0438\\u0441\\u0430\\u0442\\u044c\", \"\\u043f\\u0438\\u0441\\u0430\\u0442\\u044c\", \"\\u043f\\u0438\\u0441\\u0430\\u0442\\u044c\", \"\\u043f\\u043b\\u0430\\u0442\\u0451\\u0436\", \"\\u043f\\u043b\\u0430\\u0442\\u0451\\u0436\", \"\\u043f\\u043b\\u0430\\u0442\\u0451\\u0436\", \"\\u043f\\u043b\\u043e\\u0449\\u0430\\u0434\\u043a\\u0430\", \"\\u043f\\u043e\\u0434\\u0434\\u0435\\u0440\\u0436\\u043a\\u0430\", \"\\u043f\\u043e\\u0434\\u0434\\u0435\\u0440\\u0436\\u043a\\u0430\", \"\\u043f\\u043e\\u0434\\u0434\\u0435\\u0440\\u0436\\u043a\\u0430\", \"\\u043f\\u043e\\u0434\\u0434\\u0435\\u0440\\u0436\\u043a\\u0430\", \"\\u043f\\u043e\\u0434\\u0434\\u0435\\u0440\\u0436\\u043a\\u0430\", \"\\u043f\\u043e\\u0434\\u0434\\u0435\\u0440\\u0436\\u043a\\u0430\", \"\\u043f\\u043e\\u0434\\u0441\\u043a\\u0430\\u0437\\u0430\\u0442\\u044c\", \"\\u043f\\u043e\\u0434\\u0441\\u043a\\u0430\\u0437\\u0430\\u0442\\u044c\", \"\\u043f\\u043e\\u0434\\u0441\\u043a\\u0430\\u0437\\u0430\\u0442\\u044c\", \"\\u043f\\u043e\\u0434\\u0441\\u043a\\u0430\\u0437\\u0430\\u0442\\u044c\", \"\\u043f\\u043e\\u0437\\u0432\\u043e\\u043d\\u0438\\u0442\\u044c\", \"\\u043f\\u043e\\u0437\\u0434\\u043d\\u0438\\u0439\", \"\\u043f\\u043e\\u0437\\u0434\\u043d\\u0438\\u0439\", \"\\u043f\\u043e\\u043a\\u0443\\u043f\\u0430\\u0442\\u0435\\u043b\\u044c\", \"\\u043f\\u043e\\u043a\\u0443\\u043f\\u0430\\u0442\\u0435\\u043b\\u044c\", \"\\u043f\\u043e\\u043a\\u0443\\u043f\\u0430\\u0442\\u0435\\u043b\\u044c\", \"\\u043f\\u043e\\u043a\\u0443\\u043f\\u043a\\u0430\", \"\\u043f\\u043e\\u043a\\u0443\\u043f\\u043a\\u0430\", \"\\u043f\\u043e\\u043a\\u0443\\u043f\\u043a\\u0430\", \"\\u043f\\u043e\\u043a\\u0443\\u043f\\u043a\\u0430\", \"\\u043f\\u043e\\u043a\\u0443\\u043f\\u043a\\u0430\", \"\\u043f\\u043e\\u043a\\u0443\\u043f\\u043a\\u0430\", \"\\u043f\\u043e\\u043b\\u043d\\u044b\\u0439\", \"\\u043f\\u043e\\u043b\\u043d\\u044b\\u0439\", \"\\u043f\\u043e\\u043b\\u043d\\u044b\\u0439\", \"\\u043f\\u043e\\u043b\\u0443\\u0447\\u0430\\u0442\\u044c\", \"\\u043f\\u043e\\u043b\\u0443\\u0447\\u0430\\u0442\\u044c\", \"\\u043f\\u043e\\u043b\\u0443\\u0447\\u0430\\u0442\\u044c\\u0441\\u044f\", \"\\u043f\\u043e\\u043b\\u0443\\u0447\\u0430\\u0442\\u044c\\u0441\\u044f\", \"\\u043f\\u043e\\u043b\\u0443\\u0447\\u0435\\u043d\\u0438\\u0435\", \"\\u043f\\u043e\\u043b\\u0443\\u0447\\u0438\\u0442\\u044c\", \"\\u043f\\u043e\\u043b\\u0443\\u0447\\u0438\\u0442\\u044c\", \"\\u043f\\u043e\\u043b\\u0443\\u0447\\u0438\\u0442\\u044c\", \"\\u043f\\u043e\\u043b\\u0443\\u0447\\u0438\\u0442\\u044c\", \"\\u043f\\u043e\\u043b\\u0443\\u0447\\u0438\\u0442\\u044c\", \"\\u043f\\u043e\\u043b\\u0443\\u0447\\u0438\\u0442\\u044c\", \"\\u043f\\u043e\\u043b\\u0443\\u0447\\u0438\\u0442\\u044c\", \"\\u043f\\u043e\\u043b\\u044c\\u0437\\u043e\\u0432\\u0430\\u0442\\u044c\\u0441\\u044f\", \"\\u043f\\u043e\\u043b\\u044c\\u0437\\u043e\\u0432\\u0430\\u0442\\u044c\\u0441\\u044f\", \"\\u043f\\u043e\\u043b\\u044c\\u0437\\u043e\\u0432\\u0430\\u0442\\u044c\\u0441\\u044f\", \"\\u043f\\u043e\\u043c\\u043e\\u0447\\u044c\", \"\\u043f\\u043e\\u043c\\u043e\\u0447\\u044c\", \"\\u043f\\u043e\\u043c\\u043e\\u0447\\u044c\", \"\\u043f\\u043e\\u043c\\u043e\\u0447\\u044c\", \"\\u043f\\u043e\\u043c\\u043e\\u0447\\u044c\", \"\\u043f\\u043e\\u043c\\u043e\\u0447\\u044c\", \"\\u043f\\u043e\\u043f\\u0440\\u043e\\u0441\\u0438\\u0442\\u044c\", \"\\u043f\\u043e\\u043f\\u0440\\u043e\\u0441\\u0438\\u0442\\u044c\", \"\\u043f\\u043e\\u043f\\u0440\\u043e\\u0441\\u0438\\u0442\\u044c\", \"\\u043f\\u043e\\u0441\\u0442\\u0443\\u043f\\u0438\\u0442\\u044c\", \"\\u043f\\u043e\\u0442\\u0440\\u0435\\u0431\\u0438\\u0442\\u0435\\u043b\\u044c\", \"\\u043f\\u043e\\u0442\\u0440\\u0435\\u0431\\u0438\\u0442\\u0435\\u043b\\u044c\", \"\\u043f\\u043e\\u0442\\u0440\\u0435\\u0431\\u0438\\u0442\\u0435\\u043b\\u044c\", \"\\u043f\\u043e\\u0442\\u0440\\u0435\\u0431\\u0438\\u0442\\u0435\\u043b\\u044c\", \"\\u043f\\u043e\\u0447\\u0442\\u0430\", \"\\u043f\\u043e\\u0447\\u0442\\u0430\", \"\\u043f\\u043e\\u0447\\u0442\\u0430\", \"\\u043f\\u043e\\u0447\\u0442\\u0430\", \"\\u043f\\u043e\\u044d\\u0442\\u043e\\u043c\\u0443\", \"\\u043f\\u043e\\u044d\\u0442\\u043e\\u043c\\u0443\", \"\\u043f\\u0440\\u0435\\u0434\\u043b\\u043e\\u0436\\u0438\\u0442\\u044c\", \"\\u043f\\u0440\\u0435\\u0434\\u043b\\u043e\\u0436\\u0438\\u0442\\u044c\", \"\\u043f\\u0440\\u0435\\u0434\\u043b\\u043e\\u0436\\u0438\\u0442\\u044c\", \"\\u043f\\u0440\\u0435\\u0442\\u0435\\u043d\\u0437\\u0438\\u044f\", \"\\u043f\\u0440\\u0435\\u0442\\u0435\\u043d\\u0437\\u0438\\u044f\", \"\\u043f\\u0440\\u0435\\u0442\\u0435\\u043d\\u0437\\u0438\\u044f\", \"\\u043f\\u0440\\u0435\\u0442\\u0435\\u043d\\u0437\\u0438\\u044f\", \"\\u043f\\u0440\\u0435\\u0442\\u0435\\u043d\\u0437\\u0438\\u044f\", \"\\u043f\\u0440\\u0438\\u0439\\u0442\\u0438\", \"\\u043f\\u0440\\u0438\\u0439\\u0442\\u0438\", \"\\u043f\\u0440\\u0438\\u0439\\u0442\\u0438\", \"\\u043f\\u0440\\u0438\\u0439\\u0442\\u0438\", \"\\u043f\\u0440\\u0438\\u0439\\u0442\\u0438\", \"\\u043f\\u0440\\u0438\\u0439\\u0442\\u0438\", \"\\u043f\\u0440\\u0438\\u0439\\u0442\\u0438\", \"\\u043f\\u0440\\u0438\\u043b\\u0430\\u0433\\u0430\\u0442\\u044c\", \"\\u043f\\u0440\\u0438\\u043b\\u0430\\u0433\\u0430\\u0442\\u044c\", \"\\u043f\\u0440\\u0438\\u043b\\u0430\\u0433\\u0430\\u0442\\u044c\", \"\\u043f\\u0440\\u0438\\u043b\\u0430\\u0433\\u0430\\u0442\\u044c\", \"\\u043f\\u0440\\u0438\\u043b\\u043e\\u0436\\u0435\\u043d\\u0438\\u0435\", \"\\u043f\\u0440\\u0438\\u043d\\u044f\\u0442\\u044c\", \"\\u043f\\u0440\\u0438\\u043d\\u044f\\u0442\\u044c\", \"\\u043f\\u0440\\u0438\\u043e\\u0431\\u0440\\u0435\\u0441\\u0442\\u0438\", \"\\u043f\\u0440\\u0438\\u043e\\u0431\\u0440\\u0435\\u0441\\u0442\\u0438\", \"\\u043f\\u0440\\u0438\\u043e\\u0431\\u0440\\u0435\\u0441\\u0442\\u0438\", \"\\u043f\\u0440\\u0438\\u043e\\u0431\\u0440\\u0435\\u0441\\u0442\\u0438\", \"\\u043f\\u0440\\u0438\\u043e\\u0431\\u0440\\u0435\\u0441\\u0442\\u0438\", \"\\u043f\\u0440\\u0438\\u0441\\u043b\\u0430\\u0442\\u044c\", \"\\u043f\\u0440\\u0438\\u0441\\u043b\\u0430\\u0442\\u044c\", \"\\u043f\\u0440\\u0438\\u0441\\u043b\\u0430\\u0442\\u044c\", \"\\u043f\\u0440\\u0438\\u0441\\u043b\\u0430\\u0442\\u044c\", \"\\u043f\\u0440\\u0438\\u0447\\u0438\\u043d\\u0430\", \"\\u043f\\u0440\\u0438\\u0447\\u0438\\u043d\\u0430\", \"\\u043f\\u0440\\u0438\\u0447\\u0438\\u043d\\u0430\", \"\\u043f\\u0440\\u0438\\u0447\\u0438\\u043d\\u0430\", \"\\u043f\\u0440\\u043e\\u0431\\u043b\\u0435\\u043c\\u0430\", \"\\u043f\\u0440\\u043e\\u0431\\u043b\\u0435\\u043c\\u0430\", \"\\u043f\\u0440\\u043e\\u0431\\u043b\\u0435\\u043c\\u0430\", \"\\u043f\\u0440\\u043e\\u0432\\u0435\\u0440\\u0438\\u0442\\u044c\", \"\\u043f\\u0440\\u043e\\u0432\\u0435\\u0440\\u0438\\u0442\\u044c\", \"\\u043f\\u0440\\u043e\\u0432\\u0435\\u0440\\u043a\\u0430\", \"\\u043f\\u0440\\u043e\\u0432\\u0435\\u0440\\u043a\\u0430\", \"\\u043f\\u0440\\u043e\\u0432\\u0435\\u0440\\u043a\\u0430\", \"\\u043f\\u0440\\u043e\\u0432\\u0435\\u0440\\u043a\\u0430\", \"\\u043f\\u0440\\u043e\\u0432\\u0435\\u0440\\u043a\\u0430\", \"\\u043f\\u0440\\u043e\\u0432\\u0435\\u0441\\u0442\\u0438\", \"\\u043f\\u0440\\u043e\\u0432\\u0435\\u0441\\u0442\\u0438\", \"\\u043f\\u0440\\u043e\\u0432\\u0435\\u0441\\u0442\\u0438\", \"\\u043f\\u0440\\u043e\\u0432\\u0435\\u0441\\u0442\\u0438\", \"\\u043f\\u0440\\u043e\\u0434\\u0430\\u0432\\u0435\\u0446\", \"\\u043f\\u0440\\u043e\\u0434\\u0430\\u0432\\u0435\\u0446\", \"\\u043f\\u0440\\u043e\\u0434\\u0430\\u0432\\u0435\\u0446\", \"\\u043f\\u0440\\u043e\\u0434\\u0430\\u0432\\u0435\\u0446\", \"\\u043f\\u0440\\u043e\\u0434\\u0430\\u0436\\u0430\", \"\\u043f\\u0440\\u043e\\u0434\\u0430\\u0436\\u0430\", \"\\u043f\\u0440\\u043e\\u0434\\u0430\\u0436\\u0430\", \"\\u043f\\u0440\\u043e\\u0434\\u0430\\u0436\\u0430\", \"\\u043f\\u0440\\u043e\\u0434\\u0443\\u043a\\u0442\", \"\\u043f\\u0440\\u043e\\u0434\\u0443\\u043a\\u0442\", \"\\u043f\\u0440\\u043e\\u0436\\u0438\\u0432\\u0430\\u0442\\u044c\", \"\\u043f\\u0440\\u043e\\u0438\\u0437\\u043e\\u0439\\u0442\\u0438\", \"\\u043f\\u0440\\u043e\\u0439\\u0442\\u0438\", \"\\u043f\\u0440\\u043e\\u0439\\u0442\\u0438\", \"\\u043f\\u0440\\u043e\\u0441\\u044c\\u0431\\u0430\", \"\\u043f\\u0443\\u043d\\u043a\\u0442\", \"\\u043f\\u0443\\u043d\\u043a\\u0442\", \"\\u043f\\u0443\\u043d\\u043a\\u0442\", \"\\u043f\\u0443\\u043d\\u043a\\u0442\", \"\\u043f\\u0443\\u043d\\u043a\\u0442\", \"\\u043f\\u0443\\u043d\\u043a\\u0442\", \"\\u0440\\u0430\\u0431\\u043e\\u0442\\u0430\", \"\\u0440\\u0430\\u0431\\u043e\\u0442\\u0430\", \"\\u0440\\u0430\\u0431\\u043e\\u0442\\u0430\\u0442\\u044c\", \"\\u0440\\u0430\\u0437\\u043c\\u0435\\u0440\", \"\\u0440\\u0430\\u0437\\u043c\\u0435\\u0440\", \"\\u0440\\u0430\\u0437\\u043e\\u0431\\u0440\\u0430\\u0442\\u044c\\u0441\\u044f\", \"\\u0440\\u0430\\u0437\\u043e\\u0431\\u0440\\u0430\\u0442\\u044c\\u0441\\u044f\", \"\\u0440\\u0430\\u0439\\u043e\\u043d\", \"\\u0440\\u0430\\u0439\\u043e\\u043d\", \"\\u0440\\u0430\\u0439\\u043e\\u043d\", \"\\u0440\\u0435\\u0431\\u0451\\u043d\\u043e\\u043a\", \"\\u0440\\u0435\\u0437\\u0443\\u043b\\u044c\\u0442\\u0430\\u0442\", \"\\u0440\\u0435\\u0437\\u0443\\u043b\\u044c\\u0442\\u0430\\u0442\", \"\\u0440\\u0435\\u0437\\u0443\\u043b\\u044c\\u0442\\u0430\\u0442\", \"\\u0440\\u0435\\u0448\\u0435\\u043d\\u0438\\u0435\", \"\\u0440\\u0435\\u0448\\u0435\\u043d\\u0438\\u0435\", \"\\u0440\\u0435\\u0448\\u0438\\u0442\\u044c\", \"\\u0440\\u0435\\u0448\\u0438\\u0442\\u044c\", \"\\u0440\\u0435\\u0448\\u0438\\u0442\\u044c\", \"\\u0440\\u0443\\u0431\\u043b\\u044c\", \"\\u0440\\u0443\\u0431\\u043b\\u044c\", \"\\u0440\\u0443\\u0431\\u043b\\u044c\", \"\\u0440\\u0443\\u0431\\u043b\\u044c\", \"\\u0440\\u0443\\u0431\\u043b\\u044c\", \"\\u0441\\u0430\\u0439\\u0442\", \"\\u0441\\u0430\\u0439\\u0442\", \"\\u0441\\u0430\\u0439\\u0442\", \"\\u0441\\u0430\\u0439\\u0442\", \"\\u0441\\u0430\\u0439\\u0442\", \"\\u0441\\u0430\\u0439\\u0442\", \"\\u0441\\u0432\\u043e\\u0439\", \"\\u0441\\u0432\\u043e\\u0439\", \"\\u0441\\u0432\\u043e\\u0439\", \"\\u0441\\u0432\\u043e\\u0439\", \"\\u0441\\u0432\\u043e\\u0439\", \"\\u0441\\u0432\\u043e\\u0439\", \"\\u0441\\u0432\\u044f\\u0437\\u044c\", \"\\u0441\\u0432\\u044f\\u0437\\u044c\", \"\\u0441\\u0432\\u044f\\u0437\\u044c\", \"\\u0441\\u0434\\u0435\\u043b\\u0430\\u0442\\u044c\", \"\\u0441\\u0434\\u0435\\u043b\\u0430\\u0442\\u044c\", \"\\u0441\\u0434\\u0435\\u043b\\u0430\\u0442\\u044c\", \"\\u0441\\u0434\\u0435\\u043b\\u0430\\u0442\\u044c\", \"\\u0441\\u0434\\u0435\\u043b\\u0430\\u0442\\u044c\", \"\\u0441\\u0434\\u0435\\u043b\\u0430\\u0442\\u044c\", \"\\u0441\\u0434\\u0435\\u043b\\u0430\\u0442\\u044c\", \"\\u0441\\u0435\\u0440\\u0432\\u0438\\u0441\", \"\\u0441\\u0438\\u0442\\u0443\\u0430\\u0446\\u0438\\u044f\", \"\\u0441\\u0438\\u0442\\u0443\\u0430\\u0446\\u0438\\u044f\", \"\\u0441\\u0438\\u0442\\u0443\\u0430\\u0446\\u0438\\u044f\", \"\\u0441\\u0438\\u0442\\u0443\\u0430\\u0446\\u0438\\u044f\", \"\\u0441\\u0438\\u0442\\u0443\\u0430\\u0446\\u0438\\u044f\", \"\\u0441\\u043b\\u0435\\u0434\\u0443\\u044e\\u0449\\u0438\\u0439\", \"\\u0441\\u043b\\u0435\\u0434\\u0443\\u044e\\u0449\\u0438\\u0439\", \"\\u0441\\u043b\\u0435\\u0434\\u0443\\u044e\\u0449\\u0438\\u0439\", \"\\u0441\\u043b\\u0435\\u0434\\u0443\\u044e\\u0449\\u0438\\u0439\", \"\\u0441\\u043b\\u0435\\u0434\\u0443\\u044e\\u0449\\u0438\\u0439\", \"\\u0441\\u043b\\u043e\\u0432\\u043e\", \"\\u0441\\u043b\\u043e\\u0432\\u043e\", \"\\u0441\\u043b\\u043e\\u0432\\u043e\", \"\\u0441\\u043b\\u043e\\u0432\\u043e\", \"\\u0441\\u043b\\u0443\\u0436\\u0431\\u0430\", \"\\u0441\\u043b\\u0443\\u0436\\u0431\\u0430\", \"\\u0441\\u043b\\u0443\\u0436\\u0431\\u0430\", \"\\u0441\\u043b\\u0443\\u0447\\u0430\\u0439\", \"\\u0441\\u043b\\u0443\\u0447\\u0430\\u0439\", \"\\u0441\\u043c\\u043e\\u0447\\u044c\", \"\\u0441\\u043c\\u043e\\u0447\\u044c\", \"\\u0441\\u043c\\u043e\\u0447\\u044c\", \"\\u0441\\u043c\\u043e\\u0447\\u044c\", \"\\u0441\\u043c\\u043e\\u0447\\u044c\", \"\\u0441\\u043e\\u0433\\u043b\\u0430\\u0441\\u043d\\u043e\", \"\\u0441\\u043e\\u043e\\u0431\\u0449\\u0435\\u043d\\u0438\\u0435\", \"\\u0441\\u043e\\u043e\\u0431\\u0449\\u0435\\u043d\\u0438\\u0435\", \"\\u0441\\u043e\\u043e\\u0431\\u0449\\u0438\\u0442\\u044c\", \"\\u0441\\u043e\\u043e\\u0431\\u0449\\u0438\\u0442\\u044c\", \"\\u0441\\u043e\\u043e\\u0431\\u0449\\u0438\\u0442\\u044c\", \"\\u0441\\u043e\\u043e\\u0431\\u0449\\u0438\\u0442\\u044c\", \"\\u0441\\u043e\\u0441\\u0442\\u0430\\u0432\\u0438\\u0442\\u044c\", \"\\u0441\\u043e\\u0441\\u0442\\u0430\\u0432\\u0438\\u0442\\u044c\", \"\\u0441\\u043e\\u0441\\u0442\\u0430\\u0432\\u0438\\u0442\\u044c\", \"\\u0441\\u043e\\u0442\\u0440\\u0443\\u0434\\u043d\\u0438\\u043a\", \"\\u0441\\u043e\\u0442\\u0440\\u0443\\u0434\\u043d\\u0438\\u043a\", \"\\u0441\\u043e\\u0442\\u0440\\u0443\\u0434\\u043d\\u0438\\u043a\", \"\\u0441\\u043e\\u0442\\u0440\\u0443\\u0434\\u043d\\u0438\\u043a\", \"\\u0441\\u043f\\u0438\\u0441\\u0430\\u0442\\u044c\", \"\\u0441\\u043f\\u0438\\u0441\\u0430\\u0442\\u044c\", \"\\u0441\\u043f\\u0438\\u0441\\u0430\\u0442\\u044c\", \"\\u0441\\u0440\\u0430\\u0437\\u0443\", \"\\u0441\\u0440\\u0430\\u0437\\u0443\", \"\\u0441\\u0440\\u0430\\u0437\\u0443\", \"\\u0441\\u0440\\u0435\\u0434\\u0441\\u0442\\u0432\\u043e\", \"\\u0441\\u0440\\u0435\\u0434\\u0441\\u0442\\u0432\\u043e\", \"\\u0441\\u0440\\u0435\\u0434\\u0441\\u0442\\u0432\\u043e\", \"\\u0441\\u0440\\u0435\\u0434\\u0441\\u0442\\u0432\\u043e\", \"\\u0441\\u0440\\u043e\\u043a\", \"\\u0441\\u0440\\u043e\\u043a\", \"\\u0441\\u0440\\u043e\\u043a\", \"\\u0441\\u0440\\u043e\\u043a\", \"\\u0441\\u0440\\u043e\\u043a\", \"\\u0441\\u0440\\u043e\\u043a\", \"\\u0441\\u0440\\u043e\\u043a\", \"\\u0441\\u0441\\u044b\\u043b\\u0430\\u0442\\u044c\\u0441\\u044f\", \"\\u0441\\u0441\\u044b\\u043b\\u0430\\u0442\\u044c\\u0441\\u044f\", \"\\u0441\\u0442\\u0430\\u0442\\u044c\", \"\\u0441\\u0442\\u0430\\u0442\\u044c\\u044f\", \"\\u0441\\u0442\\u043e\\u0438\\u043c\\u043e\\u0441\\u0442\\u044c\", \"\\u0441\\u0442\\u043e\\u0438\\u043c\\u043e\\u0441\\u0442\\u044c\", \"\\u0441\\u0442\\u043e\\u0438\\u043c\\u043e\\u0441\\u0442\\u044c\", \"\\u0441\\u0442\\u043e\\u0438\\u043c\\u043e\\u0441\\u0442\\u044c\", \"\\u0441\\u0442\\u043e\\u0438\\u043c\\u043e\\u0441\\u0442\\u044c\", \"\\u0441\\u0442\\u043e\\u0438\\u043c\\u043e\\u0441\\u0442\\u044c\", \"\\u0441\\u0442\\u043e\\u0438\\u0442\\u044c\", \"\\u0441\\u0442\\u043e\\u0438\\u0442\\u044c\", \"\\u0441\\u0442\\u043e\\u0438\\u0442\\u044c\", \"\\u0441\\u0442\\u043e\\u0440\\u043e\\u043d\\u0430\", \"\\u0441\\u0442\\u043e\\u0440\\u043e\\u043d\\u0430\", \"\\u0441\\u0442\\u043e\\u0440\\u043e\\u043d\\u0430\", \"\\u0441\\u0442\\u043e\\u0440\\u043e\\u043d\\u0430\", \"\\u0441\\u0442\\u043e\\u0440\\u043e\\u043d\\u0430\", \"\\u0441\\u0443\\u043c\\u043c\\u0430\", \"\\u0441\\u0443\\u043c\\u043c\\u0430\", \"\\u0441\\u0443\\u043c\\u043c\\u0430\", \"\\u0441\\u0447\\u0438\\u0442\\u0430\\u0442\\u044c\", \"\\u0441\\u0447\\u0438\\u0442\\u0430\\u0442\\u044c\", \"\\u0441\\u0447\\u0438\\u0442\\u0430\\u0442\\u044c\", \"\\u0441\\u0447\\u0451\\u0442\", \"\\u0441\\u0447\\u0451\\u0442\", \"\\u0441\\u0447\\u0451\\u0442\", \"\\u0441\\u0447\\u0451\\u0442\", \"\\u0441\\u0447\\u0451\\u0442\", \"\\u0442\\u0435\\u043b\\u0435\\u0444\\u043e\\u043d\", \"\\u0442\\u0435\\u043b\\u0435\\u0444\\u043e\\u043d\", \"\\u0442\\u0435\\u043b\\u0435\\u0444\\u043e\\u043d\", \"\\u0442\\u0435\\u043b\\u0435\\u0444\\u043e\\u043d\", \"\\u0442\\u043e\\u0432\\u0430\\u0440\", \"\\u0442\\u043e\\u0432\\u0430\\u0440\", \"\\u0442\\u043e\\u0432\\u0430\\u0440\", \"\\u0442\\u043e\\u0432\\u0430\\u0440\", \"\\u0442\\u043e\\u0432\\u0430\\u0440\", \"\\u0442\\u043e\\u0432\\u0430\\u0440\", \"\\u0442\\u043e\\u0432\\u0430\\u0440\", \"\\u0442\\u043e\\u0432\\u0430\\u0440\", \"\\u0442\\u043e\\u0432\\u0430\\u0440\", \"\\u0442\\u043e\\u0432\\u0430\\u0440\", \"\\u0442\\u043e\\u0432\\u0430\\u0440\", \"\\u0443\\u043a\\u0430\\u0437\\u0430\\u0442\\u044c\", \"\\u0443\\u043a\\u0430\\u0437\\u0430\\u0442\\u044c\", \"\\u0443\\u043a\\u0430\\u0437\\u0430\\u0442\\u044c\", \"\\u0443\\u043f\\u0430\\u043a\\u043e\\u0432\\u043a\\u0430\", \"\\u0443\\u043f\\u0430\\u043a\\u043e\\u0432\\u043a\\u0430\", \"\\u0443\\u043f\\u0430\\u043a\\u043e\\u0432\\u043a\\u0430\", \"\\u0443\\u0441\\u043b\\u043e\\u0432\\u0438\\u0435\", \"\\u0443\\u0441\\u043b\\u043e\\u0432\\u0438\\u0435\", \"\\u0443\\u0441\\u043b\\u043e\\u0432\\u0438\\u0435\", \"\\u0443\\u0441\\u043b\\u043e\\u0432\\u0438\\u0435\", \"\\u0443\\u0441\\u043b\\u0443\\u0433\\u0430\", \"\\u0443\\u0441\\u043b\\u0443\\u0433\\u0430\", \"\\u0443\\u0441\\u043b\\u0443\\u0433\\u0430\", \"\\u0443\\u0441\\u043b\\u0443\\u0433\\u0430\", \"\\u0443\\u0441\\u0442\\u0430\\u043d\\u043e\\u0432\\u0438\\u0442\\u044c\", \"\\u0443\\u0441\\u0442\\u0430\\u043d\\u043e\\u0432\\u043b\\u0435\\u043d\\u043d\\u044b\\u0439\", \"\\u0443\\u0441\\u0442\\u0430\\u043d\\u043e\\u0432\\u043b\\u0435\\u043d\\u043d\\u044b\\u0439\", \"\\u0444\\u0430\\u043a\\u0442\", \"\\u0444\\u0435\\u0432\\u0440\\u0430\\u043b\\u044c\", \"\\u0444\\u0435\\u0432\\u0440\\u0430\\u043b\\u044c\", \"\\u0444\\u0435\\u0432\\u0440\\u0430\\u043b\\u044c\", \"\\u0444\\u043e\\u0442\\u043e\", \"\\u0444\\u043e\\u0442\\u043e\", \"\\u0446\\u0435\\u043b\\u044c\", \"\\u0446\\u0435\\u043b\\u044c\", \"\\u0446\\u0435\\u043b\\u044c\", \"\\u0446\\u0435\\u043d\\u0430\", \"\\u0446\\u0435\\u043d\\u0430\", \"\\u0446\\u0435\\u043d\\u0430\", \"\\u0447\\u0430\\u0441\\u0442\\u044c\", \"\\u0447\\u0430\\u0441\\u0442\\u044c\", \"\\u0447\\u0430\\u0441\\u0442\\u044c\", \"\\u0447\\u0430\\u0441\\u0442\\u044c\", \"\\u044d\\u043b\\u0435\\u043a\\u0442\\u0440\\u043e\\u043d\\u043d\\u044b\\u0439\", \"\\u044d\\u043b\\u0435\\u043a\\u0442\\u0440\\u043e\\u043d\\u043d\\u044b\\u0439\", \"\\u044f\\u0432\\u043b\\u044f\\u0442\\u044c\\u0441\\u044f\", \"\\u044f\\u0432\\u043b\\u044f\\u0442\\u044c\\u0441\\u044f\", \"\\u044f\\u0432\\u043b\\u044f\\u0442\\u044c\\u0441\\u044f\", \"\\u044f\\u043d\\u0432\\u0430\\u0440\\u044c\"]}, \"R\": 30, \"lambda.step\": 0.01, \"plot.opts\": {\"xlab\": \"PC1\", \"ylab\": \"PC2\"}, \"topic.order\": [20, 11, 16, 6, 5, 8, 3, 15, 1, 12, 19, 18, 13, 4, 7, 14, 10, 2, 9, 17]};\n",
              "\n",
              "function LDAvis_load_lib(url, callback){\n",
              "  var s = document.createElement('script');\n",
              "  s.src = url;\n",
              "  s.async = true;\n",
              "  s.onreadystatechange = s.onload = callback;\n",
              "  s.onerror = function(){console.warn(\"failed to load library \" + url);};\n",
              "  document.getElementsByTagName(\"head\")[0].appendChild(s);\n",
              "}\n",
              "\n",
              "if(typeof(LDAvis) !== \"undefined\"){\n",
              "   // already loaded: just create the visualization\n",
              "   !function(LDAvis){\n",
              "       new LDAvis(\"#\" + \"ldavis_el172416355132627043589522567\", ldavis_el172416355132627043589522567_data);\n",
              "   }(LDAvis);\n",
              "}else if(typeof define === \"function\" && define.amd){\n",
              "   // require.js is available: use it to load d3/LDAvis\n",
              "   require.config({paths: {d3: \"https://d3js.org/d3.v5\"}});\n",
              "   require([\"d3\"], function(d3){\n",
              "      window.d3 = d3;\n",
              "      LDAvis_load_lib(\"https://cdn.jsdelivr.net/gh/bmabey/pyLDAvis@3.4.0/pyLDAvis/js/ldavis.v3.0.0.js\", function(){\n",
              "        new LDAvis(\"#\" + \"ldavis_el172416355132627043589522567\", ldavis_el172416355132627043589522567_data);\n",
              "      });\n",
              "    });\n",
              "}else{\n",
              "    // require.js not available: dynamically load d3 & LDAvis\n",
              "    LDAvis_load_lib(\"https://d3js.org/d3.v5.js\", function(){\n",
              "         LDAvis_load_lib(\"https://cdn.jsdelivr.net/gh/bmabey/pyLDAvis@3.4.0/pyLDAvis/js/ldavis.v3.0.0.js\", function(){\n",
              "                 new LDAvis(\"#\" + \"ldavis_el172416355132627043589522567\", ldavis_el172416355132627043589522567_data);\n",
              "            })\n",
              "         });\n",
              "}\n",
              "</script>"
            ],
            "text/plain": [
              "<IPython.core.display.HTML object>"
            ]
          },
          "execution_count": 28,
          "metadata": {},
          "output_type": "execute_result"
        }
      ],
      "source": [
        "%time vis_data = gensimvis.prepare(lda, corpus, dictionary)\n",
        "pyLDAvis.display(vis_data)"
      ]
    },
    {
      "cell_type": "code",
      "execution_count": null,
      "metadata": {
        "colab": {
          "base_uri": "https://localhost:8080/"
        },
        "id": "dpfLpVC2nUB8",
        "outputId": "a0793230-3a9f-4b83-fc42-7aa584cb7d0b"
      },
      "outputs": [
        {
          "name": "stdout",
          "output_type": "stream",
          "text": [
            "Персплексия:  0.0028348193133186594\n",
            "Средняя когерентность:  0.29505851512876136\n"
          ]
        }
      ],
      "source": [
        "# Перплексия и когерентность\n",
        "\n",
        "coherence_model_lda = CoherenceModel(model=lda, texts=df['prep_text'], dictionary=dictionary, coherence='c_v')\n",
        "coherence_lda = coherence_model_lda.get_coherence()\n",
        "\n",
        "print('Персплексия: ', np.exp(lda.log_perplexity(corpus)))\n",
        "print('Средняя когерентность: ', coherence_lda)"
      ]
    },
    {
      "cell_type": "code",
      "execution_count": null,
      "metadata": {
        "id": "e3Q3rcGGqqCA",
        "colab": {
          "referenced_widgets": [
            "3cf6fd9f528e472abbbe54db0ded8f98"
          ]
        },
        "outputId": "f6c87c36-fb04-42fa-cbdb-0bd10726e8a7"
      },
      "outputs": [
        {
          "data": {
            "application/vnd.jupyter.widget-view+json": {
              "model_id": "3cf6fd9f528e472abbbe54db0ded8f98",
              "version_major": 2,
              "version_minor": 0
            },
            "text/plain": [
              "  0%|          | 0/23 [00:00<?, ?it/s]"
            ]
          },
          "metadata": {},
          "output_type": "display_data"
        },
        {
          "data": {
            "image/png": "[encoded data removed]",
            "text/plain": [
              "<Figure size 432x288 with 1 Axes>"
            ]
          },
          "metadata": {
            "needs_background": "light"
          },
          "output_type": "display_data"
        }
      ],
      "source": [
        "# Подбор количества тем\n",
        "\n",
        "topics_list = list(range(3, 26))\n",
        "coherences = []\n",
        "\n",
        "for num in tqdm(topics_list):\n",
        "    lda = ldamodel.LdaModel(corpus, id2word=dictionary, num_topics=num, chunksize=50, update_every=1, passes=2)\n",
        "    coherences.append(CoherenceModel(model=lda, texts=df['prep_text'], dictionary=dictionary, coherence='c_v').get_coherence())\n",
        "\n",
        "plt.plot(topics_list, coherences)\n",
        "plt.xlabel(\"Число тем\")\n",
        "plt.ylabel(\"Средняя когерентность\")\n",
        "plt.show()"
      ]
    },
    {
      "cell_type": "code",
      "execution_count": null,
      "metadata": {
        "id": "TLQjNydErozS",
        "outputId": "a0846a66-2c55-485a-a706-72b6f84f83ce"
      },
      "outputs": [
        {
          "name": "stderr",
          "output_type": "stream",
          "text": [
            "D:\\Anaconda\\lib\\site-packages\\pyLDAvis\\_prepare.py:243: FutureWarning: In a future version of pandas all arguments of DataFrame.drop except for the argument 'labels' will be keyword-only.\n",
            "  default_term_info = default_term_info.sort_values(\n"
          ]
        },
        {
          "data": {
            "text/html": [
              "\n",
              "<link rel=\"stylesheet\" type=\"text/css\" href=\"https://cdn.jsdelivr.net/gh/bmabey/pyLDAvis@3.4.0/pyLDAvis/js/ldavis.v1.0.0.css\">\n",
              "\n",
              "\n",
              "<div id=\"ldavis_el172416355132627043470339531\" style=\"background-color:white;\"></div>\n",
              "<script type=\"text/javascript\">\n",
              "\n",
              "var ldavis_el172416355132627043470339531_data = {\"mdsDat\": {\"x\": [0.021523733109206224, 0.09943018897366962, 0.13257166328285713, -0.13421201506837024, 0.11880174037661347, 0.057999336850702896, -0.2961146475246787], \"y\": [-0.07803086331812234, -0.00782735515150479, 0.016440452777620143, 0.12849071178677063, -0.19729221025377577, 0.2312550768864647, -0.09303581272745258], \"topics\": [1, 2, 3, 4, 5, 6, 7], \"cluster\": [1, 1, 1, 1, 1, 1, 1], \"Freq\": [32.13806622109339, 18.552454225901844, 12.973978515422921, 11.583182503849319, 10.756404409677709, 9.910882952335049, 4.0850311717197645]}, \"tinfo\": {\"Term\": [\"\\u0443\\u0441\\u043b\\u0443\\u0433\\u0430\", \"\\u0434\\u0435\\u043d\\u044c\\u0433\\u0430\", \"\\u043f\\u0440\\u043e\\u0434\\u0430\\u0432\\u0435\\u0446\", \"\\u0446\\u0435\\u043d\\u0430\", \"\\u043f\\u0440\\u043e\\u0434\\u0430\\u0436\\u0430\", \"\\u043f\\u043e\\u0442\\u0440\\u0435\\u0431\\u0438\\u0442\\u0435\\u043b\\u044c\", \"\\u0442\\u043e\\u0432\\u0430\\u0440\", \"\\u043a\\u0430\\u0440\\u0442\\u0430\", \"\\u0434\\u043e\\u0433\\u043e\\u0432\\u043e\\u0440\", \"\\u0443\\u043a\\u0430\\u0437\\u0430\\u0442\\u044c\", \"\\u043f\\u0440\\u043e\\u0441\\u044c\\u0431\\u0430\", \"\\u0441\\u0432\\u044f\\u0437\\u044c\", \"\\u043f\\u0440\\u0435\\u0434\\u043e\\u0441\\u0442\\u0430\\u0432\\u0438\\u0442\\u044c\", \"\\u043c\\u0430\\u0433\\u0430\\u0437\\u0438\\u043d\", \"\\u043f\\u0440\\u043e\\u0432\\u0435\\u0440\\u043a\\u0430\", \"\\u043f\\u043e\\u0447\\u0442\\u0430\", \"\\u0432\\u043e\\u0437\\u0432\\u0440\\u0430\\u0442\", \"\\u0444\\u0430\\u043a\\u0442\", \"\\u0434\\u0430\\u0442\\u044c\", \"\\u044f\\u043d\\u0432\\u0430\\u0440\\u044c\", \"\\u0432\\u0435\\u0440\\u043d\\u0443\\u0442\\u044c\", \"\\u0434\\u0435\\u043b\\u0430\\u0442\\u044c\", \"\\u043f\\u0440\\u043e\\u0432\\u0435\\u0441\\u0442\\u0438\", \"\\u0440\\u0430\\u0431\\u043e\\u0442\\u0430\", \"\\u0442\\u0435\\u043b\\u0435\\u0444\\u043e\\u043d\", \"\\u043f\\u043e\\u043a\\u0443\\u043f\\u043a\\u0430\", \"\\u0436\\u0430\\u043b\\u043e\\u0431\\u0430\", \"\\u0441\\u043e\\u0442\\u0440\\u0443\\u0434\\u043d\\u0438\\u043a\", \"\\u043e\\u043d\\u043b\\u0430\\u0439\\u043d\", \"\\u0441\\u0430\\u0439\\u0442\", \"\\u0434\\u043e\\u0433\\u043e\\u0432\\u043e\\u0440\", \"\\u043a\\u043e\\u043c\\u043f\\u0430\\u043d\\u0438\\u044f\", \"\\u0441\\u043b\\u0443\\u0447\\u0430\\u0439\", \"\\u043f\\u043b\\u043e\\u0449\\u0430\\u0434\\u043a\\u0430\", \"\\u043c\\u043e\\u0441\\u043a\\u0432\\u0430\", \"\\u043f\\u043e\\u043b\\u0443\\u0447\\u0435\\u043d\\u0438\\u0435\", \"\\u043e\\u0442\\u043a\\u0430\\u0437\\u044b\\u0432\\u0430\\u0442\\u044c\\u0441\\u044f\", \"\\u043e\\u0448\\u0438\\u0431\\u043a\\u0430\", \"\\u043e\\u0442\\u043c\\u0435\\u043d\\u0438\\u0442\\u044c\", \"\\u043f\\u0440\\u043e\\u0436\\u0438\\u0432\\u0430\\u0442\\u044c\", \"\\u043f\\u0440\\u043e\\u0438\\u0437\\u043e\\u0439\\u0442\\u0438\", \"\\u0437\\u0430\\u043a\\u043b\\u044e\\u0447\\u0438\\u0442\\u044c\", \"\\u0441\\u0442\\u0430\\u0442\\u044c\\u044f\", \"\\u0441\\u0441\\u044b\\u043b\\u0430\\u0442\\u044c\\u0441\\u044f\", \"\\u043f\\u0443\\u043d\\u043a\\u0442\", \"wildberries\", \"\\u0440\\u0430\\u0437\\u043c\\u0435\\u0440\", \"\\u0432\\u044b\\u0434\\u0430\\u0447\\u0430\", \"\\u043e\\u0431\\u0440\\u0430\\u0442\\u043d\\u044b\\u0439\", \"\\u0437\\u0430\\u044f\\u0432\\u043b\\u0435\\u043d\\u0438\\u0435\", \"\\u0442\\u043e\\u0432\\u0430\\u0440\", \"\\u0437\\u0430\\u043a\\u043e\\u043d\\u043d\\u044b\\u0439\", \"\\u0434\\u043e\\u0441\\u0442\\u0430\\u0432\\u043a\\u0430\", \"\\u0441\\u0440\\u0430\\u0437\\u0443\", \"\\u043f\\u0440\\u043e\\u0431\\u043b\\u0435\\u043c\\u0430\", \"\\u043e\\u0442\\u043a\\u0430\\u0437\\u0430\\u0442\\u044c\\u0441\\u044f\", \"\\u0437\\u0430\\u044f\\u0432\\u043a\\u0430\", \"\\u043f\\u043e\\u0437\\u0434\\u043d\\u0438\\u0439\", \"\\u043d\\u0438\\u043a\\u0430\\u043a\\u043e\\u0439\", \"\\u0434\\u0435\\u0439\\u0441\\u0442\\u0432\\u043e\\u0432\\u0430\\u0442\\u044c\", \"\\u0432\\u043e\\u0437\\u0432\\u0440\\u0430\\u0442\", \"\\u043e\\u0431\\u043d\\u0430\\u0440\\u0443\\u0436\\u0438\\u0442\\u044c\", \"\\u043d\\u0430\\u043f\\u0438\\u0441\\u0430\\u0442\\u044c\", \"\\u043e\\u0442\\u043a\\u0430\\u0437\", \"\\u043f\\u0440\\u043e\\u0434\\u0430\\u0432\\u0435\\u0446\", \"\\u0441\\u0440\\u043e\\u043a\", \"\\u0441\\u0440\\u0435\\u0434\\u0441\\u0442\\u0432\\u043e\", \"\\u043f\\u043e\\u0434\\u0434\\u0435\\u0440\\u0436\\u043a\\u0430\", \"\\u0437\\u0430\\u043a\\u0430\\u0437\", \"\\u043f\\u0440\\u0435\\u0442\\u0435\\u043d\\u0437\\u0438\\u044f\", \"\\u0437\\u0430\\u043a\\u0430\\u0437\\u0430\\u0442\\u044c\", \"\\u0441\\u0438\\u0442\\u0443\\u0430\\u0446\\u0438\\u044f\", \"\\u0434\\u0430\\u0442\\u044c\", \"\\u0441\\u043f\\u0438\\u0441\\u0430\\u0442\\u044c\", \"\\u0434\\u0435\\u043d\\u0435\\u0436\\u043d\\u044b\\u0439\", \"\\u0434\\u043e\\u043b\\u0436\\u043d\\u044b\\u0439\", \"\\u043e\\u0444\\u043e\\u0440\\u043c\\u0438\\u0442\\u044c\", \"\\u043e\\u0431\\u043b\\u0430\\u0441\\u0442\\u044c\", \"\\u043f\\u0440\\u0438\\u043b\\u043e\\u0436\\u0435\\u043d\\u0438\\u0435\", \"\\u043f\\u043e\\u0442\\u0440\\u0435\\u0431\\u0438\\u0442\\u0435\\u043b\\u044c\", \"\\u0443\\u0441\\u043b\\u0443\\u0433\\u0430\", \"\\u0431\\u0430\\u043d\\u043a\", \"\\u043d\\u0438\\u043a\\u0442\\u043e\", \"\\u0432\\u0437\\u044f\\u0442\\u044c\", \"\\u0437\\u0430\\u0449\\u0438\\u0442\\u0430\", \"\\u0440\\u0430\\u0431\\u043e\\u0442\\u0430\", \"\\u043f\\u043e\\u0441\\u0442\\u0443\\u043f\\u0438\\u0442\\u044c\", \"https\", \"\\u043d\\u0443\\u0436\\u043d\\u044b\\u0439\", \"\\u043f\\u043b\\u0430\\u0442\\u0451\\u0436\", \"\\u0441\\u0447\\u0438\\u0442\\u0430\\u0442\\u044c\", \"\\u043a\\u0430\\u0431\\u0438\\u043d\\u0435\\u0442\", \"\\u043e\\u0442\\u043d\\u043e\\u0448\\u0435\\u043d\\u0438\\u0435\", \"\\u043f\\u043e\\u044d\\u0442\\u043e\\u043c\\u0443\", \"\\u043e\\u043f\\u043b\\u0430\\u0442\\u0438\\u0442\\u044c\", \"\\u0441\\u0442\\u043e\\u0438\\u0442\\u044c\", \"\\u0440\\u0443\\u0431\\u043b\\u044c\", \"\\u0441\\u0443\\u043c\\u043c\\u0430\", \"\\u043e\\u043f\\u043b\\u0430\\u0442\\u0430\", \"\\u043b\\u0438\\u0447\\u043d\\u044b\\u0439\", \"\\u0440\\u0435\\u0431\\u0451\\u043d\\u043e\\u043a\", \"\\u043f\\u043e\\u043b\\u0443\\u0447\\u0430\\u0442\\u044c\", \"\\u043f\\u043e\\u043b\\u044c\\u0437\\u043e\\u0432\\u0430\\u0442\\u044c\\u0441\\u044f\", \"\\u0441\\u0442\\u0430\\u0442\\u044c\", \"\\u0434\\u0435\\u043d\\u0435\\u0436\\u043d\\u044b\\u0439\", \"\\u0441\\u0442\\u043e\\u0440\\u043e\\u043d\\u0430\", \"\\u043f\\u0435\\u0440\\u0435\\u0434\\u0430\\u0442\\u044c\", \"\\u0437\\u0430\\u043a\\u043e\\u043d\", \"\\u0441\\u0440\\u0435\\u0434\\u0441\\u0442\\u0432\\u043e\", \"\\u0441\\u0432\\u043e\\u0439\", \"\\u0434\\u043e\\u043b\\u0436\\u043d\\u044b\\u0439\", \"\\u0432\\u0435\\u0440\\u043d\\u0443\\u0442\\u044c\", \"\\u043f\\u043e\\u0447\\u0442\\u0430\", \"\\u043c\\u0430\\u0433\\u0430\\u0437\\u0438\\u043d\", \"\\u0441\\u0447\\u0451\\u0442\", \"\\u0434\\u0435\\u043d\\u044c\\u0433\\u0430\", \"\\u0441\\u0432\\u044f\\u0437\\u044c\", \"\\u0442\\u043e\\u0432\\u0430\\u0440\", \"\\u0444\\u0430\\u043a\\u0442\", \"\\u0441\\u0435\\u0440\\u0432\\u0438\\u0441\", \"\\u043f\\u0440\\u043e\\u0439\\u0442\\u0438\", \"\\u043f\\u043e\\u043a\\u0443\\u043f\\u043a\\u0430\", \"\\u0434\\u043e\\u0441\\u0442\\u0430\\u0432\\u0438\\u0442\\u044c\", \"\\u0438\\u043d\\u0442\\u0435\\u0440\\u043d\\u0435\\u0442\", \"\\u043a\\u0443\\u043f\\u0438\\u0442\\u044c\", \"\\u0441\\u043c\\u043e\\u0447\\u044c\", \"\\u043e\\u043a\\u0430\\u0437\\u0430\\u0442\\u044c\\u0441\\u044f\", \"\\u0432\\u0435\\u0440\\u043d\\u0443\\u0442\\u044c\", \"\\u043e\\u0431\\u0440\\u0430\\u0442\\u0438\\u0442\\u044c\\u0441\\u044f\", \"\\u0431\\u0440\\u0430\\u043a\", \"\\u0434\\u0430\\u0432\\u0430\\u0442\\u044c\", \"\\u0434\\u0435\\u043d\\u044c\\u0433\\u0430\", \"\\u043e\\u0442\\u0432\\u0435\\u0442\\u0438\\u0442\\u044c\", \"\\u0433\\u043e\\u0440\\u043e\\u0434\", \"\\u0438\\u043d\\u0444\\u043e\\u0440\\u043c\\u0430\\u0446\\u0438\\u044f\", \"\\u0433\\u0440\\u0443\\u043f\\u043f\\u0430\", \"\\u0433\\u043e\\u0432\\u043e\\u0440\\u0438\\u0442\\u044c\", \"\\u0441\\u0434\\u0435\\u043b\\u0430\\u0442\\u044c\", \"\\u0431\\u043e\\u043b\\u044c\\u0448\\u043e\\u0439\", \"\\u043c\\u043e\\u043c\\u0435\\u043d\\u0442\", \"\\u043f\\u043e\\u0434\\u0441\\u043a\\u0430\\u0437\\u0430\\u0442\\u044c\", \"\\u043f\\u0440\\u0438\\u0439\\u0442\\u0438\", \"\\u043f\\u043e\\u043f\\u0440\\u043e\\u0441\\u0438\\u0442\\u044c\", \"\\u043c\\u0430\\u0433\\u0430\\u0437\\u0438\\u043d\", \"\\u043d\\u0435\\u0434\\u0435\\u043b\\u044f\", \"\\u043f\\u043e\\u0434\\u0434\\u0435\\u0440\\u0436\\u043a\\u0430\", \"\\u0440\\u0430\\u0431\\u043e\\u0442\\u0430\\u0442\\u044c\", \"\\u043f\\u043e\\u043a\\u0443\\u043f\\u0430\\u0442\\u0435\\u043b\\u044c\", \"\\u0437\\u0430\\u043a\\u0430\\u0437\", \"\\u0441\\u0430\\u0439\\u0442\", \"\\u0441\\u0440\\u043e\\u043a\", \"\\u0442\\u043e\\u0432\\u0430\\u0440\", \"\\u043e\\u0440\\u0433\\u0430\\u043d\\u0438\\u0437\\u0430\\u0446\\u0438\\u044f\", \"\\u0440\\u0443\\u0431\\u043b\\u044c\", \"\\u0446\\u0435\\u043b\\u044c\", \"\\u043f\\u043e\\u043b\\u043d\\u044b\\u0439\", \"\\u043b\\u0438\\u0446\\u043e\", \"\\u0443\\u0441\\u0442\\u0430\\u043d\\u043e\\u0432\\u0438\\u0442\\u044c\", \"\\u0443\\u0441\\u0442\\u0430\\u043d\\u043e\\u0432\\u043b\\u0435\\u043d\\u043d\\u044b\\u0439\", \"\\u043d\\u0430\\u0445\\u043e\\u0434\\u0438\\u0442\\u044c\\u0441\\u044f\", \"\\u0442\\u0440\\u0435\\u0431\\u043e\\u0432\\u0430\\u043d\\u0438\\u0435\", \"\\u0440\\u0430\\u0439\\u043e\\u043d\", \"\\u043f\\u0440\\u043e\\u0432\\u0435\\u0440\\u043a\\u0430\", \"\\u043f\\u0440\\u043e\\u0432\\u0435\\u0441\\u0442\\u0438\", \"\\u043e\\u0431\\u044f\\u0437\\u0430\\u0442\\u044c\", \"\\u0434\\u0430\\u043b\\u0435\\u0435\", \"\\u043d\\u0430\\u0440\\u0443\\u0448\\u0435\\u043d\\u0438\\u0435\", \"\\u0440\\u0435\\u0437\\u0443\\u043b\\u044c\\u0442\\u0430\\u0442\", \"\\u0441\\u043e\\u0442\\u0440\\u0443\\u0434\\u043d\\u0438\\u043a\", \"\\u0440\\u0435\\u0448\\u0438\\u0442\\u044c\", \"\\u0441\\u043e\\u043e\\u0431\\u0449\\u0438\\u0442\\u044c\", \"\\u0436\\u0430\\u043b\\u043e\\u0431\\u0430\", \"\\u0434\\u0430\\u0442\\u0430\", \"\\u043e\\u0440\\u0433\\u0430\\u043d\\u0438\\u0437\\u0430\\u0446\\u0438\\u044f\", \"\\u0441\\u043e\\u043e\\u0431\\u0449\\u0435\\u043d\\u0438\\u0435\", \"\\u043e\\u0442\\u0432\\u0435\\u0442\\u0441\\u0442\\u0432\\u0435\\u043d\\u043d\\u043e\\u0441\\u0442\\u044c\", \"\\u0440\\u0430\\u0431\\u043e\\u0442\\u0430\\u0442\\u044c\", \"\\u0443\\u0441\\u043b\\u043e\\u0432\\u0438\\u0435\", \"\\u0434\\u0430\\u0442\\u044c\", \"\\u043e\\u0431\\u0440\\u0430\\u0437\", \"\\u043a\\u0430\\u0447\\u0435\\u0441\\u0442\\u0432\\u043e\", \"\\u043f\\u0440\\u043e\\u0434\\u0443\\u043a\\u0442\", \"\\u0440\\u0430\\u0437\\u043e\\u0431\\u0440\\u0430\\u0442\\u044c\\u0441\\u044f\", \"\\u0434\\u0435\\u0439\\u0441\\u0442\\u0432\\u0438\\u0435\", \"\\u043c\\u0430\\u0433\\u0430\\u0437\\u0438\\u043d\", \"\\u043f\\u0440\\u043e\\u0441\\u044c\\u0431\\u0430\", \"\\u043f\\u043e\\u043b\\u0443\\u0447\\u0438\\u0442\\u044c\", \"\\u0441\\u0440\\u043e\\u043a\", \"\\u0441\\u043e\\u0433\\u043b\\u0430\\u0441\\u043d\\u043e\", \"\\u043d\\u0430\\u043f\\u0440\\u0430\\u0432\\u0438\\u0442\\u044c\", \"\\u0436\\u0434\\u0430\\u0442\\u044c\", \"\\u044f\\u043d\\u0432\\u0430\\u0440\\u044c\", \"\\u043e\\u043f\\u0435\\u0440\\u0430\\u0442\\u043e\\u0440\", \"\\u0441\\u043b\\u043e\\u0432\\u043e\", \"\\u043e\\u0442\\u0441\\u0443\\u0442\\u0441\\u0442\\u0432\\u0438\\u0435\", \"\\u043f\\u0440\\u0435\\u0434\\u043e\\u0441\\u0442\\u0430\\u0432\\u0438\\u0442\\u044c\", \"\\u044d\\u043b\\u0435\\u043a\\u0442\\u0440\\u043e\\u043d\\u043d\\u044b\\u0439\", \"\\u0442\\u0435\\u043b\\u0435\\u0444\\u043e\\u043d\", \"\\u043f\\u043e\\u0447\\u0442\\u0430\", \"\\u0441\\u0432\\u044f\\u0437\\u044c\", \"\\u0434\\u0435\\u043a\\u0430\\u0431\\u0440\\u044c\", \"\\u0441\\u043e\\u0441\\u0442\\u0430\\u0432\\u0438\\u0442\\u044c\", \"\\u043e\\u0442\\u0432\\u0435\\u0442\", \"\\u044f\\u0432\\u043b\\u044f\\u0442\\u044c\\u0441\\u044f\", \"\\u0444\\u043e\\u0442\\u043e\", \"\\u043f\\u043e\\u043c\\u043e\\u0447\\u044c\", \"\\u043d\\u043e\\u043c\\u0435\\u0440\", \"\\u0444\\u0435\\u0432\\u0440\\u0430\\u043b\\u044c\", \"\\u0441\\u043e\\u043e\\u0431\\u0449\\u0435\\u043d\\u0438\\u0435\", \"\\u043f\\u0435\\u0440\\u0435\\u0434\\u0430\\u0442\\u044c\", \"\\u0434\\u043e\\u043a\\u0443\\u043c\\u0435\\u043d\\u0442\", \"\\u0441\\u0442\\u043e\\u0438\\u043c\\u043e\\u0441\\u0442\\u044c\", \"\\u0441\\u0447\\u0451\\u0442\", \"\\u0438\\u043d\\u0444\\u043e\\u0440\\u043c\\u0430\\u0446\\u0438\\u044f\", \"\\u0441\\u043b\\u0435\\u0434\\u0443\\u044e\\u0449\\u0438\\u0439\", \"\\u0440\\u0435\\u0448\\u0435\\u043d\\u0438\\u0435\", \"\\u043e\\u0431\\u043d\\u0430\\u0440\\u0443\\u0436\\u0438\\u0442\\u044c\", \"\\u043f\\u0440\\u0438\\u043b\\u0430\\u0433\\u0430\\u0442\\u044c\", \"\\u043f\\u0440\\u0438\\u0439\\u0442\\u0438\", \"\\u043f\\u0440\\u0435\\u0442\\u0435\\u043d\\u0437\\u0438\\u044f\", \"\\u043c\\u0430\\u0433\\u0430\\u0437\\u0438\\u043d\", \"\\u0441\\u0440\\u043e\\u043a\", \"\\u0434\\u043e\\u043b\\u0436\\u043d\\u044b\\u0439\", \"\\u0437\\u0430\\u043a\\u0430\\u0437\", \"\\u043e\\u043d\\u043b\\u0430\\u0439\\u043d\", \"\\u043c\\u0435\\u0440\\u0430\", \"\\u0434\\u0435\\u043b\\u0430\\u0442\\u044c\", \"\\u043f\\u0440\\u0435\\u0434\\u043b\\u043e\\u0436\\u0438\\u0442\\u044c\", \"\\u0432\\u043e\\u0437\\u043c\\u043e\\u0436\\u043d\\u043e\\u0441\\u0442\\u044c\", \"\\u043a\\u0430\\u0440\\u0442\\u0430\", \"\\u043f\\u0440\\u0438\\u043d\\u044f\\u0442\\u044c\", \"\\u0447\\u0430\\u0441\\u0442\\u044c\", \"\\u0437\\u043d\\u0430\\u0442\\u044c\", \"\\u043f\\u043e\\u0441\\u0442\\u043e\\u044f\\u043d\\u043d\\u044b\\u0439\", \"\\u0432\\u043e\\u0437\\u0432\\u0440\\u0430\\u0449\\u0430\\u0442\\u044c\", \"\\u043d\\u043e\\u0432\\u044b\\u0439\", \"\\u043f\\u043e\\u0437\\u0432\\u043e\\u043d\\u0438\\u0442\\u044c\", \"\\u043f\\u0440\\u043e\\u0434\\u0443\\u043a\\u0442\", \"\\u0431\\u0438\\u043b\\u0435\\u0442\", \"\\u043f\\u0440\\u0438\\u043b\\u0430\\u0433\\u0430\\u0442\\u044c\", \"\\u043a\\u0432\\u0430\\u0440\\u0442\\u0438\\u0440\\u0430\", \"\\u043f\\u0440\\u0438\\u0441\\u043b\\u0430\\u0442\\u044c\", \"\\u0441\\u0442\\u0430\\u0442\\u044c\", \"\\u0443\\u0441\\u043b\\u043e\\u0432\\u0438\\u0435\", \"\\u043f\\u0438\\u0441\\u0430\\u0442\\u044c\", \"\\u043e\\u0442\\u043f\\u0440\\u0430\\u0432\\u0438\\u0442\\u044c\", \"\\u043f\\u0440\\u0438\\u0447\\u0438\\u043d\\u0430\", \"\\u043e\\u0442\\u043a\\u0430\\u0437\\u0430\\u0442\\u044c\", \"\\u0434\\u0435\\u043d\\u044c\\u0433\\u0430\", \"\\u0441\\u043b\\u0435\\u0434\\u0443\\u044e\\u0449\\u0438\\u0439\", \"\\u043e\\u043f\\u043b\\u0430\\u0442\\u0430\", \"\\u0441\\u043f\\u0438\\u0441\\u0430\\u0442\\u044c\", \"\\u043f\\u043e\\u043b\\u0443\\u0447\\u0430\\u0442\\u044c\", \"\\u0433\\u043e\\u0432\\u043e\\u0440\\u0438\\u0442\\u044c\", \"\\u0441\\u043e\\u0442\\u0440\\u0443\\u0434\\u043d\\u0438\\u043a\", \"\\u0432\\u043e\\u0437\\u0432\\u0440\\u0430\\u0442\", \"\\u0441\\u0438\\u0442\\u0443\\u0430\\u0446\\u0438\\u044f\", \"\\u0441\\u0443\\u043c\\u043c\\u0430\", \"\\u043c\\u0430\\u0433\\u0430\\u0437\\u0438\\u043d\", \"\\u0441\\u0432\\u043e\\u0439\", \"\\u043f\\u0440\\u043e\\u0432\\u0435\\u0441\\u0442\\u0438\", \"\\u0437\\u0430\\u0440\\u0430\\u043d\\u0435\\u0435\", \"\\u043f\\u0440\\u043e\\u0434\\u0430\\u0436\\u0430\", \"\\u0446\\u0435\\u043d\\u0430\", \"\\u043f\\u0440\\u043e\\u0441\\u044c\\u0431\\u0430\", \"\\u0443\\u043a\\u0430\\u0437\\u0430\\u0442\\u044c\", \"\\u0436\\u0430\\u043b\\u043e\\u0431\\u0430\", \"\\u043f\\u0440\\u043e\\u0434\\u0430\\u0432\\u0435\\u0446\", \"\\u043e\\u0442\\u0432\\u0435\\u0442\\u0441\\u0442\\u0432\\u0435\\u043d\\u043d\\u043e\\u0441\\u0442\\u044c\", \"\\u0441\\u0430\\u0439\\u0442\", \"\\u043f\\u043e\\u043b\\u0443\\u0447\\u0438\\u0442\\u044c\", \"\\u043f\\u043e\\u0441\\u0442\\u043e\\u044f\\u043d\\u043d\\u044b\\u0439\", \"\\u0434\\u0430\\u0442\\u0430\", \"\\u043a\\u0430\\u0447\\u0435\\u0441\\u0442\\u0432\\u043e\", \"\\u0441\\u0432\\u043e\\u0439\", \"\\u0441\\u0442\\u043e\\u0438\\u043c\\u043e\\u0441\\u0442\\u044c\", \"\\u043e\\u0442\\u043a\\u0430\\u0437\", \"\\u0437\\u0430\\u043a\\u043e\\u043d\\u043d\\u044b\\u0439\", \"\\u043f\\u0440\\u043e\\u0432\\u0435\\u0441\\u0442\\u0438\", \"\\u0441\\u043e\\u0441\\u0442\\u0430\\u0432\\u0438\\u0442\\u044c\", \"\\u0441\\u0447\\u0438\\u0442\\u0430\\u0442\\u044c\", \"\\u043e\\u0442\\u0432\\u0435\\u0447\\u0430\\u0442\\u044c\", \"\\u043f\\u0440\\u0438\\u0447\\u0438\\u043d\\u0430\", \"\\u043f\\u0440\\u0438\\u043e\\u0431\\u0440\\u0435\\u0441\\u0442\\u0438\", \"\\u0437\\u0430\\u043a\\u0430\\u0437\\u0430\\u0442\\u044c\", \"\\u043f\\u0440\\u043e\\u0431\\u043b\\u0435\\u043c\\u0430\", \"\\u043e\\u0442\\u0441\\u0443\\u0442\\u0441\\u0442\\u0432\\u043e\\u0432\\u0430\\u0442\\u044c\", \"\\u043d\\u0430\\u0440\\u0443\\u0448\\u0438\\u0442\\u044c\", \"\\u043f\\u043e\\u043b\\u0443\\u0447\\u0430\\u0442\\u044c\", \"\\u043f\\u043e\\u0434\\u0441\\u043a\\u0430\\u0437\\u0430\\u0442\\u044c\", \"\\u043f\\u043e\\u0437\\u0434\\u043d\\u0438\\u0439\", \"\\u043d\\u043e\\u0432\\u044b\\u0439\", \"\\u0442\\u043e\\u0432\\u0430\\u0440\", \"\\u0441\\u0434\\u0435\\u043b\\u0430\\u0442\\u044c\"], \"Freq\": [118.0, 121.0, 67.0, 35.0, 29.0, 76.0, 250.0, 47.0, 80.0, 33.0, 29.0, 48.0, 39.0, 129.0, 46.0, 41.0, 115.0, 31.0, 78.0, 32.0, 64.0, 27.0, 38.0, 53.0, 37.0, 34.0, 25.0, 42.0, 24.0, 44.0, 79.99192189425314, 51.547522657776554, 24.347195008832, 23.312336268503262, 19.55065171488275, 17.661533483741024, 17.718331710560378, 14.590050617432993, 12.839892913619064, 12.221938424343735, 12.120390581420004, 12.032374429522868, 11.530013015822519, 10.818917421051193, 22.16637467223788, 11.534375939913824, 27.716523298567513, 15.266392784090916, 13.739454797089962, 20.685381658841138, 207.82559776952556, 8.6535905219276, 45.88286035235976, 22.295905738325175, 13.61001615105736, 25.929576309775033, 12.605168643771558, 5.98732948862753, 13.926920159159474, 9.144418610312242, 77.18842056728478, 14.71760598687942, 29.3520862377746, 24.73809870846118, 38.5936418131173, 39.98901374905312, 38.717721839752386, 22.44125109641249, 35.97431098607995, 24.48574662101215, 21.46441471268412, 20.276954768087442, 28.916320448578258, 19.28275910804854, 19.928292264776328, 17.1974923891328, 15.886346510964438, 20.330207620839236, 31.175931506052525, 66.80805850290778, 101.79220858118605, 18.05792263030134, 7.737504619368284, 10.363822597442521, 13.67786296277764, 41.683369696633, 10.38535049120254, 19.051600116111736, 9.029526037324025, 5.849984676244525, 10.228340614216703, 11.023000342441831, 9.64394778847389, 7.45934925326166, 35.03438115929505, 10.522638377421227, 30.771962884839645, 32.073765270705195, 21.525743587894805, 11.962526910973327, 7.693796532439449, 3.686831742390049, 7.5225040163152, 6.5306092808952005, 25.27826505165043, 12.679443219999909, 10.867640340040893, 19.720317739964674, 28.04631369903088, 17.009399649137865, 15.059015357126365, 17.252248303108562, 12.705856312881663, 19.13400324821663, 10.966408335554402, 13.688054134405174, 10.63428525971888, 10.625033278443823, 30.190409722736074, 24.997000654342234, 14.135319626258953, 28.09678252391158, 13.9690726316963, 19.30820141947115, 18.85573268723174, 19.837248996133052, 5.955113176178265, 36.05173521467393, 20.42100218352595, 12.610164198858799, 6.957700212128171, 62.44216335074965, 15.098752785473506, 9.113335832134084, 13.084914457643114, 5.343448244582621, 7.216807080619523, 18.394581396278664, 4.161574185076071, 7.550739950076494, 7.703940580066399, 16.59564449207315, 4.456390839293648, 48.32691624590803, 6.490939822113117, 12.29055255321168, 10.204266178310169, 7.648056551686088, 24.76635461354614, 14.021211629076392, 11.995534216403586, 20.44616710235974, 8.914145939880232, 8.206042940263016, 12.972791894019064, 24.17269589758129, 16.739106142715393, 21.079488367030006, 13.598940338461343, 15.4274571534053, 20.61825197984405, 7.908169617465194, 33.25724267337168, 26.66129837072899, 10.870498463522058, 24.439665964279996, 19.394938544973048, 11.594154648366516, 25.809161191499005, 10.703052333783674, 16.80328504786866, 14.041749393014861, 16.12126759568328, 19.377882577954665, 7.227654885345439, 5.856749954610245, 13.636291510983364, 13.649668296377252, 34.78801602751684, 5.522121661017026, 14.612490141520047, 6.692177464921452, 9.243408986391879, 7.982967493019474, 24.455863413686654, 8.661470428012475, 8.308311100903996, 8.066339231867467, 21.569021673171264, 14.708397692485903, 11.08539670049839, 27.408381572179454, 17.477045827194416, 10.864701621626642, 12.379419173786523, 29.078252535379164, 14.344510119231026, 25.777744563372735, 27.62313179416308, 31.710870485122477, 10.93118176676821, 13.715322947908302, 27.116157947215594, 13.051283717491627, 7.479510079548304, 10.864291913248922, 23.434217311853107, 13.76613379030765, 6.83451703602412, 8.760885870732698, 10.149138352745698, 14.214945389263526, 8.81214085568966, 7.709225162661745, 4.137161660819969, 3.5186015194056823, 5.80437360497567, 3.012494363257221, 9.67300294022894, 9.452934680157295, 19.802917098881, 12.64802795490519, 8.178882280317112, 8.617772750052376, 23.5459429678667, 17.340525516300666, 24.91386435612496, 12.421808293769597, 20.14664402456639, 37.09470223996519, 20.220699085405105, 8.666836195122679, 6.500067455743128, 6.677888438575281, 12.008875183748698, 10.929900389832113, 10.141475770129839, 8.620839480030025, 8.902791519239761, 5.163838548971812, 8.881025423020784, 5.123009103830936, 4.809787794857856, 12.028640838275448, 9.573749342369412, 6.780274486003596, 5.652485688277803, 7.027902817597339, 38.27497144242965, 4.635525662326553, 10.853009218916835, 9.580430387418938, 1.69545392162791, 4.406295210140156, 11.127974231538639, 23.774711758979773, 8.073533152371468, 9.592833125910747, 11.888236719138238, 7.8961697974640686, 6.515562274807602, 11.545292355963447, 26.589674044781905, 32.01337980741439, 19.769275694504678, 16.29800598431898, 9.914368971817087, 19.675092556122344, 2.883684134727518, 8.9907801960645, 9.410603109112406, 1.8377626732280932, 5.092063730159809, 5.665076763454557, 7.414484450734174, 6.093511630890836, 5.766497188466044, 1.4096261454893173, 4.545512940405467, 2.2576785680762232, 1.0596911905987, 0.6449191065677563, 1.064657903779702, 1.6541734888337214, 2.1011719122471177, 0.970947764590883, 0.5449257139169261, 0.7644428331864775, 0.1547019333907796, 0.47244401791404306, 0.19404387404285467, 0.3995088001328899, 3.667319231582024, 0.5024296510654601], \"Total\": [118.0, 121.0, 67.0, 35.0, 29.0, 76.0, 250.0, 47.0, 80.0, 33.0, 29.0, 48.0, 39.0, 129.0, 46.0, 41.0, 115.0, 31.0, 78.0, 32.0, 64.0, 27.0, 38.0, 53.0, 37.0, 34.0, 25.0, 42.0, 24.0, 44.0, 80.86559319438922, 52.804812525195594, 25.21375876710054, 24.185340943053085, 20.42502625007702, 18.568571640638964, 18.74638419856769, 15.457914110714487, 13.715028587837658, 13.08936548738398, 12.987647122847969, 12.89962418697214, 12.39549972444827, 11.81275137516325, 24.26910522707562, 12.6410505848559, 30.566894881886242, 17.334612559713328, 16.41894440251026, 24.883073928638797, 250.73224437857766, 10.88809977180256, 59.6907903568279, 29.24785555292791, 18.410180175384586, 35.41084510381633, 17.252350275004844, 8.389132439599726, 19.753309402507544, 13.010489326871898, 115.93771065776569, 21.34434729694356, 44.253416428084925, 38.21135216302717, 67.84655142533926, 73.14030126599376, 71.3443264517067, 36.09754508884419, 79.19218222288028, 44.107749067278576, 37.3624487733607, 34.04414059991547, 78.3180914581576, 35.11345000982262, 46.97634229963963, 47.023262507403224, 27.511465396848315, 21.20349036608341, 33.914754426307546, 76.39672165215107, 118.16034335889981, 21.710467012352478, 9.367084815708825, 12.896379014414206, 17.130381590319587, 53.290867349619525, 13.771981657818365, 25.691076460944345, 12.380190116840085, 8.120847071859412, 14.702061613172189, 15.8574912367068, 14.031055044303399, 10.99499144346358, 54.925706322095415, 16.828928667758447, 50.344286074723, 52.93047480011827, 35.858713311280376, 19.97566557633928, 13.054602209657162, 6.272623345792742, 13.402035126301747, 12.099194687000857, 46.97634229963963, 23.95142155886206, 20.5709555458307, 45.95275165599917, 71.3443264517067, 46.89059450215202, 47.023262507403224, 64.99354868127564, 41.21232542034826, 129.53325886537843, 28.54232355802859, 121.75968553041969, 48.13179503846618, 250.73224437857766, 31.036505754162036, 25.842895370064017, 16.12839803863177, 34.99347516012794, 18.701484775877574, 27.397902040952058, 28.10485567759432, 30.716344517178925, 10.501777932319866, 64.99354868127564, 37.387381046196765, 23.44046414932273, 13.357265002788857, 121.75968553041969, 29.498060088045484, 18.268926987124306, 26.279659733315263, 12.285953764116059, 16.627035300006273, 43.33664614296742, 10.075789488206969, 18.552811890125298, 19.5964765136951, 42.54474592837054, 11.552569450380188, 129.53325886537843, 18.794954708732515, 36.09754508884419, 30.534139451538408, 23.641966528206385, 79.19218222288028, 44.29472333103748, 73.14030126599376, 250.73224437857766, 39.435393292804314, 50.344286074723, 13.95659068671579, 27.24998229934047, 18.950989005287973, 24.326667636372196, 15.955760627395835, 19.375871641905132, 28.2548903890578, 11.02892023308023, 46.66735675473326, 38.82051243732701, 16.406395116818015, 37.834799678292136, 30.083247234338575, 18.562413944472027, 42.06386430796227, 18.60433643041439, 29.89089519211383, 25.50643836804799, 31.251172551143956, 39.435393292804314, 15.039924201569228, 12.82939524186297, 30.534139451538408, 30.58980269668973, 78.3180914581576, 13.35125207041907, 35.404224090252995, 16.4901095660794, 22.80333087636099, 20.31243552374267, 129.53325886537843, 29.146326495361524, 48.23019770543202, 73.14030126599376, 22.42830561454678, 16.334108180596093, 12.707762477347297, 32.13038503082583, 20.971990141036073, 13.50065193647763, 16.474308427228056, 39.534678548688724, 19.950049604410037, 37.46072526985512, 41.21232542034826, 48.13179503846618, 17.467678778322313, 22.59411905427775, 44.72580653969238, 24.157660872674292, 13.960636005899516, 21.27878978703961, 48.81870958199103, 28.867230551865333, 15.039924201569228, 20.5709555458307, 24.678764045103552, 39.38989517356259, 28.54232355802859, 26.279659733315263, 14.838275764756625, 12.751642816928046, 21.34434729694356, 12.387628291637489, 42.54474592837054, 44.107749067278576, 129.53325886537843, 73.14030126599376, 47.023262507403224, 79.19218222288028, 24.411208348239196, 18.198711984126454, 27.306553675368857, 14.761272446026219, 25.27034627577468, 47.83379283710099, 27.02201399366307, 11.86882694494801, 9.124624782619586, 9.847949185541243, 20.106529261763654, 18.680916760464118, 19.261775313737548, 16.4901095660794, 17.57749042402226, 12.387628291637489, 21.412969129574176, 12.730642897702458, 12.099194687000857, 30.58980269668973, 25.80660831832848, 20.22462432248675, 17.019318144211113, 22.043371410394297, 121.75968553041969, 14.838275764756625, 35.858713311280376, 35.11345000982262, 6.272623345792742, 16.627035300006273, 42.06386430796227, 115.93771065776569, 34.04414059991547, 52.93047480011827, 129.53325886537843, 46.89059450215202, 38.82051243732701, 12.394456328411163, 29.036629341819364, 35.388237619148256, 29.146326495361524, 33.1602237551469, 25.50643836804799, 67.84655142533926, 12.82939524186297, 44.29472333103748, 48.23019770543202, 9.847949185541243, 31.251172551143956, 35.404224090252995, 46.89059450215202, 39.38989517356259, 38.21135216302717, 10.88809977180256, 38.82051243732701, 22.59411905427775, 14.702061613172189, 10.124701889846575, 17.019318144211113, 26.651643127650313, 37.3624487733607, 18.410180175384586, 11.604760910039746, 17.17919834636138, 6.272623345792742, 19.5964765136951, 8.389132439599726, 18.680916760464118, 250.73224437857766, 43.33664614296742], \"Category\": [\"Default\", \"Default\", \"Default\", \"Default\", \"Default\", \"Default\", \"Default\", \"Default\", \"Default\", \"Default\", \"Default\", \"Default\", \"Default\", \"Default\", \"Default\", \"Default\", \"Default\", \"Default\", \"Default\", \"Default\", \"Default\", \"Default\", \"Default\", \"Default\", \"Default\", \"Default\", \"Default\", \"Default\", \"Default\", \"Default\", \"Topic1\", \"Topic1\", \"Topic1\", \"Topic1\", \"Topic1\", \"Topic1\", \"Topic1\", \"Topic1\", \"Topic1\", \"Topic1\", \"Topic1\", \"Topic1\", \"Topic1\", \"Topic1\", \"Topic1\", \"Topic1\", \"Topic1\", \"Topic1\", \"Topic1\", \"Topic1\", \"Topic1\", \"Topic1\", \"Topic1\", \"Topic1\", \"Topic1\", \"Topic1\", \"Topic1\", \"Topic1\", \"Topic1\", \"Topic1\", \"Topic1\", \"Topic1\", \"Topic1\", \"Topic1\", \"Topic1\", \"Topic1\", \"Topic1\", \"Topic1\", \"Topic1\", \"Topic1\", \"Topic1\", \"Topic1\", \"Topic1\", \"Topic1\", \"Topic1\", \"Topic1\", \"Topic1\", \"Topic2\", \"Topic2\", \"Topic2\", \"Topic2\", \"Topic2\", \"Topic2\", \"Topic2\", \"Topic2\", \"Topic2\", \"Topic2\", \"Topic2\", \"Topic2\", \"Topic2\", \"Topic2\", \"Topic2\", \"Topic2\", \"Topic2\", \"Topic2\", \"Topic2\", \"Topic2\", \"Topic2\", \"Topic2\", \"Topic2\", \"Topic2\", \"Topic2\", \"Topic2\", \"Topic2\", \"Topic2\", \"Topic2\", \"Topic2\", \"Topic2\", \"Topic2\", \"Topic2\", \"Topic2\", \"Topic2\", \"Topic2\", \"Topic2\", \"Topic2\", \"Topic2\", \"Topic2\", \"Topic2\", \"Topic3\", \"Topic3\", \"Topic3\", \"Topic3\", \"Topic3\", \"Topic3\", \"Topic3\", \"Topic3\", \"Topic3\", \"Topic3\", \"Topic3\", \"Topic3\", \"Topic3\", \"Topic3\", \"Topic3\", \"Topic3\", \"Topic3\", \"Topic3\", \"Topic3\", \"Topic3\", \"Topic3\", \"Topic3\", \"Topic3\", \"Topic3\", \"Topic3\", \"Topic3\", \"Topic3\", \"Topic3\", \"Topic3\", \"Topic3\", \"Topic3\", \"Topic3\", \"Topic3\", \"Topic3\", \"Topic3\", \"Topic3\", \"Topic4\", \"Topic4\", \"Topic4\", \"Topic4\", \"Topic4\", \"Topic4\", \"Topic4\", \"Topic4\", \"Topic4\", \"Topic4\", \"Topic4\", \"Topic4\", \"Topic4\", \"Topic4\", \"Topic4\", \"Topic4\", \"Topic4\", \"Topic4\", \"Topic4\", \"Topic4\", \"Topic4\", \"Topic4\", \"Topic4\", \"Topic4\", \"Topic4\", \"Topic4\", \"Topic4\", \"Topic4\", \"Topic4\", \"Topic4\", \"Topic4\", \"Topic4\", \"Topic4\", \"Topic4\", \"Topic5\", \"Topic5\", \"Topic5\", \"Topic5\", \"Topic5\", \"Topic5\", \"Topic5\", \"Topic5\", \"Topic5\", \"Topic5\", \"Topic5\", \"Topic5\", \"Topic5\", \"Topic5\", \"Topic5\", \"Topic5\", \"Topic5\", \"Topic5\", \"Topic5\", \"Topic5\", \"Topic5\", \"Topic5\", \"Topic5\", \"Topic5\", \"Topic5\", \"Topic5\", \"Topic5\", \"Topic5\", \"Topic5\", \"Topic5\", \"Topic5\", \"Topic5\", \"Topic5\", \"Topic5\", \"Topic5\", \"Topic5\", \"Topic6\", \"Topic6\", \"Topic6\", \"Topic6\", \"Topic6\", \"Topic6\", \"Topic6\", \"Topic6\", \"Topic6\", \"Topic6\", \"Topic6\", \"Topic6\", \"Topic6\", \"Topic6\", \"Topic6\", \"Topic6\", \"Topic6\", \"Topic6\", \"Topic6\", \"Topic6\", \"Topic6\", \"Topic6\", \"Topic6\", \"Topic6\", \"Topic6\", \"Topic6\", \"Topic6\", \"Topic6\", \"Topic6\", \"Topic6\", \"Topic6\", \"Topic6\", \"Topic6\", \"Topic6\", \"Topic6\", \"Topic6\", \"Topic6\", \"Topic7\", \"Topic7\", \"Topic7\", \"Topic7\", \"Topic7\", \"Topic7\", \"Topic7\", \"Topic7\", \"Topic7\", \"Topic7\", \"Topic7\", \"Topic7\", \"Topic7\", \"Topic7\", \"Topic7\", \"Topic7\", \"Topic7\", \"Topic7\", \"Topic7\", \"Topic7\", \"Topic7\", \"Topic7\", \"Topic7\", \"Topic7\", \"Topic7\", \"Topic7\", \"Topic7\", \"Topic7\", \"Topic7\", \"Topic7\", \"Topic7\", \"Topic7\", \"Topic7\"], \"logprob\": [30.0, 29.0, 28.0, 27.0, 26.0, 25.0, 24.0, 23.0, 22.0, 21.0, 20.0, 19.0, 18.0, 17.0, 16.0, 15.0, 14.0, 13.0, 12.0, 11.0, 10.0, 9.0, 8.0, 7.0, 6.0, 5.0, 4.0, 3.0, 2.0, 1.0, -3.153, -3.5925, -4.3425, -4.386, -4.5619, -4.6636, -4.6604, -4.8546, -4.9824, -5.0317, -5.0401, -5.0474, -5.09, -5.1537, -4.4364, -5.0896, -4.2129, -4.8093, -4.9147, -4.5055, -2.1983, -5.377, -3.7089, -4.4306, -4.9242, -4.2796, -5.0009, -5.7453, -4.9011, -5.3218, -3.1887, -4.8459, -4.1556, -4.3266, -3.8819, -3.8464, -3.8787, -4.4241, -3.9522, -4.3369, -4.4686, -4.5255, -4.1706, -4.5757, -4.5428, -4.6902, -4.7695, -3.9734, -3.5459, -2.7837, -2.3626, -4.0919, -4.9394, -4.6472, -4.3697, -3.2554, -4.6451, -4.0384, -4.785, -5.2191, -4.6604, -4.5855, -4.7192, -4.976, -3.4292, -4.632, -3.5589, -3.5175, -3.9163, -4.5037, -4.9451, -5.6808, -4.9676, -5.109, -3.7556, -4.4455, -4.5997, -4.0039, -3.6517, -4.1518, -4.2735, -4.1376, -4.4435, -4.0341, -4.5907, -4.369, -4.6214, -4.6223, -3.2203, -3.4091, -3.9792, -3.2922, -3.991, -3.6673, -3.691, -3.6403, -4.8436, -3.0429, -3.6113, -4.0934, -4.688, -2.4936, -3.9132, -4.4181, -4.0564, -4.952, -4.6514, -3.7158, -5.202, -4.6062, -4.5861, -3.8187, -5.1335, -2.7499, -4.7575, -4.119, -4.3051, -4.5934, -3.4184, -3.9873, -4.1433, -3.6101, -4.4402, -4.523, -3.9516, -3.3292, -3.6967, -3.4662, -3.9045, -3.7783, -3.4883, -4.4466, -3.0102, -3.2313, -4.1284, -3.3183, -3.5495, -4.064, -3.2637, -4.1439, -3.6929, -3.8724, -3.7343, -3.5503, -4.5366, -4.7469, -3.9017, -3.9008, -2.9652, -4.8057, -3.8326, -4.6135, -4.2906, -4.4372, -3.3176, -4.3556, -4.3972, -4.4268, -3.3692, -3.752, -4.0348, -3.1296, -3.5795, -4.0549, -3.9244, -3.0704, -3.777, -3.1909, -3.1218, -2.9838, -4.0488, -3.8219, -3.1403, -3.8715, -4.4282, -4.0549, -3.2862, -3.8182, -4.5184, -4.2701, -4.123, -3.7861, -4.2643, -4.398, -5.0204, -5.1824, -4.6818, -5.3376, -4.1711, -4.1941, -3.4546, -3.9029, -4.3389, -4.2866, -3.1996, -3.5055, -3.1431, -3.8391, -3.3555, -2.7451, -3.3518, -4.199, -4.4867, -4.4597, -3.8729, -3.967, -4.0419, -4.2044, -4.1722, -4.7169, -4.1746, -4.7248, -4.7879, -3.8713, -4.0995, -4.4445, -4.6265, -4.4087, -2.7138, -4.8248, -3.9741, -4.0988, -5.8306, -4.8755, -3.9491, -3.1899, -4.27, -4.0975, -3.883, -4.2922, -4.4844, -3.026, -2.1917, -2.0061, -2.4881, -2.6812, -3.1783, -2.4929, -4.4132, -3.276, -3.2304, -4.8637, -3.8446, -3.7379, -3.4688, -3.665, -3.7202, -5.1289, -3.9581, -4.6579, -5.4143, -5.9109, -5.4096, -4.9689, -4.7297, -5.5017, -6.0794, -5.7409, -7.3385, -6.2221, -7.1119, -6.3898, -4.1728, -6.1605], \"loglift\": [30.0, 29.0, 28.0, 27.0, 26.0, 25.0, 24.0, 23.0, 22.0, 21.0, 20.0, 19.0, 18.0, 17.0, 16.0, 15.0, 14.0, 13.0, 12.0, 11.0, 10.0, 9.0, 8.0, 7.0, 6.0, 5.0, 4.0, 3.0, 2.0, 1.0, 1.1243, 1.111, 1.1002, 1.0984, 1.0914, 1.085, 1.0787, 1.0773, 1.0692, 1.0666, 1.066, 1.0655, 1.0627, 1.0472, 1.0445, 1.0435, 1.0372, 1.0081, 0.957, 0.9504, 0.9474, 0.9054, 0.872, 0.8637, 0.833, 0.8235, 0.8213, 0.7978, 0.7856, 0.7825, 0.7283, 0.7634, 0.7246, 0.7003, 0.571, 0.5314, 0.5239, 0.6598, 0.3461, 0.5466, 0.5809, 0.617, 0.1388, 0.5358, 0.2776, 0.1293, 0.586, 1.6425, 1.6004, 1.5505, 1.5355, 1.5004, 1.4934, 1.4659, 1.4595, 1.4389, 1.4023, 1.3856, 1.369, 1.3566, 1.3217, 1.3209, 1.3096, 1.2966, 1.2349, 1.215, 1.1923, 1.1836, 1.1742, 1.1718, 1.1558, 1.1531, 1.1071, 1.0679, 1.0649, 1.0485, 1.0465, 0.8386, 0.7509, 0.6705, 0.5459, 0.3582, 0.5079, -0.2279, 0.728, -0.501, 0.1747, -1.4766, 2.0146, 2.0089, 1.9103, 1.8227, 1.7505, 1.6923, 1.6431, 1.605, 1.4749, 1.4529, 1.4375, 1.4223, 1.39, 1.3744, 1.3725, 1.3468, 1.3449, 1.2096, 1.2076, 1.1853, 1.158, 1.1432, 1.1086, 1.1008, 1.0897, 1.0563, 0.979, 0.9648, 0.9462, 0.9137, 0.8798, 0.8919, 0.2344, -0.4644, 0.5552, 0.2282, 2.0825, 2.0358, 2.0315, 2.0123, 1.9958, 1.9277, 1.8405, 1.823, 1.8168, 1.7799, 1.744, 1.7186, 1.7167, 1.685, 1.6672, 1.6028, 1.5796, 1.5587, 1.4937, 1.4451, 1.4228, 1.3715, 1.3495, 1.3487, 1.3441, 1.2728, 1.2707, 1.2538, 1.2526, 1.2217, 0.4885, 0.9422, 0.3969, -0.0491, 2.1906, 2.1248, 2.0931, 2.0707, 2.0474, 2.0125, 1.9439, 1.9225, 1.8998, 1.8559, 1.8296, 1.8124, 1.7609, 1.7305, 1.7292, 1.614, 1.6056, 1.5574, 1.4958, 1.4892, 1.4409, 1.3761, 1.3411, 1.2105, 1.0544, 1.0033, 0.9525, 0.9421, 0.9275, 0.8157, 0.7485, 0.6894, 0.3516, 0.4748, 0.4806, 0.0116, 2.2754, 2.2632, 2.2198, 2.139, 2.0849, 2.0573, 2.0216, 1.9971, 1.9724, 1.9231, 1.7961, 1.7755, 1.67, 1.663, 1.6313, 1.4365, 1.4315, 1.4013, 1.3891, 1.3782, 1.3199, 1.2187, 1.2093, 1.1684, 1.1543, 1.1481, 1.1164, 1.0127, 1.0033, 0.9835, 0.9818, 0.7271, 0.8725, 0.6036, -0.0769, 0.5301, 0.5268, 3.1269, 3.1098, 3.0976, 2.8096, 2.4875, 2.2529, 1.9599, 1.7052, 1.6032, 1.5637, 1.5191, 1.3835, 1.3653, 1.3535, 1.3316, 1.3068, 1.1535, 1.053, 0.8945, 0.5678, 0.4442, 0.4261, 0.4183, 0.3197, 0.2555, 0.1393, 0.0855, -0.5046, -0.5273, -0.5688, -0.6472, -1.0271, -1.2595]}, \"token.table\": {\"Topic\": [1, 2, 3, 5, 1, 2, 6, 2, 3, 4, 6, 1, 3, 5, 6, 1, 3, 1, 2, 3, 5, 6, 2, 5, 1, 2, 3, 5, 6, 1, 3, 6, 2, 6, 1, 2, 3, 1, 3, 6, 1, 2, 3, 6, 2, 3, 5, 3, 4, 6, 1, 2, 4, 6, 1, 3, 4, 7, 1, 2, 3, 4, 6, 2, 3, 4, 6, 1, 2, 1, 3, 5, 1, 6, 1, 2, 5, 1, 2, 3, 5, 6, 1, 1, 5, 1, 2, 3, 4, 5, 1, 3, 4, 1, 2, 3, 4, 5, 4, 5, 7, 1, 5, 1, 2, 3, 4, 5, 6, 1, 2, 3, 4, 6, 7, 1, 1, 2, 4, 5, 6, 1, 7, 7, 1, 2, 1, 3, 1, 6, 2, 6, 1, 2, 3, 5, 2, 3, 4, 5, 6, 1, 2, 1, 2, 6, 1, 3, 4, 7, 1, 6, 1, 2, 3, 5, 6, 1, 4, 1, 2, 1, 2, 3, 4, 5, 6, 6, 1, 3, 5, 6, 1, 1, 2, 3, 5, 2, 5, 2, 4, 1, 2, 4, 5, 6, 7, 2, 4, 1, 3, 5, 6, 1, 3, 6, 2, 5, 1, 5, 6, 1, 2, 3, 4, 5, 1, 2, 3, 2, 1, 5, 1, 2, 4, 1, 3, 4, 1, 2, 4, 1, 3, 4, 1, 2, 3, 4, 6, 1, 5, 1, 2, 6, 1, 2, 4, 5, 2, 3, 4, 5, 1, 2, 3, 4, 5, 6, 1, 2, 3, 2, 4, 7, 1, 2, 3, 4, 6, 7, 1, 5, 7, 1, 6, 1, 2, 4, 6, 1, 1, 2, 3, 6, 1, 4, 6, 1, 5, 6, 1, 2, 5, 7, 1, 3, 4, 5, 1, 2, 5, 1, 3, 5, 6, 2, 3, 1, 1, 3, 1, 3, 4, 1, 2, 6, 1, 6, 1, 2, 3, 1, 3, 4, 6, 2, 6, 1, 1, 2, 3, 4, 5, 6, 7, 1, 2, 1, 2, 3, 4, 5, 1, 2, 3, 6, 7, 2, 5, 1, 2, 4, 2, 5, 2, 3, 5, 1, 6, 1, 5, 1, 2, 3, 4, 5, 1, 2, 3, 4, 5, 3, 5, 6, 2, 4, 4, 6, 1, 2, 3, 4, 6, 7, 1, 2, 4, 6, 1, 2, 6, 7, 1, 2, 5, 7, 1, 2, 3, 4, 6, 4, 6, 7, 1, 2, 3, 4, 7, 2, 7, 2, 4, 6, 1, 1, 3, 5, 4, 7, 1, 2, 1, 2, 6, 2, 3, 4, 6, 1, 4, 1, 4, 5, 2, 4, 6, 1, 2, 6, 1, 3, 4, 1, 3, 4, 5, 1, 2, 4, 1, 2, 3, 5, 1, 2, 3, 5, 6, 7, 1, 2, 3, 6, 7, 1, 2, 5, 1, 3, 4, 5, 6, 7, 3, 1, 2, 5, 6, 1, 3, 5, 6, 2, 5, 6, 1, 1, 2, 3, 5, 5, 4, 5, 2, 3, 4, 6, 1, 5, 7, 1, 2, 4, 6, 1, 2, 3, 6, 1, 6, 1, 2, 5, 6, 1, 3, 4, 5, 1, 2, 6, 1, 1, 2, 3, 4, 5, 6, 7, 1, 2, 6, 2, 3, 4, 5, 1, 2, 4, 5, 6, 1, 2, 7, 1, 2, 5, 6, 1, 2, 5, 1, 2, 3, 4, 5, 6, 7, 1, 4, 5, 1, 4, 7, 2, 3, 4, 6, 1, 2, 3, 6, 2, 4, 4, 6, 3, 1, 3, 4, 5, 6, 1, 2, 5, 6, 4, 1, 2, 7, 2, 6, 2, 5, 1, 2, 5, 6, 2, 5], \"Freq\": [0.07784804202503567, 0.7395563992378389, 0.1167720630375535, 0.03892402101251784, 0.9492881876745367, 0.829093173802233, 0.1381821956337055, 0.11378188534050926, 0.28445471335127315, 0.11378188534050926, 0.5120184840322917, 0.29774341787423186, 0.3969912238323091, 0.09924780595807728, 0.09924780595807728, 0.4266127127985617, 0.5545965266381303, 0.12308913980419052, 0.26156442208390485, 0.5539011291188574, 0.015386142475523815, 0.03077228495104763, 0.7754114537749751, 0.15508229075499502, 0.6641497366400034, 0.03450128502025992, 0.051751927530389874, 0.03450128502025992, 0.2070077101215595, 0.34814561523115856, 0.04973508789016551, 0.5968210546819861, 0.15828829396906938, 0.7914414698453468, 0.8653207533960634, 0.057688050226404226, 0.057688050226404226, 0.24057205195194906, 0.42100109091591087, 0.24057205195194906, 0.05473775228861479, 0.32842651373168874, 0.4926397705975331, 0.05473775228861479, 0.4069688113757717, 0.4069688113757717, 0.16278752455030865, 0.5240593788128388, 0.22459687663407377, 0.22459687663407377, 0.02643069366041216, 0.2643069366041216, 0.6343366478498919, 0.05286138732082432, 0.1599939967633942, 0.1599939967633942, 0.5119807896428614, 0.1599939967633942, 0.37028481491397947, 0.06384220946792749, 0.07661065136151299, 0.4468954662754924, 0.038305325680756494, 0.44307832950313303, 0.04923092550034811, 0.3938474040027849, 0.09846185100069622, 0.69174953945901, 0.23058317981967, 0.11449718221759574, 0.22899436443519147, 0.6297345021967766, 0.07324249056753164, 0.9155311320941455, 0.42574621651957406, 0.5321827706494675, 0.021287310825978702, 0.049277394023007695, 0.11498058605368462, 0.5091997382377462, 0.008212899003834616, 0.31209016214571544, 0.9892959024945448, 0.56728934943473, 0.4052066781676643, 0.36152319285212425, 0.3189910525165802, 0.10633035083886008, 0.04253214033554403, 0.17012856134217613, 0.10694338037692781, 0.7486036626384946, 0.053471690188463906, 0.7706381457677945, 0.0837650158443255, 0.050259009506595294, 0.0837650158443255, 0.016753003168865098, 0.5488810236060967, 0.039205787400435475, 0.39205787400435477, 0.07869205942293837, 0.8656126536523221, 0.45459032684161654, 0.012627509078933792, 0.3156877269733448, 0.06313754539466897, 0.11364758171040414, 0.037882527236801376, 0.5620616605561713, 0.1338242048943265, 0.10705936391546121, 0.053529681957730606, 0.053529681957730606, 0.053529681957730606, 0.9302596592014899, 0.3264222371772102, 0.4352296495696136, 0.06528444743544204, 0.1088074123924034, 0.06528444743544204, 0.8265905152070462, 0.09184339057856068, 0.9681747776619317, 0.17512744734742547, 0.8172614209546522, 0.7535205228724322, 0.231852468576133, 0.8439471771142538, 0.12056388244489341, 0.21918709510220766, 0.7671548328577268, 0.0729982900519379, 0.0729982900519379, 0.6934837554934101, 0.1459965801038758, 0.03805224307117948, 0.4946791599253332, 0.11415672921353842, 0.3044179445694358, 0.03805224307117948, 0.2522467104216858, 0.6936784536596359, 0.04181144503449775, 0.167245780137991, 0.7735117331382083, 0.3954330411058009, 0.028245217221842922, 0.42367825832764383, 0.16947130333105753, 0.5604080371753021, 0.42030602788147653, 0.9847587277236979, 0.1779052010569863, 0.6760397640165479, 0.07116208042279451, 0.035581040211397255, 0.05276769458949957, 0.8970508080214927, 0.35042637118891995, 0.6007309220381485, 0.0463201501495125, 0.14668047547345625, 0.3705612011961, 0.18528060059805, 0.154400500498375, 0.092640300299025, 0.9341320426867565, 0.21560074147730637, 0.43120148295461275, 0.10780037073865319, 0.21560074147730637, 0.9791909080128884, 0.655316636335347, 0.11298562695437017, 0.15817987773611825, 0.04519425078174807, 0.061221585466657916, 0.9183237819998687, 0.33241092366469943, 0.6315807549629289, 0.4656794711084077, 0.05820993388855096, 0.2910496694427548, 0.05820993388855096, 0.05820993388855096, 0.05820993388855096, 0.15483174411166903, 0.7741587205583452, 0.3192346080627839, 0.3192346080627839, 0.05320576801046399, 0.26602884005231997, 0.7087419993645621, 0.2024977141041606, 0.1012488570520803, 0.8540543997833572, 0.10675679997291965, 0.2141222538106648, 0.1605916903579986, 0.5888361979793282, 0.16387159899349651, 0.18435554886768357, 0.12290369924512239, 0.04096789974837413, 0.4711308471063025, 0.16154840766778783, 0.7269678345050453, 0.08077420383389392, 0.9432409313134367, 0.7027621782629048, 0.28110487130516193, 0.22469802713460685, 0.3744967118910114, 0.4493960542692137, 0.40120488732456633, 0.5349398497660884, 0.026746992488304422, 0.8526735736957346, 0.06090525526398104, 0.06090525526398104, 0.18285552546060121, 0.12190368364040081, 0.6704702600222044, 0.19044394319602562, 0.09522197159801281, 0.5713318295880768, 0.09522197159801281, 0.9831549367662148, 0.14304794060196863, 0.8106049967444889, 0.0836616744710766, 0.6135189461212284, 0.3067594730606142, 0.2730961694336159, 0.6372243953451039, 0.05461923388672319, 0.018206411295574397, 0.15214758872697248, 0.22822138309045872, 0.4818006976354129, 0.12678965727247707, 0.04471691300245373, 0.11179228250613432, 0.06707536950368059, 0.13415073900736119, 0.6036783255331253, 0.04471691300245373, 0.16950267187320303, 0.30510480937176543, 0.5085080156196091, 0.311783987054027, 0.4676759805810405, 0.23383799029052024, 0.3950733605313701, 0.19753668026568505, 0.09876834013284252, 0.09876834013284252, 0.19753668026568505, 0.09876834013284252, 0.6542558319668595, 0.18319163295072066, 0.15702139967204629, 0.6351115598133261, 0.31755577990666306, 0.7342383364128722, 0.1976795521111579, 0.028239936015879697, 0.028239936015879697, 0.9601851647410109, 0.9478653228275632, 0.7127047801056126, 0.07127047801056126, 0.2138114340316838, 0.5438914377148478, 0.09888935231179052, 0.34611273309126683, 0.18210172604524777, 0.7284069041809911, 0.06070057534841592, 0.6893722379992231, 0.08617152974990289, 0.17234305949980577, 0.08617152974990289, 0.5815757092253233, 0.18174240913291353, 0.10904544547974812, 0.10904544547974812, 0.9703767204659852, 0.5347345180680957, 0.43751006023753286, 0.426247411682826, 0.1549990587937549, 0.03874976469843872, 0.3874976469843872, 0.7388391810493968, 0.1231398635082328, 0.9509892812408932, 0.6094597276865517, 0.33243257873811904, 0.5102958173634656, 0.4082366538907725, 0.051029581736346565, 0.05191629451137857, 0.36341406157965, 0.5191629451137858, 0.7152110236903448, 0.2384036745634483, 0.2960836608768797, 0.33838132671643395, 0.33838132671643395, 0.17146053578686818, 0.8001491670053849, 0.8807345170488742, 0.07339454308740619, 0.6376917247363392, 0.3188458623681696, 0.969379893529635, 0.31100847007953686, 0.08293559202120983, 0.10366949002651228, 0.16587118404241966, 0.12440338803181474, 0.020733898005302457, 0.1866050820477221, 0.3730776671512676, 0.5969242674420282, 0.0469951538601634, 0.3289660770211438, 0.0939903077203268, 0.0469951538601634, 0.5169466924617974, 0.346243319910824, 0.25968248993311804, 0.346243319910824, 0.7108078918885364, 0.2030879691110104, 0.7261119168222964, 0.2178335750466889, 0.06544783456502178, 0.8770009831712917, 0.05235826765201742, 0.3154396134507216, 0.6794083982015541, 0.6366535195588019, 0.09095050279411457, 0.18190100558822914, 0.06774483728665297, 0.8129380474398356, 0.25294248915378315, 0.7335332185459711, 0.5441220762227572, 0.045343506351896434, 0.11335876587974107, 0.045343506351896434, 0.20404577858353395, 0.23504664986920512, 0.11752332493460256, 0.3995793047776487, 0.023504664986920512, 0.23504664986920512, 0.32290281124275244, 0.24217710843206433, 0.4036285140534406, 0.9140564490112721, 0.05897138380717885, 0.22204118469508083, 0.7401372823169361, 0.300169110087634, 0.150084555043817, 0.11256341628286273, 0.150084555043817, 0.22512683256572547, 0.0750422775219085, 0.23565188530591963, 0.1571012568706131, 0.1571012568706131, 0.39275314217653273, 0.23502704198290958, 0.35254056297436437, 0.35254056297436437, 0.058756760495727395, 0.760448831387254, 0.16295332101155444, 0.05431777367051815, 0.05431777367051815, 0.19285429100475399, 0.021428254556083777, 0.021428254556083777, 0.7071324003507646, 0.042856509112167554, 0.6955085933909194, 0.1803170427309791, 0.12879788766498507, 0.5748265634829941, 0.11791314122728085, 0.014739142653410106, 0.014739142653410106, 0.2947828530682021, 0.03443925905545008, 0.9298599944971522, 0.060642410894408305, 0.42449687626085814, 0.5457816980496747, 0.9167747673915936, 0.923954884706523, 0.8680341324951372, 0.062002438035366945, 0.308786769455571, 0.68619282101238, 0.9065023120611752, 0.04120465054823523, 0.1876494134425342, 0.7881275364586435, 0.018764941344253418, 0.09825068116825052, 0.3275022705608351, 0.4585031787851691, 0.13100090822433402, 0.9160236951837928, 0.06543026394169948, 0.3946791830017177, 0.3946791830017177, 0.17541297022298566, 0.09067070745516792, 0.7253656596413434, 0.18134141491033584, 0.1532026765641696, 0.6128107062566784, 0.2298040148462544, 0.2693615181170455, 0.0538723036234091, 0.6464676434809092, 0.3921063404757861, 0.15684253619031444, 0.15684253619031444, 0.31368507238062887, 0.2687545464844419, 0.10750181859377676, 0.5912600022657722, 0.19863227348497106, 0.6157600478034103, 0.15890581878797685, 0.019863227348497107, 0.18060842010936254, 0.20318447262303285, 0.31606473519138445, 0.045152105027340635, 0.045152105027340635, 0.20318447262303285, 0.2985673384746162, 0.362546053862034, 0.021326238462472585, 0.17060990769978068, 0.1492836692373081, 0.10388143629391088, 0.22853915984660392, 0.6648411922810296, 0.29997706691729337, 0.4153528618854831, 0.16152611295546565, 0.06922547698091386, 0.0461503179872759, 0.02307515899363795, 0.96738386477235, 0.5874726060804031, 0.029373630304020154, 0.11749452121608062, 0.23498904243216123, 0.06739327505795292, 0.2695731002318117, 0.2695731002318117, 0.3369663752897646, 0.07407049709192812, 0.8147754680112094, 0.07407049709192812, 0.9518612524886897, 0.16277978641643437, 0.13022382913314748, 0.6511191456657375, 0.03255595728328687, 0.9809033450003916, 0.46542787757332166, 0.46542787757332166, 0.033455003390592056, 0.1672750169529603, 0.5687350576400649, 0.20073002034355233, 0.2655558282925848, 0.6196302660160311, 0.08851860943086158, 0.0237733745211495, 0.095093498084598, 0.6181077375498869, 0.26150711973264446, 0.5411031953477926, 0.05695823108924133, 0.11391646217848266, 0.28479115544620665, 0.7521918986569137, 0.2051432450882492, 0.5466447290156881, 0.3924628823702376, 0.014016531513222772, 0.04204959453966831, 0.5468941104648938, 0.16406823313946814, 0.10937882209297876, 0.1777405859010905, 0.9311971149352987, 0.5785509020299232, 0.413250644307088, 0.968093281171375, 0.12693610830820037, 0.12693610830820037, 0.05077444332328015, 0.1015488866465603, 0.355421103262961, 0.07616166498492022, 0.15232332996984044, 0.1782644670511631, 0.6536363791875981, 0.1782644670511631, 0.5427652787978249, 0.12525352587642113, 0.16700470116856153, 0.16700470116856153, 0.03778541582240882, 0.6045666531585411, 0.15114166328963527, 0.01889270791120441, 0.1889270791120441, 0.2040530150759384, 0.6801767169197946, 0.06801767169197946, 0.14014275999176148, 0.38539258997734405, 0.31532120998146335, 0.14014275999176148, 0.16016774786867882, 0.133473123223899, 0.6940602407642749, 0.8295702075156447, 0.04387150135900044, 0.07976636610727353, 0.01196495491609103, 0.015953273221454706, 0.007976636610727353, 0.015953273221454706, 0.14156841328781336, 0.7432341697610201, 0.10617630996586001, 0.2714095075610906, 0.21109628365862604, 0.48250579121971665, 0.06538126511735984, 0.09807189767603974, 0.45766885582151884, 0.392287590704159, 0.0930938391621683, 0.8632337813219242, 0.03385230514987938, 0.008463076287469845, 0.0822143020119075, 0.8632501711250289, 0.8774260486185899, 0.12534657837408428, 0.966603658209074, 0.03464135564384379, 0.03464135564384379, 0.24248948950690652, 0.48497897901381304, 0.20784813386306272, 0.1432599488415023, 0.21488992326225348, 0.5014098209452581, 0.07162997442075116, 0.9314595728865005, 0.02825797686683637, 0.02825797686683637, 0.9042552597387639, 0.16850864953012934, 0.758288922885582, 0.20050075460041886, 0.701752641101466, 0.289763153680081, 0.04139473624001157, 0.5381315711201504, 0.1241842087200347, 0.12449275027866638, 0.840326064380998], \"Term\": [\"https\", \"https\", \"https\", \"https\", \"wildberries\", \"\\u0431\\u0430\\u043d\\u043a\", \"\\u0431\\u0430\\u043d\\u043a\", \"\\u0431\\u0438\\u043b\\u0435\\u0442\", \"\\u0431\\u0438\\u043b\\u0435\\u0442\", \"\\u0431\\u0438\\u043b\\u0435\\u0442\", \"\\u0431\\u0438\\u043b\\u0435\\u0442\", \"\\u0431\\u043e\\u043b\\u044c\\u0448\\u043e\\u0439\", \"\\u0431\\u043e\\u043b\\u044c\\u0448\\u043e\\u0439\", \"\\u0431\\u043e\\u043b\\u044c\\u0448\\u043e\\u0439\", \"\\u0431\\u043e\\u043b\\u044c\\u0448\\u043e\\u0439\", \"\\u0431\\u0440\\u0430\\u043a\", \"\\u0431\\u0440\\u0430\\u043a\", \"\\u0432\\u0435\\u0440\\u043d\\u0443\\u0442\\u044c\", \"\\u0432\\u0435\\u0440\\u043d\\u0443\\u0442\\u044c\", \"\\u0432\\u0435\\u0440\\u043d\\u0443\\u0442\\u044c\", \"\\u0432\\u0435\\u0440\\u043d\\u0443\\u0442\\u044c\", \"\\u0432\\u0435\\u0440\\u043d\\u0443\\u0442\\u044c\", \"\\u0432\\u0437\\u044f\\u0442\\u044c\", \"\\u0432\\u0437\\u044f\\u0442\\u044c\", \"\\u0432\\u043e\\u0437\\u0432\\u0440\\u0430\\u0442\", \"\\u0432\\u043e\\u0437\\u0432\\u0440\\u0430\\u0442\", \"\\u0432\\u043e\\u0437\\u0432\\u0440\\u0430\\u0442\", \"\\u0432\\u043e\\u0437\\u0432\\u0440\\u0430\\u0442\", \"\\u0432\\u043e\\u0437\\u0432\\u0440\\u0430\\u0442\", \"\\u0432\\u043e\\u0437\\u0432\\u0440\\u0430\\u0449\\u0430\\u0442\\u044c\", \"\\u0432\\u043e\\u0437\\u0432\\u0440\\u0430\\u0449\\u0430\\u0442\\u044c\", \"\\u0432\\u043e\\u0437\\u0432\\u0440\\u0430\\u0449\\u0430\\u0442\\u044c\", \"\\u0432\\u043e\\u0437\\u043c\\u043e\\u0436\\u043d\\u043e\\u0441\\u0442\\u044c\", \"\\u0432\\u043e\\u0437\\u043c\\u043e\\u0436\\u043d\\u043e\\u0441\\u0442\\u044c\", \"\\u0432\\u044b\\u0434\\u0430\\u0447\\u0430\", \"\\u0432\\u044b\\u0434\\u0430\\u0447\\u0430\", \"\\u0432\\u044b\\u0434\\u0430\\u0447\\u0430\", \"\\u0433\\u043e\\u0432\\u043e\\u0440\\u0438\\u0442\\u044c\", \"\\u0433\\u043e\\u0432\\u043e\\u0440\\u0438\\u0442\\u044c\", \"\\u0433\\u043e\\u0432\\u043e\\u0440\\u0438\\u0442\\u044c\", \"\\u0433\\u043e\\u0440\\u043e\\u0434\", \"\\u0433\\u043e\\u0440\\u043e\\u0434\", \"\\u0433\\u043e\\u0440\\u043e\\u0434\", \"\\u0433\\u043e\\u0440\\u043e\\u0434\", \"\\u0433\\u0440\\u0443\\u043f\\u043f\\u0430\", \"\\u0433\\u0440\\u0443\\u043f\\u043f\\u0430\", \"\\u0433\\u0440\\u0443\\u043f\\u043f\\u0430\", \"\\u0434\\u0430\\u0432\\u0430\\u0442\\u044c\", \"\\u0434\\u0430\\u0432\\u0430\\u0442\\u044c\", \"\\u0434\\u0430\\u0432\\u0430\\u0442\\u044c\", \"\\u0434\\u0430\\u043b\\u0435\\u0435\", \"\\u0434\\u0430\\u043b\\u0435\\u0435\", \"\\u0434\\u0430\\u043b\\u0435\\u0435\", \"\\u0434\\u0430\\u043b\\u0435\\u0435\", \"\\u0434\\u0430\\u0442\\u0430\", \"\\u0434\\u0430\\u0442\\u0430\", \"\\u0434\\u0430\\u0442\\u0430\", \"\\u0434\\u0430\\u0442\\u0430\", \"\\u0434\\u0430\\u0442\\u044c\", \"\\u0434\\u0430\\u0442\\u044c\", \"\\u0434\\u0430\\u0442\\u044c\", \"\\u0434\\u0430\\u0442\\u044c\", \"\\u0434\\u0430\\u0442\\u044c\", \"\\u0434\\u0435\\u0439\\u0441\\u0442\\u0432\\u0438\\u0435\", \"\\u0434\\u0435\\u0439\\u0441\\u0442\\u0432\\u0438\\u0435\", \"\\u0434\\u0435\\u0439\\u0441\\u0442\\u0432\\u0438\\u0435\", \"\\u0434\\u0435\\u0439\\u0441\\u0442\\u0432\\u0438\\u0435\", \"\\u0434\\u0435\\u0439\\u0441\\u0442\\u0432\\u043e\\u0432\\u0430\\u0442\\u044c\", \"\\u0434\\u0435\\u0439\\u0441\\u0442\\u0432\\u043e\\u0432\\u0430\\u0442\\u044c\", \"\\u0434\\u0435\\u043a\\u0430\\u0431\\u0440\\u044c\", \"\\u0434\\u0435\\u043a\\u0430\\u0431\\u0440\\u044c\", \"\\u0434\\u0435\\u043a\\u0430\\u0431\\u0440\\u044c\", \"\\u0434\\u0435\\u043b\\u0430\\u0442\\u044c\", \"\\u0434\\u0435\\u043b\\u0430\\u0442\\u044c\", \"\\u0434\\u0435\\u043d\\u0435\\u0436\\u043d\\u044b\\u0439\", \"\\u0434\\u0435\\u043d\\u0435\\u0436\\u043d\\u044b\\u0439\", \"\\u0434\\u0435\\u043d\\u0435\\u0436\\u043d\\u044b\\u0439\", \"\\u0434\\u0435\\u043d\\u044c\\u0433\\u0430\", \"\\u0434\\u0435\\u043d\\u044c\\u0433\\u0430\", \"\\u0434\\u0435\\u043d\\u044c\\u0433\\u0430\", \"\\u0434\\u0435\\u043d\\u044c\\u0433\\u0430\", \"\\u0434\\u0435\\u043d\\u044c\\u0433\\u0430\", \"\\u0434\\u043e\\u0433\\u043e\\u0432\\u043e\\u0440\", \"\\u0434\\u043e\\u043a\\u0443\\u043c\\u0435\\u043d\\u0442\", \"\\u0434\\u043e\\u043a\\u0443\\u043c\\u0435\\u043d\\u0442\", \"\\u0434\\u043e\\u043b\\u0436\\u043d\\u044b\\u0439\", \"\\u0434\\u043e\\u043b\\u0436\\u043d\\u044b\\u0439\", \"\\u0434\\u043e\\u043b\\u0436\\u043d\\u044b\\u0439\", \"\\u0434\\u043e\\u043b\\u0436\\u043d\\u044b\\u0439\", \"\\u0434\\u043e\\u043b\\u0436\\u043d\\u044b\\u0439\", \"\\u0434\\u043e\\u0441\\u0442\\u0430\\u0432\\u0438\\u0442\\u044c\", \"\\u0434\\u043e\\u0441\\u0442\\u0430\\u0432\\u0438\\u0442\\u044c\", \"\\u0434\\u043e\\u0441\\u0442\\u0430\\u0432\\u0438\\u0442\\u044c\", \"\\u0434\\u043e\\u0441\\u0442\\u0430\\u0432\\u043a\\u0430\", \"\\u0434\\u043e\\u0441\\u0442\\u0430\\u0432\\u043a\\u0430\", \"\\u0434\\u043e\\u0441\\u0442\\u0430\\u0432\\u043a\\u0430\", \"\\u0434\\u043e\\u0441\\u0442\\u0430\\u0432\\u043a\\u0430\", \"\\u0434\\u043e\\u0441\\u0442\\u0430\\u0432\\u043a\\u0430\", \"\\u0436\\u0430\\u043b\\u043e\\u0431\\u0430\", \"\\u0436\\u0430\\u043b\\u043e\\u0431\\u0430\", \"\\u0436\\u0430\\u043b\\u043e\\u0431\\u0430\", \"\\u0436\\u0434\\u0430\\u0442\\u044c\", \"\\u0436\\u0434\\u0430\\u0442\\u044c\", \"\\u0437\\u0430\\u043a\\u0430\\u0437\", \"\\u0437\\u0430\\u043a\\u0430\\u0437\", \"\\u0437\\u0430\\u043a\\u0430\\u0437\", \"\\u0437\\u0430\\u043a\\u0430\\u0437\", \"\\u0437\\u0430\\u043a\\u0430\\u0437\", \"\\u0437\\u0430\\u043a\\u0430\\u0437\", \"\\u0437\\u0430\\u043a\\u0430\\u0437\\u0430\\u0442\\u044c\", \"\\u0437\\u0430\\u043a\\u0430\\u0437\\u0430\\u0442\\u044c\", \"\\u0437\\u0430\\u043a\\u0430\\u0437\\u0430\\u0442\\u044c\", \"\\u0437\\u0430\\u043a\\u0430\\u0437\\u0430\\u0442\\u044c\", \"\\u0437\\u0430\\u043a\\u0430\\u0437\\u0430\\u0442\\u044c\", \"\\u0437\\u0430\\u043a\\u0430\\u0437\\u0430\\u0442\\u044c\", \"\\u0437\\u0430\\u043a\\u043b\\u044e\\u0447\\u0438\\u0442\\u044c\", \"\\u0437\\u0430\\u043a\\u043e\\u043d\", \"\\u0437\\u0430\\u043a\\u043e\\u043d\", \"\\u0437\\u0430\\u043a\\u043e\\u043d\", \"\\u0437\\u0430\\u043a\\u043e\\u043d\", \"\\u0437\\u0430\\u043a\\u043e\\u043d\", \"\\u0437\\u0430\\u043a\\u043e\\u043d\\u043d\\u044b\\u0439\", \"\\u0437\\u0430\\u043a\\u043e\\u043d\\u043d\\u044b\\u0439\", \"\\u0437\\u0430\\u0440\\u0430\\u043d\\u0435\\u0435\", \"\\u0437\\u0430\\u0449\\u0438\\u0442\\u0430\", \"\\u0437\\u0430\\u0449\\u0438\\u0442\\u0430\", \"\\u0437\\u0430\\u044f\\u0432\\u043a\\u0430\", \"\\u0437\\u0430\\u044f\\u0432\\u043a\\u0430\", \"\\u0437\\u0430\\u044f\\u0432\\u043b\\u0435\\u043d\\u0438\\u0435\", \"\\u0437\\u0430\\u044f\\u0432\\u043b\\u0435\\u043d\\u0438\\u0435\", \"\\u0437\\u043d\\u0430\\u0442\\u044c\", \"\\u0437\\u043d\\u0430\\u0442\\u044c\", \"\\u0438\\u043d\\u0442\\u0435\\u0440\\u043d\\u0435\\u0442\", \"\\u0438\\u043d\\u0442\\u0435\\u0440\\u043d\\u0435\\u0442\", \"\\u0438\\u043d\\u0442\\u0435\\u0440\\u043d\\u0435\\u0442\", \"\\u0438\\u043d\\u0442\\u0435\\u0440\\u043d\\u0435\\u0442\", \"\\u0438\\u043d\\u0444\\u043e\\u0440\\u043c\\u0430\\u0446\\u0438\\u044f\", \"\\u0438\\u043d\\u0444\\u043e\\u0440\\u043c\\u0430\\u0446\\u0438\\u044f\", \"\\u0438\\u043d\\u0444\\u043e\\u0440\\u043c\\u0430\\u0446\\u0438\\u044f\", \"\\u0438\\u043d\\u0444\\u043e\\u0440\\u043c\\u0430\\u0446\\u0438\\u044f\", \"\\u0438\\u043d\\u0444\\u043e\\u0440\\u043c\\u0430\\u0446\\u0438\\u044f\", \"\\u043a\\u0430\\u0431\\u0438\\u043d\\u0435\\u0442\", \"\\u043a\\u0430\\u0431\\u0438\\u043d\\u0435\\u0442\", \"\\u043a\\u0430\\u0440\\u0442\\u0430\", \"\\u043a\\u0430\\u0440\\u0442\\u0430\", \"\\u043a\\u0430\\u0440\\u0442\\u0430\", \"\\u043a\\u0430\\u0447\\u0435\\u0441\\u0442\\u0432\\u043e\", \"\\u043a\\u0430\\u0447\\u0435\\u0441\\u0442\\u0432\\u043e\", \"\\u043a\\u0430\\u0447\\u0435\\u0441\\u0442\\u0432\\u043e\", \"\\u043a\\u0430\\u0447\\u0435\\u0441\\u0442\\u0432\\u043e\", \"\\u043a\\u0432\\u0430\\u0440\\u0442\\u0438\\u0440\\u0430\", \"\\u043a\\u0432\\u0430\\u0440\\u0442\\u0438\\u0440\\u0430\", \"\\u043a\\u043e\\u043c\\u043f\\u0430\\u043d\\u0438\\u044f\", \"\\u043a\\u0443\\u043f\\u0438\\u0442\\u044c\", \"\\u043a\\u0443\\u043f\\u0438\\u0442\\u044c\", \"\\u043a\\u0443\\u043f\\u0438\\u0442\\u044c\", \"\\u043a\\u0443\\u043f\\u0438\\u0442\\u044c\", \"\\u043b\\u0438\\u0446\\u043e\", \"\\u043b\\u0438\\u0446\\u043e\", \"\\u043b\\u0438\\u0447\\u043d\\u044b\\u0439\", \"\\u043b\\u0438\\u0447\\u043d\\u044b\\u0439\", \"\\u043c\\u0430\\u0433\\u0430\\u0437\\u0438\\u043d\", \"\\u043c\\u0430\\u0433\\u0430\\u0437\\u0438\\u043d\", \"\\u043c\\u0430\\u0433\\u0430\\u0437\\u0438\\u043d\", \"\\u043c\\u0430\\u0433\\u0430\\u0437\\u0438\\u043d\", \"\\u043c\\u0430\\u0433\\u0430\\u0437\\u0438\\u043d\", \"\\u043c\\u0430\\u0433\\u0430\\u0437\\u0438\\u043d\", \"\\u043c\\u0435\\u0440\\u0430\", \"\\u043c\\u043e\\u043c\\u0435\\u043d\\u0442\", \"\\u043c\\u043e\\u043c\\u0435\\u043d\\u0442\", \"\\u043c\\u043e\\u043c\\u0435\\u043d\\u0442\", \"\\u043c\\u043e\\u043c\\u0435\\u043d\\u0442\", \"\\u043c\\u043e\\u0441\\u043a\\u0432\\u0430\", \"\\u043d\\u0430\\u043f\\u0438\\u0441\\u0430\\u0442\\u044c\", \"\\u043d\\u0430\\u043f\\u0438\\u0441\\u0430\\u0442\\u044c\", \"\\u043d\\u0430\\u043f\\u0438\\u0441\\u0430\\u0442\\u044c\", \"\\u043d\\u0430\\u043f\\u0438\\u0441\\u0430\\u0442\\u044c\", \"\\u043d\\u0430\\u043f\\u0440\\u0430\\u0432\\u0438\\u0442\\u044c\", \"\\u043d\\u0430\\u043f\\u0440\\u0430\\u0432\\u0438\\u0442\\u044c\", \"\\u043d\\u0430\\u0440\\u0443\\u0448\\u0435\\u043d\\u0438\\u0435\", \"\\u043d\\u0430\\u0440\\u0443\\u0448\\u0435\\u043d\\u0438\\u0435\", \"\\u043d\\u0430\\u0440\\u0443\\u0448\\u0438\\u0442\\u044c\", \"\\u043d\\u0430\\u0440\\u0443\\u0448\\u0438\\u0442\\u044c\", \"\\u043d\\u0430\\u0440\\u0443\\u0448\\u0438\\u0442\\u044c\", \"\\u043d\\u0430\\u0440\\u0443\\u0448\\u0438\\u0442\\u044c\", \"\\u043d\\u0430\\u0440\\u0443\\u0448\\u0438\\u0442\\u044c\", \"\\u043d\\u0430\\u0440\\u0443\\u0448\\u0438\\u0442\\u044c\", \"\\u043d\\u0430\\u0445\\u043e\\u0434\\u0438\\u0442\\u044c\\u0441\\u044f\", \"\\u043d\\u0430\\u0445\\u043e\\u0434\\u0438\\u0442\\u044c\\u0441\\u044f\", \"\\u043d\\u0435\\u0434\\u0435\\u043b\\u044f\", \"\\u043d\\u0435\\u0434\\u0435\\u043b\\u044f\", \"\\u043d\\u0435\\u0434\\u0435\\u043b\\u044f\", \"\\u043d\\u0435\\u0434\\u0435\\u043b\\u044f\", \"\\u043d\\u0438\\u043a\\u0430\\u043a\\u043e\\u0439\", \"\\u043d\\u0438\\u043a\\u0430\\u043a\\u043e\\u0439\", \"\\u043d\\u0438\\u043a\\u0430\\u043a\\u043e\\u0439\", \"\\u043d\\u0438\\u043a\\u0442\\u043e\", \"\\u043d\\u0438\\u043a\\u0442\\u043e\", \"\\u043d\\u043e\\u0432\\u044b\\u0439\", \"\\u043d\\u043e\\u0432\\u044b\\u0439\", \"\\u043d\\u043e\\u0432\\u044b\\u0439\", \"\\u043d\\u043e\\u043c\\u0435\\u0440\", \"\\u043d\\u043e\\u043c\\u0435\\u0440\", \"\\u043d\\u043e\\u043c\\u0435\\u0440\", \"\\u043d\\u043e\\u043c\\u0435\\u0440\", \"\\u043d\\u043e\\u043c\\u0435\\u0440\", \"\\u043d\\u0443\\u0436\\u043d\\u044b\\u0439\", \"\\u043d\\u0443\\u0436\\u043d\\u044b\\u0439\", \"\\u043d\\u0443\\u0436\\u043d\\u044b\\u0439\", \"\\u043e\\u0431\\u043b\\u0430\\u0441\\u0442\\u044c\", \"\\u043e\\u0431\\u043d\\u0430\\u0440\\u0443\\u0436\\u0438\\u0442\\u044c\", \"\\u043e\\u0431\\u043d\\u0430\\u0440\\u0443\\u0436\\u0438\\u0442\\u044c\", \"\\u043e\\u0431\\u0440\\u0430\\u0437\", \"\\u043e\\u0431\\u0440\\u0430\\u0437\", \"\\u043e\\u0431\\u0440\\u0430\\u0437\", \"\\u043e\\u0431\\u0440\\u0430\\u0442\\u0438\\u0442\\u044c\\u0441\\u044f\", \"\\u043e\\u0431\\u0440\\u0430\\u0442\\u0438\\u0442\\u044c\\u0441\\u044f\", \"\\u043e\\u0431\\u0440\\u0430\\u0442\\u0438\\u0442\\u044c\\u0441\\u044f\", \"\\u043e\\u0431\\u0440\\u0430\\u0442\\u043d\\u044b\\u0439\", \"\\u043e\\u0431\\u0440\\u0430\\u0442\\u043d\\u044b\\u0439\", \"\\u043e\\u0431\\u0440\\u0430\\u0442\\u043d\\u044b\\u0439\", \"\\u043e\\u0431\\u044f\\u0437\\u0430\\u0442\\u044c\", \"\\u043e\\u0431\\u044f\\u0437\\u0430\\u0442\\u044c\", \"\\u043e\\u0431\\u044f\\u0437\\u0430\\u0442\\u044c\", \"\\u043e\\u043a\\u0430\\u0437\\u0430\\u0442\\u044c\\u0441\\u044f\", \"\\u043e\\u043a\\u0430\\u0437\\u0430\\u0442\\u044c\\u0441\\u044f\", \"\\u043e\\u043a\\u0430\\u0437\\u0430\\u0442\\u044c\\u0441\\u044f\", \"\\u043e\\u043a\\u0430\\u0437\\u0430\\u0442\\u044c\\u0441\\u044f\", \"\\u043e\\u043d\\u043b\\u0430\\u0439\\u043d\", \"\\u043e\\u043f\\u0435\\u0440\\u0430\\u0442\\u043e\\u0440\", \"\\u043e\\u043f\\u0435\\u0440\\u0430\\u0442\\u043e\\u0440\", \"\\u043e\\u043f\\u043b\\u0430\\u0442\\u0430\", \"\\u043e\\u043f\\u043b\\u0430\\u0442\\u0430\", \"\\u043e\\u043f\\u043b\\u0430\\u0442\\u0430\", \"\\u043e\\u043f\\u043b\\u0430\\u0442\\u0438\\u0442\\u044c\", \"\\u043e\\u043f\\u043b\\u0430\\u0442\\u0438\\u0442\\u044c\", \"\\u043e\\u043f\\u043b\\u0430\\u0442\\u0438\\u0442\\u044c\", \"\\u043e\\u043f\\u043b\\u0430\\u0442\\u0438\\u0442\\u044c\", \"\\u043e\\u0440\\u0433\\u0430\\u043d\\u0438\\u0437\\u0430\\u0446\\u0438\\u044f\", \"\\u043e\\u0440\\u0433\\u0430\\u043d\\u0438\\u0437\\u0430\\u0446\\u0438\\u044f\", \"\\u043e\\u0440\\u0433\\u0430\\u043d\\u0438\\u0437\\u0430\\u0446\\u0438\\u044f\", \"\\u043e\\u0440\\u0433\\u0430\\u043d\\u0438\\u0437\\u0430\\u0446\\u0438\\u044f\", \"\\u043e\\u0442\\u0432\\u0435\\u0442\", \"\\u043e\\u0442\\u0432\\u0435\\u0442\", \"\\u043e\\u0442\\u0432\\u0435\\u0442\", \"\\u043e\\u0442\\u0432\\u0435\\u0442\", \"\\u043e\\u0442\\u0432\\u0435\\u0442\", \"\\u043e\\u0442\\u0432\\u0435\\u0442\", \"\\u043e\\u0442\\u0432\\u0435\\u0442\\u0438\\u0442\\u044c\", \"\\u043e\\u0442\\u0432\\u0435\\u0442\\u0438\\u0442\\u044c\", \"\\u043e\\u0442\\u0432\\u0435\\u0442\\u0438\\u0442\\u044c\", \"\\u043e\\u0442\\u0432\\u0435\\u0442\\u0441\\u0442\\u0432\\u0435\\u043d\\u043d\\u043e\\u0441\\u0442\\u044c\", \"\\u043e\\u0442\\u0432\\u0435\\u0442\\u0441\\u0442\\u0432\\u0435\\u043d\\u043d\\u043e\\u0441\\u0442\\u044c\", \"\\u043e\\u0442\\u0432\\u0435\\u0442\\u0441\\u0442\\u0432\\u0435\\u043d\\u043d\\u043e\\u0441\\u0442\\u044c\", \"\\u043e\\u0442\\u0432\\u0435\\u0447\\u0430\\u0442\\u044c\", \"\\u043e\\u0442\\u0432\\u0435\\u0447\\u0430\\u0442\\u044c\", \"\\u043e\\u0442\\u0432\\u0435\\u0447\\u0430\\u0442\\u044c\", \"\\u043e\\u0442\\u0432\\u0435\\u0447\\u0430\\u0442\\u044c\", \"\\u043e\\u0442\\u0432\\u0435\\u0447\\u0430\\u0442\\u044c\", \"\\u043e\\u0442\\u0432\\u0435\\u0447\\u0430\\u0442\\u044c\", \"\\u043e\\u0442\\u043a\\u0430\\u0437\", \"\\u043e\\u0442\\u043a\\u0430\\u0437\", \"\\u043e\\u0442\\u043a\\u0430\\u0437\", \"\\u043e\\u0442\\u043a\\u0430\\u0437\\u0430\\u0442\\u044c\", \"\\u043e\\u0442\\u043a\\u0430\\u0437\\u0430\\u0442\\u044c\", \"\\u043e\\u0442\\u043a\\u0430\\u0437\\u0430\\u0442\\u044c\\u0441\\u044f\", \"\\u043e\\u0442\\u043a\\u0430\\u0437\\u0430\\u0442\\u044c\\u0441\\u044f\", \"\\u043e\\u0442\\u043a\\u0430\\u0437\\u0430\\u0442\\u044c\\u0441\\u044f\", \"\\u043e\\u0442\\u043a\\u0430\\u0437\\u0430\\u0442\\u044c\\u0441\\u044f\", \"\\u043e\\u0442\\u043a\\u0430\\u0437\\u044b\\u0432\\u0430\\u0442\\u044c\\u0441\\u044f\", \"\\u043e\\u0442\\u043c\\u0435\\u043d\\u0438\\u0442\\u044c\", \"\\u043e\\u0442\\u043d\\u043e\\u0448\\u0435\\u043d\\u0438\\u0435\", \"\\u043e\\u0442\\u043d\\u043e\\u0448\\u0435\\u043d\\u0438\\u0435\", \"\\u043e\\u0442\\u043d\\u043e\\u0448\\u0435\\u043d\\u0438\\u0435\", \"\\u043e\\u0442\\u043f\\u0440\\u0430\\u0432\\u0438\\u0442\\u044c\", \"\\u043e\\u0442\\u043f\\u0440\\u0430\\u0432\\u0438\\u0442\\u044c\", \"\\u043e\\u0442\\u043f\\u0440\\u0430\\u0432\\u0438\\u0442\\u044c\", \"\\u043e\\u0442\\u0441\\u0443\\u0442\\u0441\\u0442\\u0432\\u0438\\u0435\", \"\\u043e\\u0442\\u0441\\u0443\\u0442\\u0441\\u0442\\u0432\\u0438\\u0435\", \"\\u043e\\u0442\\u0441\\u0443\\u0442\\u0441\\u0442\\u0432\\u0438\\u0435\", \"\\u043e\\u0442\\u0441\\u0443\\u0442\\u0441\\u0442\\u0432\\u043e\\u0432\\u0430\\u0442\\u044c\", \"\\u043e\\u0442\\u0441\\u0443\\u0442\\u0441\\u0442\\u0432\\u043e\\u0432\\u0430\\u0442\\u044c\", \"\\u043e\\u0442\\u0441\\u0443\\u0442\\u0441\\u0442\\u0432\\u043e\\u0432\\u0430\\u0442\\u044c\", \"\\u043e\\u0442\\u0441\\u0443\\u0442\\u0441\\u0442\\u0432\\u043e\\u0432\\u0430\\u0442\\u044c\", \"\\u043e\\u0444\\u043e\\u0440\\u043c\\u0438\\u0442\\u044c\", \"\\u043e\\u0444\\u043e\\u0440\\u043c\\u0438\\u0442\\u044c\", \"\\u043e\\u0444\\u043e\\u0440\\u043c\\u0438\\u0442\\u044c\", \"\\u043e\\u0444\\u043e\\u0440\\u043c\\u0438\\u0442\\u044c\", \"\\u043e\\u0448\\u0438\\u0431\\u043a\\u0430\", \"\\u043f\\u0435\\u0440\\u0435\\u0434\\u0430\\u0442\\u044c\", \"\\u043f\\u0435\\u0440\\u0435\\u0434\\u0430\\u0442\\u044c\", \"\\u043f\\u0438\\u0441\\u0430\\u0442\\u044c\", \"\\u043f\\u0438\\u0441\\u0430\\u0442\\u044c\", \"\\u043f\\u0438\\u0441\\u0430\\u0442\\u044c\", \"\\u043f\\u0438\\u0441\\u0430\\u0442\\u044c\", \"\\u043f\\u043b\\u0430\\u0442\\u0451\\u0436\", \"\\u043f\\u043b\\u0430\\u0442\\u0451\\u0436\", \"\\u043f\\u043b\\u043e\\u0449\\u0430\\u0434\\u043a\\u0430\", \"\\u043f\\u043e\\u0434\\u0434\\u0435\\u0440\\u0436\\u043a\\u0430\", \"\\u043f\\u043e\\u0434\\u0434\\u0435\\u0440\\u0436\\u043a\\u0430\", \"\\u043f\\u043e\\u0434\\u0441\\u043a\\u0430\\u0437\\u0430\\u0442\\u044c\", \"\\u043f\\u043e\\u0434\\u0441\\u043a\\u0430\\u0437\\u0430\\u0442\\u044c\", \"\\u043f\\u043e\\u0434\\u0441\\u043a\\u0430\\u0437\\u0430\\u0442\\u044c\", \"\\u043f\\u043e\\u0437\\u0432\\u043e\\u043d\\u0438\\u0442\\u044c\", \"\\u043f\\u043e\\u0437\\u0432\\u043e\\u043d\\u0438\\u0442\\u044c\", \"\\u043f\\u043e\\u0437\\u0432\\u043e\\u043d\\u0438\\u0442\\u044c\", \"\\u043f\\u043e\\u0437\\u0434\\u043d\\u0438\\u0439\", \"\\u043f\\u043e\\u0437\\u0434\\u043d\\u0438\\u0439\", \"\\u043f\\u043e\\u043a\\u0443\\u043f\\u0430\\u0442\\u0435\\u043b\\u044c\", \"\\u043f\\u043e\\u043a\\u0443\\u043f\\u0430\\u0442\\u0435\\u043b\\u044c\", \"\\u043f\\u043e\\u043a\\u0443\\u043f\\u0430\\u0442\\u0435\\u043b\\u044c\", \"\\u043f\\u043e\\u043a\\u0443\\u043f\\u043a\\u0430\", \"\\u043f\\u043e\\u043a\\u0443\\u043f\\u043a\\u0430\", \"\\u043f\\u043e\\u043b\\u043d\\u044b\\u0439\", \"\\u043f\\u043e\\u043b\\u043d\\u044b\\u0439\", \"\\u043f\\u043e\\u043b\\u0443\\u0447\\u0430\\u0442\\u044c\", \"\\u043f\\u043e\\u043b\\u0443\\u0447\\u0430\\u0442\\u044c\", \"\\u043f\\u043e\\u043b\\u0443\\u0447\\u0435\\u043d\\u0438\\u0435\", \"\\u043f\\u043e\\u043b\\u0443\\u0447\\u0438\\u0442\\u044c\", \"\\u043f\\u043e\\u043b\\u0443\\u0447\\u0438\\u0442\\u044c\", \"\\u043f\\u043e\\u043b\\u0443\\u0447\\u0438\\u0442\\u044c\", \"\\u043f\\u043e\\u043b\\u0443\\u0447\\u0438\\u0442\\u044c\", \"\\u043f\\u043e\\u043b\\u0443\\u0447\\u0438\\u0442\\u044c\", \"\\u043f\\u043e\\u043b\\u0443\\u0447\\u0438\\u0442\\u044c\", \"\\u043f\\u043e\\u043b\\u0443\\u0447\\u0438\\u0442\\u044c\", \"\\u043f\\u043e\\u043b\\u044c\\u0437\\u043e\\u0432\\u0430\\u0442\\u044c\\u0441\\u044f\", \"\\u043f\\u043e\\u043b\\u044c\\u0437\\u043e\\u0432\\u0430\\u0442\\u044c\\u0441\\u044f\", \"\\u043f\\u043e\\u043c\\u043e\\u0447\\u044c\", \"\\u043f\\u043e\\u043c\\u043e\\u0447\\u044c\", \"\\u043f\\u043e\\u043c\\u043e\\u0447\\u044c\", \"\\u043f\\u043e\\u043c\\u043e\\u0447\\u044c\", \"\\u043f\\u043e\\u043c\\u043e\\u0447\\u044c\", \"\\u043f\\u043e\\u043f\\u0440\\u043e\\u0441\\u0438\\u0442\\u044c\", \"\\u043f\\u043e\\u043f\\u0440\\u043e\\u0441\\u0438\\u0442\\u044c\", \"\\u043f\\u043e\\u043f\\u0440\\u043e\\u0441\\u0438\\u0442\\u044c\", \"\\u043f\\u043e\\u0441\\u0442\\u043e\\u044f\\u043d\\u043d\\u044b\\u0439\", \"\\u043f\\u043e\\u0441\\u0442\\u043e\\u044f\\u043d\\u043d\\u044b\\u0439\", \"\\u043f\\u043e\\u0441\\u0442\\u0443\\u043f\\u0438\\u0442\\u044c\", \"\\u043f\\u043e\\u0441\\u0442\\u0443\\u043f\\u0438\\u0442\\u044c\", \"\\u043f\\u043e\\u0442\\u0440\\u0435\\u0431\\u0438\\u0442\\u0435\\u043b\\u044c\", \"\\u043f\\u043e\\u0442\\u0440\\u0435\\u0431\\u0438\\u0442\\u0435\\u043b\\u044c\", \"\\u043f\\u043e\\u0442\\u0440\\u0435\\u0431\\u0438\\u0442\\u0435\\u043b\\u044c\", \"\\u043f\\u043e\\u0447\\u0442\\u0430\", \"\\u043f\\u043e\\u0447\\u0442\\u0430\", \"\\u043f\\u043e\\u044d\\u0442\\u043e\\u043c\\u0443\", \"\\u043f\\u043e\\u044d\\u0442\\u043e\\u043c\\u0443\", \"\\u043f\\u043e\\u044d\\u0442\\u043e\\u043c\\u0443\", \"\\u043f\\u0440\\u0435\\u0434\\u043b\\u043e\\u0436\\u0438\\u0442\\u044c\", \"\\u043f\\u0440\\u0435\\u0434\\u043b\\u043e\\u0436\\u0438\\u0442\\u044c\", \"\\u043f\\u0440\\u0435\\u0434\\u043e\\u0441\\u0442\\u0430\\u0432\\u0438\\u0442\\u044c\", \"\\u043f\\u0440\\u0435\\u0434\\u043e\\u0441\\u0442\\u0430\\u0432\\u0438\\u0442\\u044c\", \"\\u043f\\u0440\\u0435\\u0442\\u0435\\u043d\\u0437\\u0438\\u044f\", \"\\u043f\\u0440\\u0435\\u0442\\u0435\\u043d\\u0437\\u0438\\u044f\", \"\\u043f\\u0440\\u0435\\u0442\\u0435\\u043d\\u0437\\u0438\\u044f\", \"\\u043f\\u0440\\u0435\\u0442\\u0435\\u043d\\u0437\\u0438\\u044f\", \"\\u043f\\u0440\\u0435\\u0442\\u0435\\u043d\\u0437\\u0438\\u044f\", \"\\u043f\\u0440\\u0438\\u0439\\u0442\\u0438\", \"\\u043f\\u0440\\u0438\\u0439\\u0442\\u0438\", \"\\u043f\\u0440\\u0438\\u0439\\u0442\\u0438\", \"\\u043f\\u0440\\u0438\\u0439\\u0442\\u0438\", \"\\u043f\\u0440\\u0438\\u0439\\u0442\\u0438\", \"\\u043f\\u0440\\u0438\\u043b\\u0430\\u0433\\u0430\\u0442\\u044c\", \"\\u043f\\u0440\\u0438\\u043b\\u0430\\u0433\\u0430\\u0442\\u044c\", \"\\u043f\\u0440\\u0438\\u043b\\u0430\\u0433\\u0430\\u0442\\u044c\", \"\\u043f\\u0440\\u0438\\u043b\\u043e\\u0436\\u0435\\u043d\\u0438\\u0435\", \"\\u043f\\u0440\\u0438\\u043b\\u043e\\u0436\\u0435\\u043d\\u0438\\u0435\", \"\\u043f\\u0440\\u0438\\u043d\\u044f\\u0442\\u044c\", \"\\u043f\\u0440\\u0438\\u043d\\u044f\\u0442\\u044c\", \"\\u043f\\u0440\\u0438\\u043e\\u0431\\u0440\\u0435\\u0441\\u0442\\u0438\", \"\\u043f\\u0440\\u0438\\u043e\\u0431\\u0440\\u0435\\u0441\\u0442\\u0438\", \"\\u043f\\u0440\\u0438\\u043e\\u0431\\u0440\\u0435\\u0441\\u0442\\u0438\", \"\\u043f\\u0440\\u0438\\u043e\\u0431\\u0440\\u0435\\u0441\\u0442\\u0438\", \"\\u043f\\u0440\\u0438\\u043e\\u0431\\u0440\\u0435\\u0441\\u0442\\u0438\", \"\\u043f\\u0440\\u0438\\u043e\\u0431\\u0440\\u0435\\u0441\\u0442\\u0438\", \"\\u043f\\u0440\\u0438\\u0441\\u043b\\u0430\\u0442\\u044c\", \"\\u043f\\u0440\\u0438\\u0441\\u043b\\u0430\\u0442\\u044c\", \"\\u043f\\u0440\\u0438\\u0441\\u043b\\u0430\\u0442\\u044c\", \"\\u043f\\u0440\\u0438\\u0441\\u043b\\u0430\\u0442\\u044c\", \"\\u043f\\u0440\\u0438\\u0447\\u0438\\u043d\\u0430\", \"\\u043f\\u0440\\u0438\\u0447\\u0438\\u043d\\u0430\", \"\\u043f\\u0440\\u0438\\u0447\\u0438\\u043d\\u0430\", \"\\u043f\\u0440\\u0438\\u0447\\u0438\\u043d\\u0430\", \"\\u043f\\u0440\\u043e\\u0431\\u043b\\u0435\\u043c\\u0430\", \"\\u043f\\u0440\\u043e\\u0431\\u043b\\u0435\\u043c\\u0430\", \"\\u043f\\u0440\\u043e\\u0431\\u043b\\u0435\\u043c\\u0430\", \"\\u043f\\u0440\\u043e\\u0431\\u043b\\u0435\\u043c\\u0430\", \"\\u043f\\u0440\\u043e\\u0432\\u0435\\u0440\\u043a\\u0430\", \"\\u043f\\u0440\\u043e\\u0432\\u0435\\u0440\\u043a\\u0430\", \"\\u043f\\u0440\\u043e\\u0432\\u0435\\u0440\\u043a\\u0430\", \"\\u043f\\u0440\\u043e\\u0432\\u0435\\u0440\\u043a\\u0430\", \"\\u043f\\u0440\\u043e\\u0432\\u0435\\u0440\\u043a\\u0430\", \"\\u043f\\u0440\\u043e\\u0432\\u0435\\u0441\\u0442\\u0438\", \"\\u043f\\u0440\\u043e\\u0432\\u0435\\u0441\\u0442\\u0438\", \"\\u043f\\u0440\\u043e\\u0432\\u0435\\u0441\\u0442\\u0438\", \"\\u043f\\u0440\\u043e\\u0434\\u0430\\u0432\\u0435\\u0446\", \"\\u043f\\u0440\\u043e\\u0434\\u0430\\u0432\\u0435\\u0446\", \"\\u043f\\u0440\\u043e\\u0434\\u0430\\u0432\\u0435\\u0446\", \"\\u043f\\u0440\\u043e\\u0434\\u0430\\u0432\\u0435\\u0446\", \"\\u043f\\u0440\\u043e\\u0434\\u0430\\u0432\\u0435\\u0446\", \"\\u043f\\u0440\\u043e\\u0434\\u0430\\u0436\\u0430\", \"\\u043f\\u0440\\u043e\\u0434\\u0430\\u0436\\u0430\", \"\\u043f\\u0440\\u043e\\u0434\\u0443\\u043a\\u0442\", \"\\u043f\\u0440\\u043e\\u0434\\u0443\\u043a\\u0442\", \"\\u043f\\u0440\\u043e\\u0434\\u0443\\u043a\\u0442\", \"\\u043f\\u0440\\u043e\\u0436\\u0438\\u0432\\u0430\\u0442\\u044c\", \"\\u043f\\u0440\\u043e\\u0438\\u0437\\u043e\\u0439\\u0442\\u0438\", \"\\u043f\\u0440\\u043e\\u0439\\u0442\\u0438\", \"\\u043f\\u0440\\u043e\\u0439\\u0442\\u0438\", \"\\u043f\\u0440\\u043e\\u0441\\u044c\\u0431\\u0430\", \"\\u043f\\u0440\\u043e\\u0441\\u044c\\u0431\\u0430\", \"\\u043f\\u0443\\u043d\\u043a\\u0442\", \"\\u043f\\u0443\\u043d\\u043a\\u0442\", \"\\u0440\\u0430\\u0431\\u043e\\u0442\\u0430\", \"\\u0440\\u0430\\u0431\\u043e\\u0442\\u0430\", \"\\u0440\\u0430\\u0431\\u043e\\u0442\\u0430\", \"\\u0440\\u0430\\u0431\\u043e\\u0442\\u0430\\u0442\\u044c\", \"\\u0440\\u0430\\u0431\\u043e\\u0442\\u0430\\u0442\\u044c\", \"\\u0440\\u0430\\u0431\\u043e\\u0442\\u0430\\u0442\\u044c\", \"\\u0440\\u0430\\u0431\\u043e\\u0442\\u0430\\u0442\\u044c\", \"\\u0440\\u0430\\u0437\\u043c\\u0435\\u0440\", \"\\u0440\\u0430\\u0437\\u043c\\u0435\\u0440\", \"\\u0440\\u0430\\u0437\\u043e\\u0431\\u0440\\u0430\\u0442\\u044c\\u0441\\u044f\", \"\\u0440\\u0430\\u0437\\u043e\\u0431\\u0440\\u0430\\u0442\\u044c\\u0441\\u044f\", \"\\u0440\\u0430\\u0437\\u043e\\u0431\\u0440\\u0430\\u0442\\u044c\\u0441\\u044f\", \"\\u0440\\u0430\\u0439\\u043e\\u043d\", \"\\u0440\\u0430\\u0439\\u043e\\u043d\", \"\\u0440\\u0430\\u0439\\u043e\\u043d\", \"\\u0440\\u0435\\u0431\\u0451\\u043d\\u043e\\u043a\", \"\\u0440\\u0435\\u0431\\u0451\\u043d\\u043e\\u043a\", \"\\u0440\\u0435\\u0431\\u0451\\u043d\\u043e\\u043a\", \"\\u0440\\u0435\\u0437\\u0443\\u043b\\u044c\\u0442\\u0430\\u0442\", \"\\u0440\\u0435\\u0437\\u0443\\u043b\\u044c\\u0442\\u0430\\u0442\", \"\\u0440\\u0435\\u0437\\u0443\\u043b\\u044c\\u0442\\u0430\\u0442\", \"\\u0440\\u0435\\u0448\\u0435\\u043d\\u0438\\u0435\", \"\\u0440\\u0435\\u0448\\u0435\\u043d\\u0438\\u0435\", \"\\u0440\\u0435\\u0448\\u0435\\u043d\\u0438\\u0435\", \"\\u0440\\u0435\\u0448\\u0435\\u043d\\u0438\\u0435\", \"\\u0440\\u0435\\u0448\\u0438\\u0442\\u044c\", \"\\u0440\\u0435\\u0448\\u0438\\u0442\\u044c\", \"\\u0440\\u0435\\u0448\\u0438\\u0442\\u044c\", \"\\u0440\\u0443\\u0431\\u043b\\u044c\", \"\\u0440\\u0443\\u0431\\u043b\\u044c\", \"\\u0440\\u0443\\u0431\\u043b\\u044c\", \"\\u0440\\u0443\\u0431\\u043b\\u044c\", \"\\u0441\\u0430\\u0439\\u0442\", \"\\u0441\\u0430\\u0439\\u0442\", \"\\u0441\\u0430\\u0439\\u0442\", \"\\u0441\\u0430\\u0439\\u0442\", \"\\u0441\\u0430\\u0439\\u0442\", \"\\u0441\\u0430\\u0439\\u0442\", \"\\u0441\\u0432\\u043e\\u0439\", \"\\u0441\\u0432\\u043e\\u0439\", \"\\u0441\\u0432\\u043e\\u0439\", \"\\u0441\\u0432\\u043e\\u0439\", \"\\u0441\\u0432\\u043e\\u0439\", \"\\u0441\\u0432\\u044f\\u0437\\u044c\", \"\\u0441\\u0432\\u044f\\u0437\\u044c\", \"\\u0441\\u0432\\u044f\\u0437\\u044c\", \"\\u0441\\u0434\\u0435\\u043b\\u0430\\u0442\\u044c\", \"\\u0441\\u0434\\u0435\\u043b\\u0430\\u0442\\u044c\", \"\\u0441\\u0434\\u0435\\u043b\\u0430\\u0442\\u044c\", \"\\u0441\\u0434\\u0435\\u043b\\u0430\\u0442\\u044c\", \"\\u0441\\u0434\\u0435\\u043b\\u0430\\u0442\\u044c\", \"\\u0441\\u0434\\u0435\\u043b\\u0430\\u0442\\u044c\", \"\\u0441\\u0435\\u0440\\u0432\\u0438\\u0441\", \"\\u0441\\u0438\\u0442\\u0443\\u0430\\u0446\\u0438\\u044f\", \"\\u0441\\u0438\\u0442\\u0443\\u0430\\u0446\\u0438\\u044f\", \"\\u0441\\u0438\\u0442\\u0443\\u0430\\u0446\\u0438\\u044f\", \"\\u0441\\u0438\\u0442\\u0443\\u0430\\u0446\\u0438\\u044f\", \"\\u0441\\u043b\\u0435\\u0434\\u0443\\u044e\\u0449\\u0438\\u0439\", \"\\u0441\\u043b\\u0435\\u0434\\u0443\\u044e\\u0449\\u0438\\u0439\", \"\\u0441\\u043b\\u0435\\u0434\\u0443\\u044e\\u0449\\u0438\\u0439\", \"\\u0441\\u043b\\u0435\\u0434\\u0443\\u044e\\u0449\\u0438\\u0439\", \"\\u0441\\u043b\\u043e\\u0432\\u043e\", \"\\u0441\\u043b\\u043e\\u0432\\u043e\", \"\\u0441\\u043b\\u043e\\u0432\\u043e\", \"\\u0441\\u043b\\u0443\\u0447\\u0430\\u0439\", \"\\u0441\\u043c\\u043e\\u0447\\u044c\", \"\\u0441\\u043c\\u043e\\u0447\\u044c\", \"\\u0441\\u043c\\u043e\\u0447\\u044c\", \"\\u0441\\u043c\\u043e\\u0447\\u044c\", \"\\u0441\\u043e\\u0433\\u043b\\u0430\\u0441\\u043d\\u043e\", \"\\u0441\\u043e\\u043e\\u0431\\u0449\\u0435\\u043d\\u0438\\u0435\", \"\\u0441\\u043e\\u043e\\u0431\\u0449\\u0435\\u043d\\u0438\\u0435\", \"\\u0441\\u043e\\u043e\\u0431\\u0449\\u0438\\u0442\\u044c\", \"\\u0441\\u043e\\u043e\\u0431\\u0449\\u0438\\u0442\\u044c\", \"\\u0441\\u043e\\u043e\\u0431\\u0449\\u0438\\u0442\\u044c\", \"\\u0441\\u043e\\u043e\\u0431\\u0449\\u0438\\u0442\\u044c\", \"\\u0441\\u043e\\u0441\\u0442\\u0430\\u0432\\u0438\\u0442\\u044c\", \"\\u0441\\u043e\\u0441\\u0442\\u0430\\u0432\\u0438\\u0442\\u044c\", \"\\u0441\\u043e\\u0441\\u0442\\u0430\\u0432\\u0438\\u0442\\u044c\", \"\\u0441\\u043e\\u0442\\u0440\\u0443\\u0434\\u043d\\u0438\\u043a\", \"\\u0441\\u043e\\u0442\\u0440\\u0443\\u0434\\u043d\\u0438\\u043a\", \"\\u0441\\u043e\\u0442\\u0440\\u0443\\u0434\\u043d\\u0438\\u043a\", \"\\u0441\\u043e\\u0442\\u0440\\u0443\\u0434\\u043d\\u0438\\u043a\", \"\\u0441\\u043f\\u0438\\u0441\\u0430\\u0442\\u044c\", \"\\u0441\\u043f\\u0438\\u0441\\u0430\\u0442\\u044c\", \"\\u0441\\u043f\\u0438\\u0441\\u0430\\u0442\\u044c\", \"\\u0441\\u043f\\u0438\\u0441\\u0430\\u0442\\u044c\", \"\\u0441\\u0440\\u0430\\u0437\\u0443\", \"\\u0441\\u0440\\u0430\\u0437\\u0443\", \"\\u0441\\u0440\\u0435\\u0434\\u0441\\u0442\\u0432\\u043e\", \"\\u0441\\u0440\\u0435\\u0434\\u0441\\u0442\\u0432\\u043e\", \"\\u0441\\u0440\\u0435\\u0434\\u0441\\u0442\\u0432\\u043e\", \"\\u0441\\u0440\\u0435\\u0434\\u0441\\u0442\\u0432\\u043e\", \"\\u0441\\u0440\\u043e\\u043a\", \"\\u0441\\u0440\\u043e\\u043a\", \"\\u0441\\u0440\\u043e\\u043a\", \"\\u0441\\u0440\\u043e\\u043a\", \"\\u0441\\u0441\\u044b\\u043b\\u0430\\u0442\\u044c\\u0441\\u044f\", \"\\u0441\\u0442\\u0430\\u0442\\u044c\", \"\\u0441\\u0442\\u0430\\u0442\\u044c\", \"\\u0441\\u0442\\u0430\\u0442\\u044c\\u044f\", \"\\u0441\\u0442\\u043e\\u0438\\u043c\\u043e\\u0441\\u0442\\u044c\", \"\\u0441\\u0442\\u043e\\u0438\\u043c\\u043e\\u0441\\u0442\\u044c\", \"\\u0441\\u0442\\u043e\\u0438\\u043c\\u043e\\u0441\\u0442\\u044c\", \"\\u0441\\u0442\\u043e\\u0438\\u043c\\u043e\\u0441\\u0442\\u044c\", \"\\u0441\\u0442\\u043e\\u0438\\u043c\\u043e\\u0441\\u0442\\u044c\", \"\\u0441\\u0442\\u043e\\u0438\\u043c\\u043e\\u0441\\u0442\\u044c\", \"\\u0441\\u0442\\u043e\\u0438\\u043c\\u043e\\u0441\\u0442\\u044c\", \"\\u0441\\u0442\\u043e\\u0438\\u0442\\u044c\", \"\\u0441\\u0442\\u043e\\u0438\\u0442\\u044c\", \"\\u0441\\u0442\\u043e\\u0438\\u0442\\u044c\", \"\\u0441\\u0442\\u043e\\u0440\\u043e\\u043d\\u0430\", \"\\u0441\\u0442\\u043e\\u0440\\u043e\\u043d\\u0430\", \"\\u0441\\u0442\\u043e\\u0440\\u043e\\u043d\\u0430\", \"\\u0441\\u0442\\u043e\\u0440\\u043e\\u043d\\u0430\", \"\\u0441\\u0443\\u043c\\u043c\\u0430\", \"\\u0441\\u0443\\u043c\\u043c\\u0430\", \"\\u0441\\u0443\\u043c\\u043c\\u0430\", \"\\u0441\\u0443\\u043c\\u043c\\u0430\", \"\\u0441\\u0443\\u043c\\u043c\\u0430\", \"\\u0441\\u0447\\u0438\\u0442\\u0430\\u0442\\u044c\", \"\\u0441\\u0447\\u0438\\u0442\\u0430\\u0442\\u044c\", \"\\u0441\\u0447\\u0438\\u0442\\u0430\\u0442\\u044c\", \"\\u0441\\u0447\\u0451\\u0442\", \"\\u0441\\u0447\\u0451\\u0442\", \"\\u0441\\u0447\\u0451\\u0442\", \"\\u0441\\u0447\\u0451\\u0442\", \"\\u0442\\u0435\\u043b\\u0435\\u0444\\u043e\\u043d\", \"\\u0442\\u0435\\u043b\\u0435\\u0444\\u043e\\u043d\", \"\\u0442\\u0435\\u043b\\u0435\\u0444\\u043e\\u043d\", \"\\u0442\\u043e\\u0432\\u0430\\u0440\", \"\\u0442\\u043e\\u0432\\u0430\\u0440\", \"\\u0442\\u043e\\u0432\\u0430\\u0440\", \"\\u0442\\u043e\\u0432\\u0430\\u0440\", \"\\u0442\\u043e\\u0432\\u0430\\u0440\", \"\\u0442\\u043e\\u0432\\u0430\\u0440\", \"\\u0442\\u043e\\u0432\\u0430\\u0440\", \"\\u0442\\u0440\\u0435\\u0431\\u043e\\u0432\\u0430\\u043d\\u0438\\u0435\", \"\\u0442\\u0440\\u0435\\u0431\\u043e\\u0432\\u0430\\u043d\\u0438\\u0435\", \"\\u0442\\u0440\\u0435\\u0431\\u043e\\u0432\\u0430\\u043d\\u0438\\u0435\", \"\\u0443\\u043a\\u0430\\u0437\\u0430\\u0442\\u044c\", \"\\u0443\\u043a\\u0430\\u0437\\u0430\\u0442\\u044c\", \"\\u0443\\u043a\\u0430\\u0437\\u0430\\u0442\\u044c\", \"\\u0443\\u0441\\u043b\\u043e\\u0432\\u0438\\u0435\", \"\\u0443\\u0441\\u043b\\u043e\\u0432\\u0438\\u0435\", \"\\u0443\\u0441\\u043b\\u043e\\u0432\\u0438\\u0435\", \"\\u0443\\u0441\\u043b\\u043e\\u0432\\u0438\\u0435\", \"\\u0443\\u0441\\u043b\\u0443\\u0433\\u0430\", \"\\u0443\\u0441\\u043b\\u0443\\u0433\\u0430\", \"\\u0443\\u0441\\u043b\\u0443\\u0433\\u0430\", \"\\u0443\\u0441\\u043b\\u0443\\u0433\\u0430\", \"\\u0443\\u0441\\u0442\\u0430\\u043d\\u043e\\u0432\\u0438\\u0442\\u044c\", \"\\u0443\\u0441\\u0442\\u0430\\u043d\\u043e\\u0432\\u0438\\u0442\\u044c\", \"\\u0443\\u0441\\u0442\\u0430\\u043d\\u043e\\u0432\\u043b\\u0435\\u043d\\u043d\\u044b\\u0439\", \"\\u0443\\u0441\\u0442\\u0430\\u043d\\u043e\\u0432\\u043b\\u0435\\u043d\\u043d\\u044b\\u0439\", \"\\u0444\\u0430\\u043a\\u0442\", \"\\u0444\\u0435\\u0432\\u0440\\u0430\\u043b\\u044c\", \"\\u0444\\u0435\\u0432\\u0440\\u0430\\u043b\\u044c\", \"\\u0444\\u0435\\u0432\\u0440\\u0430\\u043b\\u044c\", \"\\u0444\\u0435\\u0432\\u0440\\u0430\\u043b\\u044c\", \"\\u0444\\u0435\\u0432\\u0440\\u0430\\u043b\\u044c\", \"\\u0444\\u043e\\u0442\\u043e\", \"\\u0444\\u043e\\u0442\\u043e\", \"\\u0444\\u043e\\u0442\\u043e\", \"\\u0444\\u043e\\u0442\\u043e\", \"\\u0446\\u0435\\u043b\\u044c\", \"\\u0446\\u0435\\u043d\\u0430\", \"\\u0446\\u0435\\u043d\\u0430\", \"\\u0446\\u0435\\u043d\\u0430\", \"\\u0447\\u0430\\u0441\\u0442\\u044c\", \"\\u0447\\u0430\\u0441\\u0442\\u044c\", \"\\u044d\\u043b\\u0435\\u043a\\u0442\\u0440\\u043e\\u043d\\u043d\\u044b\\u0439\", \"\\u044d\\u043b\\u0435\\u043a\\u0442\\u0440\\u043e\\u043d\\u043d\\u044b\\u0439\", \"\\u044f\\u0432\\u043b\\u044f\\u0442\\u044c\\u0441\\u044f\", \"\\u044f\\u0432\\u043b\\u044f\\u0442\\u044c\\u0441\\u044f\", \"\\u044f\\u0432\\u043b\\u044f\\u0442\\u044c\\u0441\\u044f\", \"\\u044f\\u0432\\u043b\\u044f\\u0442\\u044c\\u0441\\u044f\", \"\\u044f\\u043d\\u0432\\u0430\\u0440\\u044c\", \"\\u044f\\u043d\\u0432\\u0430\\u0440\\u044c\"]}, \"R\": 30, \"lambda.step\": 0.01, \"plot.opts\": {\"xlab\": \"PC1\", \"ylab\": \"PC2\"}, \"topic.order\": [6, 3, 2, 7, 5, 4, 1]};\n",
              "\n",
              "function LDAvis_load_lib(url, callback){\n",
              "  var s = document.createElement('script');\n",
              "  s.src = url;\n",
              "  s.async = true;\n",
              "  s.onreadystatechange = s.onload = callback;\n",
              "  s.onerror = function(){console.warn(\"failed to load library \" + url);};\n",
              "  document.getElementsByTagName(\"head\")[0].appendChild(s);\n",
              "}\n",
              "\n",
              "if(typeof(LDAvis) !== \"undefined\"){\n",
              "   // already loaded: just create the visualization\n",
              "   !function(LDAvis){\n",
              "       new LDAvis(\"#\" + \"ldavis_el172416355132627043470339531\", ldavis_el172416355132627043470339531_data);\n",
              "   }(LDAvis);\n",
              "}else if(typeof define === \"function\" && define.amd){\n",
              "   // require.js is available: use it to load d3/LDAvis\n",
              "   require.config({paths: {d3: \"https://d3js.org/d3.v5\"}});\n",
              "   require([\"d3\"], function(d3){\n",
              "      window.d3 = d3;\n",
              "      LDAvis_load_lib(\"https://cdn.jsdelivr.net/gh/bmabey/pyLDAvis@3.4.0/pyLDAvis/js/ldavis.v3.0.0.js\", function(){\n",
              "        new LDAvis(\"#\" + \"ldavis_el172416355132627043470339531\", ldavis_el172416355132627043470339531_data);\n",
              "      });\n",
              "    });\n",
              "}else{\n",
              "    // require.js not available: dynamically load d3 & LDAvis\n",
              "    LDAvis_load_lib(\"https://d3js.org/d3.v5.js\", function(){\n",
              "         LDAvis_load_lib(\"https://cdn.jsdelivr.net/gh/bmabey/pyLDAvis@3.4.0/pyLDAvis/js/ldavis.v3.0.0.js\", function(){\n",
              "                 new LDAvis(\"#\" + \"ldavis_el172416355132627043470339531\", ldavis_el172416355132627043470339531_data);\n",
              "            })\n",
              "         });\n",
              "}\n",
              "</script>"
            ],
            "text/plain": [
              "<IPython.core.display.HTML object>"
            ]
          },
          "execution_count": 35,
          "metadata": {},
          "output_type": "execute_result"
        }
      ],
      "source": [
        "# Обучаем модель с новым количеством тем\n",
        "\n",
        "lda_5 = ldamodel.LdaModel(corpus, id2word=dictionary, num_topics=7, chunksize=50, update_every=1, passes=2)\n",
        "vis_data = gensimvis.prepare(lda_5, corpus, dictionary)\n",
        "pyLDAvis.display(vis_data)"
      ]
    },
    {
      "cell_type": "code",
      "execution_count": null,
      "metadata": {
        "id": "Xbytp9airv6k",
        "outputId": "fe62627c-db4e-4641-f608-e6757773ee01"
      },
      "outputs": [
        {
          "data": {
            "text/plain": [
              "125    Default\n",
              "32     Default\n",
              "15     Default\n",
              "25     Default\n",
              "169    Default\n",
              "        ...   \n",
              "10      Topic7\n",
              "11      Topic7\n",
              "5       Topic7\n",
              "23      Topic7\n",
              "17      Topic7\n",
              "Name: Category, Length: 294, dtype: object"
            ]
          },
          "execution_count": 36,
          "metadata": {},
          "output_type": "execute_result"
        }
      ],
      "source": [
        "vis_data.topic_info.Category"
      ]
    },
    {
      "cell_type": "code",
      "execution_count": null,
      "metadata": {
        "id": "QkfY0X6a0aPn"
      },
      "outputs": [],
      "source": [
        "topic_names_list = vis_data.topic_info.Category.unique()"
      ]
    },
    {
      "cell_type": "code",
      "execution_count": null,
      "metadata": {
        "id": "STdOlnrasEMG",
        "outputId": "5ba91723-4939-42e2-d4b2-6d96e6db5a8d"
      },
      "outputs": [
        {
          "name": "stdout",
          "output_type": "stream",
          "text": [
            "['договор', 'компания', 'случай', 'площадка', 'москва', 'получение', 'отказываться', 'ошибка']\n",
            "['область', 'приложение', 'потребитель', 'услуга', 'банк', 'никто', 'взять', 'защита']\n",
            "['факт', 'сервис', 'пройти', 'покупка', 'доставить', 'интернет', 'купить', 'смочь']\n",
            "['цель', 'полный', 'лицо', 'установить', 'установленный', 'находиться', 'требование', 'район']\n",
            "['согласно', 'направить', 'ждать', 'январь', 'оператор', 'слово', 'отсутствие', 'предоставить']\n",
            "['онлайн', 'мера', 'делать', 'предложить', 'возможность', 'карта', 'принять', 'часть']\n",
            "['заранее', 'продажа', 'цена', 'просьба', 'указать', 'жалоба', 'продавец', 'ответственность']\n"
          ]
        }
      ],
      "source": [
        "for topic_name in topic_names_list[1:]:\n",
        "  print(list(vis_data.topic_info.loc[vis_data.topic_info.Category == topic_name].Term[:8]))"
      ]
    },
    {
      "cell_type": "markdown",
      "source": [
        "1) Оказание услуг по договору\n",
        "\n",
        "2) Защита потребителя\n",
        "\n",
        "3) Интернет доставка\n",
        "\n",
        "4) Не смог интерпретировать\n",
        "\n",
        "5) Не смог интерпретировать\n",
        "\n",
        "6) Проблема с онлайн работой карты\n",
        "\n",
        "7) Проблема в покупке.\n",
        "\n",
        "В целом всё достаточно сложно интрепретировать однозначно эти вопросы. Возможно следует улучшить фильтрацию."
      ],
      "metadata": {
        "id": "sBR1lCIP0diW"
      }
    },
    {
      "cell_type": "markdown",
      "source": [
        "Также стандартные версии библиотек на колабе выдавали где-то ошибки. Делал всё локально. Так что возможно чистый запуск в колабе не сработает."
      ],
      "metadata": {
        "id": "UmVurof31sK8"
      }
    }
  ],
  "metadata": {
    "colab": {
      "provenance": [],
      "include_colab_link": true
    },
    "kernelspec": {
      "display_name": "Python 3 (ipykernel)",
      "language": "python",
      "name": "python3"
    },
    "language_info": {
      "codemirror_mode": {
        "name": "ipython",
        "version": 3
      },
      "file_extension": ".py",
      "mimetype": "text/x-python",
      "name": "python",
      "nbconvert_exporter": "python",
      "pygments_lexer": "ipython3",
      "version": "3.9.13"
    },
    "widgets": {
      "application/vnd.jupyter.widget-state+json": {
        "021b90f34ff54945bdcdf7ca956237e5": {
          "model_module": "@jupyter-widgets/controls",
          "model_module_version": "1.5.0",
          "model_name": "HTMLModel",
          "state": {
            "_dom_classes": [],
            "_model_module": "@jupyter-widgets/controls",
            "_model_module_version": "1.5.0",
            "_model_name": "HTMLModel",
            "_view_count": null,
            "_view_module": "@jupyter-widgets/controls",
            "_view_module_version": "1.5.0",
            "_view_name": "HTMLView",
            "description": "",
            "description_tooltip": null,
            "layout": "IPY_MODEL_76eebdd8b53d42e083468b59010e840c",
            "placeholder": "​",
            "style": "IPY_MODEL_da51bbc870f340a0bdb08c156d5487c8",
            "value": " 245/245 [04:47&lt;00:00,  1.14s/it]"
          }
        },
        "0563ea62f3f0456cb4f771e6e83e551f": {
          "model_module": "@jupyter-widgets/controls",
          "model_module_version": "1.5.0",
          "model_name": "HTMLModel",
          "state": {
            "_dom_classes": [],
            "_model_module": "@jupyter-widgets/controls",
            "_model_module_version": "1.5.0",
            "_model_name": "HTMLModel",
            "_view_count": null,
            "_view_module": "@jupyter-widgets/controls",
            "_view_module_version": "1.5.0",
            "_view_name": "HTMLView",
            "description": "",
            "description_tooltip": null,
            "layout": "IPY_MODEL_6100800a5c1f4b85806e83e5489a4d5d",
            "placeholder": "​",
            "style": "IPY_MODEL_edb2cf7d43d94671b9ee9b27821c538d",
            "value": "Pages: 100%"
          }
        },
        "13568200aed44d0ba1ce6893f98fe236": {
          "model_module": "@jupyter-widgets/controls",
          "model_module_version": "1.5.0",
          "model_name": "DescriptionStyleModel",
          "state": {
            "_model_module": "@jupyter-widgets/controls",
            "_model_module_version": "1.5.0",
            "_model_name": "DescriptionStyleModel",
            "_view_count": null,
            "_view_module": "@jupyter-widgets/base",
            "_view_module_version": "1.2.0",
            "_view_name": "StyleView",
            "description_width": ""
          }
        },
        "2c3091498cd248bab53b0563e56a297a": {
          "model_module": "@jupyter-widgets/base",
          "model_module_version": "1.2.0",
          "model_name": "LayoutModel",
          "state": {
            "_model_module": "@jupyter-widgets/base",
            "_model_module_version": "1.2.0",
            "_model_name": "LayoutModel",
            "_view_count": null,
            "_view_module": "@jupyter-widgets/base",
            "_view_module_version": "1.2.0",
            "_view_name": "LayoutView",
            "align_content": null,
            "align_items": null,
            "align_self": null,
            "border": null,
            "bottom": null,
            "display": null,
            "flex": null,
            "flex_flow": null,
            "grid_area": null,
            "grid_auto_columns": null,
            "grid_auto_flow": null,
            "grid_auto_rows": null,
            "grid_column": null,
            "grid_gap": null,
            "grid_row": null,
            "grid_template_areas": null,
            "grid_template_columns": null,
            "grid_template_rows": null,
            "height": null,
            "justify_content": null,
            "justify_items": null,
            "left": null,
            "margin": null,
            "max_height": null,
            "max_width": null,
            "min_height": null,
            "min_width": null,
            "object_fit": null,
            "object_position": null,
            "order": null,
            "overflow": null,
            "overflow_x": null,
            "overflow_y": null,
            "padding": null,
            "right": null,
            "top": null,
            "visibility": null,
            "width": null
          }
        },
        "2fc826065de04b8b92c921aaf9540f42": {
          "model_module": "@jupyter-widgets/controls",
          "model_module_version": "1.5.0",
          "model_name": "ProgressStyleModel",
          "state": {
            "_model_module": "@jupyter-widgets/controls",
            "_model_module_version": "1.5.0",
            "_model_name": "ProgressStyleModel",
            "_view_count": null,
            "_view_module": "@jupyter-widgets/base",
            "_view_module_version": "1.2.0",
            "_view_name": "StyleView",
            "bar_color": null,
            "description_width": ""
          }
        },
        "3c84a27beb8d4a54b1be44f5bd15549f": {
          "model_module": "@jupyter-widgets/base",
          "model_module_version": "1.2.0",
          "model_name": "LayoutModel",
          "state": {
            "_model_module": "@jupyter-widgets/base",
            "_model_module_version": "1.2.0",
            "_model_name": "LayoutModel",
            "_view_count": null,
            "_view_module": "@jupyter-widgets/base",
            "_view_module_version": "1.2.0",
            "_view_name": "LayoutView",
            "align_content": null,
            "align_items": null,
            "align_self": null,
            "border": null,
            "bottom": null,
            "display": null,
            "flex": null,
            "flex_flow": null,
            "grid_area": null,
            "grid_auto_columns": null,
            "grid_auto_flow": null,
            "grid_auto_rows": null,
            "grid_column": null,
            "grid_gap": null,
            "grid_row": null,
            "grid_template_areas": null,
            "grid_template_columns": null,
            "grid_template_rows": null,
            "height": null,
            "justify_content": null,
            "justify_items": null,
            "left": null,
            "margin": null,
            "max_height": null,
            "max_width": null,
            "min_height": null,
            "min_width": null,
            "object_fit": null,
            "object_position": null,
            "order": null,
            "overflow": null,
            "overflow_x": null,
            "overflow_y": null,
            "padding": null,
            "right": null,
            "top": null,
            "visibility": null,
            "width": null
          }
        },
        "46ef1a8d306b4ed08864c24584b2a3f6": {
          "model_module": "@jupyter-widgets/controls",
          "model_module_version": "1.5.0",
          "model_name": "HBoxModel",
          "state": {
            "_dom_classes": [],
            "_model_module": "@jupyter-widgets/controls",
            "_model_module_version": "1.5.0",
            "_model_name": "HBoxModel",
            "_view_count": null,
            "_view_module": "@jupyter-widgets/controls",
            "_view_module_version": "1.5.0",
            "_view_name": "HBoxView",
            "box_style": "",
            "children": [
              "IPY_MODEL_b5a6150b2da3448da650e018f8b423f5",
              "IPY_MODEL_8ef7d1e7610f44bc9d08e01fbd4bbc7f",
              "IPY_MODEL_dd8c40e8a7fe407b9b781bc9fc609f2b"
            ],
            "layout": "IPY_MODEL_3c84a27beb8d4a54b1be44f5bd15549f"
          }
        },
        "48438aaac13549169f745b2698851795": {
          "model_module": "@jupyter-widgets/controls",
          "model_module_version": "1.5.0",
          "model_name": "HTMLModel",
          "state": {
            "_dom_classes": [],
            "_model_module": "@jupyter-widgets/controls",
            "_model_module_version": "1.5.0",
            "_model_name": "HTMLModel",
            "_view_count": null,
            "_view_module": "@jupyter-widgets/controls",
            "_view_module_version": "1.5.0",
            "_view_name": "HTMLView",
            "description": "",
            "description_tooltip": null,
            "layout": "IPY_MODEL_92f8d3f99b894d92a12aa25b47d0c671",
            "placeholder": "​",
            "style": "IPY_MODEL_13568200aed44d0ba1ce6893f98fe236",
            "value": "Pages: 100%"
          }
        },
        "5b5fbd6d59b544998cee0eceed857106": {
          "model_module": "@jupyter-widgets/base",
          "model_module_version": "1.2.0",
          "model_name": "LayoutModel",
          "state": {
            "_model_module": "@jupyter-widgets/base",
            "_model_module_version": "1.2.0",
            "_model_name": "LayoutModel",
            "_view_count": null,
            "_view_module": "@jupyter-widgets/base",
            "_view_module_version": "1.2.0",
            "_view_name": "LayoutView",
            "align_content": null,
            "align_items": null,
            "align_self": null,
            "border": null,
            "bottom": null,
            "display": null,
            "flex": null,
            "flex_flow": null,
            "grid_area": null,
            "grid_auto_columns": null,
            "grid_auto_flow": null,
            "grid_auto_rows": null,
            "grid_column": null,
            "grid_gap": null,
            "grid_row": null,
            "grid_template_areas": null,
            "grid_template_columns": null,
            "grid_template_rows": null,
            "height": null,
            "justify_content": null,
            "justify_items": null,
            "left": null,
            "margin": null,
            "max_height": null,
            "max_width": null,
            "min_height": null,
            "min_width": null,
            "object_fit": null,
            "object_position": null,
            "order": null,
            "overflow": null,
            "overflow_x": null,
            "overflow_y": null,
            "padding": null,
            "right": null,
            "top": null,
            "visibility": null,
            "width": null
          }
        },
        "5fcf8ae67ce4429c8da3fdbe00b4c3cb": {
          "model_module": "@jupyter-widgets/controls",
          "model_module_version": "1.5.0",
          "model_name": "ProgressStyleModel",
          "state": {
            "_model_module": "@jupyter-widgets/controls",
            "_model_module_version": "1.5.0",
            "_model_name": "ProgressStyleModel",
            "_view_count": null,
            "_view_module": "@jupyter-widgets/base",
            "_view_module_version": "1.2.0",
            "_view_name": "StyleView",
            "bar_color": null,
            "description_width": ""
          }
        },
        "6100800a5c1f4b85806e83e5489a4d5d": {
          "model_module": "@jupyter-widgets/base",
          "model_module_version": "1.2.0",
          "model_name": "LayoutModel",
          "state": {
            "_model_module": "@jupyter-widgets/base",
            "_model_module_version": "1.2.0",
            "_model_name": "LayoutModel",
            "_view_count": null,
            "_view_module": "@jupyter-widgets/base",
            "_view_module_version": "1.2.0",
            "_view_name": "LayoutView",
            "align_content": null,
            "align_items": null,
            "align_self": null,
            "border": null,
            "bottom": null,
            "display": null,
            "flex": null,
            "flex_flow": null,
            "grid_area": null,
            "grid_auto_columns": null,
            "grid_auto_flow": null,
            "grid_auto_rows": null,
            "grid_column": null,
            "grid_gap": null,
            "grid_row": null,
            "grid_template_areas": null,
            "grid_template_columns": null,
            "grid_template_rows": null,
            "height": null,
            "justify_content": null,
            "justify_items": null,
            "left": null,
            "margin": null,
            "max_height": null,
            "max_width": null,
            "min_height": null,
            "min_width": null,
            "object_fit": null,
            "object_position": null,
            "order": null,
            "overflow": null,
            "overflow_x": null,
            "overflow_y": null,
            "padding": null,
            "right": null,
            "top": null,
            "visibility": null,
            "width": null
          }
        },
        "76eebdd8b53d42e083468b59010e840c": {
          "model_module": "@jupyter-widgets/base",
          "model_module_version": "1.2.0",
          "model_name": "LayoutModel",
          "state": {
            "_model_module": "@jupyter-widgets/base",
            "_model_module_version": "1.2.0",
            "_model_name": "LayoutModel",
            "_view_count": null,
            "_view_module": "@jupyter-widgets/base",
            "_view_module_version": "1.2.0",
            "_view_name": "LayoutView",
            "align_content": null,
            "align_items": null,
            "align_self": null,
            "border": null,
            "bottom": null,
            "display": null,
            "flex": null,
            "flex_flow": null,
            "grid_area": null,
            "grid_auto_columns": null,
            "grid_auto_flow": null,
            "grid_auto_rows": null,
            "grid_column": null,
            "grid_gap": null,
            "grid_row": null,
            "grid_template_areas": null,
            "grid_template_columns": null,
            "grid_template_rows": null,
            "height": null,
            "justify_content": null,
            "justify_items": null,
            "left": null,
            "margin": null,
            "max_height": null,
            "max_width": null,
            "min_height": null,
            "min_width": null,
            "object_fit": null,
            "object_position": null,
            "order": null,
            "overflow": null,
            "overflow_x": null,
            "overflow_y": null,
            "padding": null,
            "right": null,
            "top": null,
            "visibility": null,
            "width": null
          }
        },
        "7eb83834e531408f855a01e64d34ec7d": {
          "model_module": "@jupyter-widgets/controls",
          "model_module_version": "1.5.0",
          "model_name": "DescriptionStyleModel",
          "state": {
            "_model_module": "@jupyter-widgets/controls",
            "_model_module_version": "1.5.0",
            "_model_name": "DescriptionStyleModel",
            "_view_count": null,
            "_view_module": "@jupyter-widgets/base",
            "_view_module_version": "1.2.0",
            "_view_name": "StyleView",
            "description_width": ""
          }
        },
        "8725d11b9dbf4ba7b21ad751417d9ba8": {
          "model_module": "@jupyter-widgets/base",
          "model_module_version": "1.2.0",
          "model_name": "LayoutModel",
          "state": {
            "_model_module": "@jupyter-widgets/base",
            "_model_module_version": "1.2.0",
            "_model_name": "LayoutModel",
            "_view_count": null,
            "_view_module": "@jupyter-widgets/base",
            "_view_module_version": "1.2.0",
            "_view_name": "LayoutView",
            "align_content": null,
            "align_items": null,
            "align_self": null,
            "border": null,
            "bottom": null,
            "display": null,
            "flex": null,
            "flex_flow": null,
            "grid_area": null,
            "grid_auto_columns": null,
            "grid_auto_flow": null,
            "grid_auto_rows": null,
            "grid_column": null,
            "grid_gap": null,
            "grid_row": null,
            "grid_template_areas": null,
            "grid_template_columns": null,
            "grid_template_rows": null,
            "height": null,
            "justify_content": null,
            "justify_items": null,
            "left": null,
            "margin": null,
            "max_height": null,
            "max_width": null,
            "min_height": null,
            "min_width": null,
            "object_fit": null,
            "object_position": null,
            "order": null,
            "overflow": null,
            "overflow_x": null,
            "overflow_y": null,
            "padding": null,
            "right": null,
            "top": null,
            "visibility": null,
            "width": null
          }
        },
        "8e1859df3f894d7b9a9604f587be5fb0": {
          "model_module": "@jupyter-widgets/controls",
          "model_module_version": "1.5.0",
          "model_name": "DescriptionStyleModel",
          "state": {
            "_model_module": "@jupyter-widgets/controls",
            "_model_module_version": "1.5.0",
            "_model_name": "DescriptionStyleModel",
            "_view_count": null,
            "_view_module": "@jupyter-widgets/base",
            "_view_module_version": "1.2.0",
            "_view_name": "StyleView",
            "description_width": ""
          }
        },
        "8ef7d1e7610f44bc9d08e01fbd4bbc7f": {
          "model_module": "@jupyter-widgets/controls",
          "model_module_version": "1.5.0",
          "model_name": "FloatProgressModel",
          "state": {
            "_dom_classes": [],
            "_model_module": "@jupyter-widgets/controls",
            "_model_module_version": "1.5.0",
            "_model_name": "FloatProgressModel",
            "_view_count": null,
            "_view_module": "@jupyter-widgets/controls",
            "_view_module_version": "1.5.0",
            "_view_name": "ProgressView",
            "bar_style": "success",
            "description": "",
            "description_tooltip": null,
            "layout": "IPY_MODEL_5b5fbd6d59b544998cee0eceed857106",
            "max": 245,
            "min": 0,
            "orientation": "horizontal",
            "style": "IPY_MODEL_5fcf8ae67ce4429c8da3fdbe00b4c3cb",
            "value": 245
          }
        },
        "92f8d3f99b894d92a12aa25b47d0c671": {
          "model_module": "@jupyter-widgets/base",
          "model_module_version": "1.2.0",
          "model_name": "LayoutModel",
          "state": {
            "_model_module": "@jupyter-widgets/base",
            "_model_module_version": "1.2.0",
            "_model_name": "LayoutModel",
            "_view_count": null,
            "_view_module": "@jupyter-widgets/base",
            "_view_module_version": "1.2.0",
            "_view_name": "LayoutView",
            "align_content": null,
            "align_items": null,
            "align_self": null,
            "border": null,
            "bottom": null,
            "display": null,
            "flex": null,
            "flex_flow": null,
            "grid_area": null,
            "grid_auto_columns": null,
            "grid_auto_flow": null,
            "grid_auto_rows": null,
            "grid_column": null,
            "grid_gap": null,
            "grid_row": null,
            "grid_template_areas": null,
            "grid_template_columns": null,
            "grid_template_rows": null,
            "height": null,
            "justify_content": null,
            "justify_items": null,
            "left": null,
            "margin": null,
            "max_height": null,
            "max_width": null,
            "min_height": null,
            "min_width": null,
            "object_fit": null,
            "object_position": null,
            "order": null,
            "overflow": null,
            "overflow_x": null,
            "overflow_y": null,
            "padding": null,
            "right": null,
            "top": null,
            "visibility": null,
            "width": null
          }
        },
        "987f125be224405ca2d514511e5d43a9": {
          "model_module": "@jupyter-widgets/controls",
          "model_module_version": "1.5.0",
          "model_name": "FloatProgressModel",
          "state": {
            "_dom_classes": [],
            "_model_module": "@jupyter-widgets/controls",
            "_model_module_version": "1.5.0",
            "_model_name": "FloatProgressModel",
            "_view_count": null,
            "_view_module": "@jupyter-widgets/controls",
            "_view_module_version": "1.5.0",
            "_view_name": "ProgressView",
            "bar_style": "success",
            "description": "",
            "description_tooltip": null,
            "layout": "IPY_MODEL_9f7b581f13754eadab17630349ea67c9",
            "max": 245,
            "min": 0,
            "orientation": "horizontal",
            "style": "IPY_MODEL_2fc826065de04b8b92c921aaf9540f42",
            "value": 245
          }
        },
        "9f7b581f13754eadab17630349ea67c9": {
          "model_module": "@jupyter-widgets/base",
          "model_module_version": "1.2.0",
          "model_name": "LayoutModel",
          "state": {
            "_model_module": "@jupyter-widgets/base",
            "_model_module_version": "1.2.0",
            "_model_name": "LayoutModel",
            "_view_count": null,
            "_view_module": "@jupyter-widgets/base",
            "_view_module_version": "1.2.0",
            "_view_name": "LayoutView",
            "align_content": null,
            "align_items": null,
            "align_self": null,
            "border": null,
            "bottom": null,
            "display": null,
            "flex": null,
            "flex_flow": null,
            "grid_area": null,
            "grid_auto_columns": null,
            "grid_auto_flow": null,
            "grid_auto_rows": null,
            "grid_column": null,
            "grid_gap": null,
            "grid_row": null,
            "grid_template_areas": null,
            "grid_template_columns": null,
            "grid_template_rows": null,
            "height": null,
            "justify_content": null,
            "justify_items": null,
            "left": null,
            "margin": null,
            "max_height": null,
            "max_width": null,
            "min_height": null,
            "min_width": null,
            "object_fit": null,
            "object_position": null,
            "order": null,
            "overflow": null,
            "overflow_x": null,
            "overflow_y": null,
            "padding": null,
            "right": null,
            "top": null,
            "visibility": null,
            "width": null
          }
        },
        "a7c220da2c29410aa7d7a0d26de5d462": {
          "model_module": "@jupyter-widgets/controls",
          "model_module_version": "1.5.0",
          "model_name": "HTMLModel",
          "state": {
            "_dom_classes": [],
            "_model_module": "@jupyter-widgets/controls",
            "_model_module_version": "1.5.0",
            "_model_name": "HTMLModel",
            "_view_count": null,
            "_view_module": "@jupyter-widgets/controls",
            "_view_module_version": "1.5.0",
            "_view_name": "HTMLView",
            "description": "",
            "description_tooltip": null,
            "layout": "IPY_MODEL_f9dd5392ab9a4381aee44e4b2a884c49",
            "placeholder": "​",
            "style": "IPY_MODEL_8e1859df3f894d7b9a9604f587be5fb0",
            "value": " 49/49 [00:55&lt;00:00,  1.07s/it]"
          }
        },
        "a81b18d22c9b4b19b88daacb06d6efb8": {
          "model_module": "@jupyter-widgets/controls",
          "model_module_version": "1.5.0",
          "model_name": "ProgressStyleModel",
          "state": {
            "_model_module": "@jupyter-widgets/controls",
            "_model_module_version": "1.5.0",
            "_model_name": "ProgressStyleModel",
            "_view_count": null,
            "_view_module": "@jupyter-widgets/base",
            "_view_module_version": "1.2.0",
            "_view_name": "StyleView",
            "bar_color": null,
            "description_width": ""
          }
        },
        "abeffdd2749f4ee9a178127666218b68": {
          "model_module": "@jupyter-widgets/controls",
          "model_module_version": "1.5.0",
          "model_name": "HBoxModel",
          "state": {
            "_dom_classes": [],
            "_model_module": "@jupyter-widgets/controls",
            "_model_module_version": "1.5.0",
            "_model_name": "HBoxModel",
            "_view_count": null,
            "_view_module": "@jupyter-widgets/controls",
            "_view_module_version": "1.5.0",
            "_view_name": "HBoxView",
            "box_style": "",
            "children": [
              "IPY_MODEL_48438aaac13549169f745b2698851795",
              "IPY_MODEL_987f125be224405ca2d514511e5d43a9",
              "IPY_MODEL_021b90f34ff54945bdcdf7ca956237e5"
            ],
            "layout": "IPY_MODEL_fff313987d4e41de9a7165bb07bd3164"
          }
        },
        "b5a6150b2da3448da650e018f8b423f5": {
          "model_module": "@jupyter-widgets/controls",
          "model_module_version": "1.5.0",
          "model_name": "HTMLModel",
          "state": {
            "_dom_classes": [],
            "_model_module": "@jupyter-widgets/controls",
            "_model_module_version": "1.5.0",
            "_model_name": "HTMLModel",
            "_view_count": null,
            "_view_module": "@jupyter-widgets/controls",
            "_view_module_version": "1.5.0",
            "_view_name": "HTMLView",
            "description": "",
            "description_tooltip": null,
            "layout": "IPY_MODEL_8725d11b9dbf4ba7b21ad751417d9ba8",
            "placeholder": "​",
            "style": "IPY_MODEL_7eb83834e531408f855a01e64d34ec7d",
            "value": "100%"
          }
        },
        "d9ddfcd2d37d4a848e41cdfa2a0b1c24": {
          "model_module": "@jupyter-widgets/base",
          "model_module_version": "1.2.0",
          "model_name": "LayoutModel",
          "state": {
            "_model_module": "@jupyter-widgets/base",
            "_model_module_version": "1.2.0",
            "_model_name": "LayoutModel",
            "_view_count": null,
            "_view_module": "@jupyter-widgets/base",
            "_view_module_version": "1.2.0",
            "_view_name": "LayoutView",
            "align_content": null,
            "align_items": null,
            "align_self": null,
            "border": null,
            "bottom": null,
            "display": null,
            "flex": null,
            "flex_flow": null,
            "grid_area": null,
            "grid_auto_columns": null,
            "grid_auto_flow": null,
            "grid_auto_rows": null,
            "grid_column": null,
            "grid_gap": null,
            "grid_row": null,
            "grid_template_areas": null,
            "grid_template_columns": null,
            "grid_template_rows": null,
            "height": null,
            "justify_content": null,
            "justify_items": null,
            "left": null,
            "margin": null,
            "max_height": null,
            "max_width": null,
            "min_height": null,
            "min_width": null,
            "object_fit": null,
            "object_position": null,
            "order": null,
            "overflow": null,
            "overflow_x": null,
            "overflow_y": null,
            "padding": null,
            "right": null,
            "top": null,
            "visibility": null,
            "width": null
          }
        },
        "da51bbc870f340a0bdb08c156d5487c8": {
          "model_module": "@jupyter-widgets/controls",
          "model_module_version": "1.5.0",
          "model_name": "DescriptionStyleModel",
          "state": {
            "_model_module": "@jupyter-widgets/controls",
            "_model_module_version": "1.5.0",
            "_model_name": "DescriptionStyleModel",
            "_view_count": null,
            "_view_module": "@jupyter-widgets/base",
            "_view_module_version": "1.2.0",
            "_view_name": "StyleView",
            "description_width": ""
          }
        },
        "dd8c40e8a7fe407b9b781bc9fc609f2b": {
          "model_module": "@jupyter-widgets/controls",
          "model_module_version": "1.5.0",
          "model_name": "HTMLModel",
          "state": {
            "_dom_classes": [],
            "_model_module": "@jupyter-widgets/controls",
            "_model_module_version": "1.5.0",
            "_model_name": "HTMLModel",
            "_view_count": null,
            "_view_module": "@jupyter-widgets/controls",
            "_view_module_version": "1.5.0",
            "_view_name": "HTMLView",
            "description": "",
            "description_tooltip": null,
            "layout": "IPY_MODEL_d9ddfcd2d37d4a848e41cdfa2a0b1c24",
            "placeholder": "​",
            "style": "IPY_MODEL_e984ffd8cfb5480b9c79714f7c3b3a43",
            "value": " 245/245 [00:31&lt;00:00,  3.36it/s]"
          }
        },
        "e189bfa17a3042b7a3e785378382850f": {
          "model_module": "@jupyter-widgets/controls",
          "model_module_version": "1.5.0",
          "model_name": "HBoxModel",
          "state": {
            "_dom_classes": [],
            "_model_module": "@jupyter-widgets/controls",
            "_model_module_version": "1.5.0",
            "_model_name": "HBoxModel",
            "_view_count": null,
            "_view_module": "@jupyter-widgets/controls",
            "_view_module_version": "1.5.0",
            "_view_name": "HBoxView",
            "box_style": "",
            "children": [
              "IPY_MODEL_0563ea62f3f0456cb4f771e6e83e551f",
              "IPY_MODEL_e8c3ff7cf1da4830b5c241834075b125",
              "IPY_MODEL_a7c220da2c29410aa7d7a0d26de5d462"
            ],
            "layout": "IPY_MODEL_2c3091498cd248bab53b0563e56a297a"
          }
        },
        "e8c3ff7cf1da4830b5c241834075b125": {
          "model_module": "@jupyter-widgets/controls",
          "model_module_version": "1.5.0",
          "model_name": "FloatProgressModel",
          "state": {
            "_dom_classes": [],
            "_model_module": "@jupyter-widgets/controls",
            "_model_module_version": "1.5.0",
            "_model_name": "FloatProgressModel",
            "_view_count": null,
            "_view_module": "@jupyter-widgets/controls",
            "_view_module_version": "1.5.0",
            "_view_name": "ProgressView",
            "bar_style": "success",
            "description": "",
            "description_tooltip": null,
            "layout": "IPY_MODEL_ec17688ec9dd41a2b6390c395fd6b5f8",
            "max": 49,
            "min": 0,
            "orientation": "horizontal",
            "style": "IPY_MODEL_a81b18d22c9b4b19b88daacb06d6efb8",
            "value": 49
          }
        },
        "e984ffd8cfb5480b9c79714f7c3b3a43": {
          "model_module": "@jupyter-widgets/controls",
          "model_module_version": "1.5.0",
          "model_name": "DescriptionStyleModel",
          "state": {
            "_model_module": "@jupyter-widgets/controls",
            "_model_module_version": "1.5.0",
            "_model_name": "DescriptionStyleModel",
            "_view_count": null,
            "_view_module": "@jupyter-widgets/base",
            "_view_module_version": "1.2.0",
            "_view_name": "StyleView",
            "description_width": ""
          }
        },
        "ec17688ec9dd41a2b6390c395fd6b5f8": {
          "model_module": "@jupyter-widgets/base",
          "model_module_version": "1.2.0",
          "model_name": "LayoutModel",
          "state": {
            "_model_module": "@jupyter-widgets/base",
            "_model_module_version": "1.2.0",
            "_model_name": "LayoutModel",
            "_view_count": null,
            "_view_module": "@jupyter-widgets/base",
            "_view_module_version": "1.2.0",
            "_view_name": "LayoutView",
            "align_content": null,
            "align_items": null,
            "align_self": null,
            "border": null,
            "bottom": null,
            "display": null,
            "flex": null,
            "flex_flow": null,
            "grid_area": null,
            "grid_auto_columns": null,
            "grid_auto_flow": null,
            "grid_auto_rows": null,
            "grid_column": null,
            "grid_gap": null,
            "grid_row": null,
            "grid_template_areas": null,
            "grid_template_columns": null,
            "grid_template_rows": null,
            "height": null,
            "justify_content": null,
            "justify_items": null,
            "left": null,
            "margin": null,
            "max_height": null,
            "max_width": null,
            "min_height": null,
            "min_width": null,
            "object_fit": null,
            "object_position": null,
            "order": null,
            "overflow": null,
            "overflow_x": null,
            "overflow_y": null,
            "padding": null,
            "right": null,
            "top": null,
            "visibility": null,
            "width": null
          }
        },
        "edb2cf7d43d94671b9ee9b27821c538d": {
          "model_module": "@jupyter-widgets/controls",
          "model_module_version": "1.5.0",
          "model_name": "DescriptionStyleModel",
          "state": {
            "_model_module": "@jupyter-widgets/controls",
            "_model_module_version": "1.5.0",
            "_model_name": "DescriptionStyleModel",
            "_view_count": null,
            "_view_module": "@jupyter-widgets/base",
            "_view_module_version": "1.2.0",
            "_view_name": "StyleView",
            "description_width": ""
          }
        },
        "f9dd5392ab9a4381aee44e4b2a884c49": {
          "model_module": "@jupyter-widgets/base",
          "model_module_version": "1.2.0",
          "model_name": "LayoutModel",
          "state": {
            "_model_module": "@jupyter-widgets/base",
            "_model_module_version": "1.2.0",
            "_model_name": "LayoutModel",
            "_view_count": null,
            "_view_module": "@jupyter-widgets/base",
            "_view_module_version": "1.2.0",
            "_view_name": "LayoutView",
            "align_content": null,
            "align_items": null,
            "align_self": null,
            "border": null,
            "bottom": null,
            "display": null,
            "flex": null,
            "flex_flow": null,
            "grid_area": null,
            "grid_auto_columns": null,
            "grid_auto_flow": null,
            "grid_auto_rows": null,
            "grid_column": null,
            "grid_gap": null,
            "grid_row": null,
            "grid_template_areas": null,
            "grid_template_columns": null,
            "grid_template_rows": null,
            "height": null,
            "justify_content": null,
            "justify_items": null,
            "left": null,
            "margin": null,
            "max_height": null,
            "max_width": null,
            "min_height": null,
            "min_width": null,
            "object_fit": null,
            "object_position": null,
            "order": null,
            "overflow": null,
            "overflow_x": null,
            "overflow_y": null,
            "padding": null,
            "right": null,
            "top": null,
            "visibility": null,
            "width": null
          }
        },
        "fff313987d4e41de9a7165bb07bd3164": {
          "model_module": "@jupyter-widgets/base",
          "model_module_version": "1.2.0",
          "model_name": "LayoutModel",
          "state": {
            "_model_module": "@jupyter-widgets/base",
            "_model_module_version": "1.2.0",
            "_model_name": "LayoutModel",
            "_view_count": null,
            "_view_module": "@jupyter-widgets/base",
            "_view_module_version": "1.2.0",
            "_view_name": "LayoutView",
            "align_content": null,
            "align_items": null,
            "align_self": null,
            "border": null,
            "bottom": null,
            "display": null,
            "flex": null,
            "flex_flow": null,
            "grid_area": null,
            "grid_auto_columns": null,
            "grid_auto_flow": null,
            "grid_auto_rows": null,
            "grid_column": null,
            "grid_gap": null,
            "grid_row": null,
            "grid_template_areas": null,
            "grid_template_columns": null,
            "grid_template_rows": null,
            "height": null,
            "justify_content": null,
            "justify_items": null,
            "left": null,
            "margin": null,
            "max_height": null,
            "max_width": null,
            "min_height": null,
            "min_width": null,
            "object_fit": null,
            "object_position": null,
            "order": null,
            "overflow": null,
            "overflow_x": null,
            "overflow_y": null,
            "padding": null,
            "right": null,
            "top": null,
            "visibility": null,
            "width": null
          }
        }
      }
    }
  },
  "nbformat": 4,
  "nbformat_minor": 0
}
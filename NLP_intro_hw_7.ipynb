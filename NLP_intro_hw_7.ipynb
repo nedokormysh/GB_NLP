{
  "nbformat": 4,
  "nbformat_minor": 0,
  "metadata": {
    "colab": {
      "provenance": [],
      "authorship_tag": "ABX9TyNZWQZBYYpm9uu7oRh2DCXC",
      "include_colab_link": true
    },
    "kernelspec": {
      "name": "python3",
      "display_name": "Python 3"
    },
    "language_info": {
      "name": "python"
    }
  },
  "cells": [
    {
      "cell_type": "markdown",
      "metadata": {
        "id": "view-in-github",
        "colab_type": "text"
      },
      "source": [
        "<a href=\"https://colab.research.google.com/github/nedokormysh/GB_NLP_intro/blob/lesson7/NLP_intro_hw_7.ipynb\" target=\"_parent\"><img src=\"https://colab.research.google.com/assets/colab-badge.svg\" alt=\"Open In Colab\"/></a>"
      ]
    },
    {
      "cell_type": "markdown",
      "source": [
        "#Практическое задание к уроку 7 по теме \"Сверточные нейронные сети для анализа текста\".\n",
        "Взять датасет отзывов за лето (из архива с материалами или предыдущего занятия)\n",
        "Обучить conv сеть в двух вариантах:\n",
        "\n",
        "Инициализировать Embedding предобученными векторами, взять к примеру с https://rusvectores.org/ru/.\n",
        "\n",
        "Инициализировать слой Embedding по умолчанию (ну то есть ничего не делать с весами)\n",
        "\n",
        "Сравнить две архитектуры с предобученными весами и когда Embedding обучается сразу со всей сетью, что получилось лучше.\n",
        "\n",
        "Загрузим библиотеки и датасет:"
      ],
      "metadata": {
        "id": "6Mgsb8KRifRP"
      }
    },
    {
      "cell_type": "code",
      "execution_count": 47,
      "metadata": {
        "id": "cN6RCcBdBS6b"
      },
      "outputs": [],
      "source": [
        "%matplotlib inline\n",
        "\n",
        "from collections import Counter\n",
        "import matplotlib.pyplot as plt\n",
        "import numpy as np\n",
        "import pandas as pd\n",
        "# from pymorphy2 import MorphAnalyzer\n",
        "# from razdel import tokenize\n",
        "import re\n",
        "from sklearn.feature_extraction.text import TfidfVectorizer\n",
        "from sklearn.linear_model import LogisticRegression\n",
        "from sklearn.metrics import classification_report, roc_auc_score\n",
        "from sklearn.model_selection import train_test_split\n",
        "from sklearn.pipeline import make_pipeline\n",
        "from sklearn.preprocessing import MaxAbsScaler\n",
        "# from stop_words import get_stop_words\n",
        "from string import punctuation\n",
        "import torch\n",
        "from torch import nn\n",
        "# from torchinfo import summary\n",
        "from tqdm import tqdm\n",
        "# from transformers import AutoTokenizer, AutoModelForMaskedLM"
      ]
    },
    {
      "cell_type": "code",
      "source": [
        "!pip install torchinfo -q"
      ],
      "metadata": {
        "id": "vOhrxQMzj5tB"
      },
      "execution_count": 48,
      "outputs": []
    },
    {
      "cell_type": "code",
      "source": [
        "from torchinfo import summary"
      ],
      "metadata": {
        "id": "JC4xRNhdkAHR"
      },
      "execution_count": 49,
      "outputs": []
    },
    {
      "cell_type": "code",
      "source": [
        "df = pd.read_excel('https://github.com/nedokormysh/GB_NLP_intro/blob/lesson7/%D0%BE%D1%82%D0%B7%D1%8B%D0%B2%D1%8B%20%D0%B7%D0%B0%20%D0%BB%D0%B5%D1%82%D0%BE.xls?raw=true')\n",
        "df"
      ],
      "metadata": {
        "colab": {
          "base_uri": "https://localhost:8080/",
          "height": 424
        },
        "id": "ZK1XRv97m6rY",
        "outputId": "24c1c7d5-f118-4b97-ed56-2125c0ec9aa9"
      },
      "execution_count": 50,
      "outputs": [
        {
          "output_type": "execute_result",
          "data": {
            "text/plain": [
              "       Rating                                            Content        Date\n",
              "0           5                                     It just works!  2017-08-14\n",
              "1           4  В целом удобноное приложение...из минусов хотя...  2017-08-14\n",
              "2           5                                        Отлично все  2017-08-14\n",
              "3           5  Стал зависать на 1% работы антивируса. Дальше ...  2017-08-14\n",
              "4           5                     Очень удобно, работает быстро.  2017-08-14\n",
              "...       ...                                                ...         ...\n",
              "20654       1  Ну и шляпа,с роот правами бесполезная прога,ра...  2017-06-01\n",
              "20655       5                                                 Ок  2017-06-01\n",
              "20656       4                                            Доволен  2017-06-01\n",
              "20657       1                         Песопаснасть, рут ни нужын  2017-06-01\n",
              "20658       5  Сбербанк бомбовая компания на сегодняшний день...  2017-06-01\n",
              "\n",
              "[20659 rows x 3 columns]"
            ],
            "text/html": [
              "\n",
              "  <div id=\"df-686d1dbb-39a2-4270-8f07-bfaae43f15a3\">\n",
              "    <div class=\"colab-df-container\">\n",
              "      <div>\n",
              "<style scoped>\n",
              "    .dataframe tbody tr th:only-of-type {\n",
              "        vertical-align: middle;\n",
              "    }\n",
              "\n",
              "    .dataframe tbody tr th {\n",
              "        vertical-align: top;\n",
              "    }\n",
              "\n",
              "    .dataframe thead th {\n",
              "        text-align: right;\n",
              "    }\n",
              "</style>\n",
              "<table border=\"1\" class=\"dataframe\">\n",
              "  <thead>\n",
              "    <tr style=\"text-align: right;\">\n",
              "      <th></th>\n",
              "      <th>Rating</th>\n",
              "      <th>Content</th>\n",
              "      <th>Date</th>\n",
              "    </tr>\n",
              "  </thead>\n",
              "  <tbody>\n",
              "    <tr>\n",
              "      <th>0</th>\n",
              "      <td>5</td>\n",
              "      <td>It just works!</td>\n",
              "      <td>2017-08-14</td>\n",
              "    </tr>\n",
              "    <tr>\n",
              "      <th>1</th>\n",
              "      <td>4</td>\n",
              "      <td>В целом удобноное приложение...из минусов хотя...</td>\n",
              "      <td>2017-08-14</td>\n",
              "    </tr>\n",
              "    <tr>\n",
              "      <th>2</th>\n",
              "      <td>5</td>\n",
              "      <td>Отлично все</td>\n",
              "      <td>2017-08-14</td>\n",
              "    </tr>\n",
              "    <tr>\n",
              "      <th>3</th>\n",
              "      <td>5</td>\n",
              "      <td>Стал зависать на 1% работы антивируса. Дальше ...</td>\n",
              "      <td>2017-08-14</td>\n",
              "    </tr>\n",
              "    <tr>\n",
              "      <th>4</th>\n",
              "      <td>5</td>\n",
              "      <td>Очень удобно, работает быстро.</td>\n",
              "      <td>2017-08-14</td>\n",
              "    </tr>\n",
              "    <tr>\n",
              "      <th>...</th>\n",
              "      <td>...</td>\n",
              "      <td>...</td>\n",
              "      <td>...</td>\n",
              "    </tr>\n",
              "    <tr>\n",
              "      <th>20654</th>\n",
              "      <td>1</td>\n",
              "      <td>Ну и шляпа,с роот правами бесполезная прога,ра...</td>\n",
              "      <td>2017-06-01</td>\n",
              "    </tr>\n",
              "    <tr>\n",
              "      <th>20655</th>\n",
              "      <td>5</td>\n",
              "      <td>Ок</td>\n",
              "      <td>2017-06-01</td>\n",
              "    </tr>\n",
              "    <tr>\n",
              "      <th>20656</th>\n",
              "      <td>4</td>\n",
              "      <td>Доволен</td>\n",
              "      <td>2017-06-01</td>\n",
              "    </tr>\n",
              "    <tr>\n",
              "      <th>20657</th>\n",
              "      <td>1</td>\n",
              "      <td>Песопаснасть, рут ни нужын</td>\n",
              "      <td>2017-06-01</td>\n",
              "    </tr>\n",
              "    <tr>\n",
              "      <th>20658</th>\n",
              "      <td>5</td>\n",
              "      <td>Сбербанк бомбовая компания на сегодняшний день...</td>\n",
              "      <td>2017-06-01</td>\n",
              "    </tr>\n",
              "  </tbody>\n",
              "</table>\n",
              "<p>20659 rows × 3 columns</p>\n",
              "</div>\n",
              "      <button class=\"colab-df-convert\" onclick=\"convertToInteractive('df-686d1dbb-39a2-4270-8f07-bfaae43f15a3')\"\n",
              "              title=\"Convert this dataframe to an interactive table.\"\n",
              "              style=\"display:none;\">\n",
              "        \n",
              "  <svg xmlns=\"http://www.w3.org/2000/svg\" height=\"24px\"viewBox=\"0 0 24 24\"\n",
              "       width=\"24px\">\n",
              "    <path d=\"M0 0h24v24H0V0z\" fill=\"none\"/>\n",
              "    <path d=\"M18.56 5.44l.94 2.06.94-2.06 2.06-.94-2.06-.94-.94-2.06-.94 2.06-2.06.94zm-11 1L8.5 8.5l.94-2.06 2.06-.94-2.06-.94L8.5 2.5l-.94 2.06-2.06.94zm10 10l.94 2.06.94-2.06 2.06-.94-2.06-.94-.94-2.06-.94 2.06-2.06.94z\"/><path d=\"M17.41 7.96l-1.37-1.37c-.4-.4-.92-.59-1.43-.59-.52 0-1.04.2-1.43.59L10.3 9.45l-7.72 7.72c-.78.78-.78 2.05 0 2.83L4 21.41c.39.39.9.59 1.41.59.51 0 1.02-.2 1.41-.59l7.78-7.78 2.81-2.81c.8-.78.8-2.07 0-2.86zM5.41 20L4 18.59l7.72-7.72 1.47 1.35L5.41 20z\"/>\n",
              "  </svg>\n",
              "      </button>\n",
              "      \n",
              "  <style>\n",
              "    .colab-df-container {\n",
              "      display:flex;\n",
              "      flex-wrap:wrap;\n",
              "      gap: 12px;\n",
              "    }\n",
              "\n",
              "    .colab-df-convert {\n",
              "      background-color: #E8F0FE;\n",
              "      border: none;\n",
              "      border-radius: 50%;\n",
              "      cursor: pointer;\n",
              "      display: none;\n",
              "      fill: #1967D2;\n",
              "      height: 32px;\n",
              "      padding: 0 0 0 0;\n",
              "      width: 32px;\n",
              "    }\n",
              "\n",
              "    .colab-df-convert:hover {\n",
              "      background-color: #E2EBFA;\n",
              "      box-shadow: 0px 1px 2px rgba(60, 64, 67, 0.3), 0px 1px 3px 1px rgba(60, 64, 67, 0.15);\n",
              "      fill: #174EA6;\n",
              "    }\n",
              "\n",
              "    [theme=dark] .colab-df-convert {\n",
              "      background-color: #3B4455;\n",
              "      fill: #D2E3FC;\n",
              "    }\n",
              "\n",
              "    [theme=dark] .colab-df-convert:hover {\n",
              "      background-color: #434B5C;\n",
              "      box-shadow: 0px 1px 3px 1px rgba(0, 0, 0, 0.15);\n",
              "      filter: drop-shadow(0px 1px 2px rgba(0, 0, 0, 0.3));\n",
              "      fill: #FFFFFF;\n",
              "    }\n",
              "  </style>\n",
              "\n",
              "      <script>\n",
              "        const buttonEl =\n",
              "          document.querySelector('#df-686d1dbb-39a2-4270-8f07-bfaae43f15a3 button.colab-df-convert');\n",
              "        buttonEl.style.display =\n",
              "          google.colab.kernel.accessAllowed ? 'block' : 'none';\n",
              "\n",
              "        async function convertToInteractive(key) {\n",
              "          const element = document.querySelector('#df-686d1dbb-39a2-4270-8f07-bfaae43f15a3');\n",
              "          const dataTable =\n",
              "            await google.colab.kernel.invokeFunction('convertToInteractive',\n",
              "                                                     [key], {});\n",
              "          if (!dataTable) return;\n",
              "\n",
              "          const docLinkHtml = 'Like what you see? Visit the ' +\n",
              "            '<a target=\"_blank\" href=https://colab.research.google.com/notebooks/data_table.ipynb>data table notebook</a>'\n",
              "            + ' to learn more about interactive tables.';\n",
              "          element.innerHTML = '';\n",
              "          dataTable['output_type'] = 'display_data';\n",
              "          await google.colab.output.renderOutput(dataTable, element);\n",
              "          const docLink = document.createElement('div');\n",
              "          docLink.innerHTML = docLinkHtml;\n",
              "          element.appendChild(docLink);\n",
              "        }\n",
              "      </script>\n",
              "    </div>\n",
              "  </div>\n",
              "  "
            ]
          },
          "metadata": {},
          "execution_count": 50
        }
      ]
    },
    {
      "cell_type": "code",
      "source": [
        "df.isna().sum()"
      ],
      "metadata": {
        "colab": {
          "base_uri": "https://localhost:8080/"
        },
        "id": "yuG1de-zow5C",
        "outputId": "8e5ee8a7-503d-423a-c429-ad1d93bf8cbf"
      },
      "execution_count": 51,
      "outputs": [
        {
          "output_type": "execute_result",
          "data": {
            "text/plain": [
              "Rating     0\n",
              "Content    3\n",
              "Date       0\n",
              "dtype: int64"
            ]
          },
          "metadata": {},
          "execution_count": 51
        }
      ]
    },
    {
      "cell_type": "code",
      "source": [
        "df = df.dropna()"
      ],
      "metadata": {
        "id": "tlGTAbgYo1jf"
      },
      "execution_count": 52,
      "outputs": []
    },
    {
      "cell_type": "markdown",
      "source": [
        "Удалили пропущенные значения."
      ],
      "metadata": {
        "id": "OpytQJ5ZrTT5"
      }
    },
    {
      "cell_type": "code",
      "source": [
        "!pip install pymorphy2\n",
        "!pip install stop_words"
      ],
      "metadata": {
        "colab": {
          "base_uri": "https://localhost:8080/"
        },
        "id": "SZ4-PDIjoruQ",
        "outputId": "78bed6bd-4f7f-4baf-e1d9-3a19d5842ae0"
      },
      "execution_count": 53,
      "outputs": [
        {
          "output_type": "stream",
          "name": "stdout",
          "text": [
            "Looking in indexes: https://pypi.org/simple, https://us-python.pkg.dev/colab-wheels/public/simple/\n",
            "Requirement already satisfied: pymorphy2 in /usr/local/lib/python3.9/dist-packages (0.9.1)\n",
            "Requirement already satisfied: docopt>=0.6 in /usr/local/lib/python3.9/dist-packages (from pymorphy2) (0.6.2)\n",
            "Requirement already satisfied: dawg-python>=0.7.1 in /usr/local/lib/python3.9/dist-packages (from pymorphy2) (0.7.2)\n",
            "Requirement already satisfied: pymorphy2-dicts-ru<3.0,>=2.4 in /usr/local/lib/python3.9/dist-packages (from pymorphy2) (2.4.417127.4579844)\n",
            "Looking in indexes: https://pypi.org/simple, https://us-python.pkg.dev/colab-wheels/public/simple/\n",
            "Requirement already satisfied: stop_words in /usr/local/lib/python3.9/dist-packages (2018.7.23)\n"
          ]
        }
      ]
    },
    {
      "cell_type": "code",
      "source": [
        "from string import punctuation\n",
        "from stop_words import get_stop_words\n",
        "from pymorphy2 import MorphAnalyzer\n",
        "import re"
      ],
      "metadata": {
        "id": "5g8q9Tdvnmxy"
      },
      "execution_count": 54,
      "outputs": []
    },
    {
      "cell_type": "code",
      "source": [
        "sw = set(get_stop_words(\"ru\"))\n",
        "exclude = set(punctuation)\n",
        "morpher = MorphAnalyzer()\n",
        "\n",
        "def preprocess_text(txt):\n",
        "    txt = str(txt)\n",
        "    txt = \"\".join(c for c in txt if c not in exclude)\n",
        "    txt = txt.lower()\n",
        "    txt = re.sub(\"\\sне\", \"не\", txt)\n",
        "    txt = [morpher.parse(word)[0].normal_form for word in txt.split() if word not in sw]\n",
        "    return \" \".join(txt)\n",
        "\n",
        "df['text'] = df['Content'].apply(preprocess_text)"
      ],
      "metadata": {
        "colab": {
          "base_uri": "https://localhost:8080/"
        },
        "id": "wIU-9bxfo7tP",
        "outputId": "dd7c7333-e9cf-4232-e2fb-850e6b9d76be"
      },
      "execution_count": 55,
      "outputs": [
        {
          "output_type": "stream",
          "name": "stderr",
          "text": [
            "<ipython-input-55-12a05b0b01cb>:13: SettingWithCopyWarning: \n",
            "A value is trying to be set on a copy of a slice from a DataFrame.\n",
            "Try using .loc[row_indexer,col_indexer] = value instead\n",
            "\n",
            "See the caveats in the documentation: https://pandas.pydata.org/pandas-docs/stable/user_guide/indexing.html#returning-a-view-versus-a-copy\n",
            "  df['text'] = df['Content'].apply(preprocess_text)\n"
          ]
        }
      ]
    },
    {
      "cell_type": "code",
      "source": [
        "df.Rating.value_counts()"
      ],
      "metadata": {
        "colab": {
          "base_uri": "https://localhost:8080/"
        },
        "id": "CzGSTa5drNSZ",
        "outputId": "e1c2148c-a480-4737-c25a-fb3648d8d851"
      },
      "execution_count": 56,
      "outputs": [
        {
          "output_type": "execute_result",
          "data": {
            "text/plain": [
              "5    14584\n",
              "1     2276\n",
              "4     2137\n",
              "3      911\n",
              "2      748\n",
              "Name: Rating, dtype: int64"
            ]
          },
          "metadata": {},
          "execution_count": 56
        }
      ]
    },
    {
      "cell_type": "markdown",
      "source": [
        "Видим несбалансированность классов. Потребуется стратификация."
      ],
      "metadata": {
        "id": "BDmpVPyvrRsl"
      }
    },
    {
      "cell_type": "code",
      "source": [
        "from sklearn.model_selection import train_test_split\n",
        "\n",
        "X_train, X_test, y_train, y_test = train_test_split(df.text, df.Rating, test_size=0.3, random_state=7575, stratify=df.Rating)"
      ],
      "metadata": {
        "id": "NP8uwHiorP3B"
      },
      "execution_count": 57,
      "outputs": []
    },
    {
      "cell_type": "code",
      "source": [
        "train_corpus = \" \".join(X_train)\n",
        "train_corpus = train_corpus.lower()"
      ],
      "metadata": {
        "id": "VgjupGNLvDtz"
      },
      "execution_count": 58,
      "outputs": []
    },
    {
      "cell_type": "code",
      "source": [
        "import nltk\n",
        "from nltk.tokenize import word_tokenize\n",
        "nltk.download(\"punkt\")\n",
        "\n",
        "tokens = word_tokenize(train_corpus)"
      ],
      "metadata": {
        "colab": {
          "base_uri": "https://localhost:8080/"
        },
        "id": "nuJmRNS2vKZp",
        "outputId": "f55b95e5-8bfb-4a1e-cc7b-62210432026c"
      },
      "execution_count": 59,
      "outputs": [
        {
          "output_type": "stream",
          "name": "stderr",
          "text": [
            "[nltk_data] Downloading package punkt to /root/nltk_data...\n",
            "[nltk_data]   Package punkt is already up-to-date!\n"
          ]
        }
      ]
    },
    {
      "cell_type": "markdown",
      "source": [
        "Отфильтруем данные\n",
        "\n",
        "и соберём в корпус N наиболее частых токенов"
      ],
      "metadata": {
        "id": "l_BHbAdyw6MX"
      }
    },
    {
      "cell_type": "code",
      "source": [
        "tokens_filtered = [word for word in tokens if word.isalnum()]"
      ],
      "metadata": {
        "id": "AJFsK2j5w8To"
      },
      "execution_count": 60,
      "outputs": []
    },
    {
      "cell_type": "code",
      "source": [
        "max_words = 10000\n",
        "max_len = 100\n",
        "num_classes = 6\n",
        "\n",
        "# Training\n",
        "epochs = 5\n",
        "batch_size = 512\n",
        "print_batch_n = 100"
      ],
      "metadata": {
        "id": "zdAKOiS0xD-H"
      },
      "execution_count": 61,
      "outputs": []
    },
    {
      "cell_type": "code",
      "source": [
        "from nltk.probability import FreqDist\n",
        "dist = FreqDist(tokens_filtered)\n",
        "tokens_filtered_top = [pair[0] for pair in dist.most_common(max_words-1)]"
      ],
      "metadata": {
        "id": "xkbuXnybw_Xg"
      },
      "execution_count": 62,
      "outputs": []
    },
    {
      "cell_type": "code",
      "source": [
        "tokens_filtered_top[:10]"
      ],
      "metadata": {
        "colab": {
          "base_uri": "https://localhost:8080/"
        },
        "id": "hZufsxnPxL7I",
        "outputId": "0aa209f4-d0a1-48d4-9dce-b0505413c233"
      },
      "execution_count": 63,
      "outputs": [
        {
          "output_type": "execute_result",
          "data": {
            "text/plain": [
              "['приложение',\n",
              " 'удобно',\n",
              " 'работать',\n",
              " 'удобный',\n",
              " 'отлично',\n",
              " 'нравиться',\n",
              " 'отличный',\n",
              " 'хороший',\n",
              " 'телефон',\n",
              " 'супер']"
            ]
          },
          "metadata": {},
          "execution_count": 63
        }
      ]
    },
    {
      "cell_type": "code",
      "source": [
        "vocabulary = {v: k for k, v in dict(enumerate(tokens_filtered_top, 1)).items()}"
      ],
      "metadata": {
        "id": "0I3cniDB05tr"
      },
      "execution_count": 64,
      "outputs": []
    },
    {
      "cell_type": "code",
      "source": [
        "def text_to_sequence(text, maxlen):\n",
        "    result = []\n",
        "    tokens = word_tokenize(str(text).lower())\n",
        "    tokens_filtered = [word for word in tokens if word.isalnum()]\n",
        "    for word in tokens_filtered:\n",
        "        if word in vocabulary:\n",
        "            result.append(vocabulary[word])\n",
        "    padding = [0]*(maxlen-len(result))\n",
        "    return padding + result[-maxlen:]"
      ],
      "metadata": {
        "id": "-fd_ggjP074b"
      },
      "execution_count": 65,
      "outputs": []
    },
    {
      "cell_type": "code",
      "source": [
        "X_train = np.asarray([text_to_sequence(text, max_len) for text in X_train], dtype=np.int32)\n",
        "X_test = np.asarray([text_to_sequence(text, max_len) for text in X_test], dtype=np.int32)"
      ],
      "metadata": {
        "id": "68xdA0ja2is6"
      },
      "execution_count": 66,
      "outputs": []
    },
    {
      "cell_type": "code",
      "source": [
        "# X_train"
      ],
      "metadata": {
        "id": "K1Z6xkbc2vBT"
      },
      "execution_count": 67,
      "outputs": []
    },
    {
      "cell_type": "markdown",
      "source": [
        "# Keras model"
      ],
      "metadata": {
        "id": "0yO76s0A3Z1_"
      }
    },
    {
      "cell_type": "code",
      "source": [
        "import numpy as np\n",
        "import keras\n",
        "from keras.models import Sequential, Model\n",
        "from keras.layers import Dense, Dropout, Activation, Input, Embedding, Conv1D, GlobalMaxPool1D\n",
        "from keras.preprocessing.text import Tokenizer\n",
        "# from keras.preprocessing.sequence import pad_sequences\n",
        "from tensorflow.keras.preprocessing.sequence import pad_sequences\n",
        "from keras.callbacks import TensorBoard \n",
        "# from keras.objectives import categorical_crossentropy\n",
        "from keras.callbacks import EarlyStopping  "
      ],
      "metadata": {
        "id": "8KGJXy_E3qor"
      },
      "execution_count": 68,
      "outputs": []
    },
    {
      "cell_type": "code",
      "source": [
        "import keras\n",
        "from keras.utils import np_utils\n",
        "\n",
        "y_train = keras.utils.np_utils.to_categorical(y_train, num_classes)\n",
        "y_test = keras.utils.np_utils.to_categorical(y_test, num_classes)"
      ],
      "metadata": {
        "id": "9X3k-3nW5ZS5"
      },
      "execution_count": 69,
      "outputs": []
    },
    {
      "cell_type": "markdown",
      "source": [
        "## По умолчанию"
      ],
      "metadata": {
        "id": "P_w9lWp94ypZ"
      }
    },
    {
      "cell_type": "code",
      "source": [
        "model = Sequential()\n",
        "model.add(Embedding(input_dim=max_words, output_dim=128, input_length=max_len))\n",
        "model.add(Conv1D(128, 3))\n",
        "model.add(Activation(\"relu\"))\n",
        "model.add(GlobalMaxPool1D())\n",
        "model.add(Dense(10))\n",
        "model.add(Activation(\"relu\"))\n",
        "model.add(Dense(num_classes))\n",
        "model.add(Activation('softmax'))"
      ],
      "metadata": {
        "id": "4nfwIfQG47YZ"
      },
      "execution_count": 70,
      "outputs": []
    },
    {
      "cell_type": "code",
      "source": [
        "model.compile(loss='categorical_crossentropy',\n",
        "              optimizer='adam',\n",
        "              metrics=['accuracy'])"
      ],
      "metadata": {
        "id": "DpcDG7fd5DRi"
      },
      "execution_count": 72,
      "outputs": []
    },
    {
      "cell_type": "code",
      "source": [
        "tensorboard=TensorBoard(log_dir='./logs', write_graph=True, write_images=True)\n",
        "early_stopping=EarlyStopping(monitor='val_loss')  \n",
        "\n",
        "\n",
        "history = model.fit(X_train, y_train,\n",
        "                    batch_size=batch_size,\n",
        "                    epochs=epochs,\n",
        "                    verbose=1,\n",
        "                    validation_split=0.1,\n",
        "                    # callbacks=[tensorboard, early_stopping]\n",
        "                    )"
      ],
      "metadata": {
        "colab": {
          "base_uri": "https://localhost:8080/"
        },
        "id": "Pz0bhnp95LjH",
        "outputId": "bea0396d-3b0c-4ab6-c63a-427f62a54ac0"
      },
      "execution_count": 77,
      "outputs": [
        {
          "output_type": "stream",
          "name": "stdout",
          "text": [
            "Epoch 1/5\n",
            "26/26 [==============================] - 7s 271ms/step - loss: 0.5847 - accuracy: 0.8070 - val_loss: 0.7266 - val_accuracy: 0.7877\n",
            "Epoch 2/5\n",
            "26/26 [==============================] - 7s 252ms/step - loss: 0.5406 - accuracy: 0.8196 - val_loss: 0.7311 - val_accuracy: 0.7863\n",
            "Epoch 3/5\n",
            "26/26 [==============================] - 7s 276ms/step - loss: 0.4981 - accuracy: 0.8389 - val_loss: 0.7290 - val_accuracy: 0.7787\n",
            "Epoch 4/5\n",
            "26/26 [==============================] - 6s 243ms/step - loss: 0.4571 - accuracy: 0.8570 - val_loss: 0.7679 - val_accuracy: 0.7718\n",
            "Epoch 5/5\n",
            "26/26 [==============================] - 7s 274ms/step - loss: 0.4180 - accuracy: 0.8704 - val_loss: 0.7768 - val_accuracy: 0.7732\n"
          ]
        }
      ]
    },
    {
      "cell_type": "code",
      "source": [
        "preds = model.predict(X_test)"
      ],
      "metadata": {
        "colab": {
          "base_uri": "https://localhost:8080/"
        },
        "id": "lNExI4Kp7xrU",
        "outputId": "199872f5-0546-4ef3-b150-90b5daaffd28"
      },
      "execution_count": 82,
      "outputs": [
        {
          "output_type": "stream",
          "name": "stdout",
          "text": [
            "194/194 [==============================] - 1s 6ms/step\n"
          ]
        }
      ]
    },
    {
      "cell_type": "code",
      "source": [
        "preds"
      ],
      "metadata": {
        "colab": {
          "base_uri": "https://localhost:8080/"
        },
        "id": "ANC3NyJV9fEN",
        "outputId": "cf7ea9c8-3c49-48fa-fafe-4b2d64039e39"
      },
      "execution_count": 80,
      "outputs": [
        {
          "output_type": "execute_result",
          "data": {
            "text/plain": [
              "array([[9.1270008e-04, 3.0440374e-06, 2.2835615e-05, 2.3443565e-05,\n",
              "        5.7279397e-02, 9.4175863e-01],\n",
              "       [2.0677447e-02, 6.0056645e-01, 1.7829710e-01, 1.5778832e-01,\n",
              "        2.8752541e-02, 1.3918195e-02],\n",
              "       [1.3027743e-03, 5.8053952e-06, 3.4477947e-05, 2.4008415e-05,\n",
              "        8.1105992e-02, 9.1752708e-01],\n",
              "       ...,\n",
              "       [2.2883108e-02, 1.5780651e-03, 2.8517176e-03, 1.3150411e-03,\n",
              "        2.7915791e-01, 6.9221413e-01],\n",
              "       [1.4631745e-03, 6.7142314e-06, 5.2458639e-05, 9.9021985e-05,\n",
              "        4.7788378e-02, 9.5059025e-01],\n",
              "       [6.4402847e-03, 8.3079624e-01, 1.0785139e-01, 4.6620980e-02,\n",
              "        6.6984082e-03, 1.5927048e-03]], dtype=float32)"
            ]
          },
          "metadata": {},
          "execution_count": 80
        }
      ]
    },
    {
      "cell_type": "code",
      "source": [
        "preds = [np.argmax(num) for num in preds]\n",
        "# preds"
      ],
      "metadata": {
        "id": "lXLFebej9iS8"
      },
      "execution_count": 83,
      "outputs": []
    },
    {
      "cell_type": "code",
      "source": [
        "from sklearn.metrics import classification_report\n",
        "\n",
        "print(classification_report([np.argmax(l) for l in y_test], preds))"
      ],
      "metadata": {
        "colab": {
          "base_uri": "https://localhost:8080/"
        },
        "id": "eoHYM7N29vOM",
        "outputId": "7e6f6377-3d3d-4774-92fd-911849aa7059"
      },
      "execution_count": 84,
      "outputs": [
        {
          "output_type": "stream",
          "name": "stdout",
          "text": [
            "              precision    recall  f1-score   support\n",
            "\n",
            "           1       0.50      0.67      0.58       683\n",
            "           2       0.00      0.00      0.00       225\n",
            "           3       0.17      0.15      0.16       273\n",
            "           4       0.30      0.11      0.16       641\n",
            "           5       0.86      0.94      0.90      4375\n",
            "\n",
            "    accuracy                           0.75      6197\n",
            "   macro avg       0.36      0.38      0.36      6197\n",
            "weighted avg       0.70      0.75      0.72      6197\n",
            "\n"
          ]
        },
        {
          "output_type": "stream",
          "name": "stderr",
          "text": [
            "/usr/local/lib/python3.9/dist-packages/sklearn/metrics/_classification.py:1344: UndefinedMetricWarning: Precision and F-score are ill-defined and being set to 0.0 in labels with no predicted samples. Use `zero_division` parameter to control this behavior.\n",
            "  _warn_prf(average, modifier, msg_start, len(result))\n",
            "/usr/local/lib/python3.9/dist-packages/sklearn/metrics/_classification.py:1344: UndefinedMetricWarning: Precision and F-score are ill-defined and being set to 0.0 in labels with no predicted samples. Use `zero_division` parameter to control this behavior.\n",
            "  _warn_prf(average, modifier, msg_start, len(result))\n",
            "/usr/local/lib/python3.9/dist-packages/sklearn/metrics/_classification.py:1344: UndefinedMetricWarning: Precision and F-score are ill-defined and being set to 0.0 in labels with no predicted samples. Use `zero_division` parameter to control this behavior.\n",
            "  _warn_prf(average, modifier, msg_start, len(result))\n"
          ]
        }
      ]
    },
    {
      "cell_type": "code",
      "source": [
        "score = model.evaluate(X_test, y_test, batch_size=batch_size, verbose=1)\n",
        "print('\\n')\n",
        "print('Test score:', score[0])\n",
        "print('Test accuracy:', score[1])"
      ],
      "metadata": {
        "colab": {
          "base_uri": "https://localhost:8080/"
        },
        "id": "Zy7q60Sa_-q6",
        "outputId": "bc57250c-cc80-47f3-8078-bd11f22e6448"
      },
      "execution_count": 85,
      "outputs": [
        {
          "output_type": "stream",
          "name": "stdout",
          "text": [
            "13/13 [==============================] - 1s 84ms/step - loss: 0.8181 - accuracy: 0.7547\n",
            "\n",
            "\n",
            "Test score: 0.8180538415908813\n",
            "Test accuracy: 0.7547200322151184\n"
          ]
        }
      ]
    },
    {
      "cell_type": "markdown",
      "source": [
        "## С предобученными векторами"
      ],
      "metadata": {
        "id": "H6Y_dHdI5iu1"
      }
    },
    {
      "cell_type": "code",
      "source": [
        "# Загрузка предобученной модели\n",
        "\n",
        "!wget https://rusvectores.org/static/models/rusvectores4/taiga/taiga_upos_skipgram_300_2_2018.vec.gz\n",
        "\n",
        "!gunzip taiga_upos_skipgram_300_2_2018.vec.gz"
      ],
      "metadata": {
        "colab": {
          "base_uri": "https://localhost:8080/"
        },
        "id": "r2Vy9xjQAbbr",
        "outputId": "5eeeaa6b-af5e-44ff-f02d-553e10241001"
      },
      "execution_count": 86,
      "outputs": [
        {
          "output_type": "stream",
          "name": "stdout",
          "text": [
            "--2023-03-16 10:40:30--  https://rusvectores.org/static/models/rusvectores4/taiga/taiga_upos_skipgram_300_2_2018.vec.gz\n",
            "Resolving rusvectores.org (rusvectores.org)... 172.104.228.108\n",
            "Connecting to rusvectores.org (rusvectores.org)|172.104.228.108|:443... connected.\n",
            "HTTP request sent, awaiting response... 200 OK\n",
            "Length: 346385366 (330M) [application/x-gzip]\n",
            "Saving to: ‘taiga_upos_skipgram_300_2_2018.vec.gz’\n",
            "\n",
            "taiga_upos_skipgram 100%[===================>] 330.34M  29.5MB/s    in 11s     \n",
            "\n",
            "2023-03-16 10:40:42 (29.2 MB/s) - ‘taiga_upos_skipgram_300_2_2018.vec.gz’ saved [346385366/346385366]\n",
            "\n"
          ]
        }
      ]
    },
    {
      "cell_type": "code",
      "source": [
        "tokenizer = Tokenizer()\n",
        "tokenizer.fit_on_texts(df['text'])\n",
        "vocab_size = len(tokenizer.word_index) + 1"
      ],
      "metadata": {
        "id": "TZaLQZ9-AjVx"
      },
      "execution_count": 87,
      "outputs": []
    },
    {
      "cell_type": "code",
      "source": [
        "embeddings_index = {}\n",
        "with open('taiga_upos_skipgram_300_2_2018.vec') as f:\n",
        "    for line in f:\n",
        "        word, coefs = line.split(maxsplit=1)\n",
        "        coefs = np.fromstring(coefs, \"f\", sep=\" \")\n",
        "        word = word.split('_')[0]\n",
        "        embeddings_index[word] = coefs\n",
        "\n",
        "print(\"Found %s word vectors.\" % len(embeddings_index))"
      ],
      "metadata": {
        "colab": {
          "base_uri": "https://localhost:8080/"
        },
        "id": "av-WPZSdAmcG",
        "outputId": "9f8fa1d3-36bc-45c3-bdc7-5f791d5347ce"
      },
      "execution_count": 88,
      "outputs": [
        {
          "output_type": "stream",
          "name": "stdout",
          "text": [
            "Found 209666 word vectors.\n"
          ]
        }
      ]
    },
    {
      "cell_type": "code",
      "source": [
        "embedding_dim = 300\n",
        "hits = 0\n",
        "missed = 0\n",
        "\n",
        "# Prepare embedding matrix\n",
        "embedding_matrix = np.zeros((vocab_size, embedding_dim))\n",
        "for word, i in tokenizer.word_index.items():\n",
        "    embedding_vector = embeddings_index.get(word)\n",
        "    if embedding_vector is not None:\n",
        "        # Words not found in embedding index will be all-zeros.\n",
        "        # This includes the representation for \"padding\" and \"OOV\"\n",
        "        embedding_matrix[i] = embedding_vector\n",
        "        hits += 1\n",
        "    else:\n",
        "        missed += 1\n",
        "\n",
        "print(\"Converted %d words (%d missed)\" % (hits, missed))"
      ],
      "metadata": {
        "colab": {
          "base_uri": "https://localhost:8080/"
        },
        "id": "6Mr-_FZLAtbh",
        "outputId": "bf176bdb-08e0-4250-ee2b-c37c6c599df0"
      },
      "execution_count": 89,
      "outputs": [
        {
          "output_type": "stream",
          "name": "stdout",
          "text": [
            "Converted 5612 words (7872 missed)\n"
          ]
        }
      ]
    },
    {
      "cell_type": "code",
      "source": [
        "model = Sequential()\n",
        "model.add(Embedding(input_dim=vocab_size, output_dim=300, input_length=max_len, weights=[embedding_matrix],\n",
        "    trainable=False))\n",
        "model.add(Conv1D(128, 3))\n",
        "model.add(Activation(\"relu\"))\n",
        "model.add(GlobalMaxPool1D())\n",
        "model.add(Dense(10))\n",
        "model.add(Activation(\"relu\"))\n",
        "model.add(Dense(num_classes))\n",
        "model.add(Activation('softmax'))"
      ],
      "metadata": {
        "id": "b5lsAyLcAwj5"
      },
      "execution_count": 90,
      "outputs": []
    },
    {
      "cell_type": "code",
      "source": [
        "model.compile(loss='categorical_crossentropy',\n",
        "              optimizer='adam',\n",
        "              metrics=['accuracy'])"
      ],
      "metadata": {
        "id": "x6E2xoIAAzRw"
      },
      "execution_count": 91,
      "outputs": []
    },
    {
      "cell_type": "code",
      "source": [
        "tensorboard=TensorBoard(log_dir='./logs', write_graph=True, write_images=True)\n",
        "early_stopping=EarlyStopping(monitor='val_loss')  \n",
        "\n",
        "\n",
        "history = model.fit(X_train, y_train,\n",
        "                    batch_size=batch_size,\n",
        "                    epochs=epochs,\n",
        "                    verbose=1,\n",
        "                    validation_split=0.1,\n",
        "                    # callbacks=[tensorboard, early_stopping],\n",
        "                    )"
      ],
      "metadata": {
        "colab": {
          "base_uri": "https://localhost:8080/"
        },
        "id": "4ON-ZgZVA3Zg",
        "outputId": "a9170205-219a-4ed3-902d-35212c61a759"
      },
      "execution_count": 92,
      "outputs": [
        {
          "output_type": "stream",
          "name": "stdout",
          "text": [
            "Epoch 1/5\n",
            "26/26 [==============================] - 11s 400ms/step - loss: 1.5664 - accuracy: 0.6526 - val_loss: 1.3759 - val_accuracy: 0.6957\n",
            "Epoch 2/5\n",
            "26/26 [==============================] - 11s 429ms/step - loss: 1.2386 - accuracy: 0.7072 - val_loss: 1.1196 - val_accuracy: 0.6957\n",
            "Epoch 3/5\n",
            "26/26 [==============================] - 14s 547ms/step - loss: 1.0625 - accuracy: 0.7072 - val_loss: 1.0004 - val_accuracy: 0.6957\n",
            "Epoch 4/5\n",
            "26/26 [==============================] - 10s 396ms/step - loss: 0.9657 - accuracy: 0.7137 - val_loss: 0.9307 - val_accuracy: 0.7268\n",
            "Epoch 5/5\n",
            "26/26 [==============================] - 10s 398ms/step - loss: 0.8974 - accuracy: 0.7390 - val_loss: 0.8798 - val_accuracy: 0.7400\n"
          ]
        }
      ]
    },
    {
      "cell_type": "code",
      "source": [
        "preds = model.predict(X_test)\n",
        "preds = [np.argmax(num) for num in preds]\n",
        "print(classification_report([np.argmax(l) for l in y_test], preds))"
      ],
      "metadata": {
        "colab": {
          "base_uri": "https://localhost:8080/"
        },
        "id": "seot4dO3A7kg",
        "outputId": "9837147c-8824-4c1c-b200-8a35b5c9ce29"
      },
      "execution_count": 93,
      "outputs": [
        {
          "output_type": "stream",
          "name": "stdout",
          "text": [
            "194/194 [==============================] - 2s 11ms/step\n",
            "              precision    recall  f1-score   support\n",
            "\n",
            "           1       0.42      0.46      0.44       683\n",
            "           2       0.00      0.00      0.00       225\n",
            "           3       0.00      0.00      0.00       273\n",
            "           4       0.65      0.02      0.04       641\n",
            "           5       0.78      0.97      0.87      4375\n",
            "\n",
            "    accuracy                           0.74      6197\n",
            "   macro avg       0.37      0.29      0.27      6197\n",
            "weighted avg       0.67      0.74      0.67      6197\n",
            "\n"
          ]
        },
        {
          "output_type": "stream",
          "name": "stderr",
          "text": [
            "/usr/local/lib/python3.9/dist-packages/sklearn/metrics/_classification.py:1344: UndefinedMetricWarning: Precision and F-score are ill-defined and being set to 0.0 in labels with no predicted samples. Use `zero_division` parameter to control this behavior.\n",
            "  _warn_prf(average, modifier, msg_start, len(result))\n",
            "/usr/local/lib/python3.9/dist-packages/sklearn/metrics/_classification.py:1344: UndefinedMetricWarning: Precision and F-score are ill-defined and being set to 0.0 in labels with no predicted samples. Use `zero_division` parameter to control this behavior.\n",
            "  _warn_prf(average, modifier, msg_start, len(result))\n",
            "/usr/local/lib/python3.9/dist-packages/sklearn/metrics/_classification.py:1344: UndefinedMetricWarning: Precision and F-score are ill-defined and being set to 0.0 in labels with no predicted samples. Use `zero_division` parameter to control this behavior.\n",
            "  _warn_prf(average, modifier, msg_start, len(result))\n"
          ]
        }
      ]
    },
    {
      "cell_type": "code",
      "source": [
        "score = model.evaluate(X_test, y_test, batch_size=batch_size, verbose=1)\n",
        "print('\\n')\n",
        "print('Test score:', score[0])\n",
        "print('Test accuracy:', score[1])"
      ],
      "metadata": {
        "colab": {
          "base_uri": "https://localhost:8080/"
        },
        "id": "WgnUhI25A-0j",
        "outputId": "0be78a72-6acd-4446-8fa7-035e1f16b171"
      },
      "execution_count": 94,
      "outputs": [
        {
          "output_type": "stream",
          "name": "stdout",
          "text": [
            "13/13 [==============================] - 2s 148ms/step - loss: 0.8971 - accuracy: 0.7394\n",
            "\n",
            "\n",
            "Test score: 0.897142767906189\n",
            "Test accuracy: 0.7393900156021118\n"
          ]
        }
      ]
    },
    {
      "cell_type": "markdown",
      "source": [
        "В многоклассовой классификации с разбалансированными классами лучше опираться не на accuracy, а на f1-score. Можно наблюдать, что модель по этой метрике фактически хорошо определяет только класс 5. И с предобученной сетью качество падает, вероятно из-за отсутствия эмбедингов для слов из нашего набора."
      ],
      "metadata": {
        "id": "cfPir5-mDisE"
      }
    }
  ]
}